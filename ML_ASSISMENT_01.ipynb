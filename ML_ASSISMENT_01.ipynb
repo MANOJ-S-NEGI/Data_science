{
 "cells": [
  {
   "cell_type": "markdown",
   "id": "62911eec",
   "metadata": {},
   "source": [
    "# ML_ASSISMENT_01"
   ]
  },
  {
   "cell_type": "markdown",
   "id": "6bfb5d70",
   "metadata": {},
   "source": [
    "#### 1: What does one mean by the term \"machine learning\"?\n",
    "\n",
    "Sol:\n",
    "Machine learning is a field of artificial Intelligence or study of computer science which focuses on the use of data and algorithms to imitate the way that humans learn, gradually improving its accuracy."
   ]
  },
  {
   "cell_type": "markdown",
   "id": "cb24df56",
   "metadata": {},
   "source": [
    "#### 2:Can you think of 4 distinct types of issues where it shines?\n",
    "\n",
    "Sol:\n",
    "* Analyzing images of products on a production line to auto classifying them.\n",
    "* Analyzing the quantum applications which normally takes many years.\n",
    "* Medical Science and analyzing DNA structure. \n",
    "* Space Exploration and analysis of subatomic particles"
   ]
  },
  {
   "cell_type": "markdown",
   "id": "1facd072",
   "metadata": {},
   "source": [
    "#### 3.What is a labeled training set, and how does it work?\n",
    "\n",
    "Sol: \n",
    "\n",
    "* In machine learning, a labeled training set is a collection of input data samples, where each sample is associated with one or more output labels that serve as the ground truth for the problem at hand. Also called supervised learning.\n",
    "\n",
    "* Using a labeled training set is to enable a machine learning model to learn how to map inputs to outputs by learning from examples to make accurate predictions on new(unseen data)\n",
    "\n",
    "\n",
    "\n"
   ]
  },
  {
   "cell_type": "markdown",
   "id": "5e903c9c",
   "metadata": {},
   "source": [
    "#### 4.What are the two most important tasks that are supervised?\n",
    "\n",
    "Sol: \n",
    "* Predicting a target numeric Value (Example price of car using features also called predictor).\n",
    "* Classification (Spam filter is one of the example)\n",
    "\n"
   ]
  },
  {
   "cell_type": "markdown",
   "id": "b1a30ea4",
   "metadata": {},
   "source": [
    "#### 5.Can you think of four examples of unsupervised tasks?\n",
    "\n",
    "Sol:\n",
    "\n",
    "* Visualization Algorithm (example feeding unlabelled complex  data and get 2D and 3D representation of the data )\n",
    "* Anamoly detection (catching abnormal card transaction or catching Manufacturing defects )\n",
    "* Finding/Exploring the relationship between the complex data (example supply and Demand)\n",
    "* Clustering the data(Group segregation)\n"
   ]
  },
  {
   "cell_type": "markdown",
   "id": "da1596ea",
   "metadata": {},
   "source": [
    "#### 6.State the machine learning model that would be best to make a robot walk through various unfamiliar terrains?\n",
    "\n",
    "Sol: \n",
    "* Reinforcement Learning the learning system called agent ,where agent observe the environment, select and perform action .\n",
    "It must learn by itself what is the best strategy.\n"
   ]
  },
  {
   "cell_type": "markdown",
   "id": "1f0545bb",
   "metadata": {},
   "source": [
    "#### 7.Which algorithm will you use to divide your customers into different groups?\n",
    "Sol: clustering algorithum.\n"
   ]
  },
  {
   "cell_type": "markdown",
   "id": "d73375ba",
   "metadata": {},
   "source": [
    "#### 8.Will you consider the problem of spam detection to be a supervised or unsupervised learning problem?\n",
    "Sol: Unsupervised learning."
   ]
  },
  {
   "cell_type": "markdown",
   "id": "5ad3d4c1",
   "metadata": {},
   "source": [
    "#### 9.What is the concept of an online learning system?\n",
    "Sol: In online learning we train the system incrementally by feeding it data instances sequentially, either individually or in small groups called mini batches.\n",
    "\n",
    "In this system learn fast as the data arrives continuously(STOCK PRICES)and needs to change rapidly and autonomously.\n"
   ]
  },
  {
   "cell_type": "markdown",
   "id": "6b97d64c",
   "metadata": {},
   "source": [
    "\n",
    "#### 10.What is out-of-core learning, and how does it differ from core learning?\n",
    "Sol: \n",
    "\n",
    "Training the system on huge datasets that cannot fit in one machine’s main memory. It loads part of the data and runs a training step on that data. (it is usally done in offline mode) .\n",
    "\n"
   ]
  },
  {
   "cell_type": "markdown",
   "id": "fd0d7de1",
   "metadata": {},
   "source": [
    "#### 11.What kind of learning algorithm makes predictions using a similarity measure?\n",
    "Sol:\n",
    "\n",
    "In Instance  Based learning the system learns the example by heart and then generalizes to new cases by using a similarity measure to compare them to the learned examples. (spams mail system compare the similar words)\n"
   ]
  },
  {
   "cell_type": "markdown",
   "id": "f12d18b9",
   "metadata": {},
   "source": [
    "#### 12.What's the difference between a model parameter and a hyperparameter in a learning algorithm?\n",
    "Sol:\n",
    "\n",
    "\n",
    "| Parameters | Hyperparameters |\n",
    "| :- | -: |\n",
    "|Parameters are the configuration model, which are internal to the model.|Hyperparameters are the explicitly specified parameters that control the training process.|\n",
    "|Parameters are essential for making predictions.|Hyperparameters are essential for optimizing the model.|\n",
    "|These are specified or estimated while training the model.|These are set before the beginning of the training of the model.|\n",
    "|It is internal to the model.|These are external to the model.|\n",
    "|These are learned & set by the model by itself.|These are set manually by a machine learning  engineer/practitioner.|\n",
    "|These are dependent on the dataset, which is used for training.|These are independent of the dataset.|\n",
    "|The values of parameters can be estimated by the optimization algorithms, such as Gradient Descent.|The values of hyperparameters can be estimated by hyperparameter tuning.|\n",
    "|The final parameters estimated after training decide the model performance on unseen data.|The selected or fine-tuned hyperparameters decide the quality of the model.|\n",
    "|Some examples of model parameters are Weights in an ANN, Support vectors in SVM, Coefficients in Linear Regression or Logistic Regression.|Some examples of model hyperparameters are the learning rate for training a neural network, K in the KNN algorithm, etc.|\n",
    "\n"
   ]
  },
  {
   "cell_type": "markdown",
   "id": "9ee26e43",
   "metadata": {},
   "source": [
    "\n",
    "#### 13.What are the criteria that model-based learning algorithms look for? What is the most popular method they use to achieve success? What method do they use to make predictions?\n",
    "\n",
    "Sol:\n",
    "\n",
    "Model based learning algorithms search for the optimal value of parameters in a model that will give the best results for the new instances. We often use a cost function or similar to determine what the parameter value has to be in order to minimize the function. The model makes predictions by using the value of the new instance and the parameters in its function.\n"
   ]
  },
  {
   "cell_type": "markdown",
   "id": "1af3b238",
   "metadata": {},
   "source": [
    "#### 14.Can you name four of the most important Machine Learning challenges?\n",
    "Sol: \n",
    "* a. Insufficient quantity of training data\n",
    "* b. Non representative training data\n",
    "* c. Poor quality Data\n",
    "* d. Irrelevant feature"
   ]
  },
  {
   "cell_type": "markdown",
   "id": "65b7baac",
   "metadata": {},
   "source": [
    "#### 15.What happens if the model performs well on the training data but fails to generalize the results to new situations? Can you think of three different options?\n",
    "Sol: \n",
    "\n",
    "Overfitting happens when the model is too complex relative to the amount and noisiness of the training data.\n",
    "* a. By reducing the number of attributes in the training data or by constraining the model.\n",
    "* b. Gather more training Data\n",
    "* c. Reduce the noise in the training data(Removing the outliers)\n",
    "\n",
    "\n",
    "\n",
    "\n",
    "\n"
   ]
  },
  {
   "cell_type": "markdown",
   "id": "df05c34b",
   "metadata": {},
   "source": [
    "#### 16.What exactly is a test set, and why would you need one?\n",
    "Sol: \n",
    "\n",
    "Test set is the testing dataset upon which the trained model checks for checking how accurately it is predicting the unknown data.\n"
   ]
  },
  {
   "cell_type": "markdown",
   "id": "8fae5276",
   "metadata": {},
   "source": [
    "\n",
    "#### 17.What is a validation set's purpose?\n",
    "Sol:\n",
    "\n",
    "A validation set is a set of data used to train artificial intelligence (AI) with the goal of finding and optimizing the best model to solve a given problem. Validation sets are also known as dev sets.\n"
   ]
  },
  {
   "cell_type": "markdown",
   "id": "e35ad491",
   "metadata": {},
   "source": [
    "\n",
    "#### 18.What precisely is the train-dev kit, when will you need it, how do you put it to use?\n",
    "\n",
    "Sol:\n",
    "\n",
    "The goal of dev-set is to rank the models in terms of their accuracy and help us decide which model to proceed further with. Using the Dev set we rank all our models in terms of their accuracy and pick the best performing model. i.e. dev set ranks models similar to a search engine like google rank pages and then pick the top model and hence act as a filter to remove bad models.\n",
    "\n",
    "\n"
   ]
  },
  {
   "cell_type": "markdown",
   "id": "64ac6616",
   "metadata": {},
   "source": [
    "\n",
    "#### 19.What could go wrong if you use the test set to tune hyperparameters?\n",
    "Sol:\n",
    "\n",
    "The model will not generalize well to unseen data because it overfits the test set. Tuning model hyper-parameters to a test set means that the hyper-parameters may overfit to that test set. If the same test set is used to estimate performance, it will produce an overestimate.\n"
   ]
  },
  {
   "cell_type": "markdown",
   "id": "fcefbb34",
   "metadata": {},
   "source": [
    "."
   ]
  }
 ],
 "metadata": {
  "kernelspec": {
   "display_name": "Python 3 (ipykernel)",
   "language": "python",
   "name": "python3"
  },
  "language_info": {
   "codemirror_mode": {
    "name": "ipython",
    "version": 3
   },
   "file_extension": ".py",
   "mimetype": "text/x-python",
   "name": "python",
   "nbconvert_exporter": "python",
   "pygments_lexer": "ipython3",
   "version": "3.9.12"
  }
 },
 "nbformat": 4,
 "nbformat_minor": 5
}
