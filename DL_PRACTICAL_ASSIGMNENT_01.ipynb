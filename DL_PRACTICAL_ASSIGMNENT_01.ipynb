{
  "nbformat": 4,
  "nbformat_minor": 0,
  "metadata": {
    "colab": {
      "provenance": [],
      "authorship_tag": "ABX9TyOVYPBopXid5sCv8r6ajxWS",
      "include_colab_link": true
    },
    "kernelspec": {
      "name": "python3",
      "display_name": "Python 3"
    },
    "language_info": {
      "name": "python"
    }
  },
  "cells": [
    {
      "cell_type": "markdown",
      "metadata": {
        "id": "view-in-github",
        "colab_type": "text"
      },
      "source": [
        "<a href=\"https://colab.research.google.com/github/MANOJ-S-NEGI/Data_science/blob/main/DL_PRACTICAL_ASSIGMNENT_01.ipynb\" target=\"_parent\"><img src=\"https://colab.research.google.com/assets/colab-badge.svg\" alt=\"Open In Colab\"/></a>"
      ]
    },
    {
      "cell_type": "markdown",
      "source": [
        "# DL_PRACTICAL_ASSIGMNENT_01\n",
        "---\n",
        "---\n",
        "\n",
        "<br>\n",
        "\n",
        "1. **Objective:** - Predict Next Sequence\n",
        "To start with deep learning, the very basic project that you can build is to\n",
        "predict the next digit in a sequence.\n",
        "\n",
        "2. **Dataset:** - Create a sequence like a list of odd numbers and then build a model and train it to predict the next digit in the sequence.\n",
        "\n",
        "3. **Task:** - A simple neural network with 2 layers would be sufficient to build the model.\n",
        "---"
      ],
      "metadata": {
        "id": "v7IrsvRqST1D"
      }
    },
    {
      "cell_type": "code",
      "source": [
        "import numpy as np\n",
        "import tensorflow as tf\n"
      ],
      "metadata": {
        "id": "FRK86SymSbqu"
      },
      "execution_count": 1,
      "outputs": []
    },
    {
      "cell_type": "code",
      "source": [
        "# Generate a sequence of odd numbers\n",
        "sequence = []\n",
        "for i in range(1, 101, 2):\n",
        "    sequence.append(i)\n"
      ],
      "metadata": {
        "id": "qorTZ3KNS0s5"
      },
      "execution_count": 2,
      "outputs": []
    },
    {
      "cell_type": "code",
      "source": [
        "# Define a function to generate input-output pairs\n",
        "def generate_pairs(sequence, n):\n",
        "    x, y = [], []\n",
        "    for i in range(len(sequence)-n):\n",
        "        x.append(sequence[i:i+n])\n",
        "        y.append(sequence[i+n])\n",
        "    return np.array(x), np.array(y)\n",
        "\n",
        "# Choose the sequence length for input (n)\n",
        "n_steps = 3\n",
        "x, y = generate_pairs(sequence, n_steps)\n"
      ],
      "metadata": {
        "id": "mahNa1BgUKQD"
      },
      "execution_count": 4,
      "outputs": []
    },
    {
      "cell_type": "code",
      "source": [
        "print(\"x\",x[:2])\n",
        "print(\"y\",y[:2])"
      ],
      "metadata": {
        "colab": {
          "base_uri": "https://localhost:8080/"
        },
        "id": "h1UaZiNpbhRC",
        "outputId": "92fcc5ad-8e3d-4ff5-8e57-384697799033"
      },
      "execution_count": 8,
      "outputs": [
        {
          "output_type": "stream",
          "name": "stdout",
          "text": [
            "x [[1 3 5]\n",
            " [3 5 7]]\n",
            "y [7 9]\n"
          ]
        }
      ]
    },
    {
      "cell_type": "code",
      "source": [
        "model = tf.keras.models.Sequential([\n",
        "    tf.keras.layers.Dense(30, input_dim=n_steps, activation='relu'),\n",
        "    tf.keras.layers.Dense(1)\n",
        "])\n",
        "\n",
        "model.compile(loss='mean_squared_error', optimizer='adam')\n",
        "\n",
        "model.fit(x, y, epochs=100, verbose=0)\n"
      ],
      "metadata": {
        "colab": {
          "base_uri": "https://localhost:8080/"
        },
        "id": "eWX-pr4xUQBy",
        "outputId": "c02efc57-0332-4c1a-c27b-602d9f87a120"
      },
      "execution_count": 5,
      "outputs": [
        {
          "output_type": "execute_result",
          "data": {
            "text/plain": [
              "<keras.src.callbacks.History at 0x7bd1f596e020>"
            ]
          },
          "metadata": {},
          "execution_count": 5
        }
      ]
    },
    {
      "cell_type": "code",
      "source": [
        "input_sequence = np.array([[95, 97, 99]])  # Adjust input sequence for prediction\n",
        "next_number = model.predict(input_sequence)\n",
        "print(f'Predicted Next Number: {next_number[0][0]}')\n"
      ],
      "metadata": {
        "colab": {
          "base_uri": "https://localhost:8080/"
        },
        "id": "aXA1YHEQbBbq",
        "outputId": "405dd3c5-4d22-4d07-8c16-9a1fedfd19dc"
      },
      "execution_count": 6,
      "outputs": [
        {
          "output_type": "stream",
          "name": "stdout",
          "text": [
            "1/1 [==============================] - 0s 134ms/step\n",
            "Predicted Next Number: 102.41915893554688\n"
          ]
        }
      ]
    },
    {
      "cell_type": "code",
      "source": [],
      "metadata": {
        "id": "Ef2eMp9ibKWG"
      },
      "execution_count": 6,
      "outputs": []
    }
  ]
}