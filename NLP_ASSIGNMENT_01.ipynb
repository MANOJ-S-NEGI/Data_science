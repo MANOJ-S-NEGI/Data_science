{
  "nbformat": 4,
  "nbformat_minor": 0,
  "metadata": {
    "colab": {
      "provenance": [],
      "authorship_tag": "ABX9TyOBiCUMT4mAgyc3nMihnMc/",
      "include_colab_link": true
    },
    "kernelspec": {
      "name": "python3",
      "display_name": "Python 3"
    },
    "language_info": {
      "name": "python"
    }
  },
  "cells": [
    {
      "cell_type": "markdown",
      "metadata": {
        "id": "view-in-github",
        "colab_type": "text"
      },
      "source": [
        "<a href=\"https://colab.research.google.com/github/MANOJ-S-NEGI/Data_science/blob/main/NLP_ASSIGNMENT_01.ipynb\" target=\"_parent\"><img src=\"https://colab.research.google.com/assets/colab-badge.svg\" alt=\"Open In Colab\"/></a>"
      ]
    },
    {
      "cell_type": "markdown",
      "source": [
        "# NLP_ASSIGNMENT_01\n",
        "---\n",
        "---\n",
        "<br>\n",
        "\n",
        "**1. What are Corpora?**\n",
        "\n",
        "sol:\n",
        "\n",
        "Corpora (singular: corpus) refer to large collections of written or spoken texts. These collections are used for various purposes, such as linguistic analysis, machine learning training data, and more.\n",
        "\n",
        "---\n",
        "\n",
        "**2. What are Tokens?**\n",
        "\n",
        "sol:\n",
        "\n",
        "- In natural language processing (NLP), a token is a single unit of text, which could be a word or a punctuation mark.\n",
        "- For instance, the sentence \"I am Super!\" can be tokenized into the following: [\"I\", \"am\", \"super\", \"!\"].\n",
        "\n",
        "---\n",
        "\n",
        "**3. What are Unigrams, Bigrams, Trigrams?**\n",
        "\n",
        "sol:\n",
        "\n",
        "These terms refer to sequence / group of words in a text:\n",
        "- Unigrams: Are single words, like [\"I\", \"am\", \"super\", \"!\"]\n",
        "- Bigrams: Are pairs of adjacent words, like [\"I am\", \"super !\"]\n",
        "- Trigrams: Are groups of three adjacent words, like [\"I am super\"]\n",
        "\n",
        "\n",
        "---\n",
        "4. How to generate n-grams from text?\n",
        "\n",
        "sol:\n",
        "\n",
        "- To generate n-grams from text, we can use libraries like NLTK or spaCy in Python.\n",
        "\n",
        "- These libraries have built-in functions for n-gram generation.\n",
        "\n",
        "---\n",
        "5. Explain Lemmatization\n",
        "\n",
        "sol:\n",
        "\n",
        "- Lemmatization is the process of reducing words to their base or root form, which is called a \"lemma\".\n",
        "- For example, the lemma of \"running\" is \"run\".\n",
        "-  This helps in standardizing words and reducing the dimensionality of the feature space in NLP tasks.\n",
        "\n",
        "---\n",
        "6. Explain Stemming\n",
        "\n",
        "sol:\n",
        "- Stemming is the process of reducing words to their base or root form, but it's a simpler and cruder method compared to lemmatization.\n",
        "\n",
        "- It often involves removing prefixes or suffixes to get to the root. For instance, the stem of \"running\" would be \"run\".\n",
        "\n",
        "---\n",
        "\n",
        "7. Explain Part-of-speech (POS) tagging\n",
        "\n",
        "sol:\n",
        "\n",
        "- POS tagging involves categorizing words in a sentence into their respective parts of speech (e.g., nouns, verbs, adjectives, etc.).\n",
        "- This is important for understanding the grammatical structure of a sentence.\n",
        "\n",
        "---\n",
        "\n",
        "8. Explain Chunking or shallow parsing\n",
        "sol:\n",
        "\n",
        "- Chunking, also known as shallow parsing, involves grouping words together into \"chunks\" based on their part of speech.\n",
        "\n",
        "- For example, in the sentence \"The cat chased the mouse\", chunking could group \"the cat\" as a noun phrase (NP) and \"chased the mouse\" as a verb phrase (VP).\n",
        "\n",
        "---\n",
        "9. Explain Noun Phrase (NP) chunking\n",
        "\n",
        "sol:\n",
        "\n",
        "Noun Phrase (NP) chunking specifically focuses on identifying noun phrases in a sentence. An NP typically consists of a determiner (like \"the\" or \"a\") followed by one or more adjectives and then a noun.\n",
        "\n",
        "---\n",
        "10. Explain Named Entity Recognition\n",
        "sol:\n",
        "\n",
        "NER is the process of identifying and classifying named entities (such as names of persons, locations, organizations, etc.) in text. This is crucial for extracting structured information from unstructured text.\n",
        "\n",
        "---\n",
        "---"
      ],
      "metadata": {
        "id": "Sfj9TbrfdIMr"
      }
    },
    {
      "cell_type": "code",
      "execution_count": null,
      "metadata": {
        "id": "_m0eVfSJcIFo"
      },
      "outputs": [],
      "source": []
    }
  ]
}