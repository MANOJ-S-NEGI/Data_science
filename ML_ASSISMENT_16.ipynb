{
  "nbformat": 4,
  "nbformat_minor": 0,
  "metadata": {
    "colab": {
      "provenance": [],
      "authorship_tag": "ABX9TyPsseE2SPYkZV3247jReHNS",
      "include_colab_link": true
    },
    "kernelspec": {
      "name": "python3",
      "display_name": "Python 3"
    },
    "language_info": {
      "name": "python"
    }
  },
  "cells": [
    {
      "cell_type": "markdown",
      "metadata": {
        "id": "view-in-github",
        "colab_type": "text"
      },
      "source": [
        "<a href=\"https://colab.research.google.com/github/MANOJ-S-NEGI/Data_science/blob/main/ML_ASSISMENT_16.ipynb\" target=\"_parent\"><img src=\"https://colab.research.google.com/assets/colab-badge.svg\" alt=\"Open In Colab\"/></a>"
      ]
    },
    {
      "cell_type": "markdown",
      "source": [
        "# ML_ASSISMENT_16\n",
        "\n"
      ],
      "metadata": {
        "id": "GOLTkhMJIJwf"
      }
    },
    {
      "cell_type": "markdown",
      "source": [
        "---\n",
        "---\n",
        "####**1. In a linear equation, what is the difference between a dependent variable and an independent variable?**\n",
        "\n",
        "Sol:\n",
        "\n",
        "- In a linear equation, the dependent variable is the one we trying to predict or explain, while\n",
        "\n",
        "- the independent variable is the one we using to make that prediction.\n",
        "\n",
        "- The dependent variable's value depends on the values of one or more independent variables.\n",
        "\n",
        "- For example, in the equation **y = mx + b,** where y is the dependent variable, x is the independent variable, m is the slope, and b is the intercept.\n",
        "\n",
        "\n",
        "<br>\n",
        "<br>\n"
      ],
      "metadata": {
        "id": "jID25AwrIjHQ"
      }
    },
    {
      "cell_type": "markdown",
      "source": [
        "---\n",
        "---\n",
        "####**2. What is the concept of simple linear regression? Give a specific example.**\n",
        "\n",
        "Sol:\n",
        "\n",
        "- Simple linear regression is a statistical method used to model the relationship between two continuous variables by fitting a linear equation to observed data.\n",
        "\n",
        "- It involves finding the best-fitting line (linear equation) that minimizes the difference between the observed data points and the predicted values from the line.\n",
        "\n",
        "- For instance, predicting a person's weight (dependent variable) based on their height (independent variable) is an example of simple linear regression.\n",
        "\n",
        "<br>\n",
        "<br>\n"
      ],
      "metadata": {
        "id": "HImbfyA9IjKW"
      }
    },
    {
      "cell_type": "markdown",
      "source": [
        "---\n",
        "---\n",
        "####**3. In a linear regression, define the slope.**\n",
        "\n",
        "Sol:\n",
        "In a linear regression equation of the form y = mx + b.\n",
        "The slope (m) represents the change in the dependent variable (y) for a unit change in the independent variable (x).\n",
        "It indicates the rate at which the dependent variable changes with respect to the independent variable.\n",
        "\n",
        "\n",
        "<br>\n",
        "<br>\n"
      ],
      "metadata": {
        "id": "ReZHGQXkIjNv"
      }
    },
    {
      "cell_type": "markdown",
      "source": [
        "---\n",
        "---\n",
        "####**4. Determine the graph's slope, where the lower point on the line is represented as (3, 2) and the higher point is represented as (2, 2)**\n",
        "\n",
        "Sol:\n",
        "\n",
        "The slope of a line passing through two points (x1, y1) and (x2, y2) is given by the formula:\n",
        "\n",
        "- **slope (m) = (y2 - y1) / (x2 - x1)**\n",
        "\n",
        "**Using the points , the calculation would be:**\n",
        "```\n",
        "slope = (2 - 2) / (2 - 3)\n",
        "= 0 / -1\n",
        "= 0\n",
        "```\n",
        "\n",
        "<br>\n",
        "<br>"
      ],
      "metadata": {
        "id": "yla8pj-sIjQo"
      }
    },
    {
      "cell_type": "markdown",
      "source": [
        "---\n",
        "---\n",
        "####**5. In linear regression, what are the conditions for a positive slope?**\n",
        "\n",
        "Sol:\n",
        "\n",
        "A positive slope in linear regression means that as the independent variable increases, the dependent variable also tends to increase.\n",
        "\n",
        "The conditions for a positive slope involve having a positive correlation between the independent and dependent variables, indicating that higher values of the independent variable are associated with higher values of the dependent variable.\n",
        "\n",
        "<br>\n",
        "<br>"
      ],
      "metadata": {
        "id": "cSNlUq5CIjTx"
      }
    },
    {
      "cell_type": "markdown",
      "source": [
        "---\n",
        "---\n",
        "####**6. In linear regression, what are the conditions for a negative slope?**\n",
        "\n",
        "Sol:\n",
        "\n",
        "A negative slope in linear regression means that as the independent variable increases, the dependent variable tends to decrease.\n",
        "\n",
        "The conditions for a negative slope involve having a negative correlation between the independent and dependent variables, indicating that higher values of the independent variable are associated with lower values of the dependent variable.\n",
        "\n",
        "<br>\n",
        "<br>\n"
      ],
      "metadata": {
        "id": "XsdnQzV7IjWX"
      }
    },
    {
      "cell_type": "markdown",
      "source": [
        "---\n",
        "---\n",
        "####**7. What is multiple linear regression and how does it work?**\n",
        "\n",
        "Sol:\n",
        "\n",
        "Multiple linear regression extends simple linear regression to model the relationship between a dependent variable and multiple independent variables.\n",
        "\n",
        "It aims to find the best-fitting linear equation that accounts for the combined effects of these independent variables on the dependent variable\n",
        "\n",
        "<br>\n",
        "<br>\n",
        "\n"
      ],
      "metadata": {
        "id": "YMoM_B_EIJz-"
      }
    },
    {
      "cell_type": "markdown",
      "source": [
        "---\n",
        "---\n",
        "####**8. In multiple linear regression, define the number of squares due to error.**\n",
        "\n",
        "Sol:\n",
        "\n",
        "The sum of squares due to error (SSE) in multiple linear regression quantifies the total unexplained variation in the dependent variable by the regression model.\n",
        "\n",
        "It represents the sum of the squared differences between the actual dependent variable values and the values predicted by the regression equation.\n",
        "\n",
        "\n",
        "<br>\n",
        "<br>"
      ],
      "metadata": {
        "id": "eWwOB5MIIJ31"
      }
    },
    {
      "cell_type": "markdown",
      "source": [
        "---\n",
        "---\n",
        "####**9. In multiple linear regression, define the number of squares due to regression.**\n",
        "\n",
        "Sol:\n",
        "\n",
        "The sum of squares due to regression (SSR) in multiple linear regression measures the explained variation in the dependent variable by the regression model.\n",
        "\n",
        "It represents the sum of the squared differences between the predicted values and the mean of the dependent variable.\n",
        "\n",
        "<br>\n",
        "<br>"
      ],
      "metadata": {
        "id": "cypwnMyvIJ7k"
      }
    },
    {
      "cell_type": "markdown",
      "source": [
        "---\n",
        "---\n",
        "####**10.In a regression equation, what is multicollinearity?**\n",
        "\n",
        "Sol:\n",
        "\n",
        "Multicollinearity refers to a situation in multiple linear regression where two or more independent variables are highly correlated with each other.\n",
        "\n",
        "This can cause problems in regression analysis because it becomes difficult to isolate the individual effects of these variables on the dependent variable.\n",
        "\n",
        "It can lead to unstable coefficient estimates and difficulty in interpreting the importance of each independent variable.\n",
        "\n",
        "<br>\n",
        "<br>"
      ],
      "metadata": {
        "id": "JYHBq9x9IKJJ"
      }
    },
    {
      "cell_type": "markdown",
      "source": [
        "---\n",
        "---\n",
        "####**11. What is heteroskedasticity, and what does it mean?**\n",
        "\n",
        "Sol:\n",
        "\n",
        "Heteroskedasticity refers to a situation where the variability of the residuals (the differences between the observed and predicted values) in a regression model is not constant across all levels of the independent variable(s).\n",
        "\n",
        "In other words, the spread of residuals changes as the values of the independent variable(s) change.\n",
        "\n",
        "Heteroskedasticity can affect the accuracy of statistical inference and lead to biased standard errors of coefficient estimates\n",
        "\n",
        "<br>\n",
        "<br>"
      ],
      "metadata": {
        "id": "4_8G3ca5H_Xp"
      }
    },
    {
      "cell_type": "markdown",
      "source": [
        "\n",
        "---\n",
        "---\n",
        "####**12. Describe the concept of ridge regression.**\n",
        "\n",
        "Sol:\n",
        "\n",
        "Ridge regression is a technique used to address multicollinearity and overfitting in multiple linear regression.\n",
        "\n",
        "It adds a penalty term to the regression equation, which discourages the model from assigning large coefficients to any particular independent variable.\n",
        "\n",
        "This helps to stabilize the coefficient estimates and can lead to a more robust model.\n",
        "\n",
        "\n",
        "<br>\n",
        "<br>"
      ],
      "metadata": {
        "id": "B4ZljWuzH_bZ"
      }
    },
    {
      "cell_type": "markdown",
      "source": [
        "---\n",
        "---\n",
        "####**13. Describe the concept of lasso regression.**\n",
        "\n",
        "sol:\n",
        "\n",
        "Lasso (Least Absolute Shrinkage and Selection Operator) regression is another method to handle multicollinearity and perform variable selection in regression analysis.\n",
        "\n",
        "Like ridge regression, it adds a penalty term, but in lasso, the penalty is based on the absolute values of the coefficients. This has the effect of shrinking some coefficients to exactly zero, effectively performing variable selection and creating a sparse model.\n",
        "\n",
        "\n",
        "<br>\n",
        "<br>\n"
      ],
      "metadata": {
        "id": "_ISgOp_qH_d1"
      }
    },
    {
      "cell_type": "markdown",
      "source": [
        "---\n",
        "---\n",
        "####**14. What is polynomial regression and how does it work?**\n",
        "\n",
        "Sol:\n",
        "\n",
        "Polynomial regression is a type of regression analysis that allows for nonlinear relationships between the independent and dependent variables.\n",
        "\n",
        "It involves fitting a polynomial equation (quadratic, cubic, etc.) to the data. This can capture more complex patterns that a simple linear regression cannot.\n",
        "\n",
        "<br>\n",
        "<br>\n"
      ],
      "metadata": {
        "id": "hxGSJ2CmH_hE"
      }
    },
    {
      "cell_type": "markdown",
      "source": [
        "---\n",
        "---\n",
        "####**15. Describe the basis function.**\n",
        "\n",
        "Sol:\n",
        "\n",
        "Despite its name, logistic regression is used for binary classification problems rather than regression tasks. It models the probability that a given input point belongs to a certain class. It uses the logistic (sigmoid) function to transform a linear combination of the input features into a value between 0 and 1, which represents the probability. If the probability is above a certain threshold (usually 0.5), the data point is classified into one class; otherwise, it's classified into the other class.\n",
        "\n",
        "<br>\n",
        "<br>"
      ],
      "metadata": {
        "id": "LfO1ktpbH_ki"
      }
    },
    {
      "cell_type": "markdown",
      "source": [
        "---\n",
        "---\n",
        "####**16. Describe how logistic regression works.**\n",
        "\n",
        "Sol:\n",
        "\n",
        "In the context of regression, a basis function is a mathematical function used to transform the original independent variables into a different space.\n",
        "\n",
        "This transformation can help capture nonlinear relationships between variables.\n",
        "\n",
        "For instance, in polynomial regression, the basis functions are powers of the original independent variable.\n",
        "\n",
        "<br>\n",
        "<br>"
      ],
      "metadata": {
        "id": "1fW5O-AOH_oB"
      }
    },
    {
      "cell_type": "markdown",
      "source": [
        "---\n",
        "---\n"
      ],
      "metadata": {
        "id": "8jFZILpTH_rD"
      }
    }
  ]
}