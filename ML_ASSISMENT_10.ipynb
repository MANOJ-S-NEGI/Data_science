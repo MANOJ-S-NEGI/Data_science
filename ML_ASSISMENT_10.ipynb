{
  "nbformat": 4,
  "nbformat_minor": 0,
  "metadata": {
    "colab": {
      "provenance": [],
      "authorship_tag": "ABX9TyOEGMM9BDQOHAkII3cklQDL",
      "include_colab_link": true
    },
    "kernelspec": {
      "name": "python3",
      "display_name": "Python 3"
    },
    "language_info": {
      "name": "python"
    }
  },
  "cells": [
    {
      "cell_type": "markdown",
      "metadata": {
        "id": "view-in-github",
        "colab_type": "text"
      },
      "source": [
        "<a href=\"https://colab.research.google.com/github/MANOJ-S-NEGI/Data_science/blob/main/ML_ASSISMENT_10.ipynb\" target=\"_parent\"><img src=\"https://colab.research.google.com/assets/colab-badge.svg\" alt=\"Open In Colab\"/></a>"
      ]
    },
    {
      "cell_type": "markdown",
      "source": [
        "# ML_ASSISMENT_10"
      ],
      "metadata": {
        "id": "Wc9EPPXl9SYQ"
      }
    },
    {
      "cell_type": "markdown",
      "source": [
        "---\n",
        "---\n",
        "#### **1. Define the Bayesian interpretation of probability.**\n",
        "Sol:\n",
        "\n",
        "- The Bayesian interpretation of probability is a viewpoint that treats probability as a measure of uncertainty in a particular event occurring, based on available evidence or prior knowledge.\n",
        "\n",
        " - In this approach, probability is subjective and can be updated as new information is obtained. Bayesian probability is calculated using Bayes' theorem, which relates the probability of an event given some evidence to the prior probability of the event and the probability of observing the evidence given the event.\n",
        "\n",
        "\n",
        "<br>\n",
        "<br>\n",
        "\n"
      ],
      "metadata": {
        "id": "1t_7asbz9WLb"
      }
    },
    {
      "cell_type": "markdown",
      "source": [
        "---\n",
        "---\n",
        "#### **2. Define the probability of a union of two events with an equation.**\n",
        "Sol:\n",
        "\n",
        "The probability of the union of two events A and B is given by the equation\n",
        "```\n",
        "P(A∪B)=P(A)+P(B)−P(A∩B)\n",
        "```\n",
        "\n",
        "<br>\n",
        "<br>"
      ],
      "metadata": {
        "id": "YIgS3xkj9WHl"
      }
    },
    {
      "cell_type": "markdown",
      "source": [
        "---\n",
        "---\n",
        "#### **3. What is joint probability? What is its formula?**\n",
        "Sol:\n",
        "\n",
        "Joint probability refers to the probability of two or more events occurring simultaneously.\n",
        "\n",
        "For events A and B, the joint probability is denoted as P(A∩B)\n",
        "\n",
        "<br>\n",
        "<br>"
      ],
      "metadata": {
        "id": "81PD6daF9WEE"
      }
    },
    {
      "cell_type": "markdown",
      "source": [
        "---\n",
        "---\n",
        "#### **4. What is the chain rule of probability?**\n",
        "Sol:\n",
        "chain Rule of Probability: The chain rule of probability is a way to express the joint probability of multiple events in terms of conditional probabilities. It is given by:\n",
        "```\n",
        "P(A1∩A2∩…∩An)\n",
        "= P(A1)⋅P(A2∣A1)⋅P(A3∣A1∩A2)…P(An​∣A1∩A2∩…∩An−1)\n",
        "```\n",
        "\n",
        "\n",
        "<br>\n",
        "<br>"
      ],
      "metadata": {
        "id": "rTgqjnj19WAt"
      }
    },
    {
      "cell_type": "markdown",
      "source": [
        "---\n",
        "---\n",
        "#### **5. What does conditional probability mean? What is the formula for it?**\n",
        "\n",
        "Sol:\n",
        "\n",
        "Conditional probability is the probability of an event occurring given that another event has already occurred. It is denoted as P(A∣B), the probability of event A occurring given that event B has occurred.\n",
        "```\n",
        "The formula for conditional probability is:\n",
        "P(A∣B)=  P(A∩B)/P(B)\n",
        "```\n",
        "\n",
        "<br>\n",
        "<br>"
      ],
      "metadata": {
        "id": "lSTqGSCf9V9T"
      }
    },
    {
      "cell_type": "markdown",
      "source": [
        "---\n",
        "---\n",
        "#### **6. What are continuous random variables?**\n",
        "Sol:\n",
        "- Continuous random variables are variables that can take any real value within a certain range.\n",
        "- They are associated with continuous probability distributions and are typically measured, such as height, weight, time, etc.\n",
        "- The probability of specific values in a continuous distribution is often represented as the area under a curve within a certain interval.\n",
        "\n",
        "\n",
        "\n",
        "<br>\n",
        "<br>\n"
      ],
      "metadata": {
        "id": "Ricu-ZZQ9V6F"
      }
    },
    {
      "cell_type": "markdown",
      "source": [
        "---\n",
        "---\n",
        "#### **7. What are Bernoulli distributions? What is the formula for it?**\n",
        "Sol:\n",
        "- The Bernoulli distribution models a binary outcome, where an event can have one of two possible outcomes (usually labeled as success and failure).\n",
        "- It is characterized by a single parameter p, which represents the probability of success.\n",
        "\n",
        "\n",
        "**The formula for the Bernoulli distribution is:**\n",
        "```\n",
        "P(X=x)=px⋅(1−p)1−x\n",
        "where x can be either 0 or 1.\n",
        "```\n",
        "\n",
        "<br>\n",
        "<br>"
      ],
      "metadata": {
        "id": "44Cr6fOk9V2u"
      }
    },
    {
      "cell_type": "markdown",
      "source": [
        "---\n",
        "---\n",
        "#### **8. What is binomial distribution? What is the formula?**\n",
        "sol:\n",
        "\n",
        "- The binomial distribution models the number of successes in a fixed number of independent Bernoulli trials. It is characterized by two parameters:\n",
        "  - n (number of trials)\n",
        "  - p (probability of success in each trial).\n",
        "  \n",
        "- The formula for the probability mass function of the binomial distribution is more involved but represents the probability of having k successes out of n trials.\n",
        "\n",
        "\n",
        "\n",
        "<br>\n",
        "<br>"
      ],
      "metadata": {
        "id": "A4VHjnHe9Vza"
      }
    },
    {
      "cell_type": "markdown",
      "source": [
        "---\n",
        "---\n",
        "#### **9. What is Poisson distribution? What is the formula?**\n",
        "Sol:\n",
        "- The Poisson distribution models the number of events occurring in a fixed interval of time or space, given a known average rate of occurrence. It is characterized by a single parameter λ, which represents the average rate.\n",
        "\n",
        "**The formula for the Poisson distribution is:**\n",
        "P(X=k)= e^−λ ⋅λ^k/ k!\n",
        "\n",
        "\n",
        "<br>\n",
        "<br>"
      ],
      "metadata": {
        "id": "gPQqGiP1LOg1"
      }
    },
    {
      "cell_type": "markdown",
      "source": [
        "---\n",
        "---\n",
        "#### **10. Define covariance.**\n",
        "Sol:\n",
        "- Covariance measures the degree to which two random variables change together.\n",
        "- A positive covariance indicates that both variables tend to increase or decrease together, while a negative covariance indicates that one variable tends to increase when the other decreases.\n",
        "\n",
        "<br>\n",
        "<br>"
      ],
      "metadata": {
        "id": "EgvS93DbLOTH"
      }
    },
    {
      "cell_type": "markdown",
      "source": [
        "---\n",
        "---\n",
        "#### **11. Define correlation**\n",
        "Sol:\n",
        "- Correlation measures the strength and direction of the linear relationship between two random variables.\n",
        "- It ranges from -1 to 1, where -1 indicates a perfect negative linear correlation, 1 indicates a perfect positive linear correlation, and 0 indicates no linear correlation.\n",
        "\n",
        "\n",
        "<br>\n",
        "<br>"
      ],
      "metadata": {
        "id": "x1nlVBKNLOLS"
      }
    },
    {
      "cell_type": "markdown",
      "source": [
        "---\n",
        "---\n",
        "#### **12. Define sampling with replacement. Give an example.**\n",
        "\n",
        "Sol:\n",
        "- Sampling with replacement is a process where items are selected from a population, and after each selection, the item is put back into the population before the next selection.\n",
        "- This means that an item can be selected more than once in the process.\n",
        "\n",
        "- **For example,**\n",
        "  - rolling a fair six-sided die multiple times with replacement is an example of sampling with replacement.\n",
        "\n",
        "\n",
        "\n",
        "<br>\n",
        "<br>"
      ],
      "metadata": {
        "id": "dLE-gwTYLN7J"
      }
    },
    {
      "cell_type": "markdown",
      "source": [
        "---\n",
        "---\n",
        "#### **13. What is sampling without replacement? Give an example.**\n",
        "Sol:\n",
        "\n",
        "- Sampling without replacement is a process where items are selected from a population, but once an item is selected, it is not put back into the population.\n",
        "- This ensures that each item can be selected only once.\n",
        "\n",
        "- For example, drawing cards from a deck without putting them back is an example of sampling without replacement.\n",
        "\n",
        "\n",
        "<br>\n",
        "<br>"
      ],
      "metadata": {
        "id": "EE8hwWQk9Vwb"
      }
    },
    {
      "cell_type": "markdown",
      "source": [
        "---\n",
        "---\n",
        "#### **14.What is the hypothesis? Give example**\n",
        "Sol:\n",
        "\n",
        "- A hypothesis is a proposed explanation or prediction about a phenomenon or situation that can be tested through observation and experimentation.\n",
        "- In statistics, hypotheses are often framed as null hypotheses (H0),\n",
        "  - which represents the default or no-effect assumption, and\n",
        "  - alternative hypotheses (H1), which represent what is being tested or predicted.\n",
        "\n",
        "**Simplified Example of a Hypothesis:**\n",
        "- Null Hypothesis (H0): There is no significant difference in the average test scores between Group A and Group B.\n",
        "- Alternative Hypothesis (H1): The average test scores of Group A are significantly different from those of Group B.\n",
        "\n",
        "\n",
        "\n",
        "<br>\n",
        "<br>"
      ],
      "metadata": {
        "id": "RhnehGXM9VtJ"
      }
    },
    {
      "cell_type": "markdown",
      "source": [
        "---\n",
        "---\n"
      ],
      "metadata": {
        "id": "A1CP0XTd9VQs"
      }
    }
  ]
}