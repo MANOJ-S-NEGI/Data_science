{
  "cells": [
    {
      "cell_type": "markdown",
      "metadata": {
        "id": "view-in-github",
        "colab_type": "text"
      },
      "source": [
        "<a href=\"https://colab.research.google.com/github/MANOJ-S-NEGI/Data_science/blob/main/ML_ASSISMENT_05.ipynb\" target=\"_parent\"><img src=\"https://colab.research.google.com/assets/colab-badge.svg\" alt=\"Open In Colab\"/></a>"
      ]
    },
    {
      "cell_type": "markdown",
      "metadata": {
        "id": "xRX_jTyrkTuD"
      },
      "source": [
        "# **ML_ASSISMENT_05**\n"
      ],
      "id": "xRX_jTyrkTuD"
    },
    {
      "cell_type": "markdown",
      "source": [
        "___\n",
        "___\n",
        "\n",
        "#### **1. What are the key tasks that machine learning entails? What does data pre-processing imply?**\n",
        "\n",
        "Sol:\n",
        "\n",
        "Machine learning involves several key tasks that are crucial for building and deploying effective models. These tasks can be broadly categorized into the following:\n",
        "\n",
        "* Data Collection and Preparation\n",
        "* Data Preprocessing\n",
        "* Data Splitting\n",
        "* Model Selection and Training\n",
        "* Model Evaluation: accuracy, precision, recall, F1-score, etc.\n",
        "* Model Deployment\n",
        "* Monitoring and Maintenance\n",
        "\n",
        "**Data preprocessing**, involves transforming raw data into a format that can be readily used for training machine learning models. It addresses challenges such as noise, missing values, outliers, and inconsistent formats.\n",
        "\n",
        "The goal is to prepare the data in a way that allows the model to learn patterns effectively.\n",
        "Data preprocessing steps include data cleaning, transformation, normalization, encoding categorical variables.\n"
      ],
      "metadata": {
        "id": "7dquzgTmlBoc"
      },
      "id": "7dquzgTmlBoc"
    },
    {
      "cell_type": "markdown",
      "source": [
        "***\n",
        "***\n",
        "#### **2. Describe quantitative and qualitative data in depth. Make a distinction between the two.**\n",
        "Sol:\n",
        "\n",
        "Quantitative and qualitative data are two fundamental types of data used in research and analysis.\n",
        "\n",
        "**Quantitative Data:**\n",
        "* Quantitative data consists of numerical values that can be measured and expressed in terms of quantities.\n",
        "* This type of data focuses on quantities, measurements, and counts.\n",
        "* It is typically used to answer questions that involve \"how much\" or \"how many.\" Quantitative data can be further categorized into **discrete and continuous data.**\n",
        "\n",
        "**Qualitative Data:**\n",
        "* qualitative data, involves non-numeric characteristics and is used to describe qualities, attributes, properties, or characteristics that cannot be measured in terms of quantities.\n",
        "* This type of data is concerned with understanding \"why\" and \"how\" things happen, and it delves into the complexities of human behavior, emotions, perceptions, and opinions.\n",
        "* Examples of Qualitative Data:  Personal narratives , Interviews or transcripts of conversations , Observations of behaviors in natural settings, Textual analysis of literature, art, or media ,Open-ended survey responses.\n"
      ],
      "metadata": {
        "id": "du4ne6CTlBrS"
      },
      "id": "du4ne6CTlBrS"
    },
    {
      "cell_type": "markdown",
      "source": [
        "___\n",
        "___\n",
        "#### **3. Create a basic data collection that includes some sample records. Have at least one attribute from each of the machine learning data types.**\n",
        "\n",
        "Sol:\n",
        "\n",
        "\n",
        "**Dataset: Student Performance Records :**\n",
        "<br>\n",
        "\n",
        "|Student ID |Age |Name |Gender |Grade |Height(cm) |Course taken |GPA |Passed |\n",
        "|:-:|:-:|:-:|:-:|:-:|:-:|:-:|:-:|:-:|\n",
        "|1 |18|Alpha |F |12 |165.2 |Math, Physics |3.8 |Y |\n",
        "|2 |17 |Bravo |M |11 |178.9 |Economics,IR |3.2 |N |\n",
        "|3 |19 |Charlie |M |12 |172.4 |Chemistry ,Economics |3.5 |Y |\n",
        "|4 |18 |Delta |F |12 |160.5 |History, Math |3.7 |Y |\n",
        "|5 |16 |Echo |M |10 |175.5 |Biology, hindi |2.9 |N |\n",
        "|6 |17 |foxtrot |M |12 |174.0 |Hindi, sanskrit |3.5 |Y |\n",
        "|7 |15 |India |F |12 |171.0|Math, sanskrit|4.5|Y |\n",
        "\n",
        "<br>\n",
        "\n",
        "**Explanation of Attributes:**\n",
        "\n",
        "* Student ID: Unique identifier for each student.\n",
        "* Name: Name of the student (Categorical data type).\n",
        "* Age: Age of the student (Numerical-discrete data type).\n",
        "* Gender: Gender of the student (Categorical data type).\n",
        "* Grade: Grade level of the student (Ordinal data type).\n",
        "* Height (cm): Height of the student in centimeters (Numerical-Continuous numerical data type).\n",
        "* Courses Taken: List of courses taken by the student (Categorical data type).\n",
        "* GPA: Grade Point Average of the student (Num-Continuous numerical data type).\n",
        "* Passed Exam: Whether the student passed an exam (Binary categorical data type: Yes/No)\n",
        "\n"
      ],
      "metadata": {
        "id": "YctUkT-OlBuY"
      },
      "id": "YctUkT-OlBuY"
    },
    {
      "cell_type": "markdown",
      "source": [
        "\n",
        "***\n",
        "***\n",
        "#### **4. What are the various causes of machine learning data issues? What are the ramifications?**\n",
        "\n",
        "Sol:\n",
        "1. Incomplete Data:\n",
        "  * Cause: Missing values, incomplete records, or fields not being properly filled.\n",
        "\n",
        "2. Imbalanced Data:\n",
        "  * Cause: Unequal distribution of classes in the dataset.\n",
        "\n",
        "3. Noisy Data:\n",
        "  * Cause: Outliers, errors, or inconsistencies in the data.\n",
        "\n",
        "4. Duplicate Data:\n",
        "  * Cause: Repeated instances in the dataset.\n",
        "\n",
        "5. Biased Data:\n",
        "  * Cause: Systematic errors in data collection, leading to underrepresentation or overrepresentation of certain groups.\n",
        "\n",
        "6. Out-of-Distribution Data:\n",
        "  * Cause: Data that is significantly different from the training data distribution.\n",
        "\n",
        "7. Data Leakage:\n",
        " * Cause: Inclusion of information from the target variable in the input features, usually due to errors in data preprocessing.\n",
        "\n",
        "8. Small Data:\n",
        " * Cause: Insufficient amount of data for model training.\n",
        "\n",
        "9. Changing Data Distributions:\n",
        " * Cause: Drastic shifts in data distributions over time.\n",
        "\n",
        "9. Labeling Errors:\n",
        " * Cause: Mistakes made during the process of labeling data.\n",
        "\n"
      ],
      "metadata": {
        "id": "fUneZvBTlBxO"
      },
      "id": "fUneZvBTlBxO"
    },
    {
      "cell_type": "markdown",
      "source": [
        "***\n",
        "***\n",
        "#### **5. Demonstrate various approaches to categorical data exploration with appropriate examples.**\n",
        "Sol:\n",
        "\n",
        "Frequency Distribution: displays the count of each category within a categorical variable.\n",
        "\n",
        "1. Bar Plots: visually represent the frequency distribution of categorical variables.\n",
        "\n",
        "2. Pie Charts:show the proportion of each category within the whole categorical variable.\n",
        "\n",
        "3. Cross-tabulations (Crosstabs):show the distribution of one categorical variable with respect to another categorical variable.\n",
        "\n",
        "4. Heatmaps: represent the frequency or proportion of categories using color intensity.\n",
        "\n",
        "\n",
        "5. Chi-square test :measures the association between two categorical variables to determine if they are independent or related\n"
      ],
      "metadata": {
        "id": "EPre6dy3lB0F"
      },
      "id": "EPre6dy3lB0F"
    },
    {
      "cell_type": "markdown",
      "source": [
        "***\n",
        "***\n",
        "#### **6. How would the learning activity be affected if certain variables have missing values? Having said that, what can be done about it?**\n",
        "\n",
        "Sol:<br>\n",
        "**Impact of Missing Values:**\n",
        "\n",
        "1. Biased Insights: Missing values can introduce bias in the analysis\n",
        "\n",
        "2. Reduced Sample Size: reduce the effective sample size, potentially limiting the statistical power of analyses.\n",
        "\n",
        "3. Incorrect Relationships: affects the relationships between variables, leading to distorted correlations.\n",
        "\n",
        "4. Model Performance: Missing values can affect the performance of predictive models\n",
        "\n",
        "**Dealing with Missing Values:**\n",
        "\n",
        "1. Identify Missingness\n",
        "2. Imputation: Imputation involves filling in missing values with estimated or predicted values.**Common imputation methods include :**\n",
        " * mean\n",
        " * median\n",
        " * mode imputation\n",
        " * regression imputation\n",
        " * k-nearest neighbor imputation\n",
        "\n",
        "3. Dropping Missing Data: In cases where missing values are limited to a small percentage of the dataset, you might consider removing rows or columns with missing values.\n",
        "\n",
        "4. Advanced Techniques: For predictive modeling, techniques like multiple imputation using models that can handle missing data (e.g., decision trees, random forests)\n",
        "\n",
        "5. Collect More Data: collecting more data to reduce the proportion of missing values can improve the quality of analysis.\n",
        "\n",
        "\n",
        "\n"
      ],
      "metadata": {
        "id": "wIE-2dUalB3Y"
      },
      "id": "wIE-2dUalB3Y"
    },
    {
      "cell_type": "markdown",
      "source": [
        "\n",
        "***\n",
        "***\n",
        "#### **7. Describe the various methods for dealing with missing data values in depth.**\n",
        "\n",
        "Sol: Imputation: Imputation involves filling in missing values with estimated or predicted values.\n",
        "        Common imputation methods include :\n",
        "mean\n",
        "median,\n",
        "mode imputation,\n",
        "regression imputation,\n",
        "k-nearest neighbor imputation\n",
        "\n"
      ],
      "metadata": {
        "id": "GNoxmPghlB6Z"
      },
      "id": "GNoxmPghlB6Z"
    },
    {
      "cell_type": "markdown",
      "source": [
        "\n",
        "***\n",
        "***\n",
        "#### **8. What are the various data pre-processing techniques? Explain dimensionality reduction and function selection in a few words.**\n",
        "\n",
        "Sol:\n",
        "pre-processing techniques are:\n",
        "* Data Cleaning\n",
        "* Data Transformation\n",
        "* Feature Selection\n",
        "* Encoding Categorical Data\n",
        "* Handling Imbalanced Data:\n",
        "* Handling Outliers\n",
        "* Data Integration: Combining data from multiple sources into a single dataset for analysis.\n",
        "*Feature Engineering: Creating new features by combining or transforming existing features to provide more meaningful information to the model.\n",
        "* Data Reduction: Reducing the size of the dataset while preserving its important characteristics\n",
        "\n",
        "**Dimensionality Reduction:**\n",
        "* Dimensionality reduction is the process of reducing the number of features (or  dimensions) in a dataset while preserving as much relevant information as possible. This is particularly useful when dealing with high-dimensional data, as it can help to improve the efficiency and interpretability of machine learning models.\n",
        "*One common technique for dimensionality reduction is Principal Component Analysis (PCA).\n",
        "\n",
        "**Function Selection:**\n",
        "* Function selection, also known as feature selection, is the process of choosing a subset of relevant features from the original set of features. It aims to improve model performance by reducing overfitting, reducing computational complexity, and enhancing interpretability.\n",
        "\n",
        "\n"
      ],
      "metadata": {
        "id": "Ky09TqPclB9j"
      },
      "id": "Ky09TqPclB9j"
    },
    {
      "cell_type": "markdown",
      "source": [
        "***\n",
        "***\n",
        "#### **9.**\n",
        "#### **i. What is the IQR? What criteria are used to assess it?**\n",
        "\n",
        "#### **ii. Describe the various components of a box plot in detail? When will the lower whisker surpass the upper whisker in length? How can boxplots be used to identify outliers?**\n",
        "\n",
        " Sol:\n",
        "\n",
        "i. **The Interquartile Range (IQR) is a statistical measure that quantifies the spread or dispersion of a dataset.**\n",
        "It is calculated as the difference between the third quartile (Q3) and the first quartile (Q1) of the dataset.\n",
        "\n",
        "Quartiles are values that divide a dataset into four equal parts, with Q1 representing the value below which 25% of the data falls, Q3 representing the value below which 75% of the data falls, and the median (Q2) representing the value that separates the lower 50% from the upper 50% of the data.\n",
        "\n",
        "Mathematically, the formula to calculate the IQR is:**IQR = Q3 - Q1**\n",
        "\n",
        "ii. **A box plot, also known as a box-and-whisker plot,** is a graphical representation of a dataset that provides a summary of its distribution, central tendency, and spread. It is particularly useful for visualizing the distribution of numerical data and identifying potential outliers.\n",
        "\n",
        "**A box plot consists of several key components**, one of them is (whiskers: The whiskers extend from the edges of the box to the minimum and maximum values within a certain range. The length of the whiskers can vary depending on the data and any potential outliers)\n",
        "\n",
        "\n",
        "**The length of the lower whisker will surpass the upper whisker in length when the data distribution is highly skewed to the left (negatively skewed).**\n",
        " In such cases, the lower whisker will extend further towards the minimum value, indicating that the majority of the data is concentrated towards the higher end of the dataset, with a few low values pulling the median and box downwards.\n"
      ],
      "metadata": {
        "id": "RGFoJJm6lCAn"
      },
      "id": "RGFoJJm6lCAn"
    },
    {
      "cell_type": "markdown",
      "source": [
        "***\n",
        "***\n",
        "#### **10. Make brief notes on any two of the following:**\n",
        "    1. Data collected at regular intervals\n",
        "\n",
        "    2. The gap between the quartiles\n",
        "\n",
        "    3. Use a cross-tab\n",
        "\n",
        "Sol:\n",
        "**Data collected at regular intervals:**\n",
        "\n",
        "* Data collected at regular intervals refers to information gathered at consistent and predetermined time or space intervals. This approach is often used in various fields, including scientific research, finance, and environmental monitoring.\n",
        "\n",
        "* Regular interval data collection enables the tracking of trends, patterns, and changes over time or space, allowing for better understanding and analysis of underlying processes.\n",
        "\n",
        "* Examples include daily temperature measurements, hourly stock prices, monthly rainfall records.\n",
        "\n",
        "* Advantages: Provides a structured and systematic approach to data collection, facilitates trend analysis.\n",
        "\n",
        "* Challenges: May overlook irregular events or occurrences that fall outside the regular intervals, might require interpolation or extrapolation for missing data points, and could lead to oversimplification of complex dynamics.\n",
        "\n",
        "\n",
        "**The gap between the quartiles:**\n",
        "\n",
        "* The gap between the quartiles refers to the difference between the third quartile (Q3) and the first quartile (Q1) in a dataset's distribution. It is also known as the interquartile range (IQR).\n",
        "\n",
        "* The IQR is a measure of the spread or dispersion of the middle 50% of the data points. It quantifies the spread of data around the median and is less affected by extreme values (outliers) than the full range.\n",
        "\n",
        "* **Calculating IQR: IQR = Q3 - Q1**\n",
        "\n",
        "* The IQR is used in box plots to define the length of the box, extending from Q1 to Q3. It also helps determine the length of the whiskers and identify potential outliers.\n",
        "\n",
        "* A larger IQR indicates a wider spread of data points within the middle range of the dataset, while a smaller IQR indicates a more concentrated distribution.\n"
      ],
      "metadata": {
        "id": "RCCPpHpMlCD_"
      },
      "id": "RCCPpHpMlCD_"
    },
    {
      "cell_type": "markdown",
      "source": [
        "***\n",
        "***\n",
        "#### **11. Make a comparison between:**\n",
        "\n",
        "**1. Data with nominal and ordinal values**\n",
        "\n",
        "**nominal**\n",
        "* Nominal values are categorical data that represent different categories or groups without any inherent order or ranking.\n",
        "* Examples:colors, genders, types of animals, etc.\n",
        "\n",
        "**ordinal values**\n",
        "* Ordinal values are also categorical data, but they come with a specific order or ranking. While the differences between categories are not necessarily uniform, there is a clear sequence of preference or significance.\n",
        "* Examples : educational levels (e.g., high school, bachelor's, master's, PhD), rating scales (e.g., poor, fair, good, excellent), etc.\n",
        "\n"
      ],
      "metadata": {
        "id": "rhN88LliwnVh"
      },
      "id": "rhN88LliwnVh"
    },
    {
      "cell_type": "markdown",
      "source": [
        "#### **3. The average and median**\n",
        "\n",
        "**Average**\n",
        "\n",
        "* The average, also known as the mean, is calculated by summing up all the values in a data set and then dividing by the number of values. Mathematically, if you have a data set with values x1,x2,…,xn , the average\n",
        "* (μ) is calculated as  μ= nx1+x2+…+xn\n",
        "\n",
        "**median**\n",
        "* The median is the middle value in a data set when it is arranged in numerical order.\n",
        "* If the data set has an odd number of values, the median is simply the middle value.\n",
        "* If the data set has an even number of values, the median is the average of the two middle values.\n"
      ],
      "metadata": {
        "id": "L7UHswE_xj5s"
      },
      "id": "L7UHswE_xj5s"
    },
    {
      "cell_type": "markdown",
      "source": [
        "***\n",
        "***\n",
        "#### **2. Histogram and box plot**\n",
        "**Histogram**\n",
        "* A histogram is a graphical representation of the distribution of a dataset.\n",
        "* Histograms are often used for visualizing continuous or discrete numerical data, but they can also be used for ordinal data where the order matters.\n",
        "* It displays the frequency or count of data points within certain ranges or \"bins\" on the x-axis. The height of each bar in the histogram corresponds to the frequency of data points falling within that bin.\n",
        "\n",
        "**box plot**\n",
        "* A box plot is a graphical summary of a dataset's distribution.\n",
        "It displays the median, quartiles (25th and 75th percentiles), and potential outliers in the data.\n",
        "* Box plots are particularly useful for comparing the distributions of multiple datasets or visualizing the spread and skewness of a single dataset.\n",
        "* The \"box\" represents the interquartile range (IQR), which contains the middle 50% of the data.\n",
        "*The \"whiskers\" extend from the box to the minimum and maximum data values within a certain range (often defined by 1.5 times the IQR). Data points outside this range are typically shown as individual points and considered potential outliers\n",
        "\n"
      ],
      "metadata": {
        "id": "24pY2fVyx8j9"
      },
      "id": "24pY2fVyx8j9"
    },
    {
      "cell_type": "markdown",
      "source": [
        "___\n",
        "___"
      ],
      "metadata": {
        "id": "ud9Vfak-x-N9"
      },
      "id": "ud9Vfak-x-N9"
    }
  ],
  "nbformat": 4,
  "nbformat_minor": 5,
  "metadata": {
    "colab": {
      "provenance": [],
      "include_colab_link": true
    }
  }
}