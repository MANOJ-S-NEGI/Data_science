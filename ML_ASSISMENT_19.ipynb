{
  "nbformat": 4,
  "nbformat_minor": 0,
  "metadata": {
    "colab": {
      "provenance": [],
      "authorship_tag": "ABX9TyMvpKeFY/sPKjglu6jUaAPo",
      "include_colab_link": true
    },
    "kernelspec": {
      "name": "python3",
      "display_name": "Python 3"
    },
    "language_info": {
      "name": "python"
    }
  },
  "cells": [
    {
      "cell_type": "markdown",
      "metadata": {
        "id": "view-in-github",
        "colab_type": "text"
      },
      "source": [
        "<a href=\"https://colab.research.google.com/github/MANOJ-S-NEGI/Data_science/blob/main/ML_ASSISMENT_19.ipynb\" target=\"_parent\"><img src=\"https://colab.research.google.com/assets/colab-badge.svg\" alt=\"Open In Colab\"/></a>"
      ]
    },
    {
      "cell_type": "markdown",
      "source": [
        "# ML_ASSISMENT_19"
      ],
      "metadata": {
        "id": "59logU3jOUs8"
      }
    },
    {
      "cell_type": "markdown",
      "source": [
        "---\n",
        "---\n",
        "####**1. A set of one-dimensional data points is given to you: 5, 10, 15, 20, 25, 30, 35. Assume that k = 2 and that the first set of random centroid is 15, 32, and that the second set is 12, 30.**\n",
        "\n",
        "**a) Using the k-means method, create two clusters for each set of centroid described above.**\n",
        "\n",
        "**b) For each set of centroid values, calculate the SSE.**\n",
        "\n",
        "Sol:\n",
        "\n",
        "For 15 and 32\n",
        "\n",
        "|Data point |Distance to centroid (15)|Distance to centroid (32)|Assigned Cluster|\n",
        "|:-:|:-:|:-:|:-:|\n",
        "|5|10|27|Centroid 15|\n",
        "|10|5|22|Centroid 15|\n",
        "|15|0|17|Centroid 15|\n",
        "|20|5|12|Centroid 15|\n",
        "|25|10|7|Centroid 32|\n",
        "|30|15|2|Centroid 32|\n",
        "|35|20|3|Centroid 32|\n",
        "\n",
        "\n",
        "```\n",
        "New Centroid for Cluster 1: (5 + 10 + 15 + 20) / 4 = 12.5\n",
        "New Centroid for Cluster 2: (25 + 30 + 35) / 3 = 30\n",
        "Calculate the squared distances of each point from its cluster centroid:\n",
        "\n",
        "For Cluster 1 (centroid 12.5):\n",
        "(5 - 12.5)2 = 56.25\n",
        "(10 - 12.5)2  = 6.25\n",
        "(15 - 12.5)2  = 6.25\n",
        "(20 - 12.5)2  = 56.25\n",
        "For Cluster 2 (centroid 30):\n",
        "(25 - 30)2  = 25\n",
        "(30 - 30)2  = 0\n",
        "(35 - 30)2  = 25\n",
        "Sum up the squared distances for each point:\n",
        "\n",
        "SSE = 56.25 + 6.25 + 6.25 + 56.25 + 25 + 0 + 25 = 175.25\n",
        "\n",
        "\n",
        "```\n",
        "\n",
        "\n",
        "For 12 and 30\n",
        "\n",
        "|Data point |Distance to centroid (12)|Distance to centroid (30)|Assigned Cluster|\n",
        "|:-:|:-:|:-:|:-:|\n",
        "|5|7|25|Centroid 12|\n",
        "|10|2|20|Centroid 12|\n",
        "|15|3|15|Centroid 12|\n",
        "|20|8|10|Centroid 12|\n",
        "|25|13|5|Centroid 30|\n",
        "|30|18|0|Centroid 30|\n",
        "|35|23|5|Centroid 30|\n",
        "\n",
        "```\n",
        "New Centroid for Cluster 1: (5 + 10 + 15 + 20) / 4 = 12.5\n",
        "New Centroid for Cluster 2: (25 + 30 + 35) / 3 = 30\n",
        "\n",
        "or Cluster 1 (centroid 12.5):\n",
        "(5 - 12.5)2 = 56.25\n",
        "(10 - 12.5)2  = 6.25\n",
        "(15 - 12.5)2  = 6.25\n",
        "(20 - 12.5)2  = 56.25\n",
        "For Cluster 2 (centroid 30):\n",
        "(25 - 30)2  = 25\n",
        "(30 - 30)2  = 0\n",
        "(35 - 30)2  = 25\n",
        "Sum up the squared distances for each point:\n",
        "\n",
        "SSE = 56.25 + 6.25 + 6.25 + 56.25 + 25 + 0 + 25 = 175.25\n",
        "\n",
        "```\n",
        "\n",
        "<br>\n",
        "<br>\n"
      ],
      "metadata": {
        "id": "H5ZhxFO2OUwA"
      }
    },
    {
      "cell_type": "markdown",
      "source": [
        "---\n",
        "---\n",
        "####**2. Describe how the Market Basket Research makes use of association analysis concepts.**\n",
        "\n",
        "Sol:\n",
        "\n",
        "Market Basket Analysis is a technique used in retail and marketing to discover associations or relationships between products that customers tend to purchase together.\n",
        "\n",
        "Association analysis concepts, particularly the Apriori algorithm, play a crucial role in this process.\n",
        "\n",
        "The main idea is to identify frequent item sets and generate association rules that describe the patterns in customer purchasing behavior.\n",
        "\n",
        "<br><br>"
      ],
      "metadata": {
        "id": "3A0QioGmRE-4"
      }
    },
    {
      "cell_type": "markdown",
      "source": [
        "---\n",
        "---\n",
        "####**3. Give an example of the Apriori algorithm for learning association rules.**\n",
        "\n",
        "Sol:\n",
        "\n",
        "Let's say we have a transaction dataset from a grocery store. Each transaction consists of a list of items purchased. The Apriori algorithm works in the\n",
        "\n",
        "following steps:\n",
        "\n",
        "- Find all single items that occur above a minimum support threshold (e.g., items bought by at least 100 customers).\n",
        "- Use these frequent single items to generate pairs of items and calculate their support.\n",
        "\n",
        "- Remove pairs that do not meet the minimum support.\n",
        "\n",
        "-Use the frequent pairs to generate triples and calculate their support.\n",
        "\n",
        "-Continue this process until no more frequent item sets can be generated.\n",
        "\n",
        "For instance, if the minimum support threshold is met, the algorithm could find that \"bread\" and \"milk\" are frequently purchased together. This information can lead to strategies like placing these items closer in the store to encourage further sales.\n"
      ],
      "metadata": {
        "id": "1gJTvWMpOUyy"
      }
    },
    {
      "cell_type": "markdown",
      "source": [
        "---\n",
        "---\n",
        "####**4. In hierarchical clustering, how is the distance between clusters measured? Explain how this metric is used to decide when to end the iteration.**\n",
        "\n",
        "Sol:\n",
        "\n",
        "- In hierarchical clustering, the distance between clusters is typically measured using various distance metrics, such as Euclidean distance or Manhattan distance.\n",
        "\n",
        "- These metrics quantify the dissimilarity between two clusters based on the distances between their member points. The linkage criterion (how to measure the distance between clusters) affects the outcome of the clustering. Common linkage methods include single linkage, complete linkage, and average linkage.\n",
        "\n",
        "- The iteration ends in hierarchical clustering when the desired number of clusters is achieved.\n",
        "\n",
        "- This is often determined by interpreting a dendrogram, a tree-like diagram that illustrates the arrangement of clusters at different levels of the hierarchy.\n",
        "\n",
        "- The height on the dendrogram represents the distance at which clusters merge. Cutting the dendrogram at a certain height results in a specific number of clusters.\n"
      ],
      "metadata": {
        "id": "wrf2WMQYOU19"
      }
    },
    {
      "cell_type": "markdown",
      "source": [
        "---\n",
        "---\n",
        "####**5. In the k-means algorithm, how do you recompute the cluster centroids?**\n",
        "Sol:\n",
        "\n",
        "In the k-means algorithm:\n",
        "- Assign each data point to the nearest cluster centroid.\n",
        "- Recompute the cluster centroids by taking the mean of all data points assigned to each cluster.\n",
        "- Repeat the above steps until convergence (when cluster assignments no longer change significantly).\n",
        "\n"
      ],
      "metadata": {
        "id": "7Jo3CPD4OU4a"
      }
    },
    {
      "cell_type": "markdown",
      "source": [
        "---\n",
        "---\n",
        "####**6. At the start of the clustering exercise, discuss one method for determining the required number of clusters.**\n",
        "\n",
        "Sol:\n",
        "- One method for determining the required number of clusters is the \"Elbow Method.\"\n",
        "- In this approach, we plot the sum of squared distances (inertia) between data points and their assigned cluster centroids for a range of cluster numbers.\n",
        "- The point where the plot starts to show diminishing returns (the \"elbow\" point) is often considered a good estimate for the optimal number of clusters.\n"
      ],
      "metadata": {
        "id": "1g9t1evaOU7Q"
      }
    },
    {
      "cell_type": "markdown",
      "source": [
        "---\n",
        "---\n",
        "####**7. Discuss the k-means algorithm's advantages and disadvantages.**\n",
        "\n",
        "Sol:\n",
        "\n",
        "**Advantages:**\n",
        "- Simple and easy to implement.\n",
        "- Scales well to large datasets.\n",
        "- Fast convergence due to its iterative nature.\n",
        "\n",
        "**Disadvantages:**\n",
        "- Sensitive to initial cluster centers.\n",
        "- May converge to local optima.\n",
        "- Assumes clusters are spherical and equally sized.\n"
      ],
      "metadata": {
        "id": "tBxaGcFrOU90"
      }
    },
    {
      "cell_type": "markdown",
      "source": [
        "---\n",
        "---\n",
        "#### **8. Draw a diagram to demonstrate the principle of clustering.**\n",
        "Sol:\n",
        "- Clustering aims to group similar points together based on some            similarity metric (distance).\n",
        "\n",
        "- Points within the same cluster are closer to each other than to              points in other clusters.\n",
        "\n",
        "- This creates distinct groups or clusters of points in the plot, each\n",
        "potentially representing a meaningful pattern or category.\n",
        "\n",
        "\n",
        "\n",
        "![Screenshot 2023-09-08 113034.png](data:image/png;base64,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)\n",
        "\n"
      ],
      "metadata": {
        "id": "KiPpLLc-XgGG"
      }
    },
    {
      "cell_type": "markdown",
      "source": [
        "---\n",
        "---\n",
        "####**9. During your study, you discovered seven findings, which are listed in the data points below. Using the K-means algorithm, you want to build three clusters from these observations. The clusters C1, C2, and C3 have the following findings after the first iteration:**\n",
        "\n",
        "C1: (2,2), (4,4), (6,6)\n",
        "\n",
        "C2: (0,4), (4,0), (0,4), (0,4), (0,4), (0,4), (0,4), (0,4)\n",
        "\n",
        "C3: (5,5) and (9,9)\n",
        "\n",
        "**What would the cluster centroids be if you were to run a second iteration? What would this clustering's SSE be?**\n",
        "\n",
        "\n",
        "```\n",
        "Sol:Calculate the centroids for the second iteration:\n",
        "For Cluster C1: Centroid = ((2 + 4 + 6) / 3, (2 + 4 + 6) / 3) = (4, 4)\n",
        "For Cluster C2: Centroid = ((0 + 4 + 0 + 0 + 0 + 0 + 0 + 0) / 8, (4 + 0 + 4 + 4 + 4 + 4 + 4 + 4) / 8) = (0.5, 3.5)\n",
        "For Cluster C3: Centroid = ((5 + 9) / 2, (5 + 9) / 2) = (7, 7)\n",
        "So, after the second iteration, the updated cluster centroids would be:\n",
        "C1: (4, 4)\n",
        "C2: (0.5, 3.5)\n",
        "C3: (7, 7)\n",
        "\n",
        "Cluster C1: (2,2), (4,4), (6,6)\n",
        "Centroid: (4, 4)\n",
        "Squared distances from centroid for each point:\n",
        "\n",
        "(2,2): (2-4)2 + (2-4)2 = 4 + 4 = 8\n",
        "(4,4): (4-4)2 + (4-4)2 = 0 + 0 = 0\n",
        "(6,6): (6-4)2 + (6-4)2= 4 + 4 = 8\n",
        "Total SSE for C1:\n",
        "= 8 + 0 + 8\n",
        " = 16\n",
        "Cluster C2: (0,4), (4,0), (0,4), (0,4), (0,4), (0,4), (0,4), (0,4)\n",
        "Centroid: ((0+4+0+0+0+0+0+0)/8, (4+0+4+4+4+4+4+4)/8) = (0.5, 3.5)\n",
        "Squared distances from centroid for each point:\n",
        "(0,4): (0-0.5)2+ (4-3.5)2 = 0.25 + 0.25 = 0.5\n",
        "(4,0): (4-0.5)2 + (0-3.5)2 = 13.0625 + 12.25 = 25.3125\n",
        "(0,4): (0-0.5)2 + (4-3.5)2 = 0.25 + 0.25 = 0.5\n",
        "(0,4): (0-0.5)2 + (4-3.5)2 = 0.25 + 0.25 = 0.5\n",
        "(0,4): (0-0.5)2 + (4-3.5)2 = 0.25 + 0.25 = 0.5\n",
        "(0,4): (0-0.5)2 + (4-3.5)2 = 0.25 + 0.25 = 0.5\n",
        "(0,4): (0-0.5)2 + (4-3.5)2 = 0.25 + 0.25 = 0.5\n",
        "(0,4): (0-0.5)2 + (4-3.5)2 = 0.25 + 0.25 = 0.5\n",
        "Total SSE for C2 :\n",
        "= 0.5 + 25.3125 + 0.5 + 0.5 + 0.5 + 0.5 + 0.5 + 0.5\n",
        "= 29.7125\n",
        "\n",
        "\n",
        "Cluster C3: (5,5), (9,9)\n",
        "Centroid:= (7, 7)\n",
        "Squared distances from centroid for each point:\n",
        "\n",
        "(5,5): (5-7)2 + (5-7)2 = 4 + 4 = 8\n",
        "(9,9): (9-7)2 + (9-7)2 = 4 + 4 = 8\n",
        "Total SSE for C3 = 8 + 8 = 16\n",
        "\n",
        "Adding up the SSE values for all clusters:\n",
        " SSE = SSE(C1) + SSE(C2) + SSE(C3)\n",
        "= 16 + 29.7125 + 16 = 61.7125\n",
        "So, the SSE for this clustering is 61.7125.\n",
        "\n",
        "\n",
        "\n",
        "\n",
        "```"
      ],
      "metadata": {
        "id": "I7tka-4VOVAv"
      }
    },
    {
      "cell_type": "markdown",
      "source": [
        "---\n",
        "---\n",
        "####**10. In a software project, the team is attempting to determine if software flaws discovered during testing are identical. Based on the text analytics of the defect details, they decided to build 5 clusters of related defects. Any new defect formed after the 5 clusters of defects have been identified must be listed as one of the forms identified by clustering. A simple diagram can be used to explain this process. Assume you have 20 defect data points that are clustered into 5 clusters and you used the k-means algorithm.**\n",
        "\n",
        "\n",
        "```\n",
        "\n",
        "Cluster 1:           ●   ●   ●\n",
        "                     |   |   |\n",
        "                     D1  D2  D3\n",
        "\n",
        "Cluster 2:            ●   ●\n",
        "                      |   |\n",
        "                      D4  D5\n",
        "\n",
        "Cluster 3:          ●   ●   ●\n",
        "                    |   |   |\n",
        "                    D6  D7  D8\n",
        "\n",
        "\n",
        "Cluster 4:            ●   ●\n",
        "                      |   |\n",
        "                     D9  D10\n",
        "\n",
        "\n",
        "Cluster 5:          ●   ●   ●\n",
        "                    |   |   |\n",
        "                   D11 D12 D13\n",
        "          D14 D15 D16 D17 D18 D19 D20\n",
        "\n",
        "Legend:\n",
        "● - Data point (defect)         Di - Defect i\n",
        "\n",
        "- In this diagram, each cluster is represented by a group of data points (defects) enclosed within a cluster boundary.\n",
        "\n",
        "- The number labels (D1, D2, etc.) indicate individual defect data points.\n",
        "\n",
        "- The clusters are formed based on the similarity of the defect details using the k-means algorithm.\n",
        "\n",
        "- Any new defect that arises after the initial clustering would need to be assigned to one of the existing clusters based on\n",
        "its similarity to the defects within those clusters.\n",
        "\n",
        "\n",
        "```"
      ],
      "metadata": {
        "id": "9hF84zhtOVEG"
      }
    },
    {
      "cell_type": "markdown",
      "source": [
        "---\n",
        "---\n"
      ],
      "metadata": {
        "id": "JDnAavUnOVJD"
      }
    }
  ]
}