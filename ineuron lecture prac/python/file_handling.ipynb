{
  "nbformat": 4,
  "nbformat_minor": 0,
  "metadata": {
    "colab": {
      "name": "file_handling.ipynb",
      "provenance": [],
      "collapsed_sections": []
    },
    "kernelspec": {
      "name": "python3",
      "display_name": "Python 3"
    },
    "language_info": {
      "name": "python"
    }
  },
  "cells": [
    {
      "cell_type": "markdown",
      "source": [
        "## File Handling "
      ],
      "metadata": {
        "id": "qIsQfNdvuWPe"
      }
    },
    {
      "cell_type": "code",
      "source": [
        "import os\n",
        "import shutil\n",
        "os.mkdir(\"test_dir\")\n",
        "os.mkdir(\"new_test_dir\")"
      ],
      "metadata": {
        "id": "kos2XtZapBZa"
      },
      "execution_count": null,
      "outputs": []
    },
    {
      "cell_type": "code",
      "source": [
        "\n",
        "file_dat=[]\n",
        "for i in range(4):\n",
        "  f=open(\"test_dir/TEXT_FiLE.txt\"+str(i),'w+')\n",
        "  f.write(\"this is filename_\"+str(i))\n",
        "  f.seek(0)\n",
        "  print(f.read())\n",
        "  f.seek(0)\n",
        "  file_dat.append(f.read())\n",
        "  f.close()\n",
        "print(\"\\n\")\n",
        "print(file_dat)\n",
        "new=open(\"/content/test_dir/new_file.txt\",\"w+\")\n",
        "new.write(str(file_dat))\n",
        "new.seek(0)\n",
        "new.read()\n",
        "\n",
        "shutil.move(\"/content/test_dir/new_file.txt\",\"/content/new_test_dir\")\n",
        "print(\"directory change\")\n"
      ],
      "metadata": {
        "colab": {
          "base_uri": "https://localhost:8080/"
        },
        "id": "HA8_MgSPM0xE",
        "outputId": "6dffb660-a8f9-4c1c-ad66-71e1edca1743"
      },
      "execution_count": null,
      "outputs": [
        {
          "output_type": "stream",
          "name": "stdout",
          "text": [
            "this is filename_0\n",
            "this is filename_1\n",
            "this is filename_2\n",
            "this is filename_3\n",
            "\n",
            "\n",
            "['this is filename_0', 'this is filename_1', 'this is filename_2', 'this is filename_3']\n",
            "directory change\n"
          ]
        }
      ]
    },
    {
      "cell_type": "markdown",
      "source": [
        "## Logging and Debugging:"
      ],
      "metadata": {
        "id": "L8q6sybDudqu"
      }
    },
    {
      "cell_type": "code",
      "source": [
        "# importing logging \n",
        "import logging as log"
      ],
      "metadata": {
        "id": "FpqY9JRKuiVX"
      },
      "execution_count": null,
      "outputs": []
    },
    {
      "cell_type": "code",
      "source": [
        "#set path and log format:\n",
        "log.basicConfig(filename=\"test_dir/logfile.log\",level=log.info, format =\"%(asctime)s%(message)s\")"
      ],
      "metadata": {
        "id": "qFLasM8sHDTX"
      },
      "execution_count": null,
      "outputs": []
    },
    {
      "cell_type": "code",
      "source": [
        "log.info(\"first info\")\n",
        "log.error(\"error\")\n",
        "log.warning(\"worning.......\")"
      ],
      "metadata": {
        "id": "WxpUBJUAHm58"
      },
      "execution_count": null,
      "outputs": []
    },
    {
      "cell_type": "code",
      "source": [
        "#task\n",
        "import logging as log\n",
        "log.basicConfig(filename=\"test_dir/logfile.log\",\n",
        "                        level=log.INFO,\n",
        "                               Format=\"(%asctime)s%(message)s\")\n",
        "def function1(*args):\n",
        "  j=0\n",
        "  for i in args:\n",
        "    j=i+j\n",
        "  log.info(f\" program stared for addition from user user input {args}\")\n",
        "  return j"
      ],
      "metadata": {
        "id": "jweVaY0FIhl_"
      },
      "execution_count": null,
      "outputs": []
    },
    {
      "cell_type": "code",
      "source": [
        "function1(1,2,3,4,5,6,6)\n",
        "file2=open(\"/content/test_dir/logfile.log\",\"r\")\n",
        "file2.seek(0)\n",
        "file2.read()"
      ],
      "metadata": {
        "id": "HPRWqDzmPBEa",
        "colab": {
          "base_uri": "https://localhost:8080/",
          "height": 52
        },
        "outputId": "914548d2-d92b-4526-e3d4-a65ed05ebf33"
      },
      "execution_count": null,
      "outputs": [
        {
          "output_type": "execute_result",
          "data": {
            "text/plain": [
              "'2022-06-10 03:09:27,514first info\\n2022-06-10 03:09:27,517error\\n2022-06-10 03:09:27,517worning.......\\n2022-06-10 03:09:27,562 program stared for addition from user user input (1, 2, 3, 4, 5, 6, 6)\\n'"
            ],
            "application/vnd.google.colaboratory.intrinsic+json": {
              "type": "string"
            }
          },
          "metadata": {},
          "execution_count": 7
        }
      ]
    },
    {
      "cell_type": "markdown",
      "source": [
        "## Logging example:"
      ],
      "metadata": {
        "id": "gTjpzKdJkI8k"
      }
    },
    {
      "cell_type": "code",
      "source": [
        "import logging\n",
        "\n",
        "logging.basicConfig(filename='/content/test_dir/logfile12.log',level=logging.DEBUG,format='%(name)s - %(asctime)s - %(message)s - %(levelname)s')\n",
        "\n",
        "#Create Handler :\n",
        "console_log=logging.StreamHandler()\n",
        "console_log.setLevel(logging.DEBUG)\n",
        "\n",
        "# log setting format:\n",
        "format=logging.Formatter('%(name)s , %(asctime)s , %(message)s ,%(levelname)s')\n",
        "console_log.setFormatter(format)\n",
        "logging.getLogger('').addHandler(console_log)\n",
        "\n",
        "# Create Custom content:\n",
        "logging.info(\"previous error\")\n",
        "logger1=logging.getLogger(\"USER_1\")\n",
        "logger1.debug(\"this is DEBUG test\")\n",
        "logger1.info(\"INFOMATION test\")\n",
        "\n"
      ],
      "metadata": {
        "colab": {
          "base_uri": "https://localhost:8080/"
        },
        "id": "lFj5PDrECn9M",
        "outputId": "37ce1ebc-981b-417b-f582-0a5d72599613"
      },
      "execution_count": null,
      "outputs": [
        {
          "output_type": "stream",
          "name": "stderr",
          "text": [
            "root , 2022-06-10 05:26:00,355 , previous error ,INFO\n",
            "root , 2022-06-10 05:26:00,355 , previous error ,INFO\n",
            "USER_1 , 2022-06-10 05:26:00,367 , this is DEBUG test ,DEBUG\n",
            "USER_1 , 2022-06-10 05:26:00,367 , this is DEBUG test ,DEBUG\n",
            "USER_1 , 2022-06-10 05:26:00,374 , INFOMATION test ,INFO\n",
            "USER_1 , 2022-06-10 05:26:00,374 , INFOMATION test ,INFO\n"
          ]
        }
      ]
    },
    {
      "cell_type": "markdown",
      "source": [
        "## debugging:\n"
      ],
      "metadata": {
        "id": "s94L4c6iJTcb"
      }
    },
    {
      "cell_type": "code",
      "source": [
        "!pip install ipdb"
      ],
      "metadata": {
        "colab": {
          "base_uri": "https://localhost:8080/",
          "height": 905
        },
        "id": "x2bt-RJIE5F1",
        "outputId": "edfc44b5-b043-4c34-8fa2-bf55ab65fa7b"
      },
      "execution_count": null,
      "outputs": [
        {
          "output_type": "stream",
          "name": "stdout",
          "text": [
            "Looking in indexes: https://pypi.org/simple, https://us-python.pkg.dev/colab-wheels/public/simple/\n",
            "Collecting ipdb\n",
            "  Downloading ipdb-0.13.9.tar.gz (16 kB)\n",
            "Requirement already satisfied: setuptools in /usr/local/lib/python3.7/dist-packages (from ipdb) (57.4.0)\n",
            "Collecting ipython>=7.17.0\n",
            "  Downloading ipython-7.34.0-py3-none-any.whl (793 kB)\n",
            "\u001b[K     |████████████████████████████████| 793 kB 33.1 MB/s \n",
            "\u001b[?25hCollecting toml>=0.10.2\n",
            "  Downloading toml-0.10.2-py2.py3-none-any.whl (16 kB)\n",
            "Requirement already satisfied: decorator in /usr/local/lib/python3.7/dist-packages (from ipdb) (4.4.2)\n",
            "Requirement already satisfied: matplotlib-inline in /usr/local/lib/python3.7/dist-packages (from ipython>=7.17.0->ipdb) (0.1.3)\n",
            "Requirement already satisfied: jedi>=0.16 in /usr/local/lib/python3.7/dist-packages (from ipython>=7.17.0->ipdb) (0.18.1)\n",
            "Requirement already satisfied: traitlets>=4.2 in /usr/local/lib/python3.7/dist-packages (from ipython>=7.17.0->ipdb) (5.1.1)\n",
            "Requirement already satisfied: pexpect>4.3 in /usr/local/lib/python3.7/dist-packages (from ipython>=7.17.0->ipdb) (4.8.0)\n",
            "Collecting prompt-toolkit!=3.0.0,!=3.0.1,<3.1.0,>=2.0.0\n",
            "  Downloading prompt_toolkit-3.0.29-py3-none-any.whl (381 kB)\n",
            "\u001b[K     |████████████████████████████████| 381 kB 40.8 MB/s \n",
            "\u001b[?25hRequirement already satisfied: backcall in /usr/local/lib/python3.7/dist-packages (from ipython>=7.17.0->ipdb) (0.2.0)\n",
            "Requirement already satisfied: pygments in /usr/local/lib/python3.7/dist-packages (from ipython>=7.17.0->ipdb) (2.6.1)\n",
            "Requirement already satisfied: pickleshare in /usr/local/lib/python3.7/dist-packages (from ipython>=7.17.0->ipdb) (0.7.5)\n",
            "Requirement already satisfied: parso<0.9.0,>=0.8.0 in /usr/local/lib/python3.7/dist-packages (from jedi>=0.16->ipython>=7.17.0->ipdb) (0.8.3)\n",
            "Requirement already satisfied: ptyprocess>=0.5 in /usr/local/lib/python3.7/dist-packages (from pexpect>4.3->ipython>=7.17.0->ipdb) (0.7.0)\n",
            "Requirement already satisfied: wcwidth in /usr/local/lib/python3.7/dist-packages (from prompt-toolkit!=3.0.0,!=3.0.1,<3.1.0,>=2.0.0->ipython>=7.17.0->ipdb) (0.2.5)\n",
            "Building wheels for collected packages: ipdb\n",
            "  Building wheel for ipdb (setup.py) ... \u001b[?25l\u001b[?25hdone\n",
            "  Created wheel for ipdb: filename=ipdb-0.13.9-py3-none-any.whl size=11648 sha256=5fafb8475f0a6a341c2863625e316104d343930638bcb310c4a1ddcdd949b1f3\n",
            "  Stored in directory: /root/.cache/pip/wheels/65/cd/cc/aaf92acae337a28fdd2aa4d632196a59745c8c39f76eaeed01\n",
            "Successfully built ipdb\n",
            "Installing collected packages: prompt-toolkit, toml, ipython, ipdb\n",
            "  Attempting uninstall: prompt-toolkit\n",
            "    Found existing installation: prompt-toolkit 1.0.18\n",
            "    Uninstalling prompt-toolkit-1.0.18:\n",
            "      Successfully uninstalled prompt-toolkit-1.0.18\n",
            "  Attempting uninstall: ipython\n",
            "    Found existing installation: ipython 5.5.0\n",
            "    Uninstalling ipython-5.5.0:\n",
            "      Successfully uninstalled ipython-5.5.0\n",
            "\u001b[31mERROR: pip's dependency resolver does not currently take into account all the packages that are installed. This behaviour is the source of the following dependency conflicts.\n",
            "jupyter-console 5.2.0 requires prompt-toolkit<2.0.0,>=1.0.0, but you have prompt-toolkit 3.0.29 which is incompatible.\n",
            "google-colab 1.0.0 requires ipython~=5.5.0, but you have ipython 7.34.0 which is incompatible.\u001b[0m\n",
            "Successfully installed ipdb-0.13.9 ipython-7.34.0 prompt-toolkit-3.0.29 toml-0.10.2\n"
          ]
        },
        {
          "output_type": "display_data",
          "data": {
            "application/vnd.colab-display-data+json": {
              "pip_warning": {
                "packages": [
                  "IPython",
                  "prompt_toolkit"
                ]
              }
            }
          },
          "metadata": {}
        }
      ]
    },
    {
      "cell_type": "code",
      "source": [
        "import ipdb"
      ],
      "metadata": {
        "id": "XgWOyCFxJRUR"
      },
      "execution_count": null,
      "outputs": []
    },
    {
      "cell_type": "code",
      "source": [
        "ipdb.set_trace()\n",
        "for i in \"msn\":\n",
        "  print(i)"
      ],
      "metadata": {
        "id": "XmShrMezLAD1"
      },
      "execution_count": null,
      "outputs": []
    },
    {
      "cell_type": "code",
      "source": [
        ""
      ],
      "metadata": {
        "id": "WBYSWlSdOsOg"
      },
      "execution_count": null,
      "outputs": []
    }
  ]
}