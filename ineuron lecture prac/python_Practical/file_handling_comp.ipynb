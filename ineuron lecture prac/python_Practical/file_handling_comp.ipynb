{
  "nbformat": 4,
  "nbformat_minor": 0,
  "metadata": {
    "colab": {
      "name": "file_handling.ipynb",
      "provenance": [],
      "collapsed_sections": [
        "qIsQfNdvuWPe",
        "L8q6sybDudqu",
        "s94L4c6iJTcb"
      ]
    },
    "kernelspec": {
      "name": "python3",
      "display_name": "Python 3"
    },
    "language_info": {
      "name": "python"
    }
  },
  "cells": [
    {
      "cell_type": "code",
      "source": [
        ""
      ],
      "metadata": {
        "id": "AeSQzvSsxuoZ"
      },
      "execution_count": null,
      "outputs": []
    },
    {
      "cell_type": "markdown",
      "source": [
        "## File Handling "
      ],
      "metadata": {
        "id": "qIsQfNdvuWPe"
      }
    },
    {
      "cell_type": "code",
      "source": [
        "import os\n",
        "import shutil\n",
        "os.mkdir(\"test_dir\")\n",
        "os.mkdir(\"new_test_dir\")"
      ],
      "metadata": {
        "id": "kos2XtZapBZa"
      },
      "execution_count": null,
      "outputs": []
    },
    {
      "cell_type": "code",
      "source": [
        "\n",
        "file_dat=[]\n",
        "for i in range(4):\n",
        "  f=open(\"test_dir/TEXT_FiLE.txt\"+str(i),'w+')\n",
        "  f.write(\"this is filename_\"+str(i))\n",
        "  f.seek(0)\n",
        "  print(f.read())\n",
        "  f.seek(0)\n",
        "  file_dat.append(f.read())\n",
        "  f.close()\n",
        "print(\"\\n\")\n",
        "print(file_dat)\n",
        "new=open(\"/content/test_dir/new_file.txt\",\"w+\")\n",
        "new.write(str(file_dat))\n",
        "new.seek(0)\n",
        "new.read()\n",
        "\n",
        "shutil.move(\"/content/test_dir/new_file.txt\",\"/content/new_test_dir\")\n",
        "print(\"directory change\")\n"
      ],
      "metadata": {
        "colab": {
          "base_uri": "https://localhost:8080/"
        },
        "id": "HA8_MgSPM0xE",
        "outputId": "6dffb660-a8f9-4c1c-ad66-71e1edca1743"
      },
      "execution_count": null,
      "outputs": [
        {
          "output_type": "stream",
          "name": "stdout",
          "text": [
            "this is filename_0\n",
            "this is filename_1\n",
            "this is filename_2\n",
            "this is filename_3\n",
            "\n",
            "\n",
            "['this is filename_0', 'this is filename_1', 'this is filename_2', 'this is filename_3']\n",
            "directory change\n"
          ]
        }
      ]
    },
    {
      "cell_type": "markdown",
      "source": [
        "## Logging and Debugging:"
      ],
      "metadata": {
        "id": "L8q6sybDudqu"
      }
    },
    {
      "cell_type": "code",
      "source": [
        "# importing logging \n",
        "import logging as log"
      ],
      "metadata": {
        "id": "FpqY9JRKuiVX"
      },
      "execution_count": null,
      "outputs": []
    },
    {
      "cell_type": "code",
      "source": [
        "#set path and log format:\n",
        "log.basicConfig(filename=\"test_dir/logfile.log\",level=log.info, format =\"%(asctime)s%(message)s\")"
      ],
      "metadata": {
        "id": "qFLasM8sHDTX"
      },
      "execution_count": null,
      "outputs": []
    },
    {
      "cell_type": "code",
      "source": [
        "log.info(\"first info\")\n",
        "log.error(\"error\")\n",
        "log.warning(\"worning.......\")"
      ],
      "metadata": {
        "id": "WxpUBJUAHm58"
      },
      "execution_count": null,
      "outputs": []
    },
    {
      "cell_type": "code",
      "source": [
        "#task\n",
        "import logging as log\n",
        "log.basicConfig(filename=\"test_dir/logfile.log\",\n",
        "                        level=log.INFO,\n",
        "                               Format=\"(%asctime)s%(message)s\")\n",
        "def function1(*args):\n",
        "  j=0\n",
        "  for i in args:\n",
        "    j=i+j\n",
        "  log.info(f\" program stared for addition from user user input {args}\")\n",
        "  return j"
      ],
      "metadata": {
        "id": "jweVaY0FIhl_"
      },
      "execution_count": null,
      "outputs": []
    },
    {
      "cell_type": "code",
      "source": [
        "function1(1,2,3,4,5,6,6)\n",
        "file2=open(\"/content/test_dir/logfile.log\",\"r\")\n",
        "file2.seek(0)\n",
        "file2.read()"
      ],
      "metadata": {
        "id": "HPRWqDzmPBEa",
        "colab": {
          "base_uri": "https://localhost:8080/",
          "height": 52
        },
        "outputId": "914548d2-d92b-4526-e3d4-a65ed05ebf33"
      },
      "execution_count": null,
      "outputs": [
        {
          "output_type": "execute_result",
          "data": {
            "text/plain": [
              "'2022-06-10 03:09:27,514first info\\n2022-06-10 03:09:27,517error\\n2022-06-10 03:09:27,517worning.......\\n2022-06-10 03:09:27,562 program stared for addition from user user input (1, 2, 3, 4, 5, 6, 6)\\n'"
            ],
            "application/vnd.google.colaboratory.intrinsic+json": {
              "type": "string"
            }
          },
          "metadata": {},
          "execution_count": 7
        }
      ]
    },
    {
      "cell_type": "markdown",
      "source": [
        "## Logging example:"
      ],
      "metadata": {
        "id": "gTjpzKdJkI8k"
      }
    },
    {
      "cell_type": "code",
      "source": [
        "import logging\n",
        "\n",
        "logging.basicConfig(filename=input()+'/logfile12.log',level=logging.DEBUG,format='%(name)s - %(asctime)s - %(message)s - %(levelname)s')\n",
        "\n",
        "#Create Handler :\n",
        "console_log=logging.StreamHandler()\n",
        "console_log.setLevel(logging.DEBUG)\n",
        "\n",
        "# log setting format:\n",
        "format=logging.Formatter('%(name)s , %(asctime)s , %(message)s ,%(levelname)s')\n",
        "console_log.setFormatter(format)\n",
        "logging.getLogger('').addHandler(console_log)\n",
        "\n",
        "# Create Custom content:\n",
        "logging.info(\"previous error\")\n",
        "logger1=logging.getLogger(\"USER_1\")\n",
        "logger1.debug(\"this is DEBUG test\")\n",
        "logger1.info(\"INFOMATION test\")\n",
        "\n"
      ],
      "metadata": {
        "colab": {
          "base_uri": "https://localhost:8080/"
        },
        "id": "lFj5PDrECn9M",
        "outputId": "37ce1ebc-981b-417b-f582-0a5d72599613"
      },
      "execution_count": null,
      "outputs": [
        {
          "output_type": "stream",
          "name": "stderr",
          "text": [
            "root , 2022-06-10 05:26:00,355 , previous error ,INFO\n",
            "root , 2022-06-10 05:26:00,355 , previous error ,INFO\n",
            "USER_1 , 2022-06-10 05:26:00,367 , this is DEBUG test ,DEBUG\n",
            "USER_1 , 2022-06-10 05:26:00,367 , this is DEBUG test ,DEBUG\n",
            "USER_1 , 2022-06-10 05:26:00,374 , INFOMATION test ,INFO\n",
            "USER_1 , 2022-06-10 05:26:00,374 , INFOMATION test ,INFO\n"
          ]
        }
      ]
    },
    {
      "cell_type": "markdown",
      "source": [
        "## debugging:\n"
      ],
      "metadata": {
        "id": "s94L4c6iJTcb"
      }
    },
    {
      "cell_type": "code",
      "source": [
        "!pip install ipdb"
      ],
      "metadata": {
        "colab": {
          "base_uri": "https://localhost:8080/",
          "height": 905
        },
        "id": "x2bt-RJIE5F1",
        "outputId": "edfc44b5-b043-4c34-8fa2-bf55ab65fa7b"
      },
      "execution_count": null,
      "outputs": [
        {
          "output_type": "stream",
          "name": "stdout",
          "text": [
            "Looking in indexes: https://pypi.org/simple, https://us-python.pkg.dev/colab-wheels/public/simple/\n",
            "Collecting ipdb\n",
            "  Downloading ipdb-0.13.9.tar.gz (16 kB)\n",
            "Requirement already satisfied: setuptools in /usr/local/lib/python3.7/dist-packages (from ipdb) (57.4.0)\n",
            "Collecting ipython>=7.17.0\n",
            "  Downloading ipython-7.34.0-py3-none-any.whl (793 kB)\n",
            "\u001b[K     |████████████████████████████████| 793 kB 33.1 MB/s \n",
            "\u001b[?25hCollecting toml>=0.10.2\n",
            "  Downloading toml-0.10.2-py2.py3-none-any.whl (16 kB)\n",
            "Requirement already satisfied: decorator in /usr/local/lib/python3.7/dist-packages (from ipdb) (4.4.2)\n",
            "Requirement already satisfied: matplotlib-inline in /usr/local/lib/python3.7/dist-packages (from ipython>=7.17.0->ipdb) (0.1.3)\n",
            "Requirement already satisfied: jedi>=0.16 in /usr/local/lib/python3.7/dist-packages (from ipython>=7.17.0->ipdb) (0.18.1)\n",
            "Requirement already satisfied: traitlets>=4.2 in /usr/local/lib/python3.7/dist-packages (from ipython>=7.17.0->ipdb) (5.1.1)\n",
            "Requirement already satisfied: pexpect>4.3 in /usr/local/lib/python3.7/dist-packages (from ipython>=7.17.0->ipdb) (4.8.0)\n",
            "Collecting prompt-toolkit!=3.0.0,!=3.0.1,<3.1.0,>=2.0.0\n",
            "  Downloading prompt_toolkit-3.0.29-py3-none-any.whl (381 kB)\n",
            "\u001b[K     |████████████████████████████████| 381 kB 40.8 MB/s \n",
            "\u001b[?25hRequirement already satisfied: backcall in /usr/local/lib/python3.7/dist-packages (from ipython>=7.17.0->ipdb) (0.2.0)\n",
            "Requirement already satisfied: pygments in /usr/local/lib/python3.7/dist-packages (from ipython>=7.17.0->ipdb) (2.6.1)\n",
            "Requirement already satisfied: pickleshare in /usr/local/lib/python3.7/dist-packages (from ipython>=7.17.0->ipdb) (0.7.5)\n",
            "Requirement already satisfied: parso<0.9.0,>=0.8.0 in /usr/local/lib/python3.7/dist-packages (from jedi>=0.16->ipython>=7.17.0->ipdb) (0.8.3)\n",
            "Requirement already satisfied: ptyprocess>=0.5 in /usr/local/lib/python3.7/dist-packages (from pexpect>4.3->ipython>=7.17.0->ipdb) (0.7.0)\n",
            "Requirement already satisfied: wcwidth in /usr/local/lib/python3.7/dist-packages (from prompt-toolkit!=3.0.0,!=3.0.1,<3.1.0,>=2.0.0->ipython>=7.17.0->ipdb) (0.2.5)\n",
            "Building wheels for collected packages: ipdb\n",
            "  Building wheel for ipdb (setup.py) ... \u001b[?25l\u001b[?25hdone\n",
            "  Created wheel for ipdb: filename=ipdb-0.13.9-py3-none-any.whl size=11648 sha256=5fafb8475f0a6a341c2863625e316104d343930638bcb310c4a1ddcdd949b1f3\n",
            "  Stored in directory: /root/.cache/pip/wheels/65/cd/cc/aaf92acae337a28fdd2aa4d632196a59745c8c39f76eaeed01\n",
            "Successfully built ipdb\n",
            "Installing collected packages: prompt-toolkit, toml, ipython, ipdb\n",
            "  Attempting uninstall: prompt-toolkit\n",
            "    Found existing installation: prompt-toolkit 1.0.18\n",
            "    Uninstalling prompt-toolkit-1.0.18:\n",
            "      Successfully uninstalled prompt-toolkit-1.0.18\n",
            "  Attempting uninstall: ipython\n",
            "    Found existing installation: ipython 5.5.0\n",
            "    Uninstalling ipython-5.5.0:\n",
            "      Successfully uninstalled ipython-5.5.0\n",
            "\u001b[31mERROR: pip's dependency resolver does not currently take into account all the packages that are installed. This behaviour is the source of the following dependency conflicts.\n",
            "jupyter-console 5.2.0 requires prompt-toolkit<2.0.0,>=1.0.0, but you have prompt-toolkit 3.0.29 which is incompatible.\n",
            "google-colab 1.0.0 requires ipython~=5.5.0, but you have ipython 7.34.0 which is incompatible.\u001b[0m\n",
            "Successfully installed ipdb-0.13.9 ipython-7.34.0 prompt-toolkit-3.0.29 toml-0.10.2\n"
          ]
        },
        {
          "output_type": "display_data",
          "data": {
            "application/vnd.colab-display-data+json": {
              "pip_warning": {
                "packages": [
                  "IPython",
                  "prompt_toolkit"
                ]
              }
            }
          },
          "metadata": {}
        }
      ]
    },
    {
      "cell_type": "code",
      "source": [
        "import ipdb"
      ],
      "metadata": {
        "id": "XgWOyCFxJRUR"
      },
      "execution_count": null,
      "outputs": []
    },
    {
      "cell_type": "code",
      "source": [
        "ipdb.set_trace()\n",
        "for i in \"msn\":\n",
        "  print(i)"
      ],
      "metadata": {
        "id": "XmShrMezLAD1"
      },
      "execution_count": null,
      "outputs": []
    },
    {
      "cell_type": "code",
      "source": [
        ""
      ],
      "metadata": {
        "id": "WBYSWlSdOsOg"
      },
      "execution_count": null,
      "outputs": []
    },
    {
      "cell_type": "markdown",
      "source": [
        "##module:\n"
      ],
      "metadata": {
        "id": "9CGRSh9px6F0"
      }
    },
    {
      "cell_type": "code",
      "source": [
        "import math\n",
        "math.sqrt(5)"
      ],
      "metadata": {
        "colab": {
          "base_uri": "https://localhost:8080/"
        },
        "id": "M3ewXBWQyK5r",
        "outputId": "09c4ee42-33c2-45bf-f695-571e5a0c12ec"
      },
      "execution_count": null,
      "outputs": [
        {
          "output_type": "execute_result",
          "data": {
            "text/plain": [
              "2.23606797749979"
            ]
          },
          "metadata": {},
          "execution_count": 6
        }
      ]
    },
    {
      "cell_type": "code",
      "source": [
        "from math import sqrt\n",
        "\n",
        "sqrt(2+3)"
      ],
      "metadata": {
        "colab": {
          "base_uri": "https://localhost:8080/"
        },
        "id": "cTfEbbvIyMxa",
        "outputId": "17fe8c10-9e3f-4d97-b988-00fa62ab43f9"
      },
      "execution_count": null,
      "outputs": [
        {
          "output_type": "execute_result",
          "data": {
            "text/plain": [
              "2.23606797749979"
            ]
          },
          "metadata": {},
          "execution_count": 9
        }
      ]
    },
    {
      "cell_type": "code",
      "source": [
        "from math import *\n",
        "tan(90),pi,cos(0),sin(0)"
      ],
      "metadata": {
        "colab": {
          "base_uri": "https://localhost:8080/"
        },
        "id": "lZiyECKZyynB",
        "outputId": "7955d0b2-f423-434d-8944-48f5c6d2be1c"
      },
      "execution_count": null,
      "outputs": [
        {
          "output_type": "execute_result",
          "data": {
            "text/plain": [
              "(-1.995200412208242, 3.141592653589793, 1.0, 0.0)"
            ]
          },
          "metadata": {},
          "execution_count": 20
        }
      ]
    },
    {
      "cell_type": "code",
      "source": [
        "pwd()"
      ],
      "metadata": {
        "colab": {
          "base_uri": "https://localhost:8080/",
          "height": 35
        },
        "id": "NSwn63o8y-pY",
        "outputId": "14ea5eb8-9303-41ab-d415-3ffe8fcb1873"
      },
      "execution_count": null,
      "outputs": [
        {
          "output_type": "execute_result",
          "data": {
            "text/plain": [
              "'/content'"
            ],
            "application/vnd.google.colaboratory.intrinsic+json": {
              "type": "string"
            }
          },
          "metadata": {},
          "execution_count": 20
        }
      ]
    },
    {
      "cell_type": "code",
      "source": [
        "## chellenge question\n",
        "import os\n",
        "import shutil\n",
        "import logging\n",
        "import mod1\n",
        "\n",
        "\n",
        "os.mkdir(\"test0\")\n",
        "os.mkdir(\"test0/test1\")\n"
      ],
      "metadata": {
        "id": "2N2U793A2aDZ"
      },
      "execution_count": null,
      "outputs": []
    },
    {
      "cell_type": "code",
      "source": [
        "all_data_container=[]\n",
        "for i in range(1,4):\n",
        "  f=open(\"test0/test1/mod\"+str(i)+\".py\",\"r\")\n",
        "  \n",
        "  all_data_container.append(f.read())\n",
        "  f.close()\n",
        "new=open(\"test0/test1/modnew.ipynb\",\"w+\")\n",
        "new.write(str(all_data_container))\n",
        "\n",
        "\n",
        "target = 'test0/modnew.ipynb'\n",
        "original = '/content/test0/test1/modnew.ipynb'\n",
        "shutil.move(original, target)\n",
        "  \n",
        "\n",
        "m=open(\"test0/modnew.py\",\"r+\")\n",
        "mod1.log()\n",
        "logging.info(\"challenge test1:task complete\")\n",
        "logger1=logging.getLogger(\"msn\")\n",
        "\n",
        "logger1.info(m.read())"
      ],
      "metadata": {
        "colab": {
          "base_uri": "https://localhost:8080/"
        },
        "id": "USJJofvp6AfN",
        "outputId": "90c91896-67d7-44b5-fed4-b38d03a913c5"
      },
      "execution_count": null,
      "outputs": [
        {
          "name": "stdout",
          "output_type": "stream",
          "text": [
            "/content/\n"
          ]
        },
        {
          "output_type": "stream",
          "name": "stderr",
          "text": [
            "root , 2022-06-10 10:38:20,372 , challenge test1:task complete ,INFO\n",
            "root , 2022-06-10 10:38:20,372 , challenge test1:task complete ,INFO\n",
            "root , 2022-06-10 10:38:20,372 , challenge test1:task complete ,INFO\n",
            "root , 2022-06-10 10:38:20,372 , challenge test1:task complete ,INFO\n",
            "msn , 2022-06-10 10:38:20,382 , [\"import logging\\ndef log():\\n\\n  logging.basicConfig(filename= input()+'logfile12.log',level=logging.DEBUG,format='%(name)s - %(asctime)s - %(message)s - %(levelname)s')\\n\\n#Create Handler :\\n  console_log=logging.StreamHandler()\\n  console_log.setLevel(logging.DEBUG)\\n\\n# log setting format:\\n  format=logging.Formatter('%(name)s , %(asctime)s , %(message)s ,%(levelname)s')\\n  console_log.setFormatter(format)\\n  logging.getLogger('').addHandler(console_log)\\n\", 'def add(a,b):\\n\\treturn a+b\\n\\ndef mul(a,b):\\n\\treturn a*b\\n\\ndef add(a,b):\\n\\treturn a/b', '\\n\\ndef fun1(a,b):\\n\\treturn a**b\\n\\ndef fun2(a):\\n\\treturn a*a\\n\\ndef fun3(a,b):\\n\\treturn a-b\\n'] ,INFO\n",
            "msn , 2022-06-10 10:38:20,382 , [\"import logging\\ndef log():\\n\\n  logging.basicConfig(filename= input()+'logfile12.log',level=logging.DEBUG,format='%(name)s - %(asctime)s - %(message)s - %(levelname)s')\\n\\n#Create Handler :\\n  console_log=logging.StreamHandler()\\n  console_log.setLevel(logging.DEBUG)\\n\\n# log setting format:\\n  format=logging.Formatter('%(name)s , %(asctime)s , %(message)s ,%(levelname)s')\\n  console_log.setFormatter(format)\\n  logging.getLogger('').addHandler(console_log)\\n\", 'def add(a,b):\\n\\treturn a+b\\n\\ndef mul(a,b):\\n\\treturn a*b\\n\\ndef add(a,b):\\n\\treturn a/b', '\\n\\ndef fun1(a,b):\\n\\treturn a**b\\n\\ndef fun2(a):\\n\\treturn a*a\\n\\ndef fun3(a,b):\\n\\treturn a-b\\n'] ,INFO\n",
            "msn , 2022-06-10 10:38:20,382 , [\"import logging\\ndef log():\\n\\n  logging.basicConfig(filename= input()+'logfile12.log',level=logging.DEBUG,format='%(name)s - %(asctime)s - %(message)s - %(levelname)s')\\n\\n#Create Handler :\\n  console_log=logging.StreamHandler()\\n  console_log.setLevel(logging.DEBUG)\\n\\n# log setting format:\\n  format=logging.Formatter('%(name)s , %(asctime)s , %(message)s ,%(levelname)s')\\n  console_log.setFormatter(format)\\n  logging.getLogger('').addHandler(console_log)\\n\", 'def add(a,b):\\n\\treturn a+b\\n\\ndef mul(a,b):\\n\\treturn a*b\\n\\ndef add(a,b):\\n\\treturn a/b', '\\n\\ndef fun1(a,b):\\n\\treturn a**b\\n\\ndef fun2(a):\\n\\treturn a*a\\n\\ndef fun3(a,b):\\n\\treturn a-b\\n'] ,INFO\n",
            "msn , 2022-06-10 10:38:20,382 , [\"import logging\\ndef log():\\n\\n  logging.basicConfig(filename= input()+'logfile12.log',level=logging.DEBUG,format='%(name)s - %(asctime)s - %(message)s - %(levelname)s')\\n\\n#Create Handler :\\n  console_log=logging.StreamHandler()\\n  console_log.setLevel(logging.DEBUG)\\n\\n# log setting format:\\n  format=logging.Formatter('%(name)s , %(asctime)s , %(message)s ,%(levelname)s')\\n  console_log.setFormatter(format)\\n  logging.getLogger('').addHandler(console_log)\\n\", 'def add(a,b):\\n\\treturn a+b\\n\\ndef mul(a,b):\\n\\treturn a*b\\n\\ndef add(a,b):\\n\\treturn a/b', '\\n\\ndef fun1(a,b):\\n\\treturn a**b\\n\\ndef fun2(a):\\n\\treturn a*a\\n\\ndef fun3(a,b):\\n\\treturn a-b\\n'] ,INFO\n"
          ]
        }
      ]
    },
    {
      "cell_type": "markdown",
      "source": [
        "##Exceptions:"
      ],
      "metadata": {
        "id": "qV0jnX_6dR5-"
      }
    },
    {
      "cell_type": "code",
      "source": [
        "\n",
        "try:\n",
        "  for i in range(3):\n",
        "    i=i/0\n",
        "    print(f\"the try executing {i}\")\n",
        "except:\n",
        "  print(\"except is executing\")\n",
        "  try:\n",
        "    for i in range(1,2):\n",
        "      i=i/0\n",
        "      print(\"loop try executing\")\n",
        "  except:\n",
        "    for i in range(3):\n",
        "      print(i)\n",
        "      print(\"loop except is executing\")"
      ],
      "metadata": {
        "id": "lXzgkfO1FduF",
        "colab": {
          "base_uri": "https://localhost:8080/"
        },
        "outputId": "bcc89367-bb11-41a5-d560-dfe1c11905a4"
      },
      "execution_count": 2,
      "outputs": [
        {
          "output_type": "stream",
          "name": "stdout",
          "text": [
            "except is executing\n",
            "0\n",
            "loop except is executing\n",
            "1\n",
            "loop except is executing\n",
            "2\n",
            "loop except is executing\n"
          ]
        }
      ]
    },
    {
      "cell_type": "code",
      "source": [
        "try:\n",
        "  a=3/0\n",
        "  print(a)\n",
        "except:\n",
        "  pass\n",
        "else:\n",
        "  print(\"else will execute if try will execute\")\n",
        "finally:\n",
        "  print(\"finally i will execute in any case \")\n",
        "  l=[1,2,3,4]\n",
        "  try:\n",
        "    print(l[20])\n",
        "  except:\n",
        "    print(\"nothing is working \")\n",
        "    pass"
      ],
      "metadata": {
        "id": "OKM4hkhgKvep",
        "colab": {
          "base_uri": "https://localhost:8080/"
        },
        "outputId": "20360c44-f768-4881-f5fd-b92d6a866c9f"
      },
      "execution_count": 4,
      "outputs": [
        {
          "output_type": "stream",
          "name": "stdout",
          "text": [
            "finally i will execute in any case \n",
            "nothing is working \n"
          ]
        }
      ]
    },
    {
      "cell_type": "code",
      "source": [
        "try:\n",
        "  a=3/0\n",
        "  print(a)\n",
        "except:\n",
        "  print(\"executing the except\")\n",
        "  pass\n",
        "else:\n",
        "  print(\"else will execute if try will execute\")\n",
        "finally:\n",
        "  print(\"finally i will execute in any case \")\n",
        "  l=[1,2,3,4]\n",
        "  try:\n",
        "    print(l[7])\n",
        "  except:\n",
        "    print(\"nothing is working \")\n",
        "    pass"
      ],
      "metadata": {
        "id": "9DOgsIHddQkf",
        "colab": {
          "base_uri": "https://localhost:8080/"
        },
        "outputId": "4832b860-dc1b-49bd-dfb0-090261ff1bf5"
      },
      "execution_count": 22,
      "outputs": [
        {
          "output_type": "stream",
          "name": "stdout",
          "text": [
            "executing the except\n",
            "finally i will execute in any case \n",
            "nothing is working \n"
          ]
        }
      ]
    },
    {
      "cell_type": "code",
      "source": [
        "try:\n",
        "  a=3/0\n",
        "  print(a)\n",
        "except Exception as e:\n",
        "  print(\"executing the except\",e)"
      ],
      "metadata": {
        "colab": {
          "base_uri": "https://localhost:8080/"
        },
        "id": "sUY1FNGFyM7p",
        "outputId": "8b9f2ce8-52a9-449f-d2e4-3fbaabcdebbf"
      },
      "execution_count": 4,
      "outputs": [
        {
          "output_type": "stream",
          "name": "stdout",
          "text": [
            "executing the except division by zero\n"
          ]
        }
      ]
    },
    {
      "cell_type": "code",
      "source": [
        "def fun1():\n",
        "  while True:\n",
        "    try:\n",
        "      a=int(input(\"enter only interger\"))\n",
        "    except Exception as e:\n",
        "      print(\"error in exception\",e)\n",
        "      continue\n",
        "    else:\n",
        "      print('person has entered correct data')    \n",
        "    finally:      \n",
        "      print('finally close the issue')"
      ],
      "metadata": {
        "id": "A3Rj72j069Pk"
      },
      "execution_count": 55,
      "outputs": []
    },
    {
      "cell_type": "code",
      "source": [
        "fun1()"
      ],
      "metadata": {
        "colab": {
          "base_uri": "https://localhost:8080/"
        },
        "id": "FIoqHhJJ6_kp",
        "outputId": "7a15c92a-1d6e-4567-aa82-19cf88ffb861"
      },
      "execution_count": 56,
      "outputs": [
        {
          "output_type": "stream",
          "name": "stdout",
          "text": [
            "enter only interger12\n",
            "person has entered correct data\n"
          ]
        }
      ]
    },
    {
      "cell_type": "code",
      "source": [
        "def fun2():\n",
        "  while True:\n",
        "    try:\n",
        "      a=int(input(\"enter only interger\"))\n",
        "      b=int(input(\"enter only interger\"))\n",
        "      c=a/b\n",
        "    except Exception as e:\n",
        "      print(\"error in exception\",e)\n",
        "    except ValueError as e:\n",
        "      print(\"Value error\",e)\n",
        "    except IOError as e:\n",
        "      print(\"i/p error\")\n",
        "    except ArithmeticError as e:\n",
        "      print(\"aith error\",e)\n",
        "    except ZeroDivisionError as e:\n",
        "      print(\"divide zero error\",e)\n",
        "        \n",
        "    else:\n",
        "      print('person has entered correct data') \n",
        "    finally:    \n",
        "      break  \n",
        "      print('finally close the issue')"
      ],
      "metadata": {
        "id": "FEEzjPj78LYW"
      },
      "execution_count": 9,
      "outputs": []
    },
    {
      "cell_type": "code",
      "source": [
        "fun2()"
      ],
      "metadata": {
        "colab": {
          "base_uri": "https://localhost:8080/"
        },
        "id": "_TVeZSf7ATb_",
        "outputId": "abf59dff-73b5-426f-a92e-8e50fe520d5b"
      },
      "execution_count": 11,
      "outputs": [
        {
          "output_type": "stream",
          "name": "stdout",
          "text": [
            "enter only interger6\n",
            "enter only intergert\n",
            "error in exception invalid literal for int() with base 10: 't'\n"
          ]
        }
      ]
    },
    {
      "cell_type": "code",
      "source": [
        "def fun3():\n",
        "  try:    \n",
        "    a=int(input(\"enter integer\"))\n",
        "    if a>10:\n",
        "      print(\" greater than 10\")\n",
        "    else:\n",
        "      raise Exception (\"error \", a)\n",
        "  except Exception as e:\n",
        "    print(\"enter integer\",e)\n",
        "\n",
        "fun3()"
      ],
      "metadata": {
        "colab": {
          "base_uri": "https://localhost:8080/"
        },
        "id": "e6wWAiwLAUYO",
        "outputId": "4c6492c0-fc44-41ce-e76b-27fe1eb854dd"
      },
      "execution_count": 21,
      "outputs": [
        {
          "output_type": "stream",
          "name": "stdout",
          "text": [
            "enter integer2\n",
            "enter integer ('error ', 2)\n"
          ]
        }
      ]
    },
    {
      "cell_type": "code",
      "source": [
        "def fun4(z):\n",
        "  if z>10:\n",
        "    print(\" greater than 10\")\n",
        "  else:\n",
        "    raise Exception (\"error \", z)\n",
        "    \n",
        "    \n",
        "  "
      ],
      "metadata": {
        "id": "n_w9avEOHOY5"
      },
      "execution_count": 3,
      "outputs": []
    },
    {
      "cell_type": "code",
      "source": [
        "#custom made\n",
        "try:\n",
        "  fun4(100)\n",
        "except Exception:\n",
        "  print(\"enter the integer datatype\")"
      ],
      "metadata": {
        "colab": {
          "base_uri": "https://localhost:8080/"
        },
        "id": "_6G3ZmH9HUew",
        "outputId": "1aa0eb4b-3c63-4252-e7dc-8e73a1191373"
      },
      "execution_count": 8,
      "outputs": [
        {
          "output_type": "stream",
          "name": "stdout",
          "text": [
            " greater than 10\n"
          ]
        }
      ]
    },
    {
      "cell_type": "code",
      "source": [
        "try:\n",
        "  a=int(input(\"enter the integer\"))\n",
        "  for i in range(a):\n",
        "    if i%2==0:\n",
        "      print(i)\n",
        "except Exception:\n",
        "  print(\"Enter only int datatype for even number..try again\")\n",
        "    \n"
      ],
      "metadata": {
        "colab": {
          "base_uri": "https://localhost:8080/"
        },
        "id": "59Q9hY3oIwCp",
        "outputId": "1ef9f78d-aa05-4ca4-acd5-26acf3f5b0c0"
      },
      "execution_count": 37,
      "outputs": [
        {
          "output_type": "stream",
          "name": "stdout",
          "text": [
            "enter the integer3\n",
            "0\n",
            "2\n"
          ]
        }
      ]
    },
    {
      "cell_type": "markdown",
      "source": [
        "##che"
      ],
      "metadata": {
        "id": "hnwC1Ya8avYm"
      }
    },
    {
      "cell_type": "code",
      "source": [
        "import os\n",
        "os.mkdir(\"/content/testdir\")"
      ],
      "metadata": {
        "id": "-E4xzT8iOBHL"
      },
      "execution_count": null,
      "outputs": []
    },
    {
      "cell_type": "code",
      "source": [
        "def func():\n",
        "  import logging\n",
        "  logging.basicConfig(filename= '/content/testdir/logfile12.log',level=logging.DEBUG,format='%(name)s - %(asctime)s - %(message)s - %(levelname)s')\n",
        "\n",
        "#Create Handler :\n",
        "  console_log=logging.StreamHandler()\n",
        "  console_log.setLevel(logging.DEBUG)\n",
        "\n",
        "# log setting format:\n",
        "  format=logging.Formatter('%(name)s , %(asctime)s , %(message)s ,%(levelname)s')\n",
        "  console_log.setFormatter(format)\n",
        "  logging.getLogger('').addHandler(console_log)\n",
        "  \n",
        "  try:\n",
        "    a=int(input(\"enter the integer\"))\n",
        "    even=[]\n",
        "    for i in range(a):\n",
        "      if i%2==0:\n",
        "        even.append(i) \n",
        "    logging.info(\"try block executing\")\n",
        "    logger1=logging.getLogger('engine_nova')\n",
        "    logger1.info(even)\n",
        "                \n",
        "  except Exception:\n",
        "    logger1=logging.getLogger('engine_nova')\n",
        "    logger1.info(\"exception handling block..try again\")\n",
        "\n",
        "  finally:\n",
        "    logger1.info(\"handled\")\n",
        "    \n"
      ],
      "metadata": {
        "id": "FwYq7QtPUxfH"
      },
      "execution_count": 2,
      "outputs": []
    },
    {
      "cell_type": "code",
      "source": [
        "func()"
      ],
      "metadata": {
        "colab": {
          "base_uri": "https://localhost:8080/"
        },
        "id": "NPsrhXZQMtIZ",
        "outputId": "087549ff-e821-4bc5-da57-19d51d286502"
      },
      "execution_count": 3,
      "outputs": [
        {
          "name": "stdout",
          "output_type": "stream",
          "text": [
            "enter the integer50\n"
          ]
        },
        {
          "output_type": "stream",
          "name": "stderr",
          "text": [
            "root , 2022-06-11 06:30:52,933 , try block executing ,INFO\n",
            "engine_nova , 2022-06-11 06:30:52,938 , [0, 2, 4, 6, 8, 10, 12, 14, 16, 18, 20, 22, 24, 26, 28, 30, 32, 34, 36, 38, 40, 42, 44, 46, 48] ,INFO\n",
            "engine_nova , 2022-06-11 06:30:52,940 , handled ,INFO\n"
          ]
        }
      ]
    },
    {
      "cell_type": "code",
      "source": [
        "func()\n"
      ],
      "metadata": {
        "colab": {
          "base_uri": "https://localhost:8080/"
        },
        "id": "Tdc23SY3cDro",
        "outputId": "ca46835b-8666-47d9-d0fa-39a28c8e09b6"
      },
      "execution_count": 4,
      "outputs": [
        {
          "name": "stdout",
          "output_type": "stream",
          "text": [
            "enter the integer testing wrong input\n"
          ]
        },
        {
          "output_type": "stream",
          "name": "stderr",
          "text": [
            "engine_nova , 2022-06-11 06:31:29,668 , exception handling block..try again ,INFO\n",
            "engine_nova , 2022-06-11 06:31:29,668 , exception handling block..try again ,INFO\n",
            "engine_nova , 2022-06-11 06:31:29,672 , handled ,INFO\n",
            "engine_nova , 2022-06-11 06:31:29,672 , handled ,INFO\n"
          ]
        }
      ]
    },
    {
      "cell_type": "code",
      "source": [
        "from testdir import mod5\n",
        "import logging\n",
        "\n",
        "try:\n",
        "  mod5.func()\n",
        "\n",
        "except Exception:\n",
        "  logger1=logging.getLogger('engine_nova')\n",
        "  logger1.info(\"exception handling block..try again\")\n",
        "\n",
        "else:\n",
        "  logger1.info(\"working fine\")\n",
        "\n",
        "finally:\n",
        "  logger1=logging.getLogger('engine_nova')\n",
        "  logger1.info(\"handled\")\n",
        "\n"
      ],
      "metadata": {
        "colab": {
          "base_uri": "https://localhost:8080/"
        },
        "id": "egBG93QmKrxG",
        "outputId": "6df207ba-a371-4080-bb55-a5c223b9d403"
      },
      "execution_count": 6,
      "outputs": [
        {
          "name": "stdout",
          "output_type": "stream",
          "text": [
            "i m u\n"
          ]
        },
        {
          "output_type": "stream",
          "name": "stderr",
          "text": [
            "engine_nova , 2022-06-11 08:00:39,720 , exception handling block..try again ,INFO\n",
            "engine_nova , 2022-06-11 08:00:39,720 , exception handling block..try again ,INFO\n",
            "engine_nova , 2022-06-11 08:00:39,720 , exception handling block..try again ,INFO\n",
            "engine_nova , 2022-06-11 08:00:39,720 , exception handling block..try again ,INFO\n",
            "engine_nova , 2022-06-11 08:00:39,720 , exception handling block..try again ,INFO\n",
            "engine_nova , 2022-06-11 08:00:39,720 , exception handling block..try again ,INFO\n",
            "engine_nova , 2022-06-11 08:00:39,733 , handled ,INFO\n",
            "engine_nova , 2022-06-11 08:00:39,733 , handled ,INFO\n",
            "engine_nova , 2022-06-11 08:00:39,733 , handled ,INFO\n",
            "engine_nova , 2022-06-11 08:00:39,733 , handled ,INFO\n",
            "engine_nova , 2022-06-11 08:00:39,733 , handled ,INFO\n",
            "engine_nova , 2022-06-11 08:00:39,733 , handled ,INFO\n"
          ]
        }
      ]
    },
    {
      "cell_type": "code",
      "source": [
        "even=[]\n",
        "for i in range(a):\n",
        "  if i%2==0:\n",
        "    even.append(i)"
      ],
      "metadata": {
        "id": "B_OXV5eYpZoS"
      },
      "execution_count": 24,
      "outputs": []
    },
    {
      "cell_type": "code",
      "source": [
        "even"
      ],
      "metadata": {
        "colab": {
          "base_uri": "https://localhost:8080/"
        },
        "id": "K5SvV_DlrSI9",
        "outputId": "2be84f14-8cf9-4fae-aed2-750114a09a3f"
      },
      "execution_count": 25,
      "outputs": [
        {
          "output_type": "execute_result",
          "data": {
            "text/plain": [
              "[0, 2, 4, 6, 8]"
            ]
          },
          "metadata": {},
          "execution_count": 25
        }
      ]
    },
    {
      "cell_type": "code",
      "source": [
        ""
      ],
      "metadata": {
        "id": "ArJuR9mkrXYo"
      },
      "execution_count": null,
      "outputs": []
    }
  ]
}