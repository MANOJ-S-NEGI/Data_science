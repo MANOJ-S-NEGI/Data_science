{
  "nbformat": 4,
  "nbformat_minor": 0,
  "metadata": {
    "colab": {
      "name": "Copy of python basics prac.ipynb",
      "provenance": [],
      "collapsed_sections": [
        "yry_4n9v-KfZ",
        "a0Hlh9yT-BH9",
        "2aTMdDOWVmdY",
        "dAwobMzWqZPt",
        "ZdXsvjMzHgeU",
        "JHns7hvCjZdD",
        "yzJclPtqpsrZ",
        "IwkzPpntqrKZ"
      ]
    },
    "kernelspec": {
      "name": "python3",
      "display_name": "Python 3"
    },
    "language_info": {
      "name": "python"
    }
  },
  "cells": [
    {
      "cell_type": "markdown",
      "source": [
        "##Pattern using for loop"
      ],
      "metadata": {
        "id": "yry_4n9v-KfZ"
      }
    },
    {
      "cell_type": "code",
      "source": [
        "x=5\n",
        "\n",
        "for i in range(0,x):\n",
        "  for j in range(0,x-i):\n",
        "    print(\"* \",end=\"\")\n",
        "  \n",
        "  print(\"\\r\")"
      ],
      "metadata": {
        "colab": {
          "base_uri": "https://localhost:8080/"
        },
        "id": "rTEdwtR8t93s",
        "outputId": "b01db536-795d-4d38-8274-63847ed3dc26"
      },
      "execution_count": null,
      "outputs": [
        {
          "output_type": "stream",
          "name": "stdout",
          "text": [
            "* * * * * \r\n",
            "* * * * \r\n",
            "* * * \r\n",
            "* * \r\n",
            "* \r\n"
          ]
        }
      ]
    },
    {
      "cell_type": "code",
      "source": [
        "x=5\n",
        "for i in range(0,x):\n",
        "  for j in range(0,x-i):\n",
        "    print(\" \",end=\"\")\n",
        "\n",
        "  for j in range(0,i+1):\n",
        "    print(\"* \",end=\"\")\n",
        "  \n",
        "  \n",
        "  print(\"\\r\")"
      ],
      "metadata": {
        "colab": {
          "base_uri": "https://localhost:8080/"
        },
        "id": "BeJSMDFW7KRh",
        "outputId": "fcb7e10f-5e80-4232-f2bc-38b3332f159c"
      },
      "execution_count": null,
      "outputs": [
        {
          "output_type": "stream",
          "name": "stdout",
          "text": [
            "     * \r\n",
            "    * * \r\n",
            "   * * * \r\n",
            "  * * * * \r\n",
            " * * * * * \r\n"
          ]
        }
      ]
    },
    {
      "cell_type": "code",
      "source": [
        "x=5\n",
        "for i in range(x,0,-1):\n",
        "  for j in range(x-i):\n",
        "    print(\" \",end=\"\")\n",
        "\n",
        "  for j in range(0,i):\n",
        "    print(\"* \",end=\"\")\n",
        "  \n",
        "  \n",
        "  print(\"\\r\")"
      ],
      "metadata": {
        "colab": {
          "base_uri": "https://localhost:8080/"
        },
        "id": "MlEnE5YMDp_6",
        "outputId": "2056dc5a-3e17-458e-9626-de317cc126f6"
      },
      "execution_count": null,
      "outputs": [
        {
          "output_type": "stream",
          "name": "stdout",
          "text": [
            "* * * * * \r\n",
            " * * * * \r\n",
            "  * * * \r\n",
            "   * * \r\n",
            "    * \r\n"
          ]
        }
      ]
    },
    {
      "cell_type": "code",
      "source": [
        "x=4\n",
        "for i in range(0,x):\n",
        "  for j in range(0,i*2-1):\n",
        "    print(\"*\",end=\"\")\n",
        "  print(\"\\r\")"
      ],
      "metadata": {
        "colab": {
          "base_uri": "https://localhost:8080/"
        },
        "id": "uNZ_oUrku-Ko",
        "outputId": "c8992844-7db3-4f13-aa3a-8a92d734ec35"
      },
      "execution_count": null,
      "outputs": [
        {
          "output_type": "stream",
          "name": "stdout",
          "text": [
            "\r\n",
            "*\r\n",
            "***\r\n",
            "*****\r\n"
          ]
        }
      ]
    },
    {
      "cell_type": "markdown",
      "source": [
        "##Pattern using while loop"
      ],
      "metadata": {
        "id": "a0Hlh9yT-BH9"
      }
    },
    {
      "cell_type": "code",
      "source": [
        "n=5\n",
        "i=0\n",
        "while i<n:\n",
        "  print(\" \"*(n-i-1)+\"* \"*(i+1))\n",
        "  i=i+1"
      ],
      "metadata": {
        "colab": {
          "base_uri": "https://localhost:8080/"
        },
        "id": "SKZXqVUAze5z",
        "outputId": "b43ca86a-7eb7-45a0-c3ff-e3a200c7a8fb"
      },
      "execution_count": null,
      "outputs": [
        {
          "output_type": "stream",
          "name": "stdout",
          "text": [
            "    * \n",
            "   * * \n",
            "  * * * \n",
            " * * * * \n",
            "* * * * * \n"
          ]
        }
      ]
    },
    {
      "cell_type": "code",
      "source": [
        "n=5\n",
        "i=0\n",
        "while i<n:\n",
        "  print(\" \"*(i+1)+\"* \"*(n-i-1))\n",
        "  i=i+1"
      ],
      "metadata": {
        "id": "GwObfx53-ABH",
        "colab": {
          "base_uri": "https://localhost:8080/"
        },
        "outputId": "95ec2f7c-03be-4ddb-fa58-41ef0232715e"
      },
      "execution_count": null,
      "outputs": [
        {
          "output_type": "stream",
          "name": "stdout",
          "text": [
            " * * * * \n",
            "  * * * \n",
            "   * * \n",
            "    * \n",
            "     \n"
          ]
        }
      ]
    },
    {
      "cell_type": "code",
      "source": [
        "n=8\n",
        "i=0\n",
        "while i<n:\n",
        "  print(\" \"*(i+1)+\"* \"*(n-i*2-1))\n",
        "  i=i+1"
      ],
      "metadata": {
        "colab": {
          "base_uri": "https://localhost:8080/"
        },
        "id": "B2G81I80-UUm",
        "outputId": "c7fe0630-9fdf-4ded-d707-c60e4acd771c"
      },
      "execution_count": null,
      "outputs": [
        {
          "output_type": "stream",
          "name": "stdout",
          "text": [
            " * * * * * * * \n",
            "  * * * * * \n",
            "   * * * \n",
            "    * \n",
            "     \n",
            "      \n",
            "       \n",
            "        \n"
          ]
        }
      ]
    },
    {
      "cell_type": "code",
      "source": [
        "n=8\n",
        "i=0\n",
        "while i<n:\n",
        "  print(\" \"*(i+i+1)+\"* \"*(n-i*2-1))\n",
        "  i=i+1"
      ],
      "metadata": {
        "colab": {
          "base_uri": "https://localhost:8080/"
        },
        "id": "yIha3rMt9SYS",
        "outputId": "06edf2dc-d161-4918-f927-e9f6f07e357e"
      },
      "execution_count": null,
      "outputs": [
        {
          "output_type": "stream",
          "name": "stdout",
          "text": [
            " * * * * * * * \n",
            "   * * * * * \n",
            "     * * * \n",
            "       * \n",
            "         \n",
            "           \n",
            "             \n",
            "               \n"
          ]
        }
      ]
    },
    {
      "cell_type": "markdown",
      "source": [
        "##list"
      ],
      "metadata": {
        "id": "2aTMdDOWVmdY"
      }
    },
    {
      "cell_type": "code",
      "source": [
        "lis=['apple','orange',[10,2,3,4]]"
      ],
      "metadata": {
        "id": "wIJEXV8FVoEP"
      },
      "execution_count": null,
      "outputs": []
    },
    {
      "cell_type": "code",
      "source": [
        "lis"
      ],
      "metadata": {
        "colab": {
          "base_uri": "https://localhost:8080/"
        },
        "id": "JYRPVXREV3fF",
        "outputId": "3393c489-4a71-44d6-a844-8d62501bd428"
      },
      "execution_count": null,
      "outputs": [
        {
          "output_type": "execute_result",
          "data": {
            "text/plain": [
              "['apple', 'orange', [10, 2, 3, 4]]"
            ]
          },
          "metadata": {},
          "execution_count": 84
        }
      ]
    },
    {
      "cell_type": "code",
      "source": [
        "for i in lis:\n",
        "  print(i,end=\"\")\n",
        "  print(type(i))"
      ],
      "metadata": {
        "colab": {
          "base_uri": "https://localhost:8080/"
        },
        "id": "c0NvmKz1V9ov",
        "outputId": "27c2e816-75a0-4345-d079-8a174cb21e30"
      },
      "execution_count": null,
      "outputs": [
        {
          "output_type": "stream",
          "name": "stdout",
          "text": [
            "apple<class 'str'>\n",
            "orange<class 'str'>\n",
            "[10, 2, 3, 4]<class 'list'>\n"
          ]
        }
      ]
    },
    {
      "cell_type": "code",
      "source": [
        "for i in lis:\n",
        "  if type(i)==list:\n",
        "    continue;\n",
        "print(\"present\")\n",
        "    \n",
        "  \n",
        "  "
      ],
      "metadata": {
        "colab": {
          "base_uri": "https://localhost:8080/"
        },
        "id": "MX3DXEBfWFPA",
        "outputId": "40f8a7a2-8464-4afc-ea97-14c1f6c4caa7"
      },
      "execution_count": null,
      "outputs": [
        {
          "output_type": "stream",
          "name": "stdout",
          "text": [
            "present\n"
          ]
        }
      ]
    },
    {
      "cell_type": "code",
      "source": [
        "for i in lis:\n",
        "  if type(lis)==list:\n",
        "    n=0\n",
        "    for j in i:\n",
        "      if type(j)==int:\n",
        "        n=n+j\n",
        "print(n)\n",
        "  \n"
      ],
      "metadata": {
        "colab": {
          "base_uri": "https://localhost:8080/"
        },
        "id": "YxxeEsrBaRKy",
        "outputId": "723e2594-ec93-4b24-e775-e0556da9386f"
      },
      "execution_count": null,
      "outputs": [
        {
          "output_type": "stream",
          "name": "stdout",
          "text": [
            "19\n"
          ]
        }
      ]
    },
    {
      "cell_type": "markdown",
      "source": [
        "## indexes and strings"
      ],
      "metadata": {
        "id": "dAwobMzWqZPt"
      }
    },
    {
      "cell_type": "code",
      "source": [
        "sentence= 'my name is engine nova'"
      ],
      "metadata": {
        "id": "2CN0BPdpYQ-x"
      },
      "execution_count": null,
      "outputs": []
    },
    {
      "cell_type": "code",
      "source": [
        "sentence.find('name') # find index value"
      ],
      "metadata": {
        "colab": {
          "base_uri": "https://localhost:8080/"
        },
        "id": "84HSo9bLs39T",
        "outputId": "aba9b3a4-c90f-4a46-ec0b-7988821c3fda"
      },
      "execution_count": null,
      "outputs": [
        {
          "output_type": "execute_result",
          "data": {
            "text/plain": [
              "3"
            ]
          },
          "metadata": {},
          "execution_count": 186
        }
      ]
    },
    {
      "cell_type": "code",
      "source": [
        "sentence[3:7]"
      ],
      "metadata": {
        "colab": {
          "base_uri": "https://localhost:8080/",
          "height": 35
        },
        "id": "7b4ICTptqtLa",
        "outputId": "bcf7f375-dc0e-4c26-f494-4647bb6bf331"
      },
      "execution_count": null,
      "outputs": [
        {
          "output_type": "execute_result",
          "data": {
            "text/plain": [
              "'name'"
            ],
            "application/vnd.google.colaboratory.intrinsic+json": {
              "type": "string"
            }
          },
          "metadata": {},
          "execution_count": 156
        }
      ]
    },
    {
      "cell_type": "code",
      "source": [
        "## finding the index of name :\n",
        "x=sentence.find('name')\n",
        "for i in range(len(\"name\")):\n",
        "  print(x+i,end='  ')"
      ],
      "metadata": {
        "colab": {
          "base_uri": "https://localhost:8080/"
        },
        "id": "jT6c3FxRrMfG",
        "outputId": "7fe6e9fe-4a17-4b72-ff83-e705326d8c5a"
      },
      "execution_count": null,
      "outputs": [
        {
          "output_type": "stream",
          "name": "stdout",
          "text": [
            "3  4  5  6  "
          ]
        }
      ]
    },
    {
      "cell_type": "code",
      "source": [
        "sentence.count(\"a\") # a occured 2 times"
      ],
      "metadata": {
        "colab": {
          "base_uri": "https://localhost:8080/"
        },
        "id": "PgTs1lBKvxTx",
        "outputId": "020d7e80-41c6-48e1-a550-85ac58987bdb"
      },
      "execution_count": null,
      "outputs": [
        {
          "output_type": "execute_result",
          "data": {
            "text/plain": [
              "2"
            ]
          },
          "metadata": {},
          "execution_count": 194
        }
      ]
    },
    {
      "cell_type": "code",
      "source": [
        "sentence.split(\" \")\n"
      ],
      "metadata": {
        "colab": {
          "base_uri": "https://localhost:8080/"
        },
        "id": "YHSS4TCFwbkZ",
        "outputId": "3e3f2236-f6bc-4853-e3ba-e219f1756519"
      },
      "execution_count": null,
      "outputs": [
        {
          "output_type": "execute_result",
          "data": {
            "text/plain": [
              "['my', 'name', 'is', 'engine', 'nova']"
            ]
          },
          "metadata": {},
          "execution_count": 197
        }
      ]
    },
    {
      "cell_type": "code",
      "source": [
        "sentence.swapcase() # change the character into upper /lower\n"
      ],
      "metadata": {
        "colab": {
          "base_uri": "https://localhost:8080/",
          "height": 35
        },
        "id": "_bpgKsuFw77p",
        "outputId": "bd5095ed-9d35-4640-89f1-6b1bb83a53c5"
      },
      "execution_count": null,
      "outputs": [
        {
          "output_type": "execute_result",
          "data": {
            "text/plain": [
              "'MY NAME IS ENGINE NOVA'"
            ],
            "application/vnd.google.colaboratory.intrinsic+json": {
              "type": "string"
            }
          },
          "metadata": {},
          "execution_count": 203
        }
      ]
    },
    {
      "cell_type": "code",
      "source": [
        "print(\"\\n\")\n",
        "\"  \".join(sentence)"
      ],
      "metadata": {
        "colab": {
          "base_uri": "https://localhost:8080/",
          "height": 70
        },
        "id": "i4tyOlTXxv4W",
        "outputId": "5ad52189-84ca-4e15-d1f4-76fe45d5d4bb"
      },
      "execution_count": null,
      "outputs": [
        {
          "output_type": "stream",
          "name": "stdout",
          "text": [
            "\n",
            "\n"
          ]
        },
        {
          "output_type": "execute_result",
          "data": {
            "text/plain": [
              "'m  y     n  a  m  e     i  s     e  n  g  i  n  e     n  o  v  a'"
            ],
            "application/vnd.google.colaboratory.intrinsic+json": {
              "type": "string"
            }
          },
          "metadata": {},
          "execution_count": 206
        }
      ]
    },
    {
      "cell_type": "code",
      "source": [
        "sentence.replace(\"e\",\"ry\")"
      ],
      "metadata": {
        "colab": {
          "base_uri": "https://localhost:8080/",
          "height": 35
        },
        "id": "vscP9vdYudjb",
        "outputId": "60af93f2-26e2-45a5-e472-a2438b0b1855"
      },
      "execution_count": null,
      "outputs": [
        {
          "output_type": "execute_result",
          "data": {
            "text/plain": [
              "'my namry is rynginry nova'"
            ],
            "application/vnd.google.colaboratory.intrinsic+json": {
              "type": "string"
            }
          },
          "metadata": {},
          "execution_count": 213
        }
      ]
    },
    {
      "cell_type": "code",
      "source": [
        "sentence # string are immutable"
      ],
      "metadata": {
        "colab": {
          "base_uri": "https://localhost:8080/",
          "height": 35
        },
        "id": "Z8kl9fVSzMqT",
        "outputId": "fa065ddf-3568-462d-ed4f-ae372fef9009"
      },
      "execution_count": null,
      "outputs": [
        {
          "output_type": "execute_result",
          "data": {
            "text/plain": [
              "'my name is engine nova'"
            ],
            "application/vnd.google.colaboratory.intrinsic+json": {
              "type": "string"
            }
          },
          "metadata": {},
          "execution_count": 215
        }
      ]
    },
    {
      "cell_type": "code",
      "source": [
        "xx=\"we all are a part Of full Stack \"\n",
        "xx"
      ],
      "metadata": {
        "colab": {
          "base_uri": "https://localhost:8080/",
          "height": 35
        },
        "id": "n_yiEPYOzWzc",
        "outputId": "6ddcea2e-419c-4c3e-f87b-c3d9b8c4b364"
      },
      "execution_count": null,
      "outputs": [
        {
          "output_type": "execute_result",
          "data": {
            "text/plain": [
              "'we all are a part Of full Stack '"
            ],
            "application/vnd.google.colaboratory.intrinsic+json": {
              "type": "string"
            }
          },
          "metadata": {},
          "execution_count": 216
        }
      ]
    },
    {
      "cell_type": "code",
      "source": [
        "lower=xx.lower()\n",
        "print(lower)\n",
        "print(xx.upper())\n",
        "cnt=xx.count('a')\n",
        "print(f'total count :{cnt}')\n",
        "#####################\n",
        "for i in xx:\n",
        "  print(i)\n"
      ],
      "metadata": {
        "colab": {
          "base_uri": "https://localhost:8080/"
        },
        "id": "vsqImLxa1f9A",
        "outputId": "ec27f46f-9584-45c8-e14a-3f56db36a368"
      },
      "execution_count": null,
      "outputs": [
        {
          "output_type": "stream",
          "name": "stdout",
          "text": [
            "we all are a part of full stack \n",
            "WE ALL ARE A PART OF FULL STACK \n",
            "total count :5\n",
            "w\n",
            "e\n",
            " \n",
            "a\n",
            "l\n",
            "l\n",
            " \n",
            "a\n",
            "r\n",
            "e\n",
            " \n",
            "a\n",
            " \n",
            "p\n",
            "a\n",
            "r\n",
            "t\n",
            " \n",
            "O\n",
            "f\n",
            " \n",
            "f\n",
            "u\n",
            "l\n",
            "l\n",
            " \n",
            "S\n",
            "t\n",
            "a\n",
            "c\n",
            "k\n",
            " \n"
          ]
        }
      ]
    },
    {
      "cell_type": "code",
      "source": [
        "#####################\n",
        "\n",
        "for i in range(len(xx)):\n",
        "  if lower[i]==\"a\":\n",
        "    print(i,end='  ')\n",
        "  else:\n",
        "    continue;\n",
        "\n",
        "#################\n",
        "rplc=xx.replace(\"a\",\"ineuron\")\n",
        "print(f\"\\n {rplc} \\n\")\n",
        "    \n",
        "#####################\n",
        "\n",
        "xx.split(' ')\n"
      ],
      "metadata": {
        "colab": {
          "base_uri": "https://localhost:8080/"
        },
        "id": "YYxin7_YBjjP",
        "outputId": "28a0e44a-cafc-4ccc-d7e2-4d32fb048a2c"
      },
      "execution_count": null,
      "outputs": [
        {
          "output_type": "stream",
          "name": "stdout",
          "text": [
            "3  7  11  14  28  \n",
            " we ineuronll ineuronre ineuron pineuronrt Of full Stineuronck  \n",
            "\n"
          ]
        },
        {
          "output_type": "execute_result",
          "data": {
            "text/plain": [
              "['we', 'all', 'are', 'a', 'part', 'Of', 'full', 'Stack', '']"
            ]
          },
          "metadata": {},
          "execution_count": 282
        }
      ]
    },
    {
      "cell_type": "markdown",
      "source": [
        "## paleindrom:"
      ],
      "metadata": {
        "id": "ZdXsvjMzHgeU"
      }
    },
    {
      "cell_type": "code",
      "source": [
        "s = input()\n",
        "s1=s[::-1]\n",
        "if s1==s:\n",
        "  print(f\"palendrome:{s}\")\n",
        "else :\n",
        "  print(\"not a palendrome\")\n"
      ],
      "metadata": {
        "colab": {
          "base_uri": "https://localhost:8080/"
        },
        "id": "7t5buM4lDF1N",
        "outputId": "ade94447-0f27-4950-8758-66aae34f34aa"
      },
      "execution_count": null,
      "outputs": [
        {
          "output_type": "stream",
          "name": "stdout",
          "text": [
            "Sos\n",
            "not a palendrome\n"
          ]
        }
      ]
    },
    {
      "cell_type": "markdown",
      "source": [
        "## Extend,Append,Insert"
      ],
      "metadata": {
        "id": "JHns7hvCjZdD"
      }
    },
    {
      "cell_type": "code",
      "source": [
        "l=[1,2,3,4,5]"
      ],
      "metadata": {
        "id": "ANCtsaI3IXMv"
      },
      "execution_count": null,
      "outputs": []
    },
    {
      "cell_type": "code",
      "source": [
        "l.append(3)\n",
        "l"
      ],
      "metadata": {
        "colab": {
          "base_uri": "https://localhost:8080/"
        },
        "id": "t-Hmul0-jqSf",
        "outputId": "ef627361-aa52-417a-940b-4a04078f89a7"
      },
      "execution_count": null,
      "outputs": [
        {
          "output_type": "execute_result",
          "data": {
            "text/plain": [
              "[1, 2, 3, 4, 5, 3, 3]"
            ]
          },
          "metadata": {},
          "execution_count": 3
        }
      ]
    },
    {
      "cell_type": "code",
      "source": [
        "l.insert(3,\"a\")\n",
        "l\n"
      ],
      "metadata": {
        "colab": {
          "base_uri": "https://localhost:8080/"
        },
        "id": "lvQUPGnKjs9h",
        "outputId": "428118a2-cc22-42e0-a142-b90563409f58"
      },
      "execution_count": null,
      "outputs": [
        {
          "output_type": "execute_result",
          "data": {
            "text/plain": [
              "[1, 2, 3, 'a', 4, 5, 3, 3]"
            ]
          },
          "metadata": {},
          "execution_count": 4
        }
      ]
    },
    {
      "cell_type": "code",
      "source": [
        "l.extend([\"funny\",1,3,45])\n",
        "l"
      ],
      "metadata": {
        "colab": {
          "base_uri": "https://localhost:8080/"
        },
        "id": "lTaPFZoEj2P7",
        "outputId": "b7206005-f549-45a6-966c-a66df788a90d"
      },
      "execution_count": null,
      "outputs": [
        {
          "output_type": "execute_result",
          "data": {
            "text/plain": [
              "[1, 2, 3, 'a', 4, 5, 3, 3, 'f', 'u', 'n', 'funny', 1, 3, 'funny', 1, 3, 45]"
            ]
          },
          "metadata": {},
          "execution_count": 7
        }
      ]
    },
    {
      "cell_type": "code",
      "source": [
        "l.extend(33)\n",
        "l"
      ],
      "metadata": {
        "id": "TW7VyCMklbee"
      },
      "execution_count": null,
      "outputs": []
    },
    {
      "cell_type": "code",
      "source": [
        "l"
      ],
      "metadata": {
        "colab": {
          "base_uri": "https://localhost:8080/"
        },
        "id": "q5Q0AsAFlifz",
        "outputId": "5b3630f6-bcc5-4270-886f-83476c6d6603"
      },
      "execution_count": null,
      "outputs": [
        {
          "output_type": "execute_result",
          "data": {
            "text/plain": [
              "[1, 2, 3, 'a', 4, 5, 3, 3, 'f', 'u', 'n', 'funny', 1, 3, 'funny', 1, 3, 45, 23]"
            ]
          },
          "metadata": {},
          "execution_count": 33
        }
      ]
    },
    {
      "cell_type": "code",
      "source": [
        "li=[[1,2,3],[\"msn\",\"mn\"],5,'n']\n",
        "print(li)\n",
        "li.insert(3,(5+1j))\n",
        "print(f\"new list:{li}\")"
      ],
      "metadata": {
        "colab": {
          "base_uri": "https://localhost:8080/"
        },
        "id": "sdIeXu0HtPi-",
        "outputId": "99d593d3-a80a-4084-d3a0-5a3627c85a96"
      },
      "execution_count": null,
      "outputs": [
        {
          "output_type": "stream",
          "name": "stdout",
          "text": [
            "[[1, 2, 3], ['msn', 'mn'], 5, 'n']\n",
            "new list:[[1, 2, 3], ['msn', 'mn'], 5, (5+1j), 'n']\n"
          ]
        }
      ]
    },
    {
      "cell_type": "code",
      "source": [
        "type(li[3])"
      ],
      "metadata": {
        "colab": {
          "base_uri": "https://localhost:8080/"
        },
        "id": "vEhdh9vHpmyt",
        "outputId": "3a0de7f5-879c-4925-ffe8-539792cf0756"
      },
      "execution_count": null,
      "outputs": [
        {
          "output_type": "execute_result",
          "data": {
            "text/plain": [
              "complex"
            ]
          },
          "metadata": {},
          "execution_count": 65
        }
      ]
    },
    {
      "cell_type": "code",
      "source": [
        "# extracting the list:\n",
        "for i in  range(len(li)):\n",
        "  if type(li[i])==list:\n",
        "    print(f\"position: {i} list : {li[i]}\")\n",
        "  else:\n",
        "      continue;\n",
        "li\n",
        "print(f\"renameing: {li[1][0]} to:\")\n",
        "li[1].insert(0,\"msn\")\n",
        "li[1].pop(1)\n",
        "li"
      ],
      "metadata": {
        "colab": {
          "base_uri": "https://localhost:8080/"
        },
        "id": "ZdoGs26anvhH",
        "outputId": "b8c4f025-4ec4-4562-f5f9-043ec10522a5"
      },
      "execution_count": null,
      "outputs": [
        {
          "output_type": "stream",
          "name": "stdout",
          "text": [
            "position: 0 list : [1, 2, 3]\n",
            "position: 1 list : ['msn', 'nms', 'nms', 'nms', 'msn', 'mn']\n",
            "renameing: msn to:\n"
          ]
        },
        {
          "output_type": "execute_result",
          "data": {
            "text/plain": [
              "[[1, 2, 3], ['msn', 'nms', 'nms', 'nms', 'msn', 'mn'], 5, (5+1j), 'z']"
            ]
          },
          "metadata": {},
          "execution_count": 98
        }
      ]
    },
    {
      "cell_type": "code",
      "source": [
        "print(f\"second elements of nested are {li[0][1]} and {li[1][1]}\")"
      ],
      "metadata": {
        "colab": {
          "base_uri": "https://localhost:8080/"
        },
        "id": "X-DfvgcvsOZf",
        "outputId": "d05cee91-6112-41e5-c515-5c56a7ea1429"
      },
      "execution_count": null,
      "outputs": [
        {
          "output_type": "stream",
          "name": "stdout",
          "text": [
            "second elements of nested are 2 and nms\n"
          ]
        }
      ]
    },
    {
      "cell_type": "code",
      "source": [
        "# creating the list the list:\n",
        "x=[]\n",
        "y=[]\n",
        "for i in  range(3):\n",
        "  x.append(input())\n",
        "  y.append(input())\n",
        "\n",
        "print(x,y)\n"
      ],
      "metadata": {
        "colab": {
          "base_uri": "https://localhost:8080/"
        },
        "id": "1KrrQxRIvsnv",
        "outputId": "8fbee13a-064a-4970-d2a0-ed4c0fc881fb"
      },
      "execution_count": null,
      "outputs": [
        {
          "output_type": "stream",
          "name": "stdout",
          "text": [
            "van\n",
            "45\n",
            "76\n",
            "man\n",
            "67\n",
            "hp\n",
            "['van', '76', '67'] ['45', 'man', 'hp']\n"
          ]
        }
      ]
    },
    {
      "cell_type": "code",
      "source": [
        "items=[]\n",
        "\n",
        "items.append(5)\n",
        "items.append([\"lane\",45,\"rain\"])\n",
        "items.append([5,6])\n",
        "items.append([\"msn\",21])\n",
        "items.insert(3,(5+1j))\n",
        "print(f\"new list:{items}\")  "
      ],
      "metadata": {
        "colab": {
          "base_uri": "https://localhost:8080/"
        },
        "id": "-v-e6Lfu3ccM",
        "outputId": "3763f0dd-888c-487c-afe8-16d6eca08f56"
      },
      "execution_count": null,
      "outputs": [
        {
          "output_type": "stream",
          "name": "stdout",
          "text": [
            "new list:[5, ['lane', 45, 'rain'], [5, 6], (5+1j), ['msn', 21]]\n"
          ]
        }
      ]
    },
    {
      "cell_type": "code",
      "source": [
        "# extracting the list:\n",
        "new_li=[]\n",
        "\n",
        "for i in  range(len(items)):\n",
        "  if type(items[i])==list:\n",
        "    print(f\"list is persent at index {i} following list is {items[i]}\")\n",
        "    for j in range(len(items[i])):\n",
        "      if type(items[i][j])==str:   \n",
        "        print(f\"the string data is :'{items[i][j]}' position at nested list is:{j}\\n\")\n",
        "        continue;   \n",
        "      else:\n",
        "        new_li.append([items[i][j]]);\n",
        "  else:\n",
        "    new_li.append(items[i])\n",
        "print(f'new item list after removing the strings is {new_li}')\n"
      ],
      "metadata": {
        "colab": {
          "base_uri": "https://localhost:8080/"
        },
        "id": "NT8wt5GK44lP",
        "outputId": "041eaaed-d07b-46b0-a942-e9cd1daa69e5"
      },
      "execution_count": null,
      "outputs": [
        {
          "output_type": "stream",
          "name": "stdout",
          "text": [
            "list is persent at index 1 following list is ['lane', 45, 'rain']\n",
            "the string data is :'lane' position at nested list is:0\n",
            "\n",
            "the string data is :'rain' position at nested list is:2\n",
            "\n",
            "list is persent at index 2 following list is [5, 6]\n",
            "list is persent at index 4 following list is ['msn', 21]\n",
            "the string data is :'msn' position at nested list is:0\n",
            "\n",
            "new item list after removing the strings is [5, [45], [5], [6], (5+1j), [21]]\n"
          ]
        }
      ]
    },
    {
      "cell_type": "code",
      "source": [
        "items.reverse()"
      ],
      "metadata": {
        "id": "EWefqirDKinI"
      },
      "execution_count": null,
      "outputs": []
    },
    {
      "cell_type": "code",
      "source": [
        "items"
      ],
      "metadata": {
        "colab": {
          "base_uri": "https://localhost:8080/"
        },
        "id": "8vfz4u4Cq31h",
        "outputId": "5dc5cca4-9460-4599-fb4c-9af01cc452f5"
      },
      "execution_count": null,
      "outputs": [
        {
          "output_type": "execute_result",
          "data": {
            "text/plain": [
              "[['msn', 21], (5+1j), [5, 6], ['lane', 45, 'rain'], 5]"
            ]
          },
          "metadata": {},
          "execution_count": 44
        }
      ]
    },
    {
      "cell_type": "markdown",
      "source": [
        "## set:\n",
        "1. Gives the unique set of available data.\n",
        "2. Sets are immutables\n",
        "3. NOT seseptible.\n",
        "\n"
      ],
      "metadata": {
        "id": "yzJclPtqpsrZ"
      }
    },
    {
      "cell_type": "code",
      "source": [
        "a=[1,3,\"m\",3,2,3,\"n\"]"
      ],
      "metadata": {
        "id": "aWsBMul4RKzy"
      },
      "execution_count": null,
      "outputs": []
    },
    {
      "cell_type": "code",
      "source": [
        "st=set(a)\n",
        "st"
      ],
      "metadata": {
        "colab": {
          "base_uri": "https://localhost:8080/"
        },
        "id": "t6cMK4PPqZ7Z",
        "outputId": "e7183e90-1823-42a1-d480-6cd6a054c4d2"
      },
      "execution_count": null,
      "outputs": [
        {
          "output_type": "execute_result",
          "data": {
            "text/plain": [
              "{1, 2, 3, 'm', 'n'}"
            ]
          },
          "metadata": {},
          "execution_count": 48
        }
      ]
    },
    {
      "cell_type": "markdown",
      "source": [
        "## List And Tuples\n",
        "1. List Can be mutable. [  ]\n",
        "2. Tuples are immutable (  )\n",
        "\n"
      ],
      "metadata": {
        "id": "IwkzPpntqrKZ"
      }
    },
    {
      "cell_type": "code",
      "source": [
        "## List\n",
        "lst=list(a)\n",
        "lst"
      ],
      "metadata": {
        "colab": {
          "base_uri": "https://localhost:8080/"
        },
        "id": "Tdz19PrPqf3Y",
        "outputId": "455a3f6d-45ec-49dc-83f5-1d6b9121b074"
      },
      "execution_count": null,
      "outputs": [
        {
          "output_type": "execute_result",
          "data": {
            "text/plain": [
              "[1, 3, 'm', 3, 2, 3, 'n']"
            ]
          },
          "metadata": {},
          "execution_count": 50
        }
      ]
    },
    {
      "cell_type": "code",
      "source": [
        "## Tuples:\n",
        "tpl=tuple(a) \n",
        "tpl"
      ],
      "metadata": {
        "colab": {
          "base_uri": "https://localhost:8080/"
        },
        "id": "I8gnVa26rTgE",
        "outputId": "1004e53b-3810-4039-d0d1-d6f5296cc976"
      },
      "execution_count": null,
      "outputs": [
        {
          "output_type": "execute_result",
          "data": {
            "text/plain": [
              "(1, 3, 'm', 3, 2, 3, 'n')"
            ]
          },
          "metadata": {},
          "execution_count": 52
        }
      ]
    },
    {
      "cell_type": "code",
      "source": [
        "z={6:{1,2,3}}\n",
        "tuple(e[6])[0]"
      ],
      "metadata": {
        "id": "aTkxi4vD28ed"
      },
      "execution_count": null,
      "outputs": []
    },
    {
      "cell_type": "markdown",
      "source": [
        "## Dictionary\n",
        "\n",
        "\n",
        "1.   Need to be in pair ie key :Value.  {\"name\":\"msn\"}\n",
        "2.   Else will be considered as set as both represented by the paranthesis.{}\n",
        "\n",
        "3. key should be unique else it will keep on update the data every time the same key is mentioned with different Value.\n",
        "\n",
        "4. for KEY:\n",
        "    * Special characters are not allowed.\n",
        "    * It can be a tuples but cannot be a list\n",
        "\n",
        "\n",
        "\n",
        "\n"
      ],
      "metadata": {
        "id": "eG2WxOUbr-QO"
      }
    },
    {
      "cell_type": "code",
      "source": [
        "x={}\n",
        "type(x)"
      ],
      "metadata": {
        "colab": {
          "base_uri": "https://localhost:8080/"
        },
        "id": "khrfrGHCsEiS",
        "outputId": "b80387ef-41dc-4435-a6f5-7ec5ae4e2699"
      },
      "execution_count": null,
      "outputs": [
        {
          "output_type": "execute_result",
          "data": {
            "text/plain": [
              "dict"
            ]
          },
          "metadata": {},
          "execution_count": 54
        }
      ]
    },
    {
      "cell_type": "code",
      "source": [
        "diction={\"items\": 'apple' ,\"price(in rupees)\":20 ,\"other fruits\":[\"orange\",\"Banana\",\"Guava\",2]}\n",
        "diction"
      ],
      "metadata": {
        "colab": {
          "base_uri": "https://localhost:8080/"
        },
        "id": "LigFfCxRukEB",
        "outputId": "6ed180c0-5f67-4c24-d904-bd15d23884f6"
      },
      "execution_count": null,
      "outputs": [
        {
          "output_type": "execute_result",
          "data": {
            "text/plain": [
              "{'items': 'apple',\n",
              " 'other fruits': ['orange', 'Banana', 'Guava', 2],\n",
              " 'price(in rupees)': 20}"
            ]
          },
          "metadata": {},
          "execution_count": 110
        }
      ]
    },
    {
      "cell_type": "code",
      "source": [
        "diction[\"other fruits\"]"
      ],
      "metadata": {
        "colab": {
          "base_uri": "https://localhost:8080/"
        },
        "id": "RUi5D_x-u1ZL",
        "outputId": "0deab5f3-7866-483e-8c24-d5719c6463e2"
      },
      "execution_count": null,
      "outputs": [
        {
          "output_type": "execute_result",
          "data": {
            "text/plain": [
              "['orange', 'Banana', 'Guava', 2]"
            ]
          },
          "metadata": {},
          "execution_count": 111
        }
      ]
    },
    {
      "cell_type": "code",
      "source": [
        "diction[\"other fruits\"][0:2]"
      ],
      "metadata": {
        "colab": {
          "base_uri": "https://localhost:8080/"
        },
        "id": "W-GTgrMNyAEj",
        "outputId": "d484cce8-82af-4fdc-8d15-381f6adb4e85"
      },
      "execution_count": null,
      "outputs": [
        {
          "output_type": "execute_result",
          "data": {
            "text/plain": [
              "['orange', 'Banana']"
            ]
          },
          "metadata": {},
          "execution_count": 112
        }
      ]
    },
    {
      "cell_type": "code",
      "source": [
        "diction.keys()"
      ],
      "metadata": {
        "colab": {
          "base_uri": "https://localhost:8080/"
        },
        "id": "DGafmw1VyZ4Y",
        "outputId": "418f100a-2c5a-44c6-ae14-f38b687aa741"
      },
      "execution_count": null,
      "outputs": [
        {
          "output_type": "execute_result",
          "data": {
            "text/plain": [
              "dict_keys(['items', 'price(in rupees)', 'other fruits'])"
            ]
          },
          "metadata": {},
          "execution_count": 113
        }
      ]
    },
    {
      "cell_type": "code",
      "source": [
        "for i in diction.keys():  \n",
        "  print(diction[i],end=\" \")\n",
        "  print(type(diction[i]))  \n",
        "  if type(diction[i])==list:\n",
        "    print(\"\\nInside List values are:\")\n",
        "    for j in range(len(diction[i])):\n",
        "      print(f\" {(diction[i][j])} {type(diction[i][j])}, and the location index is:{j}\")"
      ],
      "metadata": {
        "colab": {
          "base_uri": "https://localhost:8080/"
        },
        "id": "ICaDsHla0tZ4",
        "outputId": "f77313d6-a3d3-4395-eb0c-7ab3a084d937"
      },
      "execution_count": null,
      "outputs": [
        {
          "output_type": "stream",
          "name": "stdout",
          "text": [
            "apple <class 'str'>\n",
            "20 <class 'int'>\n",
            "['orange', 'Banana', 'Guava', 2] <class 'list'>\n",
            "\n",
            "Inside List values are:\n",
            " orange <class 'str'>, and the location index is:0\n",
            " Banana <class 'str'>, and the location index is:1\n",
            " Guava <class 'str'>, and the location index is:2\n",
            " 2 <class 'int'>, and the location index is:3\n"
          ]
        }
      ]
    },
    {
      "cell_type": "code",
      "source": [
        "type(diction['other fruits'][2])"
      ],
      "metadata": {
        "colab": {
          "base_uri": "https://localhost:8080/"
        },
        "id": "tfkKbkJS0_bE",
        "outputId": "2077a565-d5c3-4741-8cf4-ecea503cfcb1"
      },
      "execution_count": null,
      "outputs": [
        {
          "output_type": "execute_result",
          "data": {
            "text/plain": [
              "str"
            ]
          },
          "metadata": {},
          "execution_count": 115
        }
      ]
    },
    {
      "cell_type": "code",
      "source": [
        "#take input and convert into list:\n",
        "inp=input(\"\")\n",
        "a=inp.split(\" \")"
      ],
      "metadata": {
        "colab": {
          "base_uri": "https://localhost:8080/"
        },
        "id": "iN0NaHPT6thJ",
        "outputId": "ceb27d59-e5a0-4657-bed9-6baae0047d26"
      },
      "execution_count": null,
      "outputs": [
        {
          "name": "stdout",
          "output_type": "stream",
          "text": [
            "दोस्तो हमने यहां आपको सीएससी के अंतर्गत कार्य करने वाली कुछ सर्विस और उसका डायरेक्ट लिंक दिया है तो आप बिना कहीं भटके अपने मनचाहे सर्विस का आनंद एक ही जगह से ले सकते हैं । यहां पर सीएससी की हर सर्विस और उसका डायरेक्ट लिंक मिलता रहेगा यहां पर भविष्य में लिंक भी अपडेट किए जा सकते हैं ।\n"
          ]
        }
      ]
    },
    {
      "cell_type": "code",
      "source": [
        "a"
      ],
      "metadata": {
        "colab": {
          "base_uri": "https://localhost:8080/"
        },
        "id": "CKgnUOXn8QUo",
        "outputId": "3ea0f6df-f883-44a8-b335-5659631c6a4a"
      },
      "execution_count": null,
      "outputs": [
        {
          "output_type": "execute_result",
          "data": {
            "text/plain": [
              "['दोस्तो',\n",
              " 'हमने',\n",
              " 'यहां',\n",
              " 'आपको',\n",
              " 'सीएससी',\n",
              " 'के',\n",
              " 'अंतर्गत',\n",
              " 'कार्य',\n",
              " 'करने',\n",
              " 'वाली',\n",
              " 'कुछ',\n",
              " 'सर्विस',\n",
              " 'और',\n",
              " 'उसका',\n",
              " 'डायरेक्ट',\n",
              " 'लिंक',\n",
              " 'दिया',\n",
              " 'है',\n",
              " 'तो',\n",
              " 'आप',\n",
              " 'बिना',\n",
              " 'कहीं',\n",
              " 'भटके',\n",
              " 'अपने',\n",
              " 'मनचाहे',\n",
              " 'सर्विस',\n",
              " 'का',\n",
              " 'आनंद',\n",
              " 'एक',\n",
              " 'ही',\n",
              " 'जगह',\n",
              " 'से',\n",
              " 'ले',\n",
              " 'सकते',\n",
              " 'हैं',\n",
              " '।',\n",
              " 'यहां',\n",
              " 'पर',\n",
              " 'सीएससी',\n",
              " 'की',\n",
              " 'हर',\n",
              " 'सर्विस',\n",
              " 'और',\n",
              " 'उसका',\n",
              " 'डायरेक्ट',\n",
              " 'लिंक',\n",
              " 'मिलता',\n",
              " 'रहेगा',\n",
              " 'यहां',\n",
              " 'पर',\n",
              " 'भविष्य',\n",
              " 'में',\n",
              " 'लिंक',\n",
              " 'भी',\n",
              " 'अपडेट',\n",
              " 'किए',\n",
              " 'जा',\n",
              " 'सकते',\n",
              " 'हैं',\n",
              " '।']"
            ]
          },
          "metadata": {},
          "execution_count": 188
        }
      ]
    },
    {
      "cell_type": "code",
      "source": [
        "#removing the duplicate element:\n",
        "set(a)"
      ],
      "metadata": {
        "colab": {
          "base_uri": "https://localhost:8080/"
        },
        "id": "FmfzCUka8QiU",
        "outputId": "edfae7ec-0619-4528-9fc4-66ec8501c658"
      },
      "execution_count": null,
      "outputs": [
        {
          "output_type": "execute_result",
          "data": {
            "text/plain": [
              "{'अंतर्गत',\n",
              " 'अपडेट',\n",
              " 'अपने',\n",
              " 'आनंद',\n",
              " 'आप',\n",
              " 'आपको',\n",
              " 'उसका',\n",
              " 'एक',\n",
              " 'और',\n",
              " 'करने',\n",
              " 'कहीं',\n",
              " 'का',\n",
              " 'कार्य',\n",
              " 'किए',\n",
              " 'की',\n",
              " 'कुछ',\n",
              " 'के',\n",
              " 'जगह',\n",
              " 'जा',\n",
              " 'डायरेक्ट',\n",
              " 'तो',\n",
              " 'दिया',\n",
              " 'दोस्तो',\n",
              " 'पर',\n",
              " 'बिना',\n",
              " 'भटके',\n",
              " 'भविष्य',\n",
              " 'भी',\n",
              " 'मनचाहे',\n",
              " 'मिलता',\n",
              " 'में',\n",
              " 'यहां',\n",
              " 'रहेगा',\n",
              " 'लिंक',\n",
              " 'ले',\n",
              " 'वाली',\n",
              " 'सकते',\n",
              " 'सर्विस',\n",
              " 'सीएससी',\n",
              " 'से',\n",
              " 'हमने',\n",
              " 'हर',\n",
              " 'ही',\n",
              " 'है',\n",
              " 'हैं',\n",
              " '।'}"
            ]
          },
          "metadata": {},
          "execution_count": 189
        }
      ]
    },
    {
      "cell_type": "code",
      "source": [
        "# Converting set to dictionary\n",
        "dictionary=dict.fromkeys(a,\"msn\")\n",
        "dictionary"
      ],
      "metadata": {
        "colab": {
          "base_uri": "https://localhost:8080/"
        },
        "id": "T11rPaJB9GJv",
        "outputId": "da99e348-8671-4251-bbf3-ffe0637efc62"
      },
      "execution_count": null,
      "outputs": [
        {
          "output_type": "execute_result",
          "data": {
            "text/plain": [
              "{'अंतर्गत': 'msn',\n",
              " 'अपडेट': 'msn',\n",
              " 'अपने': 'msn',\n",
              " 'आनंद': 'msn',\n",
              " 'आप': 'msn',\n",
              " 'आपको': 'msn',\n",
              " 'उसका': 'msn',\n",
              " 'एक': 'msn',\n",
              " 'और': 'msn',\n",
              " 'करने': 'msn',\n",
              " 'कहीं': 'msn',\n",
              " 'का': 'msn',\n",
              " 'कार्य': 'msn',\n",
              " 'किए': 'msn',\n",
              " 'की': 'msn',\n",
              " 'कुछ': 'msn',\n",
              " 'के': 'msn',\n",
              " 'जगह': 'msn',\n",
              " 'जा': 'msn',\n",
              " 'डायरेक्ट': 'msn',\n",
              " 'तो': 'msn',\n",
              " 'दिया': 'msn',\n",
              " 'दोस्तो': 'msn',\n",
              " 'पर': 'msn',\n",
              " 'बिना': 'msn',\n",
              " 'भटके': 'msn',\n",
              " 'भविष्य': 'msn',\n",
              " 'भी': 'msn',\n",
              " 'मनचाहे': 'msn',\n",
              " 'मिलता': 'msn',\n",
              " 'में': 'msn',\n",
              " 'यहां': 'msn',\n",
              " 'रहेगा': 'msn',\n",
              " 'लिंक': 'msn',\n",
              " 'ले': 'msn',\n",
              " 'वाली': 'msn',\n",
              " 'सकते': 'msn',\n",
              " 'सर्विस': 'msn',\n",
              " 'सीएससी': 'msn',\n",
              " 'से': 'msn',\n",
              " 'हमने': 'msn',\n",
              " 'हर': 'msn',\n",
              " 'ही': 'msn',\n",
              " 'है': 'msn',\n",
              " 'हैं': 'msn',\n",
              " '।': 'msn'}"
            ]
          },
          "metadata": {},
          "execution_count": 190
        }
      ]
    },
    {
      "cell_type": "code",
      "source": [
        "# extracting the value:\n",
        "print(\"values:\\n\")\n",
        "for i in dictionary:\n",
        "  print(tuple(dictionary[i]),end=\"\")\n"
      ],
      "metadata": {
        "colab": {
          "base_uri": "https://localhost:8080/"
        },
        "id": "O5yZa5sYAftU",
        "outputId": "c58bab41-7086-4333-f2ca-e241c0605f74"
      },
      "execution_count": null,
      "outputs": [
        {
          "output_type": "stream",
          "name": "stdout",
          "text": [
            "values:\n",
            "\n",
            "('m', 's', 'n')('m', 's', 'n')('m', 's', 'n')('m', 's', 'n')('m', 's', 'n')('m', 's', 'n')('m', 's', 'n')('m', 's', 'n')('m', 's', 'n')('m', 's', 'n')('m', 's', 'n')('m', 's', 'n')('m', 's', 'n')('m', 's', 'n')('m', 's', 'n')('m', 's', 'n')('m', 's', 'n')('m', 's', 'n')('m', 's', 'n')('m', 's', 'n')('m', 's', 'n')('m', 's', 'n')('m', 's', 'n')('m', 's', 'n')('m', 's', 'n')('m', 's', 'n')('m', 's', 'n')('m', 's', 'n')('m', 's', 'n')('m', 's', 'n')('m', 's', 'n')('m', 's', 'n')('m', 's', 'n')('m', 's', 'n')('m', 's', 'n')('m', 's', 'n')('m', 's', 'n')('m', 's', 'n')('m', 's', 'n')('m', 's', 'n')('m', 's', 'n')('m', 's', 'n')('m', 's', 'n')('m', 's', 'n')('m', 's', 'n')('m', 's', 'n')"
          ]
        }
      ]
    },
    {
      "cell_type": "code",
      "source": [
        "# extracting the value:\n",
        "print(\"values:\\n\")\n",
        "for i in dictionary:\n",
        "  print(dictionary[i],end=\" \")\n"
      ],
      "metadata": {
        "colab": {
          "base_uri": "https://localhost:8080/"
        },
        "id": "f-hXJ1zLCfUe",
        "outputId": "f3dd7202-4d07-4868-a4f9-44dfc67f780a"
      },
      "execution_count": null,
      "outputs": [
        {
          "output_type": "stream",
          "name": "stdout",
          "text": [
            "values:\n",
            "\n",
            "msn msn msn msn msn msn msn msn msn msn msn msn msn msn msn msn msn msn msn msn msn msn msn msn msn msn msn msn msn msn msn msn msn msn msn msn msn msn msn msn msn msn msn msn msn msn "
          ]
        }
      ]
    },
    {
      "cell_type": "code",
      "source": [
        "# extracting the keys:\n",
        "print(\"keys:\\n\")\n",
        "for i in dictionary:\n",
        "  print(list(i),end=\"  \")"
      ],
      "metadata": {
        "colab": {
          "base_uri": "https://localhost:8080/"
        },
        "id": "SXPywt7M94vz",
        "outputId": "87ab317f-ef8c-4319-fc43-e8f227907d88"
      },
      "execution_count": null,
      "outputs": [
        {
          "output_type": "stream",
          "name": "stdout",
          "text": [
            "keys:\n",
            "\n",
            "['द', 'ो', 'स', '्', 'त', 'ो']  ['ह', 'म', 'न', 'े']  ['य', 'ह', 'ा', 'ं']  ['आ', 'प', 'क', 'ो']  ['स', 'ी', 'ए', 'स', 'स', 'ी']  ['क', 'े']  ['अ', 'ं', 'त', 'र', '्', 'ग', 'त']  ['क', 'ा', 'र', '्', 'य']  ['क', 'र', 'न', 'े']  ['व', 'ा', 'ल', 'ी']  ['क', 'ु', 'छ']  ['स', 'र', '्', 'व', 'ि', 'स']  ['औ', 'र']  ['उ', 'स', 'क', 'ा']  ['ड', 'ा', 'य', 'र', 'े', 'क', '्', 'ट']  ['ल', 'ि', 'ं', 'क']  ['द', 'ि', 'य', 'ा']  ['ह', 'ै']  ['त', 'ो']  ['आ', 'प']  ['ब', 'ि', 'न', 'ा']  ['क', 'ह', 'ी', 'ं']  ['भ', 'ट', 'क', 'े']  ['अ', 'प', 'न', 'े']  ['म', 'न', 'च', 'ा', 'ह', 'े']  ['क', 'ा']  ['आ', 'न', 'ं', 'द']  ['ए', 'क']  ['ह', 'ी']  ['ज', 'ग', 'ह']  ['स', 'े']  ['ल', 'े']  ['स', 'क', 'त', 'े']  ['ह', 'ै', 'ं']  ['।']  ['प', 'र']  ['क', 'ी']  ['ह', 'र']  ['म', 'ि', 'ल', 'त', 'ा']  ['र', 'ह', 'े', 'ग', 'ा']  ['भ', 'व', 'ि', 'ष', '्', 'य']  ['म', 'े', 'ं']  ['भ', 'ी']  ['अ', 'प', 'ड', 'े', 'ट']  ['क', 'ि', 'ए']  ['ज', 'ा']  "
          ]
        }
      ]
    },
    {
      "cell_type": "code",
      "source": [
        "# extracting the keys:\n",
        "print(\"keys:\\n\")\n",
        "for i in dictionary:\n",
        "  print(i,end=\"  \")"
      ],
      "metadata": {
        "colab": {
          "base_uri": "https://localhost:8080/"
        },
        "id": "GXiR1dEeCAj1",
        "outputId": "8d29dc89-5286-4203-eb0a-a93e896c7252"
      },
      "execution_count": null,
      "outputs": [
        {
          "output_type": "stream",
          "name": "stdout",
          "text": [
            "keys:\n",
            "\n",
            "दोस्तो  हमने  यहां  आपको  सीएससी  के  अंतर्गत  कार्य  करने  वाली  कुछ  सर्विस  और  उसका  डायरेक्ट  लिंक  दिया  है  तो  आप  बिना  कहीं  भटके  अपने  मनचाहे  का  आनंद  एक  ही  जगह  से  ले  सकते  हैं  ।  पर  की  हर  मिलता  रहेगा  भविष्य  में  भी  अपडेट  किए  जा  "
          ]
        }
      ]
    },
    {
      "cell_type": "markdown",
      "source": [
        "## function:"
      ],
      "metadata": {
        "id": "JjfYIZpFMDyn"
      }
    },
    {
      "cell_type": "code",
      "source": [
        "def fun(x,y):\n",
        "  return x,y"
      ],
      "metadata": {
        "id": "vI3eGZlrMEg1"
      },
      "execution_count": null,
      "outputs": []
    },
    {
      "cell_type": "code",
      "source": [
        "fun(2,3)"
      ],
      "metadata": {
        "colab": {
          "base_uri": "https://localhost:8080/"
        },
        "id": "3bokv-Drf_fu",
        "outputId": "68be123a-75ca-4e44-c549-9d7e517d41f7"
      },
      "execution_count": null,
      "outputs": [
        {
          "output_type": "execute_result",
          "data": {
            "text/plain": [
              "(2, 3)"
            ]
          },
          "metadata": {},
          "execution_count": 196
        }
      ]
    },
    {
      "cell_type": "code",
      "source": [
        "def fun2(x,y):\n",
        "  return x,x*2,y*2"
      ],
      "metadata": {
        "id": "A9bQV56FgB08"
      },
      "execution_count": null,
      "outputs": []
    },
    {
      "cell_type": "code",
      "source": [
        "fun2(2,3)"
      ],
      "metadata": {
        "colab": {
          "base_uri": "https://localhost:8080/"
        },
        "id": "A1L-_BLCgQgg",
        "outputId": "d0474a60-76cf-4c2a-c5ae-df9f7ed8a2d4"
      },
      "execution_count": null,
      "outputs": [
        {
          "output_type": "execute_result",
          "data": {
            "text/plain": [
              "(2, 4, 6)"
            ]
          },
          "metadata": {},
          "execution_count": 199
        }
      ]
    },
    {
      "cell_type": "code",
      "source": [
        "fun2([2,3,4],[1,2])"
      ],
      "metadata": {
        "colab": {
          "base_uri": "https://localhost:8080/"
        },
        "id": "Q1TrVijGgXta",
        "outputId": "3a9ab236-fc60-49ad-855c-8476a5790b41"
      },
      "execution_count": null,
      "outputs": [
        {
          "output_type": "execute_result",
          "data": {
            "text/plain": [
              "([2, 3, 4], [2, 3, 4, 2, 3, 4], [1, 2, 1, 2])"
            ]
          },
          "metadata": {},
          "execution_count": 201
        }
      ]
    },
    {
      "cell_type": "code",
      "source": [
        "def boolx(x=True,y=False):\n",
        "  return x+y"
      ],
      "metadata": {
        "id": "JRpMjrmPgevH"
      },
      "execution_count": null,
      "outputs": []
    },
    {
      "cell_type": "code",
      "source": [
        "boolx()"
      ],
      "metadata": {
        "colab": {
          "base_uri": "https://localhost:8080/"
        },
        "id": "H-RtSJ94gw9L",
        "outputId": "c563d712-3681-42c7-843a-ae4dc2be4bae"
      },
      "execution_count": null,
      "outputs": [
        {
          "output_type": "execute_result",
          "data": {
            "text/plain": [
              "1"
            ]
          },
          "metadata": {},
          "execution_count": 218
        }
      ]
    },
    {
      "cell_type": "markdown",
      "source": [
        "## *arg and **kwarg:\n",
        "\n",
        "\n",
        "*   **arg** : return in the form of tuple and can take any value.\n",
        "*   **kwarg** :return in the form of Dictionary can take only **KEY:VALUE** data i/P\n",
        "\n"
      ],
      "metadata": {
        "id": "1dRlRUbA1dcN"
      }
    },
    {
      "cell_type": "code",
      "source": [
        "def arg(*args):\n",
        "  return args\n",
        "\n",
        "arg([2,3],[3,4],[2.3,3,4,4,6])"
      ],
      "metadata": {
        "colab": {
          "base_uri": "https://localhost:8080/"
        },
        "id": "LfNNb9eb2Tfq",
        "outputId": "b3633acc-abe4-4bd3-8410-2e636f4d5f1c"
      },
      "execution_count": null,
      "outputs": [
        {
          "output_type": "execute_result",
          "data": {
            "text/plain": [
              "([2, 3], [3, 4], [2.3, 3, 4, 4, 6])"
            ]
          },
          "metadata": {},
          "execution_count": 107
        }
      ]
    },
    {
      "cell_type": "code",
      "source": [
        "def arg1(*args):# arg ia an iterator\n",
        "  my=[]\n",
        "  for i in args:\n",
        "    my=my+i\n",
        "  return my\n"
      ],
      "metadata": {
        "id": "48gQ_FEMg4VY"
      },
      "execution_count": null,
      "outputs": []
    },
    {
      "cell_type": "code",
      "source": [
        "arg1([2,3],[3,4],[2.3,3,4,4,6])\n"
      ],
      "metadata": {
        "colab": {
          "base_uri": "https://localhost:8080/"
        },
        "id": "OsIbyCK0r4tI",
        "outputId": "13e13de7-73bc-4561-a86c-c38f4a2de38c"
      },
      "execution_count": null,
      "outputs": [
        {
          "output_type": "execute_result",
          "data": {
            "text/plain": [
              "[2, 3, 3, 4, 2.3, 3, 4, 4, 6]"
            ]
          },
          "metadata": {},
          "execution_count": 140
        }
      ]
    },
    {
      "cell_type": "code",
      "source": [
        "def kwarg(**kwargs):\n",
        "  return kwargs\n",
        "\n",
        "kwarg(a=[2,3],b=[3,4],c=[2.3,3,4,4,6])"
      ],
      "metadata": {
        "colab": {
          "base_uri": "https://localhost:8080/"
        },
        "id": "aE8pUiJEtjE1",
        "outputId": "3ba464c3-d4dc-48cc-ff53-1da7a9390772"
      },
      "execution_count": null,
      "outputs": [
        {
          "output_type": "execute_result",
          "data": {
            "text/plain": [
              "{'a': [2, 3], 'b': [3, 4], 'c': [2.3, 3, 4, 4, 6]}"
            ]
          },
          "metadata": {},
          "execution_count": 110
        }
      ]
    },
    {
      "cell_type": "code",
      "source": [
        "## SSQ\n",
        "\n",
        "def q1(*args):\n",
        "  lest=[]\n",
        "  strang=[]\n",
        "  integer=[]\n",
        "  boolen=[]\n",
        "  taple=[]\n",
        "  for i in args:\n",
        "    if type(i)==list:\n",
        "      lest=lest+i\n",
        "    elif type(i)==bool:\n",
        "      boolen.append(i)\n",
        "    elif type(i)==str:\n",
        "      strang.append(i)\n",
        "    elif type(i)==tuple:\n",
        "      taple.append(i)\n",
        "    elif type(i)==int:\n",
        "      integer.append(i)\n",
        "    else:\n",
        "      continue\n",
        "  listdt=print(f\"list datatype:{lest}\")\n",
        "    \n",
        "  stringdt=print(f\"String datatype:{strang}\")\n",
        "    \n",
        "  integerdt=print(f\"Integer datatype:{integer}\")\n",
        "    \n",
        "  boolendt=print(f\"boolen datatype:{boolen}\")\n",
        "\n",
        "  tapledt=print(f\"taple datatype:{taple}\")\n",
        "    \n",
        "  return "
      ],
      "metadata": {
        "id": "31J29wY53pF8"
      },
      "execution_count": null,
      "outputs": []
    },
    {
      "cell_type": "code",
      "source": [
        "q1(1,\"a\",\"msn\",[1,2],[32,\"3\",\"msn\"],(\"s\",3),True)"
      ],
      "metadata": {
        "colab": {
          "base_uri": "https://localhost:8080/"
        },
        "id": "k1xwX7pJ43-a",
        "outputId": "b2dd0d61-71a1-4eaa-86e4-5982612c8400"
      },
      "execution_count": null,
      "outputs": [
        {
          "output_type": "stream",
          "name": "stdout",
          "text": [
            "list datatype:[1, 2, 32, '3', 'msn']\n",
            "String datatype:['a', 'msn']\n",
            "Integer datatype:[1]\n",
            "boolen datatype:[True]\n",
            "taple datatype:[('s', 3)]\n"
          ]
        }
      ]
    },
    {
      "cell_type": "code",
      "source": [
        "def funct1(*args,**kwargs):\n",
        "  concatelist=[]\n",
        "  for i in args:\n",
        "    if type(i)==list:\n",
        "      concatelist.append(i)\n",
        "\n",
        "\n",
        "  for j in kwargs.items():\n",
        "    if type(j[1])==list:\n",
        "      \n",
        "      concatelist.append(j[1])\n",
        "  return concatelist\n"
      ],
      "metadata": {
        "id": "Rx0K0XtD-MZX"
      },
      "execution_count": null,
      "outputs": []
    },
    {
      "cell_type": "code",
      "source": [
        "funct1(1,[2,3,55,\"S\"],\"MSN21\",a=[2,3],b=[3,4],c=[2.3,3,4,4,6],d=\"msn\",e=True)"
      ],
      "metadata": {
        "colab": {
          "base_uri": "https://localhost:8080/"
        },
        "id": "kmx99UTcFaXX",
        "outputId": "f53b0e3d-a868-4134-e3ab-2431a9278fc1"
      },
      "execution_count": null,
      "outputs": [
        {
          "output_type": "execute_result",
          "data": {
            "text/plain": [
              "[[2, 3, 55, 'S'], [2, 3], [3, 4], [2.3, 3, 4, 4, 6]]"
            ]
          },
          "metadata": {},
          "execution_count": 8
        }
      ]
    },
    {
      "cell_type": "code",
      "source": [
        "a"
      ],
      "metadata": {
        "colab": {
          "base_uri": "https://localhost:8080/"
        },
        "id": "VcJQO7saOv-N",
        "outputId": "e11c9c42-9dab-4aa9-9699-f352ce2491d9"
      },
      "execution_count": null,
      "outputs": [
        {
          "output_type": "execute_result",
          "data": {
            "text/plain": [
              "str"
            ]
          },
          "metadata": {},
          "execution_count": 16
        }
      ]
    },
    {
      "cell_type": "code",
      "source": [
        "def function2(*args):\n",
        "  new_dic={}\n",
        "  for i in args:\n",
        "    if type(i)in new_dic:\n",
        "      new_dic[type(i)].append(i)\n",
        "    else:\n",
        "      new_dic[type(i)]=[i]\n",
        "  return new_dic\n",
        "\n",
        "\n",
        "function2(\"a\",[1,3,\"b\"],[2],3+3j)\n",
        "\n",
        "      "
      ],
      "metadata": {
        "id": "gkX1baj2O7Rx",
        "colab": {
          "base_uri": "https://localhost:8080/"
        },
        "outputId": "4d48d046-9600-497a-c5be-f072c347db91"
      },
      "execution_count": null,
      "outputs": [
        {
          "output_type": "execute_result",
          "data": {
            "text/plain": [
              "{complex: [(3+3j)], list: [[1, 3, 'b'], [2]], str: ['a']}"
            ]
          },
          "metadata": {},
          "execution_count": 1
        }
      ]
    },
    {
      "cell_type": "code",
      "source": [
        ""
      ],
      "metadata": {
        "id": "0qxuOXSJUKz7"
      },
      "execution_count": null,
      "outputs": []
    }
  ]
}