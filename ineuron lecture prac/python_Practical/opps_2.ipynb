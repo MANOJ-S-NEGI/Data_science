{
  "nbformat": 4,
  "nbformat_minor": 0,
  "metadata": {
    "colab": {
      "name": "opps_2.ipynb",
      "provenance": []
    },
    "kernelspec": {
      "name": "python3",
      "display_name": "Python 3"
    },
    "language_info": {
      "name": "python"
    }
  },
  "cells": [
    {
      "cell_type": "code",
      "source": [
        "class car:\n",
        "\n",
        "    try:\n",
        "        def __init__(self, body, engine, tyre):\n",
        "            self.body=body\n",
        "            self.engine=engine\n",
        "            self.tyre=tyre\n",
        "    except Exception as e:\n",
        "        raise Exception(f\"error init class\",str(e))\n",
        "\n",
        "    try:\n",
        "        def milage(self):\n",
        "            print(f\"milage of the car .....system_online\")\n",
        "\n",
        "    except Exception as e:\n",
        "        raise Exception(f\"error def milage\",str(e))\n"
      ],
      "metadata": {
        "id": "oqR5N4p76tLo"
      },
      "execution_count": 3,
      "outputs": []
    },
    {
      "cell_type": "code",
      "source": [
        "c = car(\"sold\" , \"v6\" , \"radial\")\n",
        "c.milage()\n",
        "class tata(car):\n",
        "    pass\n",
        "\n",
        "t=tata(\"sold\",'v6','radiall')\n",
        "t\n",
        "t.milage()"
      ],
      "metadata": {
        "colab": {
          "base_uri": "https://localhost:8080/"
        },
        "id": "jI0hrxIj8FYc",
        "outputId": "b0b6fc86-c3a0-4b25-e9d1-61886f9a70bf"
      },
      "execution_count": 15,
      "outputs": [
        {
          "output_type": "stream",
          "name": "stdout",
          "text": [
            "milage of the car .....system_online\n",
            "milage of the car .....system_online\n"
          ]
        }
      ]
    },
    {
      "cell_type": "code",
      "source": [
        "## inheritance:\n",
        "class bank:\n",
        "    try:\n",
        "        def transaction(self):\n",
        "            print(\"total transaction value \")\n",
        "\n",
        "        def account_opening(self):\n",
        "            print(\"this will show you your account open status \")\n",
        "\n",
        "        def deposite(self):\n",
        "            print(\"this will show your deposited amount\") \n",
        "\n",
        "    except Exception as e:\n",
        "        raise Exception(f\"error\",str(e))\n",
        "\n",
        "\n",
        "class HDFC_bank(bank):\n",
        "    try:\n",
        "        def hdfc_to_icici(self):\n",
        "            print(\"this will show you all the transaction happend to icici throuhg hdfc\")\n",
        "    except Exception as e:\n",
        "        raise Exception(f\"error\",str(e))\n",
        "\n",
        "\n",
        "class icici(HDFC_bank):\n",
        "    pass\n",
        "\n",
        "\n",
        "i = icici()\n",
        "i.hdfc_to_icici()\n",
        "i.deposite()\n",
        "i.account_opening()\n",
        "i.transaction()\n"
      ],
      "metadata": {
        "colab": {
          "base_uri": "https://localhost:8080/"
        },
        "id": "F5Usp5EB8tkL",
        "outputId": "e3f071f5-4648-43a0-fa27-955b82ae479e"
      },
      "execution_count": 22,
      "outputs": [
        {
          "output_type": "stream",
          "name": "stdout",
          "text": [
            "this will show you all the transaction happend to icici throuhg hdfc\n",
            "this will show your deposited amount\n",
            "this will show you your account open status \n",
            "total transaction value \n"
          ]
        }
      ]
    },
    {
      "cell_type": "code",
      "source": [
        "## encapsulation:\n",
        "class bank :\n",
        "    def transaction(self) :\n",
        "        print(\"total transaction value \")\n",
        "    def account_opening(self):\n",
        "        print(\"this will show you your account open status \")\n",
        "    def deposite(self):\n",
        "        print(\"this will show your deposited amount\")\n",
        "    def test(self):\n",
        "        print(\"this is a test methond form bank class \")\n",
        "\n",
        "\n",
        "class HDFC_bank:\n",
        "    def hdfc_to_icici(self):\n",
        "        print(\"this will show you all the transaction happend to icici throuhg hdfc\")\n",
        "    def test(self):\n",
        "        print(\"this is a test method form hdfc bank \")\n",
        "\n",
        "class ineron_bank:\n",
        "    def account_status_icici(self):\n",
        "        print(\"print a account status in icici \")\n",
        "\n",
        "class icici(HDFC_bank , bank , ineron_bank):\n",
        "    pass\n",
        "\n",
        "i = icici()\n",
        "i.hdfc_to_icici()\n",
        "i.transaction()\n",
        "i.deposite()\n",
        "i.account_opening()\n",
        "i.test()\n",
        "i.account_status_icici()"
      ],
      "metadata": {
        "colab": {
          "base_uri": "https://localhost:8080/"
        },
        "id": "gCa6wSm-8GPr",
        "outputId": "8488a885-be4b-42af-db26-5b8e90e47e69"
      },
      "execution_count": 23,
      "outputs": [
        {
          "output_type": "stream",
          "name": "stdout",
          "text": [
            "this will show you all the transaction happend to icici throuhg hdfc\n",
            "total transaction value \n",
            "this will show your deposited amount\n",
            "this will show you your account open status \n",
            "this is a test method form hdfc bank \n",
            "print a account status in icici \n"
          ]
        }
      ]
    },
    {
      "cell_type": "code",
      "source": [
        "class ineuron:\n",
        "    def student(self):\n",
        "        print(\"print the details of all the students\")\n",
        "    def achivers(self):\n",
        "        print(\"print the list of all the achiver \")\n",
        "    def hall_of_fame(self):\n",
        "        print(\"print everyone form hall of fame \")\n",
        "\n",
        "class ineuron_vision(ineuron):\n",
        "\n",
        "    def student(self):\n",
        "        print(\"these are the filters student list \")\n",
        "\n",
        "iv =  ineuron_vision()\n",
        "iv.student()\n",
        "\n",
        "# private \n",
        "class ineuron:\n",
        "    __students = \"data science\"\n",
        "\n",
        "    def studetns(self):\n",
        "        print(ineuron.__students)\n",
        "\n",
        "i = ineuron()\n",
        "i.studetns()\n",
        "#print(i.)\n",
        "\n",
        "list()"
      ],
      "metadata": {
        "colab": {
          "base_uri": "https://localhost:8080/"
        },
        "id": "p1RGjZhf8M1-",
        "outputId": "55bc7b63-2ff3-4a89-88a4-f36336627101"
      },
      "execution_count": 5,
      "outputs": [
        {
          "output_type": "stream",
          "name": "stdout",
          "text": [
            "these are the filters student list \n",
            "data science\n"
          ]
        }
      ]
    },
    {
      "cell_type": "code",
      "source": [
        "## global variable:\n",
        "class ineuron:\n",
        "    def __init__(self):\n",
        "        self.students1 = \"data science \"\n",
        "\n",
        "    def students(self):\n",
        "        print(self.students1)\n",
        "\n",
        "i = ineuron()\n",
        "i.students()\n",
        "i.students1 = \"data analytics\"\n",
        "i.students()"
      ],
      "metadata": {
        "colab": {
          "base_uri": "https://localhost:8080/"
        },
        "id": "0Aq62UahGtd3",
        "outputId": "41bed967-1ffa-441c-e293-56c5eee3426e"
      },
      "execution_count": 6,
      "outputs": [
        {
          "output_type": "stream",
          "name": "stdout",
          "text": [
            "data science \n",
            "data analytics\n"
          ]
        }
      ]
    },
    {
      "cell_type": "code",
      "source": [
        "#private\n",
        "class ineuron1:\n",
        "    def __init__(self):\n",
        "        self.__students1 = \"data science \"\n",
        "    \n",
        "    def students(self):\n",
        "        print(self.__students1)\n",
        "    \n",
        "    def student_change(self,new_value):\n",
        "        self.__students1 = new_value\n",
        "\n",
        "i1 = ineuron1()\n",
        "i1.students()\n",
        "i1.__students1 = \"big data\"\n",
        "i1.students()\n",
        "i1.student_change(\"ENGINE_NOVA\")\n",
        "i1.students()"
      ],
      "metadata": {
        "colab": {
          "base_uri": "https://localhost:8080/"
        },
        "id": "2MRjFvjxHk9y",
        "outputId": "0366a3f2-b8a3-4845-a465-8bbd682650bd"
      },
      "execution_count": 8,
      "outputs": [
        {
          "output_type": "stream",
          "name": "stdout",
          "text": [
            "data science \n",
            "data science \n",
            "ENGINE_NOVA\n"
          ]
        }
      ]
    },
    {
      "cell_type": "code",
      "source": [
        ""
      ],
      "metadata": {
        "id": "W41Z3xw6H3j-"
      },
      "execution_count": null,
      "outputs": []
    },
    {
      "cell_type": "code",
      "execution_count": 9,
      "metadata": {
        "colab": {
          "base_uri": "https://localhost:8080/"
        },
        "id": "Ctk4ZnBB6pAy",
        "outputId": "10c6f319-af92-4bc6-eb4d-3e17089035e9"
      },
      "outputs": [
        {
          "output_type": "stream",
          "name": "stdout",
          "text": [
            "print a students details \n",
            "print the class type of students\n",
            "7\n",
            "msn engine nova\n"
          ]
        }
      ],
      "source": [
        "# inheritance:\n",
        "class ineuron:\n",
        "    def students(self):\n",
        "        print(\"print a students details \")\n",
        "\n",
        "class class_type :\n",
        "    def students(self):\n",
        "        print(\"print the class type of students\")\n",
        "\n",
        "def ineuron_external(a):\n",
        "    a.students()\n",
        "\n",
        "\n",
        "\n",
        "i =ineuron()\n",
        "j = class_type()\n",
        "ineuron_external(i)\n",
        "ineuron_external(j)\n",
        "\n",
        "def test(a,b):\n",
        "    return a+b\n",
        "print(test(3,4))\n",
        "print(test(\"msn \" ,\"engine nova\"))\n"
      ]
    }
  ]
}