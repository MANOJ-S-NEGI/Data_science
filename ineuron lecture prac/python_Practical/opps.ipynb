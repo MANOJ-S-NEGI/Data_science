{
  "nbformat": 4,
  "nbformat_minor": 0,
  "metadata": {
    "colab": {
      "name": "opps.ipynb",
      "provenance": []
    },
    "kernelspec": {
      "name": "python3",
      "display_name": "Python 3"
    },
    "language_info": {
      "name": "python"
    }
  },
  "cells": [
    {
      "cell_type": "markdown",
      "source": [
        "## obect oriented programming:"
      ],
      "metadata": {
        "id": "3CFRu5tu0gEI"
      }
    },
    {
      "cell_type": "code",
      "source": [
        "class student:\n",
        "    def __init__(self,name, roll_no,join_date,current_topic):\n",
        "        self.name=name\n",
        "        self.roll=roll_no\n",
        "        self.join_date=join_date\n",
        "        self.current_topic=current_topic\n",
        "\n",
        "    def name_lis(self):\n",
        "        if type(self.name)==list:\n",
        "            for naam in self.name:\n",
        "                print(\"name of student is: \",naam)\n",
        "\n",
        "    def crt_tpoic(self):        \n",
        "        print(\"current topic in my class \",self.current_topic)\n",
        "\n",
        "    def duration(self,*curr_date):#it is args\n",
        "        print(\"duration time is\",curr_date - self.join_date)\n",
        "\n",
        "    def roll(self):\n",
        "        try:\n",
        "            if type(self.roll)==str:\n",
        "                print(\"do nothing\")\n",
        "            else:\n",
        "                print(self.roll)\n",
        "        except Exception:\n",
        "            print(\"Error! handled\")\n",
        "\n",
        "\n",
        "    def __str__(c):\n",
        "        print(\"student data\")"
      ],
      "metadata": {
        "id": "C5M7Prgt0lYq"
      },
      "execution_count": null,
      "outputs": []
    },
    {
      "cell_type": "code",
      "source": [
        "stu=student('engine_nova','p1A',2020,\"opps\")"
      ],
      "metadata": {
        "id": "RQpYr1Bg1S1F"
      },
      "execution_count": null,
      "outputs": []
    },
    {
      "cell_type": "code",
      "source": [
        "stu.name,stu.roll"
      ],
      "metadata": {
        "colab": {
          "base_uri": "https://localhost:8080/"
        },
        "id": "rM11iLbD1zTF",
        "outputId": "10594487-0d9e-4197-f5a8-b9d6043afa3a"
      },
      "execution_count": null,
      "outputs": [
        {
          "output_type": "execute_result",
          "data": {
            "text/plain": [
              "('engine_nova', 'p1A')"
            ]
          },
          "metadata": {},
          "execution_count": 17
        }
      ]
    },
    {
      "cell_type": "code",
      "source": [
        "stu1=student([\"msn\",\"negi\",\"engine_nova\",'destroyer_class'],[12,23,\"12a\",21],2021,\"0pps\")"
      ],
      "metadata": {
        "id": "4XtH9eVk27CC"
      },
      "execution_count": null,
      "outputs": []
    },
    {
      "cell_type": "code",
      "source": [
        "stu1.name"
      ],
      "metadata": {
        "colab": {
          "base_uri": "https://localhost:8080/"
        },
        "id": "l-lUDV0d9l7a",
        "outputId": "78e270cf-5523-4303-b318-3bbfdcd67cf7"
      },
      "execution_count": null,
      "outputs": [
        {
          "output_type": "execute_result",
          "data": {
            "text/plain": [
              "['msn', 'negi', 'engine_nova', 'destroyer_class']"
            ]
          },
          "metadata": {},
          "execution_count": 20
        }
      ]
    },
    {
      "cell_type": "code",
      "source": [
        "stu1.name_lis()"
      ],
      "metadata": {
        "colab": {
          "base_uri": "https://localhost:8080/"
        },
        "id": "MO5UGfFK9nTe",
        "outputId": "5079d4cb-5549-4330-cadc-2a5a75968eb9"
      },
      "execution_count": null,
      "outputs": [
        {
          "output_type": "stream",
          "name": "stdout",
          "text": [
            "name of student are  msn\n",
            "name of student are  negi\n",
            "name of student are  engine_nova\n",
            "name of student are  destroyer_class\n"
          ]
        }
      ]
    },
    {
      "cell_type": "code",
      "source": [
        "stu.join_date"
      ],
      "metadata": {
        "colab": {
          "base_uri": "https://localhost:8080/"
        },
        "id": "5o9hEA8o9xRl",
        "outputId": "9cd8a1d4-156a-45f9-8c5a-7eda3c72adc4"
      },
      "execution_count": null,
      "outputs": [
        {
          "output_type": "execute_result",
          "data": {
            "text/plain": [
              "2020"
            ]
          },
          "metadata": {},
          "execution_count": 26
        }
      ]
    },
    {
      "cell_type": "code",
      "source": [
        "stu.duration(2030)"
      ],
      "metadata": {
        "colab": {
          "base_uri": "https://localhost:8080/"
        },
        "id": "QMS6A5VM-LNZ",
        "outputId": "0e7296c8-715b-4337-b411-77062200e14a"
      },
      "execution_count": null,
      "outputs": [
        {
          "output_type": "stream",
          "name": "stdout",
          "text": [
            "duration time is 10\n"
          ]
        }
      ]
    },
    {
      "cell_type": "code",
      "source": [
        "stu1.roll"
      ],
      "metadata": {
        "colab": {
          "base_uri": "https://localhost:8080/"
        },
        "id": "0trmXL7e-Vql",
        "outputId": "55291954-2be5-4aa9-b277-0296f53883e5"
      },
      "execution_count": null,
      "outputs": [
        {
          "output_type": "execute_result",
          "data": {
            "text/plain": [
              "[12, 23, '12a', 21]"
            ]
          },
          "metadata": {},
          "execution_count": 30
        }
      ]
    },
    {
      "cell_type": "code",
      "source": [
        "stu1.join_date"
      ],
      "metadata": {
        "colab": {
          "base_uri": "https://localhost:8080/"
        },
        "id": "cKYwfgRS_2Xm",
        "outputId": "bb9af615-6062-4b0b-921f-a06cdf461dd6"
      },
      "execution_count": null,
      "outputs": [
        {
          "output_type": "execute_result",
          "data": {
            "text/plain": [
              "2021"
            ]
          },
          "metadata": {},
          "execution_count": 42
        }
      ]
    },
    {
      "cell_type": "code",
      "source": [
        "class data:\n",
        "    def __init__(self,filename,filetype):#data,size):\n",
        "        self.filename=filename\n",
        "        self.filetype=filetype\n",
        "        #self.data=data\n",
        "        #self.size=size\n",
        "    \n",
        "    ## open file\n",
        "    def openfile(self):\n",
        "        try:\n",
        "            f=open(self.filename,\"w+\")\n",
        "            text=input(\"enter the text:\")\n",
        "            f.write(text)\n",
        "            f.close()\n",
        "            self.log_file(text)\n",
        "\n",
        "        except Exception as e:\n",
        "            self.log_file(f'error! handeled,{e}')\n",
        "              \n",
        "    ## read file:\n",
        "    \n",
        "    def readfile(self):\n",
        "        try:\n",
        "            f=open(self.filename,\"r+\")\n",
        "            f.seek(0)\n",
        "            print(f.read())\n",
        "        except Exception as e:\n",
        "            self.log_file(f'error! handeled,{e}')\n",
        "               \n",
        "\n",
        "\n",
        "    # Append-adds at last\n",
        "    def append_file(self):\n",
        "        try:\n",
        "            f=open(self.filename,\"a\")  # append mode\n",
        "            text=input(\"enter the text:\")\n",
        "            f.write(text)\n",
        "            f.close()\n",
        "            self.log_file(text)\n",
        "\n",
        "        except Exception as e:\n",
        "            self.log_file(f'error! handeled,{e}')\n",
        "\n",
        "\n",
        "    def log_file(self,infomation):\n",
        "        try:\n",
        "          \n",
        "            import logging\n",
        "            logging.basicConfig(filename= '/content/fill.log',level=logging.DEBUG,format='%(name)s - %(asctime)s - %(message)s - %(levelname)s')\n",
        "\n",
        "                #Create Handler :\n",
        "            console_log=logging.StreamHandler()\n",
        "            console_log.setLevel(logging.DEBUG)\n",
        "\n",
        "                # log setting format:\n",
        "            format=logging.Formatter('%(name)s , %(asctime)s , %(message)s ,%(levelname)s')\n",
        "            console_log.setFormatter(format)\n",
        "            logging.getLogger('').addHandler(console_log)\n",
        "            #information:\n",
        "            logging.info(\"try block executing\")\n",
        "            logger1=logging.getLogger('engine_nova')\n",
        "            logger1.info(infomation)\n",
        "    \n",
        "        except Exception as e:\n",
        "            print(\"error handeled\",e)   \n",
        "    \n",
        "\n",
        " #class assignment to variable file test:     \n",
        "file_test=data('msn.txt','text')"
      ],
      "metadata": {
        "id": "hQT56lbiBGcS"
      },
      "execution_count": null,
      "outputs": []
    },
    {
      "cell_type": "code",
      "source": [
        "file_test.openfile()"
      ],
      "metadata": {
        "colab": {
          "base_uri": "https://localhost:8080/"
        },
        "id": "4oXNZ4-IKyaW",
        "outputId": "7b3feaff-a765-43c0-d3ed-53b7e5199ffe"
      },
      "execution_count": null,
      "outputs": [
        {
          "name": "stdout",
          "output_type": "stream",
          "text": [
            "enter the text:log file entry test\n"
          ]
        },
        {
          "output_type": "stream",
          "name": "stderr",
          "text": [
            "root , 2022-06-14 08:20:06,468 , try block executing ,INFO\n",
            "root , 2022-06-14 08:20:06,468 , try block executing ,INFO\n",
            "engine_nova , 2022-06-14 08:20:06,473 , log file entry test ,INFO\n",
            "engine_nova , 2022-06-14 08:20:06,473 , log file entry test ,INFO\n"
          ]
        }
      ]
    },
    {
      "cell_type": "code",
      "source": [
        "file_test.append_file()"
      ],
      "metadata": {
        "colab": {
          "base_uri": "https://localhost:8080/"
        },
        "id": "h2gxVEfAK5TO",
        "outputId": "cf743b38-2ef1-47f1-d2db-3f90cff768c1"
      },
      "execution_count": null,
      "outputs": [
        {
          "name": "stdout",
          "output_type": "stream",
          "text": [
            "enter the text:today file appended\n"
          ]
        },
        {
          "output_type": "stream",
          "name": "stderr",
          "text": [
            "root , 2022-06-14 08:43:52,469 , try block executing ,INFO\n",
            "root , 2022-06-14 08:43:52,469 , try block executing ,INFO\n",
            "root , 2022-06-14 08:43:52,469 , try block executing ,INFO\n",
            "engine_nova , 2022-06-14 08:43:52,475 , today file appended ,INFO\n",
            "engine_nova , 2022-06-14 08:43:52,475 , today file appended ,INFO\n",
            "engine_nova , 2022-06-14 08:43:52,475 , today file appended ,INFO\n"
          ]
        }
      ]
    },
    {
      "cell_type": "code",
      "source": [
        "file_test.readfile()"
      ],
      "metadata": {
        "colab": {
          "base_uri": "https://localhost:8080/"
        },
        "id": "3rCLagLZTnei",
        "outputId": "71bfa500-432c-4b4e-e4fb-83f42271aa94"
      },
      "execution_count": null,
      "outputs": [
        {
          "output_type": "stream",
          "name": "stdout",
          "text": [
            "log file entry testtoday file appended\n"
          ]
        }
      ]
    },
    {
      "cell_type": "markdown",
      "source": [
        "## inheritence:\n"
      ],
      "metadata": {
        "id": "9btoaV9bWwuk"
      }
    },
    {
      "cell_type": "code",
      "source": [
        "## parent class:\n",
        "class sup:\n",
        "    def __init__(self,a,b,c):\n",
        "        self.a=a\n",
        "        self.b=b\n",
        "        self.c=c\n",
        "\n",
        "    def a(self):\n",
        "        print(self.a-self.c)\n",
        "        print('subs ')\n",
        "       \n",
        "\n",
        "## parent class:\n",
        "class sup1:\n",
        "    def __init__(self):\n",
        "        pass\n",
        "    def a(self):\n",
        "        print(self.a+self.c)\n",
        "        print('add class_2')\n",
        "        sup.a(self)\n",
        "        \n",
        "## child class:\n",
        "\n",
        "class child1(sup,sup1):\n",
        "    def __init__(self,*args):\n",
        "        super(child1,self).__init__(*args)\n",
        "    \n",
        "    def check(self):\n",
        "        sup1.a(self)\n"
      ],
      "metadata": {
        "id": "Fb3BzNQKVS7L"
      },
      "execution_count": 95,
      "outputs": []
    },
    {
      "cell_type": "code",
      "source": [
        "test=child1(1,2,3)\n",
        "test.a,test.b,test.c\n"
      ],
      "metadata": {
        "colab": {
          "base_uri": "https://localhost:8080/"
        },
        "id": "45Aj6S9kZfl_",
        "outputId": "5b7ec28d-b885-4b6e-b4eb-376551545e84"
      },
      "execution_count": 96,
      "outputs": [
        {
          "output_type": "execute_result",
          "data": {
            "text/plain": [
              "(1, 2, 3)"
            ]
          },
          "metadata": {},
          "execution_count": 96
        }
      ]
    },
    {
      "cell_type": "code",
      "source": [
        "test.check()"
      ],
      "metadata": {
        "colab": {
          "base_uri": "https://localhost:8080/"
        },
        "id": "RR2rabZ9ZtfA",
        "outputId": "19f67f9a-1b28-4097-ac63-af5aed6dbb90"
      },
      "execution_count": 97,
      "outputs": [
        {
          "output_type": "stream",
          "name": "stdout",
          "text": [
            "4\n",
            "add class_2\n",
            "-2\n",
            "subs \n"
          ]
        }
      ]
    },
    {
      "cell_type": "code",
      "source": [
        ""
      ],
      "metadata": {
        "id": "c4oK-JKxaGK3"
      },
      "execution_count": 94,
      "outputs": []
    }
  ]
}