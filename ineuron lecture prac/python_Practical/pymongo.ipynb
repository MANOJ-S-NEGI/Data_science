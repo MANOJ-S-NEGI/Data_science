{
 "cells": [
  {
   "cell_type": "code",
   "execution_count": 1,
   "id": "193b2622",
   "metadata": {},
   "outputs": [
    {
     "name": "stdout",
     "output_type": "stream",
     "text": [
      "Collecting pymongo\n",
      "  Downloading pymongo-4.1.1-cp39-cp39-win_amd64.whl (365 kB)\n",
      "Installing collected packages: pymongo\n",
      "Successfully installed pymongo-4.1.1\n"
     ]
    }
   ],
   "source": [
    "## installing the pymongo:\n",
    "!python -m pip install pymongo"
   ]
  },
  {
   "cell_type": "code",
   "execution_count": 4,
   "id": "a10ae59a",
   "metadata": {},
   "outputs": [
    {
     "data": {
      "text/plain": [
       "MongoClient(host=['localhost:27017'], document_class=dict, tz_aware=False, connect=True)"
      ]
     },
     "execution_count": 4,
     "metadata": {},
     "output_type": "execute_result"
    }
   ],
   "source": [
    "## importing pymongo and establishes connection:\n",
    "import pymongo\n",
    "client=pymongo.MongoClient(\"mongodb://localhost:27017/\")\n",
    "client"
   ]
  },
  {
   "cell_type": "code",
   "execution_count": 7,
   "id": "9d43956c",
   "metadata": {},
   "outputs": [
    {
     "data": {
      "text/plain": [
       "['admin', 'config', 'local']"
      ]
     },
     "execution_count": 7,
     "metadata": {},
     "output_type": "execute_result"
    }
   ],
   "source": [
    "# list of existing database name:\n",
    "client.list_database_names()"
   ]
  },
  {
   "cell_type": "markdown",
   "id": "ac99b9d7",
   "metadata": {},
   "source": [
    "### Step_1: Creating a database."
   ]
  },
  {
   "cell_type": "code",
   "execution_count": 6,
   "id": "42da3e14",
   "metadata": {},
   "outputs": [],
   "source": [
    "# creating the database:\n",
    "mongo_db=client['msn']"
   ]
  },
  {
   "cell_type": "markdown",
   "id": "41fc6c1c",
   "metadata": {},
   "source": [
    "### Step_2: Create a collection.\n"
   ]
  },
  {
   "cell_type": "code",
   "execution_count": 9,
   "id": "4286f665",
   "metadata": {},
   "outputs": [
    {
     "data": {
      "text/plain": [
       "Collection(Database(MongoClient(host=['localhost:27017'], document_class=dict, tz_aware=False, connect=True), 'msn'), 'Ineuron_products')"
      ]
     },
     "execution_count": 9,
     "metadata": {},
     "output_type": "execute_result"
    }
   ],
   "source": [
    "# creating a collection:\n",
    "\n",
    "COLLECTION_NAME=\"Ineuron_products\"  # as table name\n",
    "collection=mongo_db[COLLECTION_NAME] # as table name\n",
    "collection"
   ]
  },
  {
   "cell_type": "markdown",
   "id": "51e975f3",
   "metadata": {},
   "source": [
    "### Step_3: Insert a record."
   ]
  },
  {
   "cell_type": "code",
   "execution_count": 12,
   "id": "405493c0",
   "metadata": {},
   "outputs": [
    {
     "data": {
      "text/plain": [
       "<pymongo.results.InsertOneResult at 0x238168f34c0>"
      ]
     },
     "execution_count": 12,
     "metadata": {},
     "output_type": "execute_result"
    }
   ],
   "source": [
    "##inserting a record into the collection :\n",
    "\n",
    "record={\"Name\":\"manoj singh negi\",\n",
    "        \"Product_using\":\"AI\" }\n",
    "\n",
    "collection.insert_one(record) "
   ]
  },
  {
   "cell_type": "code",
   "execution_count": 13,
   "id": "9d583cb4",
   "metadata": {},
   "outputs": [
    {
     "data": {
      "text/plain": [
       "<pymongo.results.InsertOneResult at 0x23818033d00>"
      ]
     },
     "execution_count": 13,
     "metadata": {},
     "output_type": "execute_result"
    }
   ],
   "source": [
    "##inserting a record into the collection by Manupulating records:\n",
    "\n",
    "record={\"Name\":\"manoj singh negi\",\n",
    "        \"Product_using\":\"AI\" ,\n",
    "       \"note\":{\"course\":\"data_sci\",\"date\":\"13-06-2022\"}}\n",
    "\n",
    "collection.insert_one(record) "
   ]
  },
  {
   "cell_type": "markdown",
   "id": "9620318f",
   "metadata": {},
   "source": [
    "### Step_4: inserting multiple values"
   ]
  },
  {
   "cell_type": "code",
   "execution_count": 19,
   "id": "a5ceed47",
   "metadata": {},
   "outputs": [
    {
     "data": {
      "text/plain": [
       "<pymongo.results.InsertManyResult at 0x2381856f7c0>"
      ]
     },
     "execution_count": 19,
     "metadata": {},
     "output_type": "execute_result"
    }
   ],
   "source": [
    "##inserting multiple record into the collection \n",
    "multiple_record=[\n",
    "    \n",
    "        #record 1\n",
    "        {\"Name\":\"manoj singh negi\",\n",
    "        \"Product_using\":\"AI\" ,\n",
    "       \"note\":{\"course\":\"data_sci\",\"date\":\"13-06-2022\"}},\n",
    "                \n",
    "                \n",
    "      #record 2\n",
    "        {\"Name\":\"manoj singh negi\",\n",
    "            \"Product_using\":\"AI\" },\n",
    "                 \n",
    "         #record 3        \n",
    "       {\"note\":[{\"course\":\"data_sci\",\"date\":\"13-06-2022\"},[{\"data\":\"AI\"}]]},\n",
    "       \n",
    "        #record 4\n",
    "        {\"Name\":\"manoj singh negi\",\n",
    "            \"Product_using\":\"AI\" }]\n",
    "\n",
    "collection.insert_many(multiple_record)\n"
   ]
  },
  {
   "cell_type": "markdown",
   "id": "030354d6",
   "metadata": {},
   "source": [
    "### Queries:Search"
   ]
  },
  {
   "cell_type": "code",
   "execution_count": 26,
   "id": "b730d4dc",
   "metadata": {},
   "outputs": [
    {
     "data": {
      "text/plain": [
       "{'_id': ObjectId('62ab88529b46e4a19c2a37f9'),\n",
       " 'Name': 'manoj singh negi',\n",
       " 'Product_using': 'AI'}"
      ]
     },
     "execution_count": 26,
     "metadata": {},
     "output_type": "execute_result"
    }
   ],
   "source": [
    "collection.find_one()"
   ]
  },
  {
   "cell_type": "code",
   "execution_count": 33,
   "id": "c34467f7",
   "metadata": {},
   "outputs": [
    {
     "name": "stdout",
     "output_type": "stream",
     "text": [
      "{'_id': ObjectId('62ab88529b46e4a19c2a37f9'), 'Name': 'manoj singh negi', 'Product_using': 'AI'}\n",
      "{'_id': ObjectId('62ab893a9b46e4a19c2a37fa'), 'Name': 'manoj singh negi', 'Product_using': 'AI', 'note': {'course': 'data_sci', 'date': '12-06-2022'}}\n",
      "{'_id': ObjectId('62ab8dec9b46e4a19c2a37fb'), 'Name': 'manoj singh negi', 'Product_using': 'AI', 'note': {'course': 'data_sci', 'date': '13-06-2022'}}\n",
      "{'_id': ObjectId('62ab8dec9b46e4a19c2a37fd'), 'note': [{'course': 'data_sci', 'date': '13-06-2022'}, [{'data': 'AI'}]]}\n",
      "{'_id': ObjectId('62ab8dec9b46e4a19c2a37fe'), 'Name': 'manoj singh negi', 'Product_using': 'AI'}\n"
     ]
    }
   ],
   "source": [
    "for i in collection.find():\n",
    "    print(i)\n",
    "    "
   ]
  },
  {
   "cell_type": "markdown",
   "id": "a6798f3e",
   "metadata": {},
   "source": [
    "### Queries: Filter"
   ]
  },
  {
   "cell_type": "code",
   "execution_count": 37,
   "id": "42854695",
   "metadata": {},
   "outputs": [
    {
     "name": "stdout",
     "output_type": "stream",
     "text": [
      "{'_id': ObjectId('62ab88529b46e4a19c2a37f9'), 'Name': 'manoj singh negi', 'Product_using': 'AI'}\n",
      "{'_id': ObjectId('62ab893a9b46e4a19c2a37fa'), 'Name': 'manoj singh negi', 'Product_using': 'AI', 'note': {'course': 'data_sci', 'date': '12-06-2022'}}\n",
      "{'_id': ObjectId('62ab8dec9b46e4a19c2a37fb'), 'Name': 'manoj singh negi', 'Product_using': 'AI', 'note': {'course': 'data_sci', 'date': '13-06-2022'}}\n",
      "{'_id': ObjectId('62ab8dec9b46e4a19c2a37fe'), 'Name': 'manoj singh negi', 'Product_using': 'AI'}\n"
     ]
    }
   ],
   "source": [
    "for f in collection.find({'Name': 'manoj singh negi'}):   #as where clause\n",
    "    print(f)\n"
   ]
  },
  {
   "cell_type": "markdown",
   "id": "1136d8ca",
   "metadata": {},
   "source": [
    "### Queries: Delete"
   ]
  },
  {
   "cell_type": "code",
   "execution_count": 39,
   "id": "6b9f4fba",
   "metadata": {},
   "outputs": [
    {
     "data": {
      "text/plain": [
       "<pymongo.results.DeleteResult at 0x238187c6d00>"
      ]
     },
     "execution_count": 39,
     "metadata": {},
     "output_type": "execute_result"
    }
   ],
   "source": [
    "collection.delete_many({\"Name\":'manoj singh negi'})"
   ]
  },
  {
   "cell_type": "code",
   "execution_count": 40,
   "id": "7064b608",
   "metadata": {},
   "outputs": [],
   "source": [
    "#collection.delete_many({\"age\":{$gt:4}})"
   ]
  },
  {
   "cell_type": "code",
   "execution_count": null,
   "id": "bdd12f76",
   "metadata": {},
   "outputs": [],
   "source": []
  }
 ],
 "metadata": {
  "kernelspec": {
   "display_name": "Python 3 (ipykernel)",
   "language": "python",
   "name": "python3"
  },
  "language_info": {
   "codemirror_mode": {
    "name": "ipython",
    "version": 3
   },
   "file_extension": ".py",
   "mimetype": "text/x-python",
   "name": "python",
   "nbconvert_exporter": "python",
   "pygments_lexer": "ipython3",
   "version": "3.9.12"
  }
 },
 "nbformat": 4,
 "nbformat_minor": 5
}
