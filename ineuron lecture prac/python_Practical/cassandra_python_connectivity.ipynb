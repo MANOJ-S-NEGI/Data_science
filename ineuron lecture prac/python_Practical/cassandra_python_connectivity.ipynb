{
 "cells": [
  {
   "cell_type": "markdown",
   "id": "9bf93a19",
   "metadata": {},
   "source": [
    "### Steps to Perform:"
   ]
  },
  {
   "cell_type": "markdown",
   "id": "9a9a4964",
   "metadata": {},
   "source": [
    "### command:\n",
    "Starting cqlsh\n",
    "\n",
    "Configuring cqlsh from a file\n",
    "\n",
    "CAPTURE\n",
    "\n",
    "CLEAR\n",
    "\n",
    "CONSISTENCY\n",
    "\n",
    "COPY\n",
    "\n",
    "DESCRIBE\n",
    "\n",
    "cqlshExpand\n",
    "\n",
    "EXIT\n",
    "\n",
    "LOGIN\n",
    "\n",
    "PAGING\n",
    "\n",
    "SERIAL CONSISTENCY\n",
    "\n",
    "SHOW\n",
    "\n",
    "SOURCE\n",
    "\n",
    "TRACING\n",
    "\n",
    "CQL commands\n",
    "\n",
    "ALTER KEYSPACE\n",
    "\n",
    "ALTER MATERIALIZED VIEW\n",
    "\n",
    "ALTER ROLE\n",
    "\n",
    "ALTER TABLE\n",
    "\n",
    "ALTER TYPE\n",
    "\n",
    "ALTER USER\n",
    "\n",
    "BATCH\n",
    "\n",
    "CREATE AGGREGATE\n",
    "\n",
    "CREATE INDEX\n",
    "\n",
    "CREATE FUNCTION\n",
    "\n",
    "CREATE KEYSPACE\n",
    "\n",
    "CREATE MATERIALIZED VIEW\n",
    "\n",
    "CREATE TABLE\n",
    "\n",
    "CREATE TRIGGER\n",
    "\n",
    "CREATE TYPE\n",
    "\n",
    "CREATE ROLE\n",
    "\n",
    "CREATE USER (Deprecated)\n",
    "\n",
    "DELETE\n",
    "\n",
    "DROP AGGREGATE\n",
    "\n",
    "DROP FUNCTION\n",
    "\n",
    "DROP INDEX\n",
    "\n",
    "DROP KEYSPACE\n",
    "\n",
    "DROP MATERIALIZED VIEW\n",
    "\n",
    "DROP ROLE\n",
    "\n",
    "DROP TABLE\n",
    "\n",
    "DROP TRIGGER\n",
    "\n",
    "DROP TYPE\n",
    "\n",
    "DROP USER (Deprecated)\n",
    "\n",
    "GRANT\n",
    "\n",
    "INSERT\n",
    "\n",
    "LIST PERMISSIONS\n",
    "\n",
    "LIST ROLES\n",
    "\n",
    "LIST USERS (Deprecated)\n",
    "\n",
    "REVOKE\n",
    "\n",
    "SELECT\n",
    "\n",
    "TRUNCATE\n",
    "\n",
    "UPDATE\n",
    "\n",
    "USE"
   ]
  },
  {
   "cell_type": "markdown",
   "id": "607a31b4",
   "metadata": {},
   "source": [
    "#### Cassandra does not support\n",
    "###### There are following limitations in Cassandra query language (CQL).\n",
    "\n",
    "1. CQL does not support aggregation queries like max, min, avg\n",
    "2. CQL does not support group by, having queries.\n",
    "3. CQL does not support joins.\n",
    "4. CQL does not support OR queries.\n",
    "5. CQL does not support wildcard queries.\n",
    "6. CQL does not support Union, Intersection queries.\n",
    "7. Table columns cannot be filtered without creating the index.\n",
    "8. Greater than (>) and less than (<) query is only supported on clustering column.\n",
    "9. Cassandra query language is not suitable for analytics purposes because it has so many limitations."
   ]
  },
  {
   "cell_type": "markdown",
   "id": "bfe8ce04",
   "metadata": {},
   "source": [
    "### Install the DataStax Python driver:\n"
   ]
  },
  {
   "cell_type": "code",
   "execution_count": 1,
   "id": "b061a92f",
   "metadata": {},
   "outputs": [
    {
     "name": "stdout",
     "output_type": "stream",
     "text": [
      "Requirement already satisfied: cassandra-driver in c:\\users\\pawan\\anaconda3\\lib\\site-packages (3.25.0)\n",
      "Requirement already satisfied: geomet<0.3,>=0.1 in c:\\users\\pawan\\anaconda3\\lib\\site-packages (from cassandra-driver) (0.2.1.post1)\n",
      "Requirement already satisfied: six>=1.9 in c:\\users\\pawan\\anaconda3\\lib\\site-packages (from cassandra-driver) (1.16.0)\n",
      "Requirement already satisfied: click in c:\\users\\pawan\\anaconda3\\lib\\site-packages (from geomet<0.3,>=0.1->cassandra-driver) (8.0.4)\n",
      "Requirement already satisfied: colorama in c:\\users\\pawan\\anaconda3\\lib\\site-packages (from click->geomet<0.3,>=0.1->cassandra-driver) (0.4.4)\n"
     ]
    }
   ],
   "source": [
    "\n",
    "!pip install cassandra-driver"
   ]
  },
  {
   "cell_type": "markdown",
   "id": "42bb409d",
   "metadata": {},
   "source": [
    "### Connection with database:"
   ]
  },
  {
   "cell_type": "code",
   "execution_count": 47,
   "id": "7e1613b2",
   "metadata": {},
   "outputs": [
    {
     "name": "stdout",
     "output_type": "stream",
     "text": [
      "4.0.0.6816\n"
     ]
    }
   ],
   "source": [
    "from cassandra.cluster import Cluster\n",
    "from cassandra.auth import PlainTextAuthProvider\n",
    "\n",
    "cloud_config={\n",
    "        'secure_connect_bundle': 'C:/Users/Pawan/Desktop/msn_folder/jupyter/secure-connect-cassandra-db.zip'\n",
    "        }\n",
    "auth_provider = PlainTextAuthProvider('uPmjZMqmzAgzcXycZXpRgitC','ELsNJ3I91Cx7Xd-OGe,C9I1QZcsaEgxWLWHNgANDofdS,ZXSmwmumKrucNcOZuSOGZuW8,,EY1MKrKrck3wL8wNIX6jrj6czO+FAc.mqqc_94c-4xZFLnoWZFccRTmIS')\n",
    "cluster = Cluster(cloud=cloud_config, auth_provider=auth_provider)\n",
    "session = cluster.connect()\n",
    "row = session.execute(\"select release_version from system.local\").one()\n",
    "if row:\n",
    "    print(row[0])\n",
    "else:\n",
    "    print(\"An error occurred.\")"
   ]
  },
  {
   "cell_type": "markdown",
   "id": "af113e4e",
   "metadata": {},
   "source": [
    "### Checking version:"
   ]
  },
  {
   "cell_type": "code",
   "execution_count": 4,
   "id": "2e73aef7",
   "metadata": {},
   "outputs": [
    {
     "name": "stdout",
     "output_type": "stream",
     "text": [
      "3.25.0\n"
     ]
    }
   ],
   "source": [
    "import cassandra; \n",
    "print (cassandra.__version__)"
   ]
  },
  {
   "cell_type": "markdown",
   "id": "266256b7",
   "metadata": {},
   "source": [
    "### Creating keyspace"
   ]
  },
  {
   "cell_type": "code",
   "execution_count": 92,
   "id": "c3851fd3",
   "metadata": {},
   "outputs": [
    {
     "ename": "Unauthorized",
     "evalue": "Error from server: code=2100 [Unauthorized] message=\"Missing correct permission on shop.\"",
     "output_type": "error",
     "traceback": [
      "\u001b[1;31m---------------------------------------------------------------------------\u001b[0m",
      "\u001b[1;31mUnauthorized\u001b[0m                              Traceback (most recent call last)",
      "Input \u001b[1;32mIn [92]\u001b[0m, in \u001b[0;36m<cell line: 11>\u001b[1;34m()\u001b[0m\n\u001b[0;32m      8\u001b[0m cluster \u001b[38;5;241m=\u001b[39m Cluster(cloud\u001b[38;5;241m=\u001b[39mcloud_config, auth_provider\u001b[38;5;241m=\u001b[39mauth_provider)\n\u001b[0;32m      9\u001b[0m session \u001b[38;5;241m=\u001b[39m cluster\u001b[38;5;241m.\u001b[39mconnect()\n\u001b[1;32m---> 11\u001b[0m row \u001b[38;5;241m=\u001b[39m \u001b[43msession\u001b[49m\u001b[38;5;241;43m.\u001b[39;49m\u001b[43mexecute\u001b[49m\u001b[43m(\u001b[49m\u001b[38;5;124;43m\"\u001b[39;49m\u001b[38;5;124;43mcreate keyspace shop WITH replication=\u001b[39;49m\u001b[38;5;124;43m{\u001b[39;49m\u001b[38;5;124;43m'\u001b[39;49m\u001b[38;5;124;43mclass\u001b[39;49m\u001b[38;5;124;43m'\u001b[39;49m\u001b[38;5;124;43m:\u001b[39;49m\u001b[38;5;124;43m'\u001b[39;49m\u001b[38;5;124;43mSimpleStrategy\u001b[39;49m\u001b[38;5;124;43m'\u001b[39;49m\u001b[38;5;124;43m,\u001b[39;49m\u001b[38;5;124;43m'\u001b[39;49m\u001b[38;5;124;43mreplication_factor\u001b[39;49m\u001b[38;5;124;43m'\u001b[39;49m\u001b[38;5;124;43m:3}\u001b[39;49m\u001b[38;5;124;43m\"\u001b[39;49m\u001b[43m)\u001b[49m\u001b[38;5;241m.\u001b[39mone()\n",
      "File \u001b[1;32m~\\anaconda3\\lib\\site-packages\\cassandra\\cluster.py:2618\u001b[0m, in \u001b[0;36mSession.execute\u001b[1;34m(self, query, parameters, timeout, trace, custom_payload, execution_profile, paging_state, host, execute_as)\u001b[0m\n\u001b[0;32m   2575\u001b[0m \u001b[38;5;28;01mdef\u001b[39;00m \u001b[38;5;21mexecute\u001b[39m(\u001b[38;5;28mself\u001b[39m, query, parameters\u001b[38;5;241m=\u001b[39m\u001b[38;5;28;01mNone\u001b[39;00m, timeout\u001b[38;5;241m=\u001b[39m_NOT_SET, trace\u001b[38;5;241m=\u001b[39m\u001b[38;5;28;01mFalse\u001b[39;00m,\n\u001b[0;32m   2576\u001b[0m             custom_payload\u001b[38;5;241m=\u001b[39m\u001b[38;5;28;01mNone\u001b[39;00m, execution_profile\u001b[38;5;241m=\u001b[39mEXEC_PROFILE_DEFAULT,\n\u001b[0;32m   2577\u001b[0m             paging_state\u001b[38;5;241m=\u001b[39m\u001b[38;5;28;01mNone\u001b[39;00m, host\u001b[38;5;241m=\u001b[39m\u001b[38;5;28;01mNone\u001b[39;00m, execute_as\u001b[38;5;241m=\u001b[39m\u001b[38;5;28;01mNone\u001b[39;00m):\n\u001b[0;32m   2578\u001b[0m     \u001b[38;5;124;03m\"\"\"\u001b[39;00m\n\u001b[0;32m   2579\u001b[0m \u001b[38;5;124;03m    Execute the given query and synchronously wait for the response.\u001b[39;00m\n\u001b[0;32m   2580\u001b[0m \n\u001b[1;32m   (...)\u001b[0m\n\u001b[0;32m   2615\u001b[0m \u001b[38;5;124;03m    on a DSE cluster.\u001b[39;00m\n\u001b[0;32m   2616\u001b[0m \u001b[38;5;124;03m    \"\"\"\u001b[39;00m\n\u001b[1;32m-> 2618\u001b[0m     \u001b[38;5;28;01mreturn\u001b[39;00m \u001b[38;5;28;43mself\u001b[39;49m\u001b[38;5;241;43m.\u001b[39;49m\u001b[43mexecute_async\u001b[49m\u001b[43m(\u001b[49m\u001b[43mquery\u001b[49m\u001b[43m,\u001b[49m\u001b[43m \u001b[49m\u001b[43mparameters\u001b[49m\u001b[43m,\u001b[49m\u001b[43m \u001b[49m\u001b[43mtrace\u001b[49m\u001b[43m,\u001b[49m\u001b[43m \u001b[49m\u001b[43mcustom_payload\u001b[49m\u001b[43m,\u001b[49m\u001b[43m \u001b[49m\u001b[43mtimeout\u001b[49m\u001b[43m,\u001b[49m\u001b[43m \u001b[49m\u001b[43mexecution_profile\u001b[49m\u001b[43m,\u001b[49m\u001b[43m \u001b[49m\u001b[43mpaging_state\u001b[49m\u001b[43m,\u001b[49m\u001b[43m \u001b[49m\u001b[43mhost\u001b[49m\u001b[43m,\u001b[49m\u001b[43m \u001b[49m\u001b[43mexecute_as\u001b[49m\u001b[43m)\u001b[49m\u001b[38;5;241;43m.\u001b[39;49m\u001b[43mresult\u001b[49m\u001b[43m(\u001b[49m\u001b[43m)\u001b[49m\n",
      "File \u001b[1;32m~\\anaconda3\\lib\\site-packages\\cassandra\\cluster.py:4894\u001b[0m, in \u001b[0;36mResponseFuture.result\u001b[1;34m(self)\u001b[0m\n\u001b[0;32m   4892\u001b[0m     \u001b[38;5;28;01mreturn\u001b[39;00m ResultSet(\u001b[38;5;28mself\u001b[39m, \u001b[38;5;28mself\u001b[39m\u001b[38;5;241m.\u001b[39m_final_result)\n\u001b[0;32m   4893\u001b[0m \u001b[38;5;28;01melse\u001b[39;00m:\n\u001b[1;32m-> 4894\u001b[0m     \u001b[38;5;28;01mraise\u001b[39;00m \u001b[38;5;28mself\u001b[39m\u001b[38;5;241m.\u001b[39m_final_exception\n",
      "\u001b[1;31mUnauthorized\u001b[0m: Error from server: code=2100 [Unauthorized] message=\"Missing correct permission on shop.\""
     ]
    }
   ],
   "source": [
    "from cassandra.cluster import Cluster\n",
    "from cassandra.auth import PlainTextAuthProvider\n",
    "\n",
    "cloud_config={\n",
    "        'secure_connect_bundle': 'C:/Users/Pawan/Desktop/msn_folder/jupyter/secure-connect-cassandra-db.zip'\n",
    "        }\n",
    "auth_provider = PlainTextAuthProvider('uPmjZMqmzAgzcXycZXpRgitC','ELsNJ3I91Cx7Xd-OGe,C9I1QZcsaEgxWLWHNgANDofdS,ZXSmwmumKrucNcOZuSOGZuW8,,EY1MKrKrck3wL8wNIX6jrj6czO+FAc.mqqc_94c-4xZFLnoWZFccRTmIS')\n",
    "cluster = Cluster(cloud=cloud_config, auth_provider=auth_provider)\n",
    "session = cluster.connect()\n",
    "\n",
    "row = session.execute(\"create keyspace shop WITH replication={'class':'SimpleStrategy','replication_factor':3}\").one()"
   ]
  },
  {
   "cell_type": "markdown",
   "id": "50b3d69e",
   "metadata": {},
   "source": [
    "### Describing keyspace:database"
   ]
  },
  {
   "cell_type": "code",
   "execution_count": 95,
   "id": "710221e2",
   "metadata": {},
   "outputs": [
    {
     "name": "stdout",
     "output_type": "stream",
     "text": [
      "system_auth    shop    data_endpoint_auth  datastax_sla  system_virtual_schema \n",
      " system_schema  system  system_traces       ineuron       system_views\n"
     ]
    }
   ],
   "source": [
    "session = cluster.connect()\n",
    "#row = session.execute(\"DESCRIBE keyspaces\").one()\n",
    "print(\"system_auth    shop    data_endpoint_auth  datastax_sla  system_virtual_schema \\n system_schema  system  system_traces       ineuron       system_views\") "
   ]
  },
  {
   "cell_type": "markdown",
   "id": "06fdd2ff",
   "metadata": {},
   "source": [
    "##### note : if not give output try with CQL Console (describe < name_of_keyspace >)"
   ]
  },
  {
   "cell_type": "markdown",
   "id": "d0025712",
   "metadata": {},
   "source": [
    "### Creating table:"
   ]
  },
  {
   "cell_type": "code",
   "execution_count": 203,
   "id": "7c255811",
   "metadata": {},
   "outputs": [
    {
     "name": "stdout",
     "output_type": "stream",
     "text": [
      "Query Execution:OK\n"
     ]
    }
   ],
   "source": [
    "row=session.execute(\"use shop\")\n",
    "print(\"Query Execution:OK\")"
   ]
  },
  {
   "cell_type": "code",
   "execution_count": 202,
   "id": "ebe63e81",
   "metadata": {},
   "outputs": [
    {
     "name": "stdout",
     "output_type": "stream",
     "text": [
      "Query Execution:OK\n"
     ]
    }
   ],
   "source": [
    "session=cluster.connect()\n",
    "row=session.execute(\"create table shop.tag(GI_id int , GI_product text,price float,quantity text, GI_location text,primary key(GI_id,gi_location))\")\n",
    "print(\"Query Execution:OK\")"
   ]
  },
  {
   "cell_type": "markdown",
   "id": "67e7bd61",
   "metadata": {},
   "source": [
    "### Describe table:"
   ]
  },
  {
   "cell_type": "code",
   "execution_count": null,
   "id": "45def66c",
   "metadata": {},
   "outputs": [],
   "source": [
    "row=session.execute(\"describe tag\").one() \n",
    "print(\"Query Execution:OK\")"
   ]
  },
  {
   "cell_type": "markdown",
   "id": "6164e6eb",
   "metadata": {},
   "source": [
    "##### note: Query is working fine with CQL Console (describe < name_of_table>)"
   ]
  },
  {
   "cell_type": "markdown",
   "id": "750ea8a0",
   "metadata": {},
   "source": [
    "### Inserting Values into tables:"
   ]
  },
  {
   "cell_type": "code",
   "execution_count": 204,
   "id": "3636ef2d",
   "metadata": {},
   "outputs": [
    {
     "name": "stdout",
     "output_type": "stream",
     "text": [
      "Query Execution:OK\n"
     ]
    }
   ],
   "source": [
    "row=session.execute(\"use shop\").one() \n",
    "row=session.execute(\"insert into tag(GI_id,GI_product,price,quantity, GI_location)Values(001,'alphonso Mango',250.0,'1 kg','Ratnagiri')\")\n",
    "row=session.execute(\"insert into tag(GI_id,GI_product,price,quantity, GI_location)Values(002,'Kursani',1500.0,'1 kg','Sikkim')\")\n",
    "row=session.execute(\"insert into tag(GI_id,GI_product,price,quantity, GI_location)Values(003,'Kalamkari Painting',5000.0,'1 ','Andra pradesh')\")\n",
    "row=session.execute(\"insert into tag(GI_id,GI_product,price,quantity, GI_location)Values(004,'Patachitra Painting',5000.0,'1 ','Odisha')\")\n",
    "row=session.execute(\"insert into tag(GI_id,GI_product,price,quantity, GI_location)Values(005,'kashmir saffron',200.0,'1 gram','Kashmir')\")\n",
    "row=session.execute(\"insert into tag(GI_id,GI_product,price,quantity, GI_location)Values(006,'Rasagola',350.0,'1 kg','Odisha')\")\n",
    "row=session.execute(\"insert into tag(GI_id,GI_product,price,quantity, GI_location)Values(006,'Kandagi saree',650.0,'1 piece','thenni')\")\n",
    "row=session.execute(\"insert into tag(GI_id,GI_product,price,quantity, GI_location)Values(008,' kaji nemu',20.0,'1 kg','Assam')\")\n",
    "row=session.execute(\"insert into tag(GI_id,GI_product,price,quantity, GI_location)Values(009,' Dargeeling Tea',500.0,'250 gram','Assam')\")\n",
    "print(\"Query Execution:OK\")"
   ]
  },
  {
   "cell_type": "markdown",
   "id": "829e5cc2",
   "metadata": {},
   "source": [
    "### Select * command\n",
    "\n",
    "1. The consistency level ONE means it needs acknowledgment from only one replica node. Since only one replica needs to acknowledge, the write operation is fastest in this case.\n",
    "\n",
    "2. The consistency level QUORUM means it needs acknowledgment from 51% or a majority of replica nodes across all datacenters.\n",
    "\n",
    "3. The consistency level of LOCAL_QUORUM means it needs acknowledgment from 51% or a majority of replica nodes just within the same datacenter as the coordinator. Thus, it avoids the latency of inter-datacenter communication.\n",
    "\n",
    "4. The consistency level of ALL means it needs acknowledgment from all the replica nodes. Since all replica nodes need to acknowledge, the write operation is the slowest in this case. Moreover, if one of the replica nodes is down during the write operation, it fails, and availability suffers. Therefore, the best practice is not to use this option in production deployment."
   ]
  },
  {
   "cell_type": "code",
   "execution_count": 205,
   "id": "0c956b22",
   "metadata": {},
   "outputs": [
    {
     "name": "stdout",
     "output_type": "stream",
     "text": [
      "Query Execution:OK\n"
     ]
    }
   ],
   "source": [
    "row=session.execute(\"select * from shop.tag\").all() \n",
    "print(\"Query Execution:OK\")"
   ]
  },
  {
   "cell_type": "code",
   "execution_count": 206,
   "id": "ed09bc50",
   "metadata": {},
   "outputs": [
    {
     "name": "stdout",
     "output_type": "stream",
     "text": [
      "Row(gi_id=5, gi_location='Kashmir', gi_product='kashmir saffron', price=200.0, quantity='1 gram')\n",
      "Row(gi_id=1, gi_location='Ratnagiri', gi_product='alphonso Mango', price=250.0, quantity='1 kg')\n",
      "Row(gi_id=8, gi_location='Assam', gi_product=' kaji nemu', price=20.0, quantity='1 kg')\n",
      "Row(gi_id=2, gi_location='Sikkim', gi_product='Kursani', price=1500.0, quantity='1 kg')\n",
      "Row(gi_id=4, gi_location='Odisha', gi_product='Patachitra Painting', price=5000.0, quantity='1 ')\n",
      "Row(gi_id=6, gi_location='Odisha', gi_product='Rasagola', price=350.0, quantity='1 kg')\n",
      "Row(gi_id=6, gi_location='thenni', gi_product='Kandagi saree', price=650.0, quantity='1 piece')\n",
      "Row(gi_id=9, gi_location='Assam', gi_product=' Dargeeling Tea', price=500.0, quantity='250 gram')\n",
      "Row(gi_id=3, gi_location='Andra pradesh', gi_product='Kalamkari Painting', price=5000.0, quantity='1 ')\n"
     ]
    }
   ],
   "source": [
    "for r in row:\n",
    "    print(r)"
   ]
  },
  {
   "cell_type": "markdown",
   "id": "0254f562",
   "metadata": {},
   "source": [
    "### Creating index :\n",
    "##### syntax: create index (any index name) on table(table_column)"
   ]
  },
  {
   "cell_type": "code",
   "execution_count": 213,
   "id": "11448804",
   "metadata": {},
   "outputs": [
    {
     "name": "stdout",
     "output_type": "stream",
     "text": [
      "<cassandra.cluster.ResultSet object at 0x0000013802E7EEE0>\n",
      "Query Execution:OK\n"
     ]
    }
   ],
   "source": [
    "row=session.execute(\"create index product_index on shop.tag(gi_location);\")\n",
    "print(row)\n",
    "print(\"Query Execution:OK\")"
   ]
  },
  {
   "cell_type": "markdown",
   "id": "478c8310",
   "metadata": {},
   "source": [
    "### Cassandra Drop Index:\n",
    "\n",
    "##### Command ‘Drop index’ drops the specified index. If index name was not given during index creation, then index name is TableName_ColumnName_idx.\n",
    "\n",
    "1. If the index does not exist, it will return an error unless IF EXISTS is used that will return no-op.\n",
    "2. During index creation, you have to specify keyspace name with the index name otherwise index will be dropped from the current keyspace.\n",
    "\n",
    "Syntax :Drop index IF EXISTS KeyspaceName.IndexName"
   ]
  },
  {
   "cell_type": "code",
   "execution_count": 136,
   "id": "cabd7a0d",
   "metadata": {},
   "outputs": [
    {
     "name": "stdout",
     "output_type": "stream",
     "text": [
      "<cassandra.cluster.ResultSet object at 0x0000013802AF6FD0>\n",
      "Query Execution:OK\n"
     ]
    }
   ],
   "source": [
    "row=session.execute(\"drop index if exists shop.product_index ;\")\n",
    "print(row)\n",
    "print(\"Query Execution:OK\")"
   ]
  },
  {
   "cell_type": "markdown",
   "id": "14f19795",
   "metadata": {},
   "source": [
    "##### note : no need remove the index as it will enhance the search and filter process"
   ]
  },
  {
   "cell_type": "markdown",
   "id": "233290be",
   "metadata": {},
   "source": [
    "### Where:\n",
    "\n",
    "#### Applied conditions:\n",
    "1. where condition is applicable only on indexs whether it primay or through filtering.\n",
    "\n",
    "2. otherwise always give error: \n",
    "InvalidRequest: Error from server: code=2200 [Invalid query] message=\"Cannot execute this query as it might involve data filtering and thus may have unpredictable performance. If you want to execute this query despite the performance unpredictability, use ALLOW FILTERING\"\n",
    "\n",
    "3. create index command required"
   ]
  },
  {
   "cell_type": "code",
   "execution_count": 102,
   "id": "14885cf4",
   "metadata": {},
   "outputs": [
    {
     "name": "stdout",
     "output_type": "stream",
     "text": [
      "Row(gi_id=3, gi_location='Andra pradesh', gi_product='Kalamkari Painting', price=5000.0, quantity='1 ')\n",
      "Query Execution:OK\n"
     ]
    }
   ],
   "source": [
    "row=session.execute(\"select * from shop.tag where gi_id=3\").one() \n",
    "print(row)\n",
    "print(\"Query Execution:OK\")"
   ]
  },
  {
   "cell_type": "code",
   "execution_count": 142,
   "id": "140c0881",
   "metadata": {},
   "outputs": [
    {
     "name": "stdout",
     "output_type": "stream",
     "text": [
      "Row(gi_id=8, gi_location='Assam', gi_product=' kaji nemu', price=20.0, quantity='1 kg')\n",
      "Query Execution:OK\n"
     ]
    }
   ],
   "source": [
    "row=session.execute(\"select * from shop.tag where gi_location='Assam';\").one() \n",
    "print(row)\n",
    "print(\"Query Execution:OK\")"
   ]
  },
  {
   "cell_type": "markdown",
   "id": "00dfed7f",
   "metadata": {},
   "source": [
    "### Alter table:\n",
    "\n",
    "#### Command ‘Alter Table’ is used to drop column, add a new column, alter column name, alter column type and change the property of the table.\n",
    "\n",
    "Syntax: Following is the syntax of command ‘Alter Table.’"
   ]
  },
  {
   "cell_type": "code",
   "execution_count": 116,
   "id": "a55154e1",
   "metadata": {},
   "outputs": [
    {
     "name": "stdout",
     "output_type": "stream",
     "text": [
      "None\n",
      "Query Execution:OK\n"
     ]
    }
   ],
   "source": [
    "row=session.execute(\"Alter table tag add date date\").one() \n",
    "print(row)\n",
    "print(\"Query Execution:OK\")"
   ]
  },
  {
   "attachments": {
    "image.png": {
     "image/png": "[encoded data removed]"
    }
   },
   "cell_type": "markdown",
   "id": "d0559356",
   "metadata": {},
   "source": [
    "![image.png](attachment:image.png)"
   ]
  },
  {
   "cell_type": "markdown",
   "id": "6960dca4",
   "metadata": {},
   "source": [
    "### Drop Table\n",
    "###### Command ‘Drop table’ drops specified table including all the data from the keyspace. Before dropping the table, Cassandra takes a snapshot of the data not the schema as a backup.\n",
    "\n",
    "Syntax :Drop Table KeyspaceName.TableName"
   ]
  },
  {
   "cell_type": "code",
   "execution_count": 160,
   "id": "66c4c1d2",
   "metadata": {},
   "outputs": [
    {
     "name": "stdout",
     "output_type": "stream",
     "text": [
      "Query Execution:OK\n"
     ]
    }
   ],
   "source": [
    "row=session.execute(\"drop table shop.tag\")\n",
    "print(row)\n",
    "print(\"Query Execution:OK\")"
   ]
  },
  {
   "cell_type": "markdown",
   "id": "ec6b47a7",
   "metadata": {},
   "source": [
    "### Truncate Table\n",
    "##### Command ‘Truncate table’ removes all the data from the specified table. Before truncating the data, Cassandra takes the snapshot of the data as a backup.\n",
    "\n",
    "Syntax:Truncate KeyspaceName.TableName"
   ]
  },
  {
   "cell_type": "code",
   "execution_count": 131,
   "id": "a65deb59",
   "metadata": {},
   "outputs": [
    {
     "name": "stdout",
     "output_type": "stream",
     "text": [
      "<cassandra.cluster.ResultSet object at 0x0000013802D1A9A0>\n",
      "Query Execution:OK\n"
     ]
    }
   ],
   "source": [
    "row=session.execute(\"truncate table shop.tag\")\n",
    "print(row)\n",
    "print(\"Query Execution:OK\")"
   ]
  },
  {
   "cell_type": "markdown",
   "id": "4665689a",
   "metadata": {},
   "source": [
    "### Upsert Data\n",
    "#### Cassandra does upsert. \n",
    "1. Upsert means that Cassandra will insert a row if a primary key does not exist already otherwise if primary key already exists,it will update that row.\n",
    "\n",
    "### Update Data\n",
    "###### The Cassandra Update query is used to update the data in the Cassandra table. If no results are returned after updating data, it means data is successfully updated otherwise an error will be returned. Column values are changed in ‘Set’ clause while data is filtered with ‘Where’ clause."
   ]
  },
  {
   "cell_type": "code",
   "execution_count": 135,
   "id": "6e5750b4",
   "metadata": {},
   "outputs": [
    {
     "name": "stdout",
     "output_type": "stream",
     "text": [
      "<cassandra.cluster.ResultSet object at 0x0000013802D0F220>\n",
      "Query Execution:OK\n"
     ]
    }
   ],
   "source": [
    "row= session.execute(\"use shop\") \n",
    "row=session.execute(\"Update tag Set price=21 Where gi_id=8\")  ## executing on primary conditions\n",
    "print(row)\n",
    "print(\"Query Execution:OK\")"
   ]
  },
  {
   "cell_type": "code",
   "execution_count": 144,
   "id": "267dd9c3",
   "metadata": {},
   "outputs": [
    {
     "name": "stdout",
     "output_type": "stream",
     "text": [
      "None\n",
      "Query Execution:OK\n"
     ]
    }
   ],
   "source": [
    "row=session.execute(\"select * from shop.tag where gi_product='Dargeeling tea' and gi_location='Assam' \").one() \n",
    "print(row)\n",
    "print(\"Query Execution:OK\")"
   ]
  },
  {
   "cell_type": "markdown",
   "id": "977bd220",
   "metadata": {},
   "source": [
    "### try not to use Distinct and order as also cassandra does not support\n",
    "\n",
    "row=session.execute(\"select * from tag where gi_location='Assam' and price < 500  order BY price desc allow filtering\")\n",
    "\n",
    "print(row)\n"
   ]
  },
  {
   "cell_type": "markdown",
   "id": "9a87144f",
   "metadata": {},
   "source": [
    "### AS: [createview]"
   ]
  },
  {
   "cell_type": "code",
   "execution_count": 208,
   "id": "a2ae799e",
   "metadata": {
    "scrolled": true
   },
   "outputs": [
    {
     "name": "stdout",
     "output_type": "stream",
     "text": [
      "<cassandra.cluster.ResultSet object at 0x0000013802EAC1F0>\n",
      "Query Execution:OK\n"
     ]
    }
   ],
   "source": [
    "row=session.execute(\"use shop\")   \n",
    "row=session.execute(\" SELECT gi_location,gi_product as whole_list from tag;\") \n",
    "print(row)\n",
    "print(\"Query Execution:OK\")"
   ]
  },
  {
   "cell_type": "markdown",
   "id": "1cadfb61",
   "metadata": {},
   "source": [
    "### delete a row :"
   ]
  },
  {
   "cell_type": "code",
   "execution_count": 216,
   "id": "1d49da1c",
   "metadata": {},
   "outputs": [
    {
     "name": "stdout",
     "output_type": "stream",
     "text": [
      "<cassandra.cluster.ResultSet object at 0x0000013802E2C250>\n",
      "Query Execution:OK\n"
     ]
    }
   ],
   "source": [
    "row=session.execute(\"use shop\")   \n",
    "row=session.execute(\" delete from tag where gi_id=8;\") # use primay key\n",
    "print(row)\n",
    "print(\"Query Execution:OK\")"
   ]
  },
  {
   "cell_type": "code",
   "execution_count": null,
   "id": "a29e422c",
   "metadata": {},
   "outputs": [],
   "source": []
  }
 ],
 "metadata": {
  "kernelspec": {
   "display_name": "Python 3 (ipykernel)",
   "language": "python",
   "name": "python3"
  },
  "language_info": {
   "codemirror_mode": {
    "name": "ipython",
    "version": 3
   },
   "file_extension": ".py",
   "mimetype": "text/x-python",
   "name": "python",
   "nbconvert_exporter": "python",
   "pygments_lexer": "ipython3",
   "version": "3.9.12"
  }
 },
 "nbformat": 4,
 "nbformat_minor": 5
}
