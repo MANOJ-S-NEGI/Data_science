{
 "cells": [
  {
   "cell_type": "markdown",
   "id": "6154f082",
   "metadata": {},
   "source": [
    "# ML_ASSISMENT_02\n",
    "***\n",
    "***"
   ]
  },
  {
   "cell_type": "markdown",
   "id": "408300df",
   "metadata": {},
   "source": [
    "\n",
    "#### 1. What is the concept of human learning? Please give two examples.\n",
    "\n",
    "Sol: \n",
    "Human learning is the ability to adapt to new situations.\n",
    "\n",
    "Example: \n",
    "* Humans learn from our surroundings.\n",
    "* experiences, and interactions with other people.\n",
    "\n"
   ]
  },
  {
   "cell_type": "markdown",
   "id": "89171f66",
   "metadata": {},
   "source": [
    "***\n",
    "***\n",
    "#### 2. What different forms of human learning are there? Are there any machine learning equivalents?\n",
    "Sol: \n",
    "* Humans learn from our surroundings, experiences, and interactions with other people.\n",
    "* Build upon our previous knowledge and experiences to learn new things."
   ]
  },
  {
   "cell_type": "markdown",
   "id": "3cbcd728",
   "metadata": {},
   "source": [
    "***\n",
    "***\n",
    "#### 3. What is machine learning, and how does it work? What are the key responsibilities of machine learning?\n",
    "\n",
    "Sol: \n",
    "* Machine learning is the field of study that gives machines the ability to learn without being explicitly programmed. \n",
    "It worked by learning from past experience  i.e. training on a dataset. \n",
    "* Key responsibilities of machine learning is to make human effort easy.Designing and developing machine learning and deep learning systems, Running machine learning tests and experiments, Implementing appropriate ML algorithms,etc."
   ]
  },
  {
   "cell_type": "markdown",
   "id": "0401885c",
   "metadata": {},
   "source": [
    "***\n",
    "***\n",
    "#### 4. Define the terms \"penalty\" and \"reward\" in the context of reinforcement learning.\n",
    "\n",
    "Sol: \n",
    "* Reinforcement learning type of machine learning uses a reward-penalty method to teach an AI system. If it makes the right move, it gets rewarded. If it makes a mistake, it receives a penalty.\n",
    "\n",
    "In other words, reinforcement learning forces a system to learn and adapt quickly, or it otherwise loses serious numerical rewards. "
   ]
  },
  {
   "cell_type": "markdown",
   "id": "1ad7a739",
   "metadata": {},
   "source": [
    "***\n",
    "***\n",
    "**5. Explain the term \"learning as a search\"?**\n",
    "\n",
    "Sol: \n",
    "* Learning can be viewed as a search through the space of all sentences in a concept description language for a sentence that best describes the data. Alternatively, it can be viewed as a search through all hypotheses in a hypothesis space\n",
    "\n",
    "* The learner searches through a space of hypotheses to find the best one. Which one would be the best one? The answer is the one that fits the training examples the best. And while searching and trying different hypotheses, we would hope for the learner to eventually converge to the correct hypothesis"
   ]
  },
  {
   "cell_type": "markdown",
   "id": "d851abb7",
   "metadata": {},
   "source": [
    "***\n",
    "***\n",
    "#### 6. What are the various goals of machine learning? What is the relationship between these and human learning?\n",
    "\n",
    "Sol:\n",
    "\n",
    "The goal of ML is to understand the nature of (human and other forms of) learning, and to build learning capability in computers. To be more specific.\n",
    "\n",
    "**Relationship:**\n",
    "\n",
    "There are three aspects of the goals of ML:\n",
    "\n",
    "* To make the computers smarter, more intelligent. The more direct objective in this aspect is to develop systems (programs) for specific practical learning tasks in application domains.\n",
    "\n",
    "* To develop computational models of the human learning process and perform computer simulations. The study in this aspect is also called cognitive modeling.\n",
    "\n",
    "* To explore new learning methods and develop general learning algorithms independent of applications.\n",
    " "
   ]
  },
  {
   "cell_type": "markdown",
   "id": "589f4f8a",
   "metadata": {},
   "source": [
    "***\n",
    "***\n",
    "#### 7. Illustrate the various elements of machine learning using a real-life illustration.\n",
    "\n",
    "sol:\n",
    "There are three main elements to every machine learning algorithm, and they include:\n",
    "   * **Representation:** what the model looks like; how knowledge is represented\n",
    "   * **Evaluation:** how good models are differentiated; how programs are evaluated \n",
    "   * **Optimization:** the process for finding good models; how programs are generated."
   ]
  },
  {
   "cell_type": "markdown",
   "id": "335a6cd4",
   "metadata": {},
   "source": [
    "***\n",
    "***\n",
    "#### 8. Provide an example of the abstraction method.\n",
    "\n",
    "Sol: In machine learning, abstraction methods refer to techniques that allow you to simplify complex systems, models, or data representations to make them more understandable, manageable, and generalizable. \n",
    "\n",
    "Abstraction is a fundamental concept in various aspects of machine learning, from data preprocessing to model design and interpretation.\n",
    "\n",
    "some common abstraction methods used in machine learning:\n",
    "\n",
    "* Feature Selection\n",
    "* Feature Extraction\n",
    "* Model Abstracting\n",
    "* Ensemble Methods\n",
    "\n",
    "* Data Preprocessing Abstractions\n",
    "* Regularization\n",
    "* Hyperparameter Tuning Abstractions\n",
    "* Model Compression"
   ]
  },
  {
   "cell_type": "markdown",
   "id": "869c6aba",
   "metadata": {},
   "source": [
    "***\n",
    "***\n",
    "\n",
    "#### 9. What is the concept of generalization? What function does it play in the machine learning process?\n",
    "\n",
    "Sol: Generalization refers to your model's ability to adapt properly to new, previously unseen data, drawn from the same distribution as the one used to create the model.\n",
    "\n",
    "Helps in predicting the unseen data on the bases of previous modeled data. ex (Spam/No Spam)\n"
   ]
  },
  {
   "cell_type": "markdown",
   "id": "eec978ba",
   "metadata": {},
   "source": [
    "***\n",
    "***\n",
    "#### 10. What is classification, exactly? What are the main distinctions between classification and regression?\n",
    "\n",
    "Sol:\n",
    "* Classification is the process of discovering or identifying a design or role, which helps to separate them into several categorical classes, i.e. discrete values. \n",
    "* In classification, data is labeled under different labels according to certain parameters given in input, and then the labels are projected for the data.\n",
    "(The derived mapping function may be illustrated in the context of the “IF-THEN” law.)\n",
    "\n",
    "\n",
    "The key distinction between Classification vs Regression algorithms is \n",
    "**Regression algorithms** are used to determine continuous values such as price, income, age, etc. and \n",
    "**Classification algorithms** are used to forecast or classify the distinct values such as Real or False, Male or Female, Spam or Not Spam, etc.\n"
   ]
  },
  {
   "cell_type": "markdown",
   "id": "e534253f",
   "metadata": {},
   "source": [
    "***\n",
    "***\n",
    "#### 11. What is regression, and how does it work? Give an example of a real-world problem that was solved using regression.\n",
    "\n",
    "sol:Regression is the method of discovering a function or a model for separating the real values data instead of using distinct values or groups. It may also classify the distribution movement based on historical evidence. Since a regression model predicts a quantity, thus, the ability of the operator must be reported as an error in such predictions.\n",
    "\n",
    "Example in regression is finding the probability of rainfall in some specific regions with the aid of some parameters reported earlier. "
   ]
  },
  {
   "cell_type": "markdown",
   "id": "8e77ba9c",
   "metadata": {},
   "source": [
    "___\n",
    "___\n",
    "#### 12. Describe the clustering mechanism in detail.\n",
    "Sol: \n",
    "\n",
    "Clustering or cluster analysis is a machine learning technique, which groups the unlabelled dataset. It can be defined as \"A way of grouping the data points into different clusters, consisting of similar data points. The objects with the possible similarities remain in a group that has less or no similarities with another group.\"\n",
    "\n",
    "It does it by finding some similar patterns in the unlabelled dataset such as shape, size, color, behavior, etc., and divides them as per the presence and absence of those similar patterns.\n",
    "\n",
    "It is an unsupervised learning method, hence no supervision is provided to the algorithm, and it deals with the unlabeled dataset.\n",
    "\n",
    "After applying this clustering technique, each cluster or group is provided with a cluster-ID. ML system can use this id to simplify the processing of large and complex datasets.\n",
    "\n",
    "\n",
    "The clustering technique is commonly used for statistical data analysis.\n",
    "common uses of this technique are:\n",
    "* Market Segmentation\n",
    "* Statistical data analysis\n",
    "* Social network analysis\n",
    "* Image segmentation\n",
    "* Anomaly detection, etc."
   ]
  },
  {
   "cell_type": "markdown",
   "id": "4f78ee78",
   "metadata": {},
   "source": [
    "***\n",
    "***\n",
    "#### 13. Make brief observations on two of the following topics:\n",
    " **(Any two:)**\n",
    "1. Machine learning algorithms are used\n",
    "2. Studying under supervision\n",
    "3. Studying without supervision\n",
    "4. Reinforcement learning is a form of learning based on positive reinforcement.\n",
    "\n",
    "Sol:\n",
    "\n",
    "**1.Supervised Machine Learning**\n",
    "\n",
    "\n",
    "* Supervised learning is the type of machine learning in which machines are trained using well \"labeled\" training data, and on the basis of that data, machines predict the output. The labeled data means some input data is already tagged with the correct output.\n",
    "\n",
    "\n",
    "* In supervised learning, the training data provided to the machines work as the supervisor that teaches the machines to predict the output correctly. It applies the same concept as a student learns in the supervision of the teacher.\n",
    "\n",
    "\n",
    "* Supervised learning is a process of providing input data as well as correct output data to the machine learning model. The aim of a supervised learning algorithm is to find a mapping function to map the input variable(x) with the output variable(y\n",
    "\n",
    "\n",
    "**(A) Regression:**\n",
    "\n",
    "\n",
    "Regression algorithms are used if there is a relationship between the input variable and the output variable. It is used for the prediction of continuous variables, such as Weather forecasting, Market Trends, etc. \n",
    "\n",
    "\n",
    "**some popular Regression algorithms which come under supervised learning:**\n",
    "* Linear Regression\n",
    "* Regression Trees\n",
    "* Non-Linear Regression\n",
    "* Bayesian Linear Regression\n",
    "\n",
    "\n",
    "\n",
    "\n",
    "**(B) Classification:**\n",
    "\n",
    "Classification algorithms are used when the output variable is categorical, which means there are two classes such as Yes-No, Male-Female, True-false,Spam Filtering.\n",
    "algorithms :\n",
    "* Random Forest\n",
    "* Decision Trees\n",
    "* Logistic Regression\n",
    "* Support vector Machines\n",
    "\n",
    "\n",
    "**2.Unsupervised Machine Learning**\n",
    "\n",
    "* Unsupervised learning is a machine learning technique in which models are not supervised using training dataset. Instead, models itself find the hidden patterns and insights from the given data.\n",
    "\n",
    "* Unsupervised learning cannot be directly applied to a regression or classification problem because unlike supervised learning, we have the input data but no corresponding output data. The goal of unsupervised learning is to find the underlying structure of the dataset, group that data according to similarities, and represent that dataset in a compressed format.\n",
    "\n",
    "**unsupervised learning algorithm can be further categorized into two types of problems:**\n",
    "\n",
    "\n",
    "**(A) Clustering:**\n",
    "* Clustering is a method of grouping the objects into clusters such that objects with most similarities remain into a group and have less or no similarities with the objects of another group.\n",
    "* Cluster analysis finds the commonalities between the data objects and categorizes them as per the presence and absence of those commonalities.\n",
    "\n",
    "\n",
    "**(B) Association:**\n",
    "\n",
    "* An association rule is an unsupervised learning method which is used for finding the relationships between variables in the large database.\n",
    "* It determines the set of items that occurs together in the dataset. Association rule makes marketing strategy more effective.\n",
    "* Such as people who buy X item (suppose a bread) are also tend to purchase Y (Butter/Jam) item. \n",
    "* A typical example of Association rule is Market Basket Analysis.\n",
    "\n",
    "**Unsupervised Learning algorithms:**\n",
    "* K-means clustering\n",
    "* KNN (k-nearest neighbors)\n",
    "* Anomaly detection\n",
    "\n",
    "\n"
   ]
  },
  {
   "cell_type": "markdown",
   "id": "ac78136f",
   "metadata": {},
   "source": [
    "\n",
    "***\n",
    "***"
   ]
  }
 ],
 "metadata": {
  "kernelspec": {
   "display_name": "Python 3 (ipykernel)",
   "language": "python",
   "name": "python3"
  },
  "language_info": {
   "codemirror_mode": {
    "name": "ipython",
    "version": 3
   },
   "file_extension": ".py",
   "mimetype": "text/x-python",
   "name": "python",
   "nbconvert_exporter": "python",
   "pygments_lexer": "ipython3",
   "version": "3.9.12"
  }
 },
 "nbformat": 4,
 "nbformat_minor": 5
}
