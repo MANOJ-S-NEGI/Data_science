{
  "nbformat": 4,
  "nbformat_minor": 0,
  "metadata": {
    "colab": {
      "provenance": [],
      "authorship_tag": "ABX9TyO9kW5Gc74BjmFfdAxRq+uJ",
      "include_colab_link": true
    },
    "kernelspec": {
      "name": "python3",
      "display_name": "Python 3"
    },
    "language_info": {
      "name": "python"
    }
  },
  "cells": [
    {
      "cell_type": "markdown",
      "metadata": {
        "id": "view-in-github",
        "colab_type": "text"
      },
      "source": [
        "<a href=\"https://colab.research.google.com/github/MANOJ-S-NEGI/Data_science/blob/main/ML_ASSISMENT_17.ipynb\" target=\"_parent\"><img src=\"https://colab.research.google.com/assets/colab-badge.svg\" alt=\"Open In Colab\"/></a>"
      ]
    },
    {
      "cell_type": "markdown",
      "source": [
        "# ML_ASSISMENT_17"
      ],
      "metadata": {
        "id": "7WLwiRB7crtE"
      }
    },
    {
      "cell_type": "markdown",
      "source": [
        "---\n",
        "---\n",
        "#### **1. Using a graph to illustrate slope and intercept, define basic linear regression.**\n",
        "\n",
        "sol:\n",
        "\n",
        "- Linear regression is a statistical method used to model the relationship between a dependent variable (often denoted as \"y\") and one or more independent variables (often denoted as \"x\").\n",
        "\n",
        "- The basic idea is to find the best-fitting line that minimizes the difference between the observed data points and the values predicted by the linear model.\n",
        "\n",
        "- In a simple linear regression with one independent variable, the equation for the line is typically expressed as:\n",
        "   - **y=mx+b**\n",
        "\n",
        "**Where:**\n",
        "   - y is the dependent variable.\n",
        "\n",
        "   - x is the independent variable.\n",
        "\n",
        "   - m is the slope of the line.\n",
        "\n",
        "   - b is the y-intercept (the value of y when x is zero).\n",
        "\n",
        "   ---\n",
        "   **Graph**"
      ],
      "metadata": {
        "id": "7OKCB5Rwcebj"
      }
    },
    {
      "cell_type": "code",
      "source": [
        "import matplotlib.pyplot as plt\n",
        "# Set the figure size\n",
        "plt.figure(figsize=(3,3))\n",
        "# Draw a red line from (0,0) to (1,1)\n",
        "plt.axline((0, 0), (1, 1), linewidth=1, color='g',label='Positive Slope')\n",
        "# Display the plot\n",
        "plt.legend()\n",
        "plt.show()"
      ],
      "metadata": {
        "colab": {
          "base_uri": "https://localhost:8080/",
          "height": 291
        },
        "id": "44JzBVLq5kXU",
        "outputId": "8dde55ed-1ac8-4a4a-abb3-58940479b4a1"
      },
      "execution_count": 23,
      "outputs": [
        {
          "output_type": "display_data",
          "data": {
            "text/plain": [
              "<Figure size 300x300 with 1 Axes>"
            ],
            "image/png": "[encoded data removed]"
          },
          "metadata": {}
        }
      ]
    },
    {
      "cell_type": "markdown",
      "source": [
        "<br>\n",
        "<br>\n",
        "\n",
        "---\n",
        "---\n",
        "#### **2. In a graph, explain the terms rise, run, and slope.**\n",
        "\n",
        "sol:\n",
        "\n",
        "- The difference between the y-coordinates of the two points is called the rise.\n",
        "- The difference between the x-coordinates of the same two points is called the run.\n",
        "\n",
        "- The slope of a line is defined as the ratio of the rise to the run. It indicates how steep or flat the line is.\n",
        "\n",
        "**Mathematically, it is given by:**\n",
        "```\n",
        "slope (m)= run/rise\n",
        " where:\n",
        " run = y2−y1\n",
        " rise = x2−x1\n",
        "\n",
        "```\n",
        "\n",
        "<br>\n",
        "<br>"
      ],
      "metadata": {
        "id": "OXT4HIEjc5hs"
      }
    },
    {
      "cell_type": "markdown",
      "source": [
        "---\n",
        "---\n",
        "#### **3. Use a graph to demonstrate slope, linear positive slope, and linear negative slope, as well as the different conditions that contribute to the slope.**\n",
        "\n",
        "sol:\n",
        "\n",
        "- A linear positive slope indicates that as the independent variable (x) increases, the dependent variable (y) also increases.\n",
        "\n",
        "```\n",
        "      Y                  .\n",
        "      |               .\n",
        "      |            .                                \n",
        "      |         .\n",
        "      |      .\n",
        "      |   .\n",
        "      |.________________ X\n",
        "\n",
        "   ```\n",
        "\n",
        "\n",
        "- A linear negative slope indicates that as the independent variable (x) increases, the dependent variable (y) decreases.\n",
        "   ```\n",
        "      Y  \n",
        "      |   .\n",
        "      |     .                                \n",
        "      |       .\n",
        "      |          .\n",
        "      |             .\n",
        "      |________________. X\n",
        "\n",
        "   ```\n",
        "\n",
        "**Conditions that contribute to slope:**\n",
        "\n",
        "**Steepness of the Line:**\n",
        "\n",
        "- A steeper line has a higher slope. This means that for a given change in x, the change in y is larger.\n",
        "\n",
        "**Positive or Negative Direction:**\n",
        "\n",
        "- A positive slope implies that as x increases, y also increases. A negative slope implies that as x increases, y decreases.\n",
        "\n",
        "**Zero Slope:**\n",
        "- A horizontal line has a slope of zero because there is no change in the y-coordinate regardless of how much x changes.\n",
        "\n",
        "**Undefined Slope:**\n",
        "- A vertical line has an undefined slope because the change in x is zero, which would make the denominator zero in the slope formula.\n",
        "<br>\n",
        "<br>\n"
      ],
      "metadata": {
        "id": "5qIJ3yBqc5bR"
      }
    },
    {
      "cell_type": "markdown",
      "source": [
        "---\n",
        "---\n",
        "#### **4. Use a graph to demonstrate curve linear negative slope and curve linear positive slope.**\n",
        "\n",
        "sol:\n",
        "\n",
        "   "
      ],
      "metadata": {
        "id": "o0hnvqmZc5Yu"
      }
    },
    {
      "cell_type": "code",
      "source": [
        "import matplotlib.pyplot as plt\n",
        "\n",
        "# Set the figure size\n",
        "plt.figure(figsize=(3,3))\n",
        "\n",
        "# Draw a red line from (0,0) to (1,1) and label it as \"Positive Slope\"\n",
        "plt.plot([0, 1], [0, 1], linewidth=1, color='g', label='Positive Slope')\n",
        "# Draw a blue line from (1,0) to (0,1) and label it as \"Negative Slope\"\n",
        "plt.plot([1, 0], [0, 1], linewidth=1, color='b', label='Negative Slope')\n",
        "\n",
        "\n",
        "# Add legend\n",
        "plt.legend()\n",
        "\n",
        "# Display the plot\n",
        "plt.show()\n",
        "\n"
      ],
      "metadata": {
        "colab": {
          "base_uri": "https://localhost:8080/",
          "height": 291
        },
        "id": "R1fRn4Mu6bgG",
        "outputId": "b7f5372e-a595-4033-89c8-489e4649e62a"
      },
      "execution_count": 22,
      "outputs": [
        {
          "output_type": "display_data",
          "data": {
            "text/plain": [
              "<Figure size 300x300 with 1 Axes>"
            ],
            "image/png": "[encoded data removed]"
          },
          "metadata": {}
        }
      ]
    },
    {
      "cell_type": "markdown",
      "source": [
        "<br>\n",
        "<br>\n",
        "\n",
        "---\n",
        "---\n",
        "#### **5. Use a graph to show the maximum and low points of curves.**\n",
        "sol:\n"
      ],
      "metadata": {
        "id": "fPYxJTWJc5V6"
      }
    },
    {
      "cell_type": "code",
      "source": [
        "\n",
        "import matplotlib.pyplot as plt\n",
        "\n",
        "# Define your data points\n",
        "x = [1, 2, 3, 4, 5]\n",
        "y = [2, 1, 3, 5, 4]\n",
        "\n",
        "# Plot the data\n",
        "plt.plot(x, y, 'bo-')\n",
        "\n",
        "# Find the maximum and minimum points\n",
        "max_x = x[y.index(max(y))]\n",
        "min_x = x[y.index(min(y))]\n",
        "max_y = max(y)\n",
        "min_y = min(y)\n",
        "\n",
        "# Highlight the maximum and minimum points\n",
        "plt.plot(max_x, max_y, 'ro',label =(f\"Maximum Point: ({max_x}, {max_y})\"))\n",
        "plt.plot(min_x, min_y, 'go', label =(f\"Minimum Point: ({min_x}, {min_y})\"))\n",
        "\n",
        "\n",
        "plt.legend()\n",
        "# Display the plot\n",
        "plt.show()\n"
      ],
      "metadata": {
        "colab": {
          "base_uri": "https://localhost:8080/",
          "height": 430
        },
        "id": "LovoY6gL-lUV",
        "outputId": "8ec10e81-7ff0-4cec-f697-40b4199cafd6"
      },
      "execution_count": 27,
      "outputs": [
        {
          "output_type": "display_data",
          "data": {
            "text/plain": [
              "<Figure size 640x480 with 1 Axes>"
            ],
            "image/png": "[encoded data removed]"
          },
          "metadata": {}
        }
      ]
    },
    {
      "cell_type": "markdown",
      "source": [
        "<br>\n",
        "<br>\n",
        "\n",
        "---\n",
        "---\n",
        "#### **6. Use the formulas for a and b to explain ordinary least squares.**\n",
        "\n",
        "Sol:\n",
        "\n",
        "In statistics, Ordinary Least Squares (OLS) is a method used for finding the best-fitting linear regression line through a set of data points.\n",
        "\n",
        "It minimizes the sum of the squared vertical distances (called residuals) between the observed and predicted values.\n",
        "\n",
        "**a (Intercept):**\n",
        "- In the context of linear regression, 'a' represents the intercept, which is the value of the dependent variable (y) when the independent variable (x) is zero. It's the point where the regression line crosses the y-axis.\n",
        "\n",
        "- **b (Slope):** 'b' is the coefficient of the independent variable (x). It represents the change in the dependent variable (y) for a one-unit change in the independent variable (x). It's the slope of the regression line.\n",
        "\n",
        "<br>\n",
        "<br>"
      ],
      "metadata": {
        "id": "927J4lDZc5To"
      }
    },
    {
      "cell_type": "markdown",
      "source": [
        "---\n",
        "---\n",
        "#### **7. Provide a step-by-step explanation of the OLS algorithm.**\n",
        "\n",
        "sol:\n",
        "- The Ordinary Least Squares (OLS) algorithm is a method used in linear regression to find the best-fitting line through a set of data points.\n",
        "\n",
        "- It minimizes the sum of the squared vertical distances (residuals) between the observed and predicted values.\n",
        "\n",
        "\n",
        "<br>\n",
        "\n",
        "**Here is a step-by-step explanation of the OLS algorithm:**\n",
        "\n",
        "1. **Defining the Linear Model:**\n",
        "\n",
        " ```\n",
        "Y=b0+b1∗X+ϵ\n",
        "where;\n",
        "Y is the dependent variable (the one you want to predict).\n",
        "X is the independent variable (the one you use to make predictions).\n",
        "b0 is the intercept (the value of Y when X is zero).\n",
        "b1 is the slope (the change in Y for a unit change in X).\n",
        "ϵ represents the error term (the difference between observed and predicted values).\n",
        "```\n",
        "\n",
        "\n",
        "2. **Calculate the Predicted Values:**\n",
        "\n",
        "- For each data point (xi​,yi), calculate the predicted value (y_pred) using the linear model:\n",
        "```\n",
        "y_pred = b0+b1∗x\n",
        "```\n",
        "\n",
        "3. **Calculate Residuals:**\n",
        "- Calculate the residuals (e_residual) for each data point by finding the difference between the observed value (y_observed) and the predicted value (y_pred):\n",
        "```\n",
        "e_residual = (y_observed) - (y_pred)\n",
        "```\n",
        "\n",
        "4. **Calculate the Sum of Squared Residuals:**\n",
        "- Square each of the residuals and sum them up:\n",
        "```\n",
        " SSR= e_residual*e_residual\n",
        "```\n",
        "\n",
        "5. **Minimize the Sum of Squared Residuals:**\n",
        "\n",
        "- The goal of OLS is to find the values of b0 and b1 that minimize the sum of squared residuals.\n",
        "\n",
        "- This is done by taking partial derivatives with respect to b0 and b1 and setting them equal to zero.\n",
        "\n",
        "- The formulas for the optimal values are:\n",
        "```\n",
        "b1 = ∑{(x-x_mean)(y-y_mean)}/ ∑(x-x_mean)\n",
        "b0 = y_mean − b1∗ x_mean\n",
        "```\n",
        "\n",
        "6. **Final Model:**\n",
        "\n",
        "- Once you have the values of b0 and b1, you can plug them into the linear model:\n",
        "\n",
        "```\n",
        "Y=b0+b1∗X\n",
        "```\n",
        "- This model represents the best-fitting line through the data points.\n",
        "\n",
        "7. **Evaluate the Model.**\n",
        "\n",
        "8. **Make Predictions.**"
      ],
      "metadata": {
        "id": "iKbta3jMc5Rp"
      }
    },
    {
      "cell_type": "markdown",
      "source": [
        "---\n",
        "---\n",
        "#### **8. What is the regression standard error? To represent the same, make a graph.**\n",
        "\n",
        "sol:\n",
        "\n",
        "- The regression standard error, often denoted as **SE**, is a measure of the accuracy of the regression line's predictions.\n",
        "- It quantifies the average amount by which the actual values deviate from the predicted values."
      ],
      "metadata": {
        "id": "U2lfU_AUc5OJ"
      }
    },
    {
      "cell_type": "code",
      "source": [
        "import matplotlib.pyplot as plt\n",
        "import numpy as np\n",
        "\n",
        "# Generate some sample data\n",
        "np.random.seed(0)\n",
        "x = np.random.rand(50) * 10\n",
        "y = 2 * x + 1 + np.random.randn(50) * 2\n",
        "\n",
        "# Fit a linear regression model\n",
        "coefficients = np.polyfit(x, y, 1)\n",
        "polynomial = np.poly1d(coefficients)\n",
        "y_pred = polynomial(x)\n",
        "\n",
        "# Calculate residuals\n",
        "residuals = y - y_pred\n",
        "\n",
        "# Calculate regression standard error\n",
        "SE = np.sqrt(np.sum(residuals**2) / (len(x) - 2))\n",
        "\n",
        "# Create the plot\n",
        "plt.figure(figsize=(5,5))\n",
        "plt.scatter(x, y, label='Data Points')\n",
        "plt.plot(x, y_pred, color='red', label='Regression Line')\n",
        "\n",
        "# Draw residuals for a few points\n",
        "for i in range(5):\n",
        "    plt.plot([x[i], x[i]], [y[i], y_pred[i]], 'k--')\n",
        "    plt.plot(x[i], y_pred[i], 'go')\n",
        "\n",
        "plt.xlabel('X')\n",
        "plt.ylabel('Y')\n",
        "plt.title(f'Regression Standard Error (SE = {SE:.2f})')\n",
        "plt.legend()\n",
        "plt.show()\n"
      ],
      "metadata": {
        "colab": {
          "base_uri": "https://localhost:8080/",
          "height": 487
        },
        "id": "QK2auvOwKFL-",
        "outputId": "6705b1d2-a4f8-436b-a995-008311014cea"
      },
      "execution_count": 31,
      "outputs": [
        {
          "output_type": "display_data",
          "data": {
            "text/plain": [
              "<Figure size 500x500 with 1 Axes>"
            ],
            "image/png": "[encoded data removed]"
          },
          "metadata": {}
        }
      ]
    },
    {
      "cell_type": "markdown",
      "source": [
        "---\n",
        "---\n",
        "#### **9. Provide an example of multiple linear regression.**\n",
        "\n",
        "Multiple linear regression is used when there are multiple independent variables influencing a single dependent variable. The relationship is modeled as:\n",
        "\n",
        "**Y=b0+(b1X1)+(b2X2)+…+bnXn+ϵ**\n",
        "\n",
        "**Example :**\n",
        "\n",
        "|Person|Years of Experience(X1)| Education Level (X2)|Salary (Y)|\n",
        "|:-:|:-:|:-:|:-:|\n",
        "|A|5|Bachelor|60,000|\n",
        "|B|3|Master|65,000 |\n",
        "|c|4|Master|85,000 |\n",
        "In this case, the multiple linear regression model would be:\n",
        "\n",
        "Salary=b0+b1⋅Experience+b2⋅Education+ϵ\n",
        "\n",
        "The model parameters(b0,b1,b2)would be estimated from the data.\n",
        "\n",
        "<br>\n",
        "<br>"
      ],
      "metadata": {
        "id": "L6C0nknZc5LK"
      }
    },
    {
      "cell_type": "markdown",
      "source": [
        "---\n",
        "---\n",
        "#### **10. Describe the regression analysis assumptions and the BLUE principle**\n",
        "\n",
        "sol:\n",
        "\n",
        "Regression analysis makes several assumptions about the data:\n",
        "\n",
        "1. **Linearity :**  The relationship between the independent and dependent variables should be linear.\n",
        "\n",
        "2. **Independence of Errors :** The errors (ϵ) should be independent of each other.\n",
        "\n",
        "3. **Normality of Errors :** The errors should be normally distributed with a mean of zero.\n",
        "\n",
        "4. **Homoscedasticity** : The variance of the errors should be constant for all values of the independent variables.\n",
        "\n",
        "5. **No Multicollinearity :** The independent variables should not be highly correlated with each other.\n",
        "\n",
        "The BLUE principle stands for **\"Best Linear Unbiased Estimators.\"**\n",
        "- It is a set of properties that characterize the estimators produced by the ordinary least squares (OLS) method in multiple linear regression:\n",
        "\n",
        "1. **Best:** OLS estimators are the Best Linear Estimators in terms of minimizing the variance of the estimators among all unbiased linear estimators.\n",
        "\n",
        "2. **Linear:** The estimators are linear functions of the observed dependent variable.\n",
        "\n",
        "3. **Unbiased:** OLS estimators are unbiased, meaning they have an expected value equal to the true parameter value.\n",
        "\n",
        "4. **Efficient:** Among all unbiased estimators, OLS estimators have the smallest variance, making them efficient.\n",
        "\n",
        "**NOTE**, violating the assumptions can lead to biased and inefficient estimators, so it's important to check these assumptions when interpreting the results of a regression analysis.\n",
        "\n",
        "\n",
        "\n",
        "\n",
        "\n"
      ],
      "metadata": {
        "id": "ILPm8wVhc5Iv"
      }
    },
    {
      "cell_type": "markdown",
      "source": [
        "---\n",
        "---\n",
        "#### **11. Describe two major issues with regression analysis.**\n",
        "\n",
        "sol:\n",
        "\n",
        "Two Major Issues with Regression Analysis:\n",
        "\n",
        "**Multicollinearity:**\n",
        "\n",
        "- Issue: Multicollinearity occurs when two or more independent variables in a multiple regression model are highly correlated.\n",
        "\n",
        "- This can lead to problems in interpreting the individual effects of the variables because it becomes difficult to distinguish their unique contributions to the dependent variable.\n",
        "\n",
        "- Consequence: It inflates the standard errors of the coefficients, which makes some variables appear to be statistically insignificant when they might actually be important.\n",
        "\n",
        "- Solution: Detecting and dealing with multicollinearity is important. This can involve removing one of the correlated variables, combining them, or using techniques like Principal Component Analysis.\n",
        "\n",
        "\n",
        "**Heteroscedasticity:**\n",
        "\n",
        "- Issue: Heteroscedasticity means that the variance of the error terms is not constant across different levels of the independent variable(s). In other words, the spread of the residuals is not consistent.\n",
        "\n",
        "- Consequence: This violates one of the assumptions of regression analysis, which assumes that the errors are homoscedastic (have constant variance). This can lead to biased estimators and incorrect inferences.\n",
        "\n",
        "\n",
        "- Solution: One approach is to transform the data (e.g., using a logarithmic transformation) to stabilize the variance. Another approach is to use robust regression techniques that are less sensitive to heteroscedasticity."
      ],
      "metadata": {
        "id": "bA5ksOHdc5F6"
      }
    },
    {
      "cell_type": "markdown",
      "source": [
        "---\n",
        "---\n",
        "#### **12. How can the linear regression model accuracy be improved?**\n",
        "\n",
        "sol:\n",
        "\n",
        "To improve the accuracy of a linear regression model, you can consider the following strategies:\n",
        "\n",
        "1. Feature Selection: Choose the most relevant and informative independent variables. Eliminate variables that don't contribute much to the model.\n",
        "\n",
        "2. Feature Engineering: Create new features from existing ones that might capture more information about the relationship.\n",
        "\n",
        "3. Transform Variables: Apply transformations (e.g., logarithmic, square root) to variables to make the relationship more linear.\n",
        "\n",
        "4. Handle Outliers: Identify and deal with outliers in the data, either by removing them or using robust regression techniques.\n",
        "\n",
        "5. Address Multicollinearity: Detect and handle multicollinearity by removing correlated variables or using techniques like Principal Component Analysis.\n",
        "\n",
        "6. Cross-Validation: Use techniques like k-fold cross-validation to assess the model's performance on different subsets of the data.\n",
        "\n",
        "7. Regularization: Consider using techniques like Lasso or Ridge regression to prevent overfitting and improve generalization.\n",
        "\n",
        "8. Check Assumptions: Verify that the assumptions of regression analysis are met (e.g., linearity, normality, homoscedasticity)."
      ],
      "metadata": {
        "id": "5uhdfulec5C7"
      }
    },
    {
      "cell_type": "markdown",
      "source": [
        "---\n",
        "---\n",
        "#### **13. Using an example, describe the polynomial regression model in detail.**\n",
        "\n",
        "sol:\n",
        "\n",
        "Polynomial regression is a type of regression analysis where the relationship between the independent variable (X) and the dependent variable (Y) is modeled as an n-th degree polynomial.\n",
        "\n",
        "The equation for a polynomial regression model is:\n",
        "```\n",
        "Y= b0 + b1X + b2X^2 +…+bnX^n + ϵ\n",
        "```\n",
        "Here's an example to illustrate polynomial regression:\n",
        "\n",
        "Suppose we want to predict a person's weight (Y) based on their age (X).\n",
        "\n",
        "We suspect that the relationship might not be linear, so we try a polynomial regression with degree 2:\n",
        "```\n",
        "Weight=b0 + b1⋅Age+ b2⋅Age^2 +ϵ\n",
        "```\n",
        "In this model,b0, b1​, b2 are the coefficients to be estimated.\n",
        "\n",
        "The model can capture non-linear relationships, which a simple linear regression model wouldn't be able to.\n",
        "\n"
      ],
      "metadata": {
        "id": "kt-_kz_7c5AB"
      }
    },
    {
      "cell_type": "markdown",
      "source": [
        "---\n",
        "---\n",
        "#### **14. Provide a detailed explanation of logistic regression.**\n",
        "\n",
        "sol:\n",
        "\n",
        "- Logistic regression is a statistical method used for analyzing datasets in which there are one or more independent variables that can be used to predict the outcome of a categorical dependent variable.\n",
        "\n",
        "- It's particularly useful for binary classification problems, where the outcome variable has two possible classes (e.g., 0 or 1, yes or no).\n",
        "\n",
        "- The key idea behind logistic regression is to transform the output of a linear combination of the independent variables using the logistic function (also known as the sigmoid function).\n",
        "\n",
        "- note: The logistic function ensures that the output is bounded between 0 and 1, which is suitable for modeling probabilities.\n"
      ],
      "metadata": {
        "id": "0ELNCX_ac49S"
      }
    },
    {
      "cell_type": "markdown",
      "source": [
        "---\n",
        "---\n",
        "#### **15. What are the logistic regression assumptions?**\n",
        "\n",
        "sol:\n",
        "\n",
        "- **Linearity of the Logit:** The relationship between the independent variables and the logit of the dependent variable should be linear.\n",
        "\n",
        "- **Independence of Errors:** The observations should be independent of each other. This assumption is crucial, and violating it can lead to biased estimates.\n",
        "\n",
        "- **No Multicollinearity:** The independent variables should not be highly correlated with each other. This can cause issues with interpreting the coefficients.\n",
        "\n",
        "- **Binary Dependent Variable:** Logistic regression is designed for binary classification problems. If the dependent variable has more than two categories, you would need to use multinomial logistic regression or other techniques.\n",
        "\n",
        "- **Large Sample Size:** Having a large enough sample size ensures that the estimates of the model parameters are reliable."
      ],
      "metadata": {
        "id": "SReSzeyec46S"
      }
    },
    {
      "cell_type": "markdown",
      "source": [
        "---\n",
        "---\n",
        "#### **16. Go through the details of maximum likelihood estimation.**\n",
        "\n",
        "sol:\n",
        "- maximum Likelihood Estimation is a method used for estimating the parameters of a statistical model.\n",
        "\n",
        "- It seeks to find the parameter values that maximize the likelihood function, which measures how well the model explains the observed data.\n",
        "\n",
        "- In the context of logistic regression, the likelihood function is defined as the probability of observing the given set of outcomes (0s and 1s) for a given set of predictor variables.\n",
        "\n",
        "- The goal is to find the set of coefficients that make the observed outcomes most probable.\n",
        "\n",
        "- The process of maximizing this log-likelihood function is usually done using numerical optimization techniques, such as gradient descent or more advanced methods like Newton-Raphson.\n",
        "\n",
        "- By maximizing the likelihood, we find the set of parameter values that are most likely to have generated the observed data, given the assumptions of the model."
      ],
      "metadata": {
        "id": "YJ9pMobKc43Z"
      }
    },
    {
      "cell_type": "markdown",
      "source": [
        "---\n",
        "---\n"
      ],
      "metadata": {
        "id": "UC5zS-7oc40h"
      }
    }
  ]
}