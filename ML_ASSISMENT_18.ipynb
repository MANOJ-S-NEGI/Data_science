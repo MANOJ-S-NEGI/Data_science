{
  "nbformat": 4,
  "nbformat_minor": 0,
  "metadata": {
    "colab": {
      "provenance": [],
      "authorship_tag": "ABX9TyMw2UTvsF438Ph1VKjls+FF",
      "include_colab_link": true
    },
    "kernelspec": {
      "name": "python3",
      "display_name": "Python 3"
    },
    "language_info": {
      "name": "python"
    }
  },
  "cells": [
    {
      "cell_type": "markdown",
      "metadata": {
        "id": "view-in-github",
        "colab_type": "text"
      },
      "source": [
        "<a href=\"https://colab.research.google.com/github/MANOJ-S-NEGI/Data_science/blob/main/ML_ASSISMENT_18.ipynb\" target=\"_parent\"><img src=\"https://colab.research.google.com/assets/colab-badge.svg\" alt=\"Open In Colab\"/></a>"
      ]
    },
    {
      "cell_type": "markdown",
      "source": [
        "# ML_ASSISMENT_18"
      ],
      "metadata": {
        "id": "VeF8kd3YKzIw"
      }
    },
    {
      "cell_type": "markdown",
      "source": [
        "---\n",
        "---\n",
        "#### **1. What is the difference between supervised and unsupervised learning? Give some examples to illustrate your point.**\n",
        "\n",
        "Sol:\n",
        "\n",
        "Supervised Learning: In supervised learning, the algorithm learns from labeled training data, where the input data is paired with the corresponding desired output. The goal is for the algorithm to learn a mapping function that can predict the output for new, unseen inputs.\n",
        "\n",
        "Examples include classification (predicting categories) and regression (predicting continuous values). For instance, training a model to classify emails as spam or not spam.\n",
        "\n",
        "Unsupervised Learning:In unsupervised learning, the algorithm learns from unlabeled data where there is no predefined output.\n",
        "\n",
        "The goal is to discover patterns, structures, or relationships within the data. Clustering and dimensionality reduction are common examples.\n",
        "\n",
        "\n",
        "<br>\n",
        "<br>"
      ],
      "metadata": {
        "id": "i9wLb759Kxh4"
      }
    },
    {
      "cell_type": "markdown",
      "source": [
        "---\n",
        "---\n",
        "#### **2. Mention a few unsupervised learning applications.**\n",
        "Sol:\n",
        "   \n",
        "**Unsupervised Learning Applications:**\n",
        "\n",
        "- Clustering:\n",
        "Grouping similar items together, such as customer segmentation, document categorization, and image segmentation.\n",
        "\n",
        "- Dimensionality Reduction: Reducing the number of features while retaining essential information, useful for visualization and compression.\n",
        "\n",
        "- Anomaly Detection: Identifying unusual patterns or outliers in data, e.g., fraud detection or manufacturing defects.\n",
        "\n",
        "- Topic Modeling: Discovering underlying topics in text documents without pre-defined categories.\n",
        "\n",
        "- Recommendation Systems: Suggesting items to users based on their preferences and behaviors.\n",
        "\n",
        "\n",
        "<br>\n",
        "<br>"
      ],
      "metadata": {
        "id": "mE8L89dnMhrG"
      }
    },
    {
      "cell_type": "markdown",
      "source": [
        "---\n",
        "---\n",
        "#### **3. What are the three main types of clustering methods? Briefly describe the characteristics of each.**\n",
        "\n",
        "Sol:\n",
        "- Hierarchical Clustering: Builds a hierarchy of clusters by iteratively merging or splitting existing clusters based on their similarity.\n",
        "\n",
        "- Partitioning Methods: Divides data into non-overlapping subsets (clusters) such that each data point belongs to exactly one cluster.\n",
        "\n",
        "- Density-Based Methods: Identify areas of higher density in the feature space, grouping points based on their density relative to neighboring points.\n",
        "\n",
        "\n",
        "<br>\n",
        "<br>"
      ],
      "metadata": {
        "id": "osOiK6zQMi3X"
      }
    },
    {
      "cell_type": "markdown",
      "source": [
        "---\n",
        "---\n",
        "#### **4. Explain how the k-means algorithm determines the consistency of clustering.**\n",
        "\n",
        "Sol:\n",
        "\n",
        "The k-means algorithm determines the consistency of clustering by minimizing the sum of squared distances (SSE) between data points and the centroids of their assigned clusters.\n",
        "\n",
        "It seeks to find centroids that minimize this SSE, ensuring that data points are closer to the centroids of their assigned clusters and farther from centroids of other clusters.\n",
        "\n",
        "<br><br>"
      ],
      "metadata": {
        "id": "AKX5Tyx7Mizv"
      }
    },
    {
      "cell_type": "markdown",
      "source": [
        "---\n",
        "---\n",
        "#### **5. With a simple illustration, explain the key difference between the k-means and k-medoids algorithms.**\n",
        "Sol:\n",
        "Both k-means and k-medoids are clustering algorithms, but the key difference lies in how they choose cluster representatives:\n",
        " K-Means: The centroid of a cluster is the mean of all data points in that cluster.\n",
        " K-Medoids: The medoid is the data point in the cluster that minimizes the sum of distances to all other points in the cluster.\n",
        "\n",
        "<br><br>"
      ],
      "metadata": {
        "id": "mNGqTk3ZMixM"
      }
    },
    {
      "cell_type": "markdown",
      "source": [
        "---\n",
        "---\n",
        "#### **6. What is a dendrogram, and how does it work? Explain how to do it.**\n",
        "Sol:\n",
        "\n",
        "A dendrogram is a tree-like diagram used in hierarchical clustering to represent the arrangement of clusters.\n",
        "\n",
        "It illustrates how data points are grouped together based on their similarity.\n",
        "\n",
        "The y-axis represents the measure of dissimilarity (or similarity) between clusters, and the x-axis represents the individual data points or clusters.\n",
        "\n",
        "As you move up the y-axis, clusters are progressively merged, forming branches in the dendrogram.\n",
        "\n",
        "<br>\n",
        "<br>\n"
      ],
      "metadata": {
        "id": "1DfWJUdsMiug"
      }
    },
    {
      "cell_type": "markdown",
      "source": [
        "---\n",
        "---\n",
        "#### **7. What exactly is SSE? What role does it play in the k-means algorithm?**\n",
        "Sol:\n",
        "\n",
        "SSE is a measure of the within-cluster variability in k-means clustering.\n",
        "It's calculated by summing the squared distances between each data point and the centroid of its assigned cluster.\n",
        "\n",
        "K-means aims to minimize SSE, as lower SSE indicates that data points are closer to the centroids of their respective clusters.\n",
        "\n",
        "\n",
        "\n",
        "<br><br>"
      ],
      "metadata": {
        "id": "3W_hAN0BMiry"
      }
    },
    {
      "cell_type": "markdown",
      "source": [
        "---\n",
        "---\n",
        "#### **8. With a step-by-step algorithm, explain the k-means procedure.**\n",
        "Sol:\n",
        "   Here's a step-by-step overview of the k-means algorithm:\n",
        "\n",
        "   1. Initialize k cluster centroids randomly.\n",
        "   2. Assign each data point to the nearest centroid (forming k clusters).\n",
        "   3. Recalculate the centroids as the mean of data points in each cluster.\n",
        "   4. Repeat steps until centroids converge (or a specified number of iterations).\n",
        "\n",
        "<br><br>\n"
      ],
      "metadata": {
        "id": "BEvUFNEiMioi"
      }
    },
    {
      "cell_type": "markdown",
      "source": [
        "---\n",
        "---\n",
        "#### **9. In the sense of hierarchical clustering, define the terms single link and complete link.**\n",
        "\n",
        "Sol:\n",
        "\n",
        "* Single Link: Also known as the minimum distance method, it measures the distance between the closest points of two clusters. It tends to create elongated clusters and is sensitive to outliers.\n",
        "\n",
        "* Complete Link: Also known as the maximum distance method, it measures the distance between the farthest points of two clusters. It tends to create compact, spherical clusters but can be sensitive to noise.\n",
        "\n",
        "<br><br>\n"
      ],
      "metadata": {
        "id": "XFEKvsxMMilZ"
      }
    },
    {
      "cell_type": "markdown",
      "source": [
        "---\n",
        "---\n",
        "#### **10. How does the apriori concept aid in the reduction of measurement overhead in a business basket analysis? Give an example to demonstrate your point.**\n",
        "\n",
        "Sol:\n",
        "   \n",
        "- The Apriori algorithm is a popular technique used in market basket analysis, which involves analyzing customer transactions to discover associations between products frequently purchased together.\n",
        "\n",
        "- The goal is to find patterns in customer behavior that can help businesses make informed decisions, such as optimizing product placement or creating targeted marketing strategies.\n",
        "\n",
        "- One of the main challenges in market basket analysis is dealing with the combinatorial explosion of possible item combinations, leading to high measurement overhead.\n",
        "\n",
        "- The Apriori algorithm helps reduce this measurement overhead by exploiting the \"apriori principle,\" which states that if an itemset is frequent (i.e., occurs frequently in the dataset), then all of its subsets must also be frequent.\n",
        "\n",
        "- This principle allows the algorithm to prune the search space by avoiding the evaluation of itemsets that are unlikely to be frequent based on their subsets' frequency. This significantly reduces the number of candidate itemsets that need to be examined, leading to more efficient association rule discovery.\n",
        "\n"
      ],
      "metadata": {
        "id": "q1_5GHCPMhwR"
      }
    },
    {
      "cell_type": "markdown",
      "source": [
        "---\n",
        "---"
      ],
      "metadata": {
        "id": "XplWXZTfMgkh"
      }
    }
  ]
}