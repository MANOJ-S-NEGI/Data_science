{
  "nbformat": 4,
  "nbformat_minor": 0,
  "metadata": {
    "colab": {
      "provenance": []
    },
    "kernelspec": {
      "name": "python3",
      "display_name": "Python 3"
    },
    "language_info": {
      "name": "python"
    }
  },
  "cells": [
    {
      "cell_type": "markdown",
      "source": [
        "# ML_ASSISMENT_04"
      ],
      "metadata": {
        "id": "rjqYsaXdJiiD"
      }
    },
    {
      "cell_type": "markdown",
      "source": [
        "***\n",
        "***\n",
        "#### **1. What are the key tasks involved in getting ready to work with machine learning modeling?**\n",
        "\n",
        "Sol:  key Task involved are:\n",
        "\n",
        "**1. Problem Definition and Goal Setting:**\n",
        "\n",
        "* Clearly define the problem you want to solve with machine learning.\n",
        "* Set specific goals and objectives for your modeling project. What do you want to achieve with the model?\n",
        "\n",
        "\n",
        "**2. Data Collection and Exploration:**\n",
        "* Gather relevant and high-quality data for your project.\n",
        "* Explore and analyze the data to understand its structure, quality, and potential challenges.\n",
        "* Handle missing values, outliers, and noise in the data.\n",
        "\n",
        "\n",
        "**3. Data Preprocessing and Cleaning:**\n",
        "* Preprocess the data by performing tasks like data normalization, scaling, and encoding categorical variables.\n",
        "* Handle data imbalances and prepare the data for model training.\n",
        "\n",
        "\n",
        "**4. Feature Selection and Engineering:**\n",
        "* Select relevant features that will contribute to the model's performance.\n",
        "* Create new features or transform existing ones to provide additional information to the model.\n",
        "\n",
        "\n",
        "**5. Data Splitting:**\n",
        "* Split the dataset into training, validation, and test sets.\n",
        "* The training set is used to train the model, the validation set is used to tune hyperparameters, and the test set is used to evaluate the model's generalization performance.\n",
        "\n",
        "\n",
        "**6. Model Selection:**\n",
        "* Choose an appropriate machine learning algorithm based on the problem type (classification, regression, clustering, etc.) and the characteristics of the data.\n",
        "* Consider factors like model complexity, interpretability, and computational efficiency.\n",
        "\n",
        "\n",
        "**7. Model Training:**\n",
        "* Train the selected model using the training data.\n",
        "* Adjust hyperparameters to achieve the best performance on the validation set.\n",
        "\n",
        "\n",
        "**8. Model Evaluation:**\n",
        "* Evaluate the model's performance using appropriate metrics (accuracy, precision, recall, F1-score, etc.).\n",
        "* Use the validation set to fine-tune the model.\n",
        "\n",
        "\n",
        "**9. Model Tuning and Optimization:**\n",
        "* Fine-tune hyperparameters to improve the model's performance.\n",
        "\n",
        "\n",
        "**10. Model Interpretation and Analysis:**\n",
        "* Understand the factors that contribute to the model's predictions.\n",
        "* Use techniques like visualization to interpret the model's behavior.\n",
        "\n",
        "\n",
        "**11. Model Deployment:**\n",
        "* Prepare the model for deployment in a production environment.\n",
        "* Consider factors like model serving, scalability, and monitoring.\n",
        "\n",
        "\n",
        "**12. Documentation:**\n",
        "* Document the entire process, including data sources, preprocessing steps, model architecture, hyperparameters, and results.\n",
        "* This documentation aids in replicability and knowledge sharing.\n",
        "\n",
        "\n",
        "**13. Communication:**\n",
        "* Present your findings, insights, and results to stakeholders in a clear and understandable manner.\n",
        "* Discuss the limitations and potential applications of the model.\n",
        "Maintenance and Updates:\n",
        "* Monitor the deployed model's performance and retrain/update it as new data becomes available.\n",
        "* Keep track of changes in the data distribution and adjust the model accordingly.\n"
      ],
      "metadata": {
        "id": "xvECY0TLJinR"
      }
    },
    {
      "cell_type": "markdown",
      "source": [
        "***\n",
        "***\n",
        "### **2. What are the different forms of data used in machine learning? Give a specific example for each of them.**\n",
        "\n",
        "\n",
        "Sol:\n",
        "\n",
        "**1. Structure Data:**\n",
        "* Structured data refers to data organized in a well-defined tabular format, typically represented as rows and columns.\n",
        "* Example: A dataset containing information about customers, such as their names, ages, genders, purchase histories, and spending amounts\n",
        "\n",
        "**2. Unstructured Data:**\n",
        "* Unstructured data refers to data that lacks a predefined structure, making it more challenging to analyze.\n",
        "* Example: Text data from social media posts, customer reviews, or medical notes. This data can include free-form text, images, audio, and video content.\n",
        "\n",
        "\n",
        "**3. Time Series Data:**\n",
        "* Time series data consists of observations recorded over a sequence of time intervals.\n",
        "* Example: Stock market price data recorded over regular time intervals.\n",
        "\n",
        "\n",
        "**4. Categorical Data:**\n",
        "* Categorical data represents different categories or labels, but there is no inherent order among the categories.\n",
        "* Example: A dataset of animals categorized as \"cat,\" \"dog,\" \"elephant,\" etc.\n",
        "\n",
        "\n",
        "**5. Numerical Data:**\n",
        "* Numerical data consists of continuous or discrete numerical values that can be used for mathematical calculations.\n",
        "* Example: Heights of individuals, where each height measurement is a numerical value that can be compared, averaged, and analyzed mathematically.\n",
        "\n",
        "\n",
        "**6. Image Data:**\n",
        "* Image data consists of visual representations captured as pixels in a grid.\n",
        "* Example: A dataset of handwritten digits (MNIST dataset), where each instance is an image of a digit (0-9) represented by pixel values.\n",
        "\n",
        "\n",
        "**7. Text Data:**\n",
        "* Text data includes written or typed text, often used in natural language processing tasks.\n",
        "* Example: A collection of email messages, where each message can be analyzed for sentiment, topic, or other characteristics.\n",
        "\n",
        "\n",
        "**8. Audio Data:**\n",
        "* Audio data includes sound recordings or waveforms and is often used in speech recognition and audio analysis.\n",
        "* Example: A dataset of spoken phrases in different languages, used to train a speech recognition system.\n",
        "\n",
        "\n",
        "**9. Video Data:**\n",
        "* Video data is a sequence of images presented over time, capturing visual information.\n",
        "* Example: Video surveillance footage used to detect and track objects or activities within a scene.\n",
        "\n",
        "\n",
        "**10. Geospatial Data:**\n",
        "* Geospatial data includes information tied to geographical locations and is used in applications such as mapping and geolocation.\n",
        "* Example: GPS coordinates of mobile devices, used to provide navigation instructions and location-based services.\n"
      ],
      "metadata": {
        "id": "rYQSi3X-JirS"
      }
    },
    {
      "cell_type": "markdown",
      "source": [
        "***\n",
        "***\n",
        "### **3. Distinguish:**\n",
        "**1. Numeric vs. categorical attribute**  \n",
        "       \n",
        "|<b><center>Numeric Attribute|<center>Categorical Attributes</b>|\n",
        "|:---|:---|\n",
        "|<br>**Numeric attributes** consist of numerical values that can be used for mathematical calculations.|**Categorical attributes** represent different categories or labels that describe the data points|\n",
        "|<br>**Numeric attributes** can be continuous or discrete can <br><li>continuous (e.g., height, weight/ decimal dataset)or <li>discrete(e.g.,age/ whole number dataset)|<br>**Categorical attributes** can be nominal or ordinal.<br> <li>Nominal attributes have no inherent order <br>or ranking among categories (e.g., colors, animal types), while<br> <li>ordinal attributes have a specific order <br>or ranking (e.g., education levels like \"high school,\" \"college,\" \"graduate\")|h\n",
        "\n",
        "<br>\n",
        "<br>\n",
        "\n",
        "**2. Feature selection vs. dimensionality reduction**\n",
        "\n",
        "|<b><center>Feature Selection|<center>Dimensionality Reduction</b>|\n",
        "|:---|:---|\n",
        "|<br>Feature Selection is the process of selecting a subset of relevant features from the original <br>set of features in a dataset.|Dimensionality reduction is the process of transforming high-dimensional data <br>into a lower-dimensional representation while preserving the most important information.|\n",
        "|<br>The goal of feature selection is to choose the most informative and significant feature which <br>contribute most predicting feature power to the model|The goal is to reduce the complexity.<br>Example Techniques : PCA (principal Components Analysis.\n",
        "|\n"
      ],
      "metadata": {
        "id": "OctqoV4WJivx"
      }
    },
    {
      "cell_type": "markdown",
      "source": [
        "___\n",
        "***\n",
        "#### **4. Make quick notes on any two of the following:**\n",
        "       \n",
        "       1. The histogram\n",
        "       2. Use a scatter plot  \n",
        "       3. PCA (Personal Computer Aid)\n",
        "\n",
        "Sol:\n",
        "**Histogram:**<br>\n",
        "* histogram is a graphical representation used to display the distribution of a continuous dataset.\n",
        "* It consists of a series of adjacent bars,where Each bar represents a range of values (called a \"bin\") <br>and The height of the bar represents the frequency or count of data points within that range.\n",
        "* histograms provide insights into the underlying data distribution, revealing patterns such as symmetry, skewness, and outliers.\n",
        "* They are particularly useful for understanding the spread and central tendency of data\n",
        "\n",
        "**Scatter Plot:**\n",
        "* A scatter plot is a two-dimensional graphical representation that displays individual data points as dots on a Cartesian plane.\n",
        "* It is used to visualize the relationship between two continuous variables.\n",
        "* Each dot on the scatter plot represents a single data instance, with its position determined by the values of the two variables being compared.\n",
        "Scatter plots help identify trends, patterns, and the strength of relationships between variables.\n",
        "* They are especially useful for exploring correlations and detecting outliers in data\n",
        "\n",
        "            \n"
      ],
      "metadata": {
        "id": "oVEIP2N5Jizj"
      }
    },
    {
      "cell_type": "markdown",
      "source": [
        "___\n",
        "___\n",
        "\n",
        "#### **5.Why is it necessary to investigate data? Is there a discrepancy in how qualitative and quantitative data are explored?**\n",
        "\n",
        "Sol:\n",
        "Investigating data is a critical step in the data analysis and machine learning process. It helps you understand the characteristics, patterns, and potential issues present in your dataset. Regardless of whether the data is qualitative (categorical) or quantitative (numeric).<br>\n",
        "Exploring the data dependency:<br>\n",
        "* **Data Quality Assurance:** Clean and accurate data is essential for building reliable models.\n",
        "\n",
        "* **Understanding Data Distribution:** Exploring data helps you understand the distribution of values within variables.\n",
        "\n",
        "* **Identifying Patterns and Relationships:** Data exploration helps you uncover patterns, trends, and relationships between variables.\n",
        "\n",
        "* **Feature Engineering and Selection:** Exploring data aids in selecting relevant features (variables) for modeling.\n",
        "\n",
        "* **Outlier Detection:** Both qualitative and quantitative data can have outliers .\n",
        "\n",
        "* **Assumption Checking:** In statistical analysis, assumptions about the data's distribution and properties are often made. Exploring the data helps verify whether these assumptions hold true, which is essential for drawing valid conclusions.\n",
        "\n",
        "* **Preprocessing and Transformation**: This could involve scaling, normalization, or encoding categorical variables.\n",
        "\n",
        "* **Visualization and Communication:** Charts, histograms, scatter plots, and other visuals help convey insights.\n"
      ],
      "metadata": {
        "id": "E7yxO4fCJi2d"
      }
    },
    {
      "cell_type": "markdown",
      "source": [
        "***\n",
        "***\n",
        "#### **6. What are the various histogram shapes? What exactly are ‘bins'?**\n",
        "\n",
        "1. **Normal Distribution (Bell Curve):**\n",
        "* A symmetrical distribution with the majority of data clustered around the mean.\n",
        "The tails of the distribution extend equally on both sides.\n",
        "Also known as Gaussian distribution.\n",
        "\n",
        "\n",
        "2. **Skewed Right (Positively Skewed):**\n",
        "* The tail of the distribution extends toward higher values.\n",
        "Most data points are clustered on the left side.\n",
        "Also called right-skewed or positively skewed distribution.\n",
        "\n",
        "\n",
        "3. **Skewed Left (Negatively Skewed):**\n",
        "* The tail of the distribution extends toward lower values.\n",
        "Most data points are clustered on the right side.\n",
        "Also called left-skewed or negatively skewed distribution.\n",
        "\n",
        "\n",
        "4. **Bimodal Distribution:**\n",
        "* The distribution has two distinct peaks.\n",
        "Indicates the presence of two underlying modes or groups within the data.\n",
        "\n",
        "\n",
        "5. **Multimodal Distribution:**\n",
        "* Similar to bimodal but with more than two peaks.\n",
        "Represents data with multiple distinct groups or modes.\n",
        "\n",
        "\n",
        "6. **Uniform Distribution:**\n",
        "* All values in the dataset have similar frequencies.\n",
        "No particular value is more common than others.\n",
        "\n",
        "\n",
        "7. **Exponential Distribution:**\n",
        "* A distribution that quickly drops off from the maximum value and has a long tail on one side.\n",
        "Often seen in situations involving time intervals between events.\n",
        "\n",
        "\n",
        "8. **Log-Normal Distribution:**\n",
        "* Data that follows a log-normal distribution results in a histogram with a skewed right shape when plotted on a linear scale. However, when plotted on a logarithmic scale, it approximates a normal distribution.\n",
        "Bins also known as intervals, are the ranges into which the entire range of data is divided in histogram.\n"
      ],
      "metadata": {
        "id": "51cR843cJi5b"
      }
    },
    {
      "cell_type": "markdown",
      "source": [
        "___\n",
        "___\n",
        "#### **7. How do we deal with data outliers?**\n",
        "Sol:\n",
        "* identify and visualize outliers using techniques such as box plots, scatter plots, and histograms.\n",
        "* Use statistical methods like the Z-score or the interquartile range (IQR) to quantitatively identify potential outliers.\n",
        "* Investigate the source of outliers and assess whether they are due to errors or represent genuine data points.\n",
        "* If outliers are identified as errors or anomalies, consider removing them from the dataset if they are expected to negatively impact analysis or modeling.\n",
        "However, be cautious when removing outliers, as they might contain valuable information or insights.\n",
        "\n",
        "\n",
        "* Transformations can help make the data distribution more symmetric and reduce the influence of outliers.(such as logarithmic, square root, or cube root)\n",
        "* Winsorization involves replacing extreme values with the nearest non-outlier values within a predefined range.  This approach mitigates the impact of outliers without completely removing them.\n",
        "* Create bins or discrete categories for data values, which can help reduce the influence of individual outlier values.\n",
        "* Some machine learning algorithms are less sensitive to outliers, such as tree-based algorithms (e.g., decision trees, random forests) and support vector machines.\n",
        "* Consider using algorithms that are inherently robust to outliers in your analysis.\n",
        "* For missing values that might appear as outliers, consider imputing them with reasonable estimates to prevent distortions in analysis.\n",
        "\n",
        "\n",
        "\n"
      ],
      "metadata": {
        "id": "VPGL5mO5Ji9u"
      }
    },
    {
      "cell_type": "markdown",
      "source": [
        "___\n",
        "___\n",
        "#### **8. What are the various central inclination measures? Why does mean vary too much from median in certain data sets?**\n",
        "Sol:\n",
        "Central inclination measures are statistical metrics that provide information about the center or typical value of a dataset. They help summarize the central tendency or the \"average\" value of the data.\n",
        "* The three main central inclination measures are the mean, median, and mode.\n",
        "\n",
        "The mean can vary significantly from the median in certain data sets, particularly when\n",
        "* The data is skewed or has outliers.\n",
        "\n",
        "    * Skewness refers to the asymmetry in the distribution of data.\n",
        "    * A dataset is positively skewed (tail on the right side), the presence of a few large values (outliers) on the right side of the distribution can pull the mean to the right, making it greater than the median.\n",
        "    * In a negatively skewed dataset (tail on the left side), outliers on the left side can pull the mean to the left, making it smaller than the median.\n",
        "\n",
        "\n",
        "In contrast, the median is resistant to outliers and less affected by the shape of the distribution.\n",
        "\n",
        "It represents the middle value, which is why it's often preferred in situations where the data contains extreme values or the distribution is highly skewed.\n"
      ],
      "metadata": {
        "id": "KAsCycO5JjAr"
      }
    },
    {
      "cell_type": "markdown",
      "source": [
        "___\n",
        "___\n",
        "#### **9. Describe how a scatter plot can be used to investigate bivariate relationships. Is it possible to find outliers using a scatter plot?**\n",
        "\n",
        "Sol: A scatter plot is a graphical representation of bivariate data, where two variables are plotted on the x and y axes. It's a powerful tool for visually exploring the relationship between two variables and identifying patterns, trends, and potential outliers.\n",
        "\n",
        "scatter plot can be used to investigate bivariate relationships:\n",
        "* **Visualizing Relationship:** A scatter plot allows you to see how two variables are related to each other.\n",
        "\n",
        "* **patterns and Trends:** By examining the overall distribution of points on the scatter plot.\n",
        "* **Strength of Relationship:** The tightness of the points around a trendline or curve on the scatter plot can give you an idea of the strength of the relationship between the variables.\n",
        "* **Outliers:** outliers can be identified using the scatter plot.\n"
      ],
      "metadata": {
        "id": "S95UIe55JjDq"
      }
    },
    {
      "cell_type": "markdown",
      "source": [
        "___\n",
        "___\n",
        "#### **10. Describe how cross-tabs can be used to figure out how two variables are related**\n",
        "\n",
        "Sol:\n",
        "Cross-tabs is a statistical technique used to analyze the relationship between two categorical variables.\n",
        "Categorical variables are those that represent different categories or groups, and they can't be ordered or measured on a continuous scale.\n",
        "\n",
        "Cross-tabs are used to figure out how two variables are related:\n",
        "* Data Collection and Organization: Example, data on a survey that includes respondents' gender (Male/Female) and their favorite type of entertainment.\n",
        "* Creating a Cross-Tabulation Table: A cross-tabulation table is constructed by organizing the data into rows and columns.\n",
        "* Analysis: With the cross-tabulation table in place, we can now analyze the relationship between the two variables:\n",
        "  * Frequency Analysis: You can determine how frequently each category occurs.\n",
        "  * Low Percentages and Column Percentages: Calculating percentages within rows and columns helps reveal the distribution.\n",
        "  * Chi-Square Test: A chi-square test of independence can be performed to determine whether the observed differences in the cross-tabulation table are statistically significant or just due to random chance.\n",
        "Visual Representation.\n"
      ],
      "metadata": {
        "id": "vHyyVCRBJjGv"
      }
    },
    {
      "cell_type": "markdown",
      "source": [
        "___\n",
        "___"
      ],
      "metadata": {
        "id": "3x9xTYdsJjJ3"
      }
    }
  ]
}