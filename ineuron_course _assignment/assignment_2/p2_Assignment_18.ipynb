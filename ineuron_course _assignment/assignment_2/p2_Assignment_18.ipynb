{
 "cells": [
  {
   "cell_type": "markdown",
   "id": "5805cf83",
   "metadata": {},
   "source": [
    "#### Programming_Assingment_18\n",
    "\n"
   ]
  },
  {
   "cell_type": "markdown",
   "id": "b3e0c943",
   "metadata": {},
   "source": [
    "#### Question 1\n",
    ">Create a function that takes a list of non-negative integers and strings and return a new list\n",
    "without the strings.\n"
   ]
  },
  {
   "cell_type": "code",
   "execution_count": 13,
   "id": "5ab987e2",
   "metadata": {},
   "outputs": [
    {
     "name": "stdout",
     "output_type": "stream",
     "text": [
      "[1, 2, 123]\n",
      "[1, 2]\n",
      "[1, 0, 15]\n",
      "[1, 2, 123]\n"
     ]
    }
   ],
   "source": [
    "def filter_list(*l):\n",
    "    new_list = []\n",
    "    for x in l:\n",
    "        if type(x) == int:\n",
    "            new_list.append(x)\n",
    "    return new_list\n",
    "\n",
    "print(filter_list(1, 2, 'aasf', '1', '123', 123))\n",
    "print(filter_list(1, 2, 'a', 'b'))\n",
    "print(filter_list(1, 'a', 'b', 0, 15))\n",
    "print(filter_list(1, 2, 'aasf', '1', '123', 123))"
   ]
  },
  {
   "cell_type": "markdown",
   "id": "89be249f",
   "metadata": {},
   "source": [
    "#### Question 2\n",
    ">The \"Reverser\" takes a string as input and returns that string in reverse order, with the opposite case.\n"
   ]
  },
  {
   "cell_type": "code",
   "execution_count": 19,
   "id": "a8433620",
   "metadata": {},
   "outputs": [
    {
     "name": "stdout",
     "output_type": "stream",
     "text": [
      "eSrEvEr\n",
      "DLROw OLLEh\n"
     ]
    }
   ],
   "source": [
    "def reverse(str):\n",
    "    try:\n",
    "        str = str[::-1]\n",
    "        return str.swapcase()\n",
    "    except Exception as e:\n",
    "                raise Exception(f\"error fun\", str(e))\n",
    "    \n",
    "print(reverse('ReVeRsE'))\n",
    "print(reverse('Hello World'))"
   ]
  },
  {
   "cell_type": "markdown",
   "id": "41f4a446",
   "metadata": {},
   "source": [
    "#### Question 3\n",
    ">You can assign variables from lists like this:\n",
    "\n",
    "1. lst = 1, 2, 3, 4, 5, 6]\n",
    "2. first = lst[0]\n",
    "3. middle = lst[1:-1]\n",
    "4. last = lst[-1]\n"
   ]
  },
  {
   "cell_type": "code",
   "execution_count": 170,
   "id": "ebdafd62",
   "metadata": {},
   "outputs": [
    {
     "name": "stdout",
     "output_type": "stream",
     "text": [
      "1\n",
      "[2, 3, 4, 5]\n",
      "6\n"
     ]
    }
   ],
   "source": [
    "try:\n",
    "    lst = [1, 2, 3, 4, 5, 6]\n",
    "    first ,*middle,last = lst\n",
    "except Exception as e:\n",
    "                raise Exception(f\"error\", str(e))\n",
    "print(first)\n",
    "print(middle)\n",
    "print(last)"
   ]
  },
  {
   "cell_type": "markdown",
   "id": "c6e96a7b",
   "metadata": {},
   "source": [
    "#### Question 4\n",
    ">Write a function that calculates the factorial of a number recursively.\n"
   ]
  },
  {
   "cell_type": "code",
   "execution_count": 167,
   "id": "b875a0af",
   "metadata": {},
   "outputs": [
    {
     "name": "stdout",
     "output_type": "stream",
     "text": [
      "120\n",
      "6\n",
      "1\n",
      "1\n"
     ]
    }
   ],
   "source": [
    "def factorial(n):\n",
    "    try:\n",
    "        if n == 0:\n",
    "            return 1    \n",
    "        return n * factorial(n-1)\n",
    "    except Exception as e:\n",
    "                raise Exception(f\"error fun\", str(e))\n",
    "\n",
    "print(factorial(5))\n",
    "print(factorial(3))\n",
    "print(factorial(1))\n",
    "print(factorial(0))"
   ]
  },
  {
   "cell_type": "markdown",
   "id": "93e45ab1",
   "metadata": {},
   "source": [
    "#### Question 5\n",
    "> Write a function that moves all elements of one type to the end of the list.\n",
    "\n"
   ]
  },
  {
   "cell_type": "code",
   "execution_count": 168,
   "id": "da71ebbb",
   "metadata": {},
   "outputs": [],
   "source": [
    "def move_to_end(mylist,n):\n",
    "    try:\n",
    "        count=0\n",
    "        new_list=[]\n",
    "        if n in mylist:\n",
    "            for i in range(len(mylist)):\n",
    "                if n==mylist[i]:\n",
    "                    count=count+1\n",
    "                else:\n",
    "                    new_list.append(mylist[i])\n",
    "            for i in range(count):\n",
    "                new_list.append(n)\n",
    "            return new_list\n",
    "        else:\n",
    "            return (f'{n} is not in given list')\n",
    "    except Exception as e:\n",
    "                raise Exception(f\"error fun\", str(e))"
   ]
  },
  {
   "cell_type": "code",
   "execution_count": 177,
   "id": "78e3d9de",
   "metadata": {},
   "outputs": [
    {
     "name": "stdout",
     "output_type": "stream",
     "text": [
      "[3, 2, 4, 4, 1, 1]\n",
      "[7, 8, 1, 2, 3, 4, 9]\n",
      "['b', 'a', 'a', 'a']\n",
      "10 is not in given list\n"
     ]
    }
   ],
   "source": [
    "print(move_to_end([1, 3, 2, 4, 4, 1], 1))\n",
    "print(move_to_end([7, 8, 9, 1, 2, 3, 4], 9))\n",
    "print(move_to_end([\"a\", \"a\", \"a\", \"b\"], \"a\"))\n",
    "print(move_to_end([9, 8, 9, 1, 9, 3, 4],10))"
   ]
  },
  {
   "cell_type": "code",
   "execution_count": null,
   "id": "e9b8fbca",
   "metadata": {},
   "outputs": [],
   "source": []
  }
 ],
 "metadata": {
  "kernelspec": {
   "display_name": "Python 3 (ipykernel)",
   "language": "python",
   "name": "python3"
  },
  "language_info": {
   "codemirror_mode": {
    "name": "ipython",
    "version": 3
   },
   "file_extension": ".py",
   "mimetype": "text/x-python",
   "name": "python",
   "nbconvert_exporter": "python",
   "pygments_lexer": "ipython3",
   "version": "3.9.12"
  }
 },
 "nbformat": 4,
 "nbformat_minor": 5
}
