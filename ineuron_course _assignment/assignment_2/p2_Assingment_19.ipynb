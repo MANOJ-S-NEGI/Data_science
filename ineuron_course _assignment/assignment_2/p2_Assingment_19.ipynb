{
 "cells": [
  {
   "cell_type": "markdown",
   "id": "8a531d02",
   "metadata": {},
   "source": [
    "### Python Basic :\n",
    "##### Assisment_19"
   ]
  },
  {
   "cell_type": "markdown",
   "id": "f7aa33a8",
   "metadata": {},
   "source": [
    "#### Question1\n",
    ">Create a function that takes a string and returns a string in which each character is repeated once.\n"
   ]
  },
  {
   "cell_type": "code",
   "execution_count": 66,
   "id": "c6bca4a5",
   "metadata": {},
   "outputs": [],
   "source": [
    "def double_char(dc):\n",
    "    try:\n",
    "        chara=[]\n",
    "        for i in dc:\n",
    "            for _ in range(2):\n",
    "                chara.append(i)\n",
    "        return ''.join(chara)\n",
    "    except Exception as e:\n",
    "               raise Exception(f\"error fun\", str(e))\n"
   ]
  },
  {
   "cell_type": "code",
   "execution_count": 67,
   "id": "5a6e5785",
   "metadata": {},
   "outputs": [
    {
     "name": "stdout",
     "output_type": "stream",
     "text": [
      "SSttrriinngg\n",
      "HHeelllloo  WWoorrlldd!!\n",
      "11223344!!__  \n"
     ]
    }
   ],
   "source": [
    "print(double_char(\"String\"))\n",
    "print(double_char(\"Hello World!\"))\n",
    "print(double_char(\"1234!_ \"))"
   ]
  },
  {
   "cell_type": "markdown",
   "id": "d6fd972e",
   "metadata": {},
   "source": [
    "#### Question2\n",
    ">Create a function that reverses a boolean value and returns the string \"boolean expected\" if another variable type is given.\n"
   ]
  },
  {
   "cell_type": "code",
   "execution_count": 68,
   "id": "b180f039",
   "metadata": {},
   "outputs": [],
   "source": [
    "def reverse(arg):\n",
    "    try:\n",
    "        if type(arg) == bool:\n",
    "            return not arg\n",
    "        else :\n",
    "            return\"boolean expected\"\n",
    "    except Exception as e:\n",
    "               raise Exception(f\"error fun\", str(e))\n",
    "\n",
    "    "
   ]
  },
  {
   "cell_type": "code",
   "execution_count": 69,
   "id": "a82c7235",
   "metadata": {},
   "outputs": [
    {
     "name": "stdout",
     "output_type": "stream",
     "text": [
      "False\n",
      "True\n",
      "boolean expected\n",
      "boolean expected\n"
     ]
    }
   ],
   "source": [
    "print(reverse(True))\n",
    "print(reverse(False))\n",
    "print(reverse(0))\n",
    "print(reverse(None))\n"
   ]
  },
  {
   "cell_type": "markdown",
   "id": "539f705a",
   "metadata": {},
   "source": [
    "#### Question3\n",
    ">Create a function that returns the thickness (in meters) of a piece of paper after folding it n\n",
    "number of times. The paper starts off with a thickness of 0.5mm.\n"
   ]
  },
  {
   "cell_type": "code",
   "execution_count": 70,
   "id": "88c895fd",
   "metadata": {},
   "outputs": [
    {
     "name": "stdout",
     "output_type": "stream",
     "text": [
      "0.001m\n",
      "0.008m\n",
      "1048.576m\n"
     ]
    }
   ],
   "source": [
    "def num_layers(n):\n",
    "    try:\n",
    "        thickness = 0.5\n",
    "        for _ in range(n):\n",
    "            thickness=thickness*2\n",
    "        return str(thickness / 1000)+'m' # conversion for meters\n",
    "    except Exception as e:\n",
    "                raise Exception(f\"error fun\", str(e))\n",
    "\n",
    "    \n",
    "print(num_layers(1))\n",
    "print(num_layers(4))\n",
    "print(num_layers(21))\n"
   ]
  },
  {
   "cell_type": "markdown",
   "id": "e165fb34",
   "metadata": {},
   "source": [
    "#### Question4\n",
    "> Create a function that takes a single string as argument and returns an ordered list containing the indices of all capital letters in the string.\n"
   ]
  },
  {
   "cell_type": "code",
   "execution_count": 71,
   "id": "1d648018",
   "metadata": {},
   "outputs": [
    {
     "name": "stdout",
     "output_type": "stream",
     "text": [
      "[1, 3, 5]\n",
      "[1, 3, 4, 6]\n",
      "[]\n",
      "[0, 1, 2, 3, 4, 5]\n",
      "[1]\n"
     ]
    }
   ],
   "source": [
    "def index_of_caps(word):\n",
    "    try:\n",
    "        indices = []\n",
    "        for i in range(len(word)):\n",
    "            if word[i].isupper():\n",
    "                 indices.append(i)\n",
    "        return indices\n",
    "    except Exception as e:\n",
    "                raise Exception(f\"error fun\", str(e))\n",
    "\n",
    "\n",
    "print(index_of_caps('eDaBiT'))\n",
    "print(index_of_caps('eQuINoX')) \n",
    "print(index_of_caps('determine'))\n",
    "print(index_of_caps('STRIKE'))\n",
    "print(index_of_caps('sUn'))"
   ]
  },
  {
   "cell_type": "markdown",
   "id": "c1169a11",
   "metadata": {},
   "source": [
    "#### Question5\n",
    "> Using list comprehensions, create a function that finds all even numbers from 1 to the given number.\n"
   ]
  },
  {
   "cell_type": "code",
   "execution_count": 72,
   "id": "9d8b0426",
   "metadata": {},
   "outputs": [
    {
     "data": {
      "text/plain": [
       "[2, 4, 6, 8]"
      ]
     },
     "execution_count": 72,
     "metadata": {},
     "output_type": "execute_result"
    }
   ],
   "source": [
    "def find_even_nums(n):\n",
    "\n",
    "    try:\n",
    "        even=[]\n",
    "        for i in range(1,n+1):\n",
    "            if i%2==0:\n",
    "                even.append(i)\n",
    "        return even\n",
    "    except Exception as e:\n",
    "        raise Exception(f\"error fun\", str(e))\n",
    "        \n",
    "find_even_nums(8)"
   ]
  },
  {
   "cell_type": "code",
   "execution_count": null,
   "id": "6549a7ef",
   "metadata": {},
   "outputs": [],
   "source": []
  }
 ],
 "metadata": {
  "kernelspec": {
   "display_name": "Python 3 (ipykernel)",
   "language": "python",
   "name": "python3"
  },
  "language_info": {
   "codemirror_mode": {
    "name": "ipython",
    "version": 3
   },
   "file_extension": ".py",
   "mimetype": "text/x-python",
   "name": "python",
   "nbconvert_exporter": "python",
   "pygments_lexer": "ipython3",
   "version": "3.9.12"
  }
 },
 "nbformat": 4,
 "nbformat_minor": 5
}
