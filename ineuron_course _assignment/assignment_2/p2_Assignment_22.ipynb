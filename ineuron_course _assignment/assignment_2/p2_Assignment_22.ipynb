{
 "cells": [
  {
   "cell_type": "markdown",
   "id": "fa6a0a0c",
   "metadata": {},
   "source": [
    "### Python Basic :\n",
    "##### Assisment_22"
   ]
  },
  {
   "cell_type": "markdown",
   "id": "ba283ccb",
   "metadata": {},
   "source": [
    "#### Question1\n",
    ">Create a function that takes three parameters where:\n",
    ">>•\tx is the start of the range (inclusive).\n",
    "\n",
    ">>•\ty is the end of the range (inclusive).\n",
    "\n",
    ">>•\tn is the divisor to be checked against.\n",
    "\n",
    ">Return an ordered list with numbers in the range that are divisible by the third parameter n. Return an empty list if there are no numbers that are divisible by n.\n"
   ]
  },
  {
   "cell_type": "code",
   "execution_count": 226,
   "id": "a157f50a",
   "metadata": {},
   "outputs": [],
   "source": [
    "class Q1:\n",
    "    def list_operation(x,y,n):\n",
    "        try:\n",
    "            list_=[]\n",
    "            for i in range(x,y):\n",
    "                if i%n==0:\n",
    "                    list_.append(i)\n",
    "                else:\n",
    "                    pass\n",
    "            if len(list_)>=1:\n",
    "                return list_\n",
    "            else:\n",
    "                return []\n",
    "        except Exception as e:\n",
    "                raise Exception(f\"error fun\", str(e))"
   ]
  },
  {
   "cell_type": "code",
   "execution_count": 227,
   "id": "d0d36e0c",
   "metadata": {},
   "outputs": [
    {
     "name": "stdout",
     "output_type": "stream",
     "text": [
      "[3, 6, 9]\n",
      "[8]\n",
      "[]\n"
     ]
    }
   ],
   "source": [
    "print(Q1.list_operation(1, 10, 3))\n",
    "print(Q1.list_operation(7, 9, 2))\n",
    "print(Q1.list_operation(15, 20, 7))"
   ]
  },
  {
   "cell_type": "markdown",
   "id": "fee97ef5",
   "metadata": {},
   "source": [
    "#### Question2\n",
    ">Create a function that takes in two lists and returns True if the second list follows the first list by one element, and False otherwise. In other words, determine if the second list is the first list shifted to the right by 1\n"
   ]
  },
  {
   "cell_type": "code",
   "execution_count": 198,
   "id": "1883f34b",
   "metadata": {},
   "outputs": [],
   "source": [
    "class Q2:\n",
    "    def simon_says(list_1,list_2):\n",
    "        try:\n",
    "            \n",
    "            for i in range(len(list_2)):\n",
    "                list_2[i] = list_2[i] + 1\n",
    "               \n",
    "            return list_1==list_2\n",
    "           \n",
    "        except Exception as e:\n",
    "                raise Exception(f\"error fun\", str(e))"
   ]
  },
  {
   "cell_type": "code",
   "execution_count": 199,
   "id": "62a576ba",
   "metadata": {},
   "outputs": [
    {
     "name": "stdout",
     "output_type": "stream",
     "text": [
      "False\n",
      "True\n",
      "False\n"
     ]
    }
   ],
   "source": [
    "print(Q2.simon_says([1, 2], [5, 1]))\n",
    "print(Q2.simon_says([1, 2, 3, 4, 5], [0, 1, 2, 3, 4]))\n",
    "print(Q2.simon_says([1, 2, 3, 4, 5], [5, 5, 1, 2, 3]))"
   ]
  },
  {
   "cell_type": "markdown",
   "id": "b332c635",
   "metadata": {},
   "source": [
    "#### Question3\n",
    ">A group of friends have decided to start a secret society. The name will be the first letter of each of their names, sorted in alphabetical order.\n",
    "Create a function that takes in a list of names and returns the name of the secret society.\n",
    "\n"
   ]
  },
  {
   "cell_type": "code",
   "execution_count": 93,
   "id": "cc268ca6",
   "metadata": {},
   "outputs": [],
   "source": [
    "class Q3:\n",
    "    def society_name(*string):\n",
    "        try:\n",
    "            society_name=[]\n",
    "            for i in range(len(string)):\n",
    "                \n",
    "                society_name.append(string[i][0])\n",
    "            return ''.join(society_name)\n",
    "           \n",
    "        except Exception as e:\n",
    "                raise Exception(f\"error fun\", str(e))"
   ]
  },
  {
   "cell_type": "code",
   "execution_count": 98,
   "id": "c44511e4",
   "metadata": {},
   "outputs": [
    {
     "name": "stdout",
     "output_type": "stream",
     "text": [
      "ASM\n",
      "HNLC\n",
      "ASM\n",
      "PCRRMJ\n"
     ]
    }
   ],
   "source": [
    "print(Q3.society_name(\"Adam\", \"Sarah\", \"Malcolm\"))\n",
    "print(Q3.society_name(\"Harry\", \"Newt\", \"Luna\", \"Cho\"))\n",
    "print(Q3.society_name(\"Adam\", \"Sarah\", \"Malcolm\"))\n",
    "print(Q3.society_name(\"Phoebe\", \"Chandler\", \"Rachel\", \"Ross\", \"Monica\", \"Joey\"))"
   ]
  },
  {
   "cell_type": "markdown",
   "id": "40fce0de",
   "metadata": {},
   "source": [
    "#### Question4\n",
    ">An isogram is a word that has no duplicate letters. Create a function that takes a string and returns either True or False depending on whether or not it's an \"isogram\".\n"
   ]
  },
  {
   "cell_type": "code",
   "execution_count": 35,
   "id": "48338aa4",
   "metadata": {},
   "outputs": [],
   "source": [
    "class Q4:\n",
    "    def is_isogram(string):\n",
    "        try:\n",
    "            return len(string) == len(set(string.lower()))\n",
    "        except Exception as e:\n",
    "                raise Exception(f\"error fun\", str(e))"
   ]
  },
  {
   "cell_type": "code",
   "execution_count": 39,
   "id": "df7f1cf2",
   "metadata": {},
   "outputs": [
    {
     "name": "stdout",
     "output_type": "stream",
     "text": [
      "True\n",
      "False\n",
      "False\n",
      "True\n"
     ]
    }
   ],
   "source": [
    "print(Q4.is_isogram(\"Algorism\"))\n",
    "print(Q4.is_isogram(\"PasSword\")) \n",
    "print(Q4.is_isogram(\"Consecutive\"))\n",
    "print(Q4.is_isogram(\"123\"))\n"
   ]
  },
  {
   "cell_type": "markdown",
   "id": "e2d9612b",
   "metadata": {},
   "source": [
    "#### Question5\n",
    ">Create a function that takes a string and returns True or False, depending on whether the characters are in order or not.\n"
   ]
  },
  {
   "cell_type": "code",
   "execution_count": 22,
   "id": "c3c8a20b",
   "metadata": {},
   "outputs": [],
   "source": [
    "class Q5:\n",
    "    def is_in_order(word):\n",
    "        try:\n",
    "            return list(word) == sorted(word)\n",
    "        except Exception as e:\n",
    "                raise Exception(f\"error fun\", str(e))"
   ]
  },
  {
   "cell_type": "code",
   "execution_count": 23,
   "id": "57dddbc9",
   "metadata": {},
   "outputs": [
    {
     "name": "stdout",
     "output_type": "stream",
     "text": [
      "True\n",
      "False\n",
      "True\n",
      "True\n"
     ]
    }
   ],
   "source": [
    "print(Q5.is_in_order(\"abc\"))\n",
    "print(Q5.is_in_order(\"edbit\"))\n",
    "print(Q5.is_in_order(\"123\"))\n",
    "print(Q5.is_in_order(\"xyzz\"))"
   ]
  }
 ],
 "metadata": {
  "kernelspec": {
   "display_name": "Python 3 (ipykernel)",
   "language": "python",
   "name": "python3"
  },
  "language_info": {
   "codemirror_mode": {
    "name": "ipython",
    "version": 3
   },
   "file_extension": ".py",
   "mimetype": "text/x-python",
   "name": "python",
   "nbconvert_exporter": "python",
   "pygments_lexer": "ipython3",
   "version": "3.9.12"
  }
 },
 "nbformat": 4,
 "nbformat_minor": 5
}
