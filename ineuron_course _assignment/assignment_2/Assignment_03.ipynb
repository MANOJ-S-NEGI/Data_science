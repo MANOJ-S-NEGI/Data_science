{
 "cells": [
  {
   "cell_type": "markdown",
   "id": "6834ff3b",
   "metadata": {},
   "source": [
    "### Programming_Assingment3\n"
   ]
  },
  {
   "cell_type": "code",
   "execution_count": 1,
   "id": "e0dea246",
   "metadata": {},
   "outputs": [
    {
     "name": "stdout",
     "output_type": "stream",
     "text": [
      "enter a Number : 34\n",
      "The Number is Positive\n"
     ]
    }
   ],
   "source": [
    "#1. Write a Python Program to Check if a Number is Positive, Negative or Zero?\n",
    "num = int(input(\"enter a Number : \"))\n",
    "\n",
    "if num == 0 :\n",
    "    print(\"The number is Zero\")\n",
    "elif num > 0:\n",
    "    print(\"The Number is Positive\")\n",
    "else:\n",
    "    print(\"The number is Negative\")"
   ]
  },
  {
   "cell_type": "code",
   "execution_count": 2,
   "id": "32229366",
   "metadata": {},
   "outputs": [
    {
     "name": "stdout",
     "output_type": "stream",
     "text": [
      "enter a Number : 3\n",
      "The number is Odd\n"
     ]
    }
   ],
   "source": [
    "# 2. Write a Python Program to Check if a Number is Odd or Even?\n",
    "num = int(input(\"enter a Number : \"))\n",
    "\n",
    "if num % 2 == 0:\n",
    "    print(\"The number is Even\")\n",
    "else:\n",
    "    print(\"The number is Odd\")"
   ]
  },
  {
   "cell_type": "code",
   "execution_count": 3,
   "id": "5a0ac9e9",
   "metadata": {},
   "outputs": [
    {
     "name": "stdout",
     "output_type": "stream",
     "text": [
      "Enter a year : 34\n",
      "Not a Leap Year\n"
     ]
    }
   ],
   "source": [
    "#3. Write a Python Program to Check Leap Year?\n",
    "def checkYear(year):\n",
    "    if (year % 4) == 0:\n",
    "        if (year % 100) == 0:\n",
    "            if (year % 400) == 0:\n",
    "                return True\n",
    "            else:\n",
    "                return False\n",
    "        else:\n",
    "             return True\n",
    "    else:\n",
    "        return False\n",
    " \n",
    "\n",
    "year = int(input(\"Enter a year : \"))\n",
    "if(checkYear(year)):\n",
    "    print(\"Leap Year\")\n",
    "else:\n",
    "    print(\"Not a Leap Year\")\n",
    "     "
   ]
  },
  {
   "cell_type": "code",
   "execution_count": 4,
   "id": "77ccf802",
   "metadata": {},
   "outputs": [
    {
     "name": "stdout",
     "output_type": "stream",
     "text": [
      "Enter a number: 2\n",
      "2 is a prime number\n"
     ]
    }
   ],
   "source": [
    "# 4. Write a Python Program to Check Prime Number?\n",
    "num1 = int(input(\"Enter a number: \")) \n",
    " \n",
    "if num1 > 1:\n",
    "    for i in range(2,num1):\n",
    "        if (num1%i) == 0:\n",
    "            print(num1,'is not a prime')                \n",
    "            break\n",
    "    else:\n",
    "        print(num1,'is a prime number')\n",
    "else:\n",
    "    print(\"Number is less than 1\")"
   ]
  },
  {
   "cell_type": "code",
   "execution_count": 7,
   "id": "1fbf58d5",
   "metadata": {},
   "outputs": [
    {
     "name": "stdout",
     "output_type": "stream",
     "text": [
      "Enter a number1: 2\n",
      "Enter a number2: 5\n",
      "2 is a prime number\n",
      "3 is a prime number\n",
      "4 is not a prime\n"
     ]
    },
    {
     "data": {
      "text/plain": [
       "[2, 3]"
      ]
     },
     "execution_count": 7,
     "metadata": {},
     "output_type": "execute_result"
    }
   ],
   "source": [
    "#5. Write a Python Program to Print all Prime Numbers in an Interval of 1-10000?\n",
    "listprime = []\n",
    "num1 = int(input(\"Enter a number1: \")) \n",
    "num2 = int(input(\"Enter a number2: \")) \n",
    "for num in range(num1,num2):  \n",
    "    if num > 1:\n",
    "        for i in range(2,num):\n",
    "            if (num%i) == 0:\n",
    "                print(num,'is not a prime')                \n",
    "                break\n",
    "        else:\n",
    "            print(num,'is a prime number')\n",
    "            listprime.append(num)\n",
    "    \n",
    "listprime "
   ]
  },
  {
   "cell_type": "code",
   "execution_count": null,
   "id": "b448ca3b",
   "metadata": {},
   "outputs": [],
   "source": []
  }
 ],
 "metadata": {
  "kernelspec": {
   "display_name": "Python 3 (ipykernel)",
   "language": "python",
   "name": "python3"
  },
  "language_info": {
   "codemirror_mode": {
    "name": "ipython",
    "version": 3
   },
   "file_extension": ".py",
   "mimetype": "text/x-python",
   "name": "python",
   "nbconvert_exporter": "python",
   "pygments_lexer": "ipython3",
   "version": "3.10.5"
  }
 },
 "nbformat": 4,
 "nbformat_minor": 5
}
