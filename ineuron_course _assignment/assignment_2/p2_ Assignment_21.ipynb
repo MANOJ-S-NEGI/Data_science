{
 "cells": [
  {
   "cell_type": "markdown",
   "id": "a9203e55",
   "metadata": {},
   "source": [
    "### Python Basic :\n",
    "##### Assisment_21"
   ]
  },
  {
   "cell_type": "markdown",
   "id": "33a04a1c",
   "metadata": {},
   "source": [
    "#### Question1\n",
    ">Write a function that takes a list and a number as arguments. Add the number to the end of the list, then remove the first element of the list. The function should then return the updated list.\n"
   ]
  },
  {
   "cell_type": "code",
   "execution_count": 59,
   "id": "1750506d",
   "metadata": {},
   "outputs": [],
   "source": [
    "class Q1:\n",
    "    def next_in_line(a,b):\n",
    "        try:\n",
    "            if a!=[]:\n",
    "                a=a+[b]\n",
    "                length=len(a)\n",
    "                return a[1:length]\n",
    "            else:\n",
    "                return \"No list has been selected\"\n",
    "        except Exception as e:\n",
    "                raise Exception(f\"error fun\", str(e))"
   ]
  },
  {
   "cell_type": "code",
   "execution_count": 60,
   "id": "33547a3e",
   "metadata": {},
   "outputs": [
    {
     "name": "stdout",
     "output_type": "stream",
     "text": [
      "[6, 7, 8, 9, 1]\n",
      "[6, 3, 23, 17, 10]\n",
      "[10, 20, 42, 6]\n",
      "No list has been selected\n"
     ]
    }
   ],
   "source": [
    "print(Q1.next_in_line([5, 6, 7, 8, 9], 1))\n",
    "print(Q1.next_in_line([7, 6, 3, 23, 17], 10))\n",
    "print(Q1.next_in_line([1, 10, 20, 42 ], 6))\n",
    "print(Q1.next_in_line([],6))"
   ]
  },
  {
   "cell_type": "markdown",
   "id": "22fd51d0",
   "metadata": {},
   "source": [
    "#### Question2\n",
    ">Create the function that takes a list of dictionaries and returns the sum of people's budgets.\n"
   ]
  },
  {
   "cell_type": "code",
   "execution_count": 141,
   "id": "365f42df",
   "metadata": {},
   "outputs": [],
   "source": [
    "class Q2:\n",
    "    def get_budgets(*dicti):\n",
    "        try:\n",
    "            budget_sum=0\n",
    "            for i in range(len(dicti)):\n",
    "                budget_sum=dicti[i]['budget']+budget_sum\n",
    "                \n",
    "            return (f\"total budget Amount:{budget_sum}\")\n",
    "        except Exception as e:\n",
    "                raise Exception(f\"error fun\", str(e))"
   ]
  },
  {
   "cell_type": "code",
   "execution_count": 142,
   "id": "17068ebe",
   "metadata": {},
   "outputs": [
    {
     "name": "stdout",
     "output_type": "stream",
     "text": [
      "total budget Amount:65700\n",
      "total budget Amount:62600\n"
     ]
    }
   ],
   "source": [
    "print(Q2.get_budgets(\n",
    "                      { \"name\": \"John\", \"age\": 21, \"budget\": 23000 },\n",
    "                      { \"name\": \"Steve\",  \"age\": 32, \"budget\": 40000 },\n",
    "                      { \"name\": \"Martin\",  \"age\": 16, \"budget\": 2700 }\n",
    "))\n",
    "\n",
    "print(Q2.get_budgets(\n",
    "                      { \"name\": \"John\",  \"age\": 21, \"budget\": 29000 },\n",
    "                      { \"name\": \"Steve\",  \"age\": 32, \"budget\": 32000 },\n",
    "                      { \"name\": \"Martin\",  \"age\": 16, \"budget\": 1600 }\n",
    "                    )) "
   ]
  },
  {
   "cell_type": "markdown",
   "id": "2bbe7ae6",
   "metadata": {},
   "source": [
    "#### Question3\n",
    "> Create a function that takes a string and returns a string with its letters in alphabetical order.\n",
    "\n"
   ]
  },
  {
   "cell_type": "code",
   "execution_count": 39,
   "id": "1ec06af9",
   "metadata": {},
   "outputs": [],
   "source": [
    "class Q4:\n",
    "    def alphabet_soup(word):\n",
    "        try:\n",
    "            return ''.join(sorted(word))\n",
    "        except Exception as e:\n",
    "                raise Exception(f\"error fun\", str(e))"
   ]
  },
  {
   "cell_type": "code",
   "execution_count": 40,
   "id": "42876c19",
   "metadata": {},
   "outputs": [
    {
     "name": "stdout",
     "output_type": "stream",
     "text": [
      "ehllo\n",
      "abdeit\n",
      "acehkr\n",
      "eegk\n",
      "aacijprstv\n"
     ]
    }
   ],
   "source": [
    "print(Q4.alphabet_soup(\"hello\"))\n",
    "print(Q4.alphabet_soup(\"edabit\"))\n",
    "print(Q4.alphabet_soup(\"hacker\"))\n",
    "print(Q4.alphabet_soup(\"geek\"))\n",
    "print(Q4.alphabet_soup(\"javascript\"))\n"
   ]
  },
  {
   "cell_type": "markdown",
   "id": "fdf21408",
   "metadata": {},
   "source": [
    "#### Question4\n",
    ">Create a function that accepts the principal p, the term in years t, the interest rate r, and the number of compounding periods per year n. The function returns the value at the end of term rounded to the nearest cent.\n"
   ]
  },
  {
   "cell_type": "code",
   "execution_count": 26,
   "id": "9c0adaf1",
   "metadata": {},
   "outputs": [],
   "source": [
    "class Q4:\n",
    "    def compound_interest(principle,time,rate,n):\n",
    "        try:\n",
    "            compound=(1+rate/n)**(n*time)\n",
    "            Amount = principle * compound\n",
    "            CI = Amount - principle\n",
    "            return(\"Compound interest is\",'%.2f' % CI)\n",
    "        except Exception as e:\n",
    "                raise Exception(f\"error fun\", str(e))"
   ]
  },
  {
   "cell_type": "code",
   "execution_count": 27,
   "id": "6ee4dd19",
   "metadata": {},
   "outputs": [
    {
     "name": "stdout",
     "output_type": "stream",
     "text": [
      "('Compound interest is', '8193.97')\n",
      "('Compound interest is', '5.00')\n",
      "('Compound interest is', '11899.26')\n",
      "('Compound interest is', '1907316.26')\n"
     ]
    }
   ],
   "source": [
    "print(Q4.compound_interest(10000, 10, 0.06, 12) )\n",
    "print(Q4.compound_interest(100, 1, 0.05, 1))\n",
    "print(Q4.compound_interest(3500, 15, 0.1, 4))\n",
    "print(Q4.compound_interest(100000, 20, 0.15, 365))"
   ]
  },
  {
   "cell_type": "markdown",
   "id": "8c0b0c3d",
   "metadata": {},
   "source": [
    "#### Question5\n",
    ">Write a function that takes a list of elements and returns only the integers.\n",
    "\n",
    "\n"
   ]
  },
  {
   "cell_type": "code",
   "execution_count": 32,
   "id": "b0061317",
   "metadata": {},
   "outputs": [],
   "source": [
    "class Q5:\n",
    "    def return_only_integer(lists):\n",
    "        try:\n",
    "            integer=[]\n",
    "            for i in lists:\n",
    "                if type(i)==int:\n",
    "                    integer.append(i)\n",
    "                else:\n",
    "                    continue\n",
    "            return integer\n",
    "                \n",
    "            \n",
    "        except Exception as e:\n",
    "                raise Exception(f\"error fun\", str(e))"
   ]
  },
  {
   "cell_type": "code",
   "execution_count": 34,
   "id": "ed22bcb9",
   "metadata": {},
   "outputs": [
    {
     "name": "stdout",
     "output_type": "stream",
     "text": [
      "[9, 2, 16]\n",
      "[81, 123]\n",
      "[10, 56, 20, 3]\n",
      "[1]\n"
     ]
    }
   ],
   "source": [
    "print(Q5.return_only_integer([9, 2, \"space\", \"car\", \"lion\", 16]))\n",
    "print(Q5.return_only_integer([\"hello\", 81, \"basketball\", 123, \"fox\"]))\n",
    "print(Q5.return_only_integer([10, \"121\", 56, 20, \"car\", 3, \"lion\"]))\n",
    "print(Q5.return_only_integer([\"String\",  True,  3.3,  1]))\n"
   ]
  },
  {
   "cell_type": "code",
   "execution_count": null,
   "id": "f82edd36",
   "metadata": {},
   "outputs": [],
   "source": []
  }
 ],
 "metadata": {
  "kernelspec": {
   "display_name": "Python 3 (ipykernel)",
   "language": "python",
   "name": "python3"
  },
  "language_info": {
   "codemirror_mode": {
    "name": "ipython",
    "version": 3
   },
   "file_extension": ".py",
   "mimetype": "text/x-python",
   "name": "python",
   "nbconvert_exporter": "python",
   "pygments_lexer": "ipython3",
   "version": "3.9.12"
  }
 },
 "nbformat": 4,
 "nbformat_minor": 5
}
