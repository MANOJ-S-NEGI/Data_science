{
 "cells": [
  {
   "cell_type": "markdown",
   "id": "cc813b5e",
   "metadata": {},
   "source": [
    "### PYTHON BASIC\n",
    "programming_Assignment_24"
   ]
  },
  {
   "cell_type": "markdown",
   "id": "25fcb546",
   "metadata": {},
   "source": [
    "#### Question _1\n",
    ">Create a function that takes an integer and returns a list from 1 to the given number, where:\n",
    ">>1. If the number can be divided evenly by 4, amplify it by 10 (i.e. return 10 times the\n",
    "number).\n",
    ">>2. If the number cannot be divided evenly by 4, simply return the number."
   ]
  },
  {
   "cell_type": "code",
   "execution_count": 220,
   "id": "93544fdf",
   "metadata": {},
   "outputs": [],
   "source": [
    "class Q1:\n",
    "    def one(num1):\n",
    "        \"\"\"1. If the number can be divided evenly by 4, amplify it by 10 (i.e. return 10 times the number).\n",
    "        \"\"\"\n",
    "        try:\n",
    "            table=[]\n",
    "            for i in range(1,num1+1):\n",
    "                if i%4==0:\n",
    "                    table.append(i*10)\n",
    "                else:\n",
    "                    table.append(i)\n",
    "            return table\n",
    "        except Exception as e:\n",
    "            raise Exception(f\"error in one function\", str(e))\n",
    "amplify=Q1"
   ]
  },
  {
   "cell_type": "code",
   "execution_count": 221,
   "id": "12c25a4c",
   "metadata": {},
   "outputs": [
    {
     "name": "stdout",
     "output_type": "stream",
     "text": [
      "[1, 2, 3, 40]\n",
      "[1, 2, 3]\n",
      "[1, 2, 3, 40, 5, 6, 7, 80, 9, 10, 11, 120, 13, 14, 15, 160, 17, 18, 19, 200, 21, 22, 23, 240, 25]\n"
     ]
    }
   ],
   "source": [
    "print(amplify.one(4))\n",
    "print(amplify.one(3))\n",
    "print(amplify.one(25))"
   ]
  },
  {
   "cell_type": "markdown",
   "id": "e4a4ed30",
   "metadata": {},
   "source": [
    "##### Question2\n",
    ">Create a function that takes a list of numbers and return the number that&#39;s unique."
   ]
  },
  {
   "cell_type": "code",
   "execution_count": null,
   "id": "04653c38",
   "metadata": {},
   "outputs": [],
   "source": [
    "for a in range(len(s)):\n",
    "                print(a)\n",
    "                if a not in sort:\n",
    "                    pass\n",
    "                else:\n",
    "                    return a"
   ]
  },
  {
   "cell_type": "code",
   "execution_count": 218,
   "id": "568ee35a",
   "metadata": {},
   "outputs": [],
   "source": [
    "class Q2:\n",
    "    def unique_list(*arg):\n",
    "        \"\"\"Create a function that takes a list of numbers and return the number that's unique.\n",
    "        \"\"\"\n",
    "        try:\n",
    "            sort=sorted(arg)\n",
    "            unique=[]\n",
    "            for a in sort:\n",
    "                count=0\n",
    "                for i in range(len(sort)):\n",
    "                    if a == sort[i]:\n",
    "                        count=count+1                   \n",
    "                    else:\n",
    "                        pass\n",
    "                if count<2:\n",
    "                    unique.append(a)\n",
    "                else:\n",
    "                    pass\n",
    "                    \n",
    "            return unique    \n",
    "        except Exception as e:\n",
    "            raise Exception(f\"error in unique function\", str(e))\n",
    "            \n",
    "unique=Q2\n"
   ]
  },
  {
   "cell_type": "code",
   "execution_count": 231,
   "id": "3538f67c",
   "metadata": {},
   "outputs": [
    {
     "name": "stdout",
     "output_type": "stream",
     "text": [
      "[4, 7]\n",
      "[0.77]\n",
      "[0]\n",
      "[0, 3, 5, 8]\n"
     ]
    }
   ],
   "source": [
    "print(unique.unique_list(4, 3, 3, 7, 3, 3))\n",
    "print(unique.unique_list(0, 0, 0.77, 0, 0))\n",
    "print(unique.unique_list(0, 1, 1, 1, 1, 1, 1, 1))\n",
    "print(unique.unique_list(0, 1, 1, 6,3,4,4,4,8,5,6,1, 1, 1, 1, 1))"
   ]
  },
  {
   "cell_type": "markdown",
   "id": "7cd7ae35",
   "metadata": {},
   "source": [
    "#### Question 3:\n",
    ">Your task is to create a Circle constructor that creates a circle with a radius provided by an argument. The circles constructed must have two getters getArea() (PIr^2) and\n",
    "getPerimeter() (2PI*r) which give both respective areas and perimeter (circumference)."
   ]
  },
  {
   "cell_type": "code",
   "execution_count": 224,
   "id": "b7f381d6",
   "metadata": {},
   "outputs": [],
   "source": [
    "class Circle():\n",
    "    \"\"\"Your task is to create a Circle constructor that creates a circle with a radius provided by an argument.\n",
    "    \"\"\"\n",
    "    def __init__(self, r):\n",
    "        try:\n",
    "            self.pi= 3.14\n",
    "            self.radius = r\n",
    "        except Exception as e:\n",
    "            raise Exception(f\"error init\", str(e))\n",
    "\n",
    "    def getarea(self):\n",
    "        return self.pi* self.radius **2\n",
    "    \n",
    "    def getperimeter(self):\n",
    "        return 2*self.radius*self.pi\n",
    "\n"
   ]
  },
  {
   "cell_type": "code",
   "execution_count": 225,
   "id": "92ca9204",
   "metadata": {},
   "outputs": [
    {
     "name": "stdout",
     "output_type": "stream",
     "text": [
      "61.90\n",
      "27.88\n"
     ]
    }
   ],
   "source": [
    "NewCircle = Circle(4.44)\n",
    "print('%.2f' % NewCircle.getarea())\n",
    "print('%.2f' % NewCircle.getperimeter())"
   ]
  },
  {
   "cell_type": "markdown",
   "id": "8174a13c",
   "metadata": {},
   "source": [
    "#### Question4\n",
    ">Create a function that takes a list of strings and return a list, sorted from shortest to longest."
   ]
  },
  {
   "cell_type": "code",
   "execution_count": 226,
   "id": "da5a8f05",
   "metadata": {},
   "outputs": [],
   "source": [
    "class Q4: \n",
    "    \"\"\"Create a function that takes a list of strings and return a list, sorted from shortest to longest.\n",
    "    \"\"\"\n",
    "    def Sorting(*lst):\n",
    "        try:\n",
    "            lst2 = sorted(lst, key=len)\n",
    "            return lst2\n",
    "        except Exception as e:\n",
    "            raise Exception(f\"error in function\", str(e))\n"
   ]
  },
  {
   "cell_type": "code",
   "execution_count": 227,
   "id": "070315a8",
   "metadata": {},
   "outputs": [
    {
     "name": "stdout",
     "output_type": "stream",
     "text": [
      "['Apple', 'Google', 'Microsoft']\n",
      "['Raphael', 'Leonardo', 'Donatello', 'Michelangelo']\n",
      "['Jung', 'Turing', 'Einstein']\n"
     ]
    }
   ],
   "source": [
    "\n",
    "print(Q4.Sorting (\"Google\", \"Apple\", \"Microsoft\"))\n",
    "print(Q4.Sorting(\"Leonardo\", \"Michelangelo\", \"Raphael\", \"Donatello\"))\n",
    "print(Q4.Sorting(\"Turing\", \"Einstein\", \"Jung\"))\n"
   ]
  },
  {
   "cell_type": "markdown",
   "id": "dbafe426",
   "metadata": {},
   "source": [
    "#### Question5\n",
    ">Create a function that validates whether three given integers form a Pythagorean triplet. The sum of the squares of the two smallest integers must equal the square of the largest number to\n",
    "be validated."
   ]
  },
  {
   "cell_type": "code",
   "execution_count": 223,
   "id": "dd3ea458",
   "metadata": {},
   "outputs": [],
   "source": [
    "class Q5:\n",
    "    def is_triplet(*arg):\n",
    "        \"\"\"Create a function that validates whether three given integers form a Pythagorean triplet. \n",
    "        \"\"\"\n",
    "        try:\n",
    "            array=sorted(arg)            \n",
    "            if (array[0]**2)+(array[1]**2)==array[2]**2:\n",
    "                return(f\"pythagoras triplet:{(array[0]**2)+(array[1]**2)==array[2]**2}\\n{array[0]**2} + {array[1]**2} = {array[2]**2}\") \n",
    "            else:\n",
    "                return(\"Flase  pythagoras triplet\")\n",
    "        except Exception as e:\n",
    "            raise Exception(f\"error pythagoras triplet \", str(e))\n",
    "            \n"
   ]
  },
  {
   "cell_type": "code",
   "execution_count": 228,
   "id": "75083bea",
   "metadata": {},
   "outputs": [
    {
     "name": "stdout",
     "output_type": "stream",
     "text": [
      "Flase  pythagoras triplet\n",
      "\n",
      "pythagoras triplet:True\n",
      "25 + 144 = 169\n",
      "\n",
      "pythagoras triplet:True\n",
      "9 + 16 = 25\n"
     ]
    }
   ],
   "source": [
    "print(f\"{Q5.is_triplet(3, 4, 2)}\\n\")\n",
    "print(f\"{Q5.is_triplet(13, 5, 12)}\\n\")\n",
    "print(Q5.is_triplet(3, 4, 5))"
   ]
  },
  {
   "cell_type": "code",
   "execution_count": null,
   "id": "70d007e4",
   "metadata": {},
   "outputs": [],
   "source": []
  }
 ],
 "metadata": {
  "kernelspec": {
   "display_name": "Python 3 (ipykernel)",
   "language": "python",
   "name": "python3"
  },
  "language_info": {
   "codemirror_mode": {
    "name": "ipython",
    "version": 3
   },
   "file_extension": ".py",
   "mimetype": "text/x-python",
   "name": "python",
   "nbconvert_exporter": "python",
   "pygments_lexer": "ipython3",
   "version": "3.10.5"
  }
 },
 "nbformat": 4,
 "nbformat_minor": 5
}
