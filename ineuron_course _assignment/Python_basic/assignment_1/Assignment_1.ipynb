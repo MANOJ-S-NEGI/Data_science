{
  "nbformat": 4,
  "nbformat_minor": 0,
  "metadata": {
    "colab": {
      "name": "Assignment_1.ipynb",
      "provenance": [],
      "collapsed_sections": []
    },
    "kernelspec": {
      "name": "python3",
      "display_name": "Python 3"
    },
    "language_info": {
      "name": "python"
    }
  },
  "cells": [
    {
      "cell_type": "markdown",
      "source": [
        "### PYTHON BASIC \n",
        "\n",
        "---\n",
        "Assignment_1\n"
      ],
      "metadata": {
        "id": "2vzuOwqeFAUJ"
      }
    },
    {
      "cell_type": "markdown",
      "source": [
        "```\n",
        "1. In the below elements which of them are values or an expression?\n",
        "   eg:- values can be integer or string and expressions will be mathematical operators.\n",
        "\n",
        "\n",
        "*                  Expression\n",
        "'hello'            value\n",
        "-87.8              value\n",
        "*                  Expression\n",
        "-                  Expression\n",
        "/                  Expression\n",
        "+                  Expression\n",
        "6                  value\n",
        "```"
      ],
      "metadata": {
        "id": "KizF9P_zFdjD"
      }
    },
    {
      "cell_type": "markdown",
      "source": [
        "\n",
        "```\n",
        "2. What is the difference between string and variable?\n",
        "\n",
        "Sol:\n",
        "\n",
        "variable: variable is any or group of alphabet which work as temporary storage locations.\n",
        "\n",
        "EXAMPLE: a=5 (here a is a variable which store the 5)\n",
        "\n",
        "\n",
        "string a class reference datatype .It is used to represent text type data.\n",
        "\n",
        "EXAMPLE: \"ID EGO SUPEREGO\"    (string)\n",
        "```\n",
        "\n"
      ],
      "metadata": {
        "id": "9Ch-MafgNLqQ"
      }
    },
    {
      "cell_type": "markdown",
      "source": [
        "\n",
        "```\n",
        "3. Describe three different data types.\n",
        "\n",
        "Sol: \n",
        "\n",
        ".   INTEGER: absolute numbers are integer/ whole number\n",
        ".   Boolen : True /False\n",
        ".   Characters: single Letter\n",
        "\n",
        "```\n",
        "\n"
      ],
      "metadata": {
        "id": "dnViK2HuNL04"
      }
    },
    {
      "cell_type": "markdown",
      "source": [
        "\n",
        "\n", "\n", "\n",
        "```\n",
        "4. What is an expression made up of? What do all expressions do?\n",
        "\n",
        "Sol:\n",
        "\n",
        "*  An expression is a combination values, containers, and mathematical operators operators and operands that is interpreted to produce some other value.\n",
        "\n",
        "* Used to perform specific task by calcuating and reducing it to desired value\n",
        "\n",
        "\n", "\n", "\n",
        "1. Constant Expressions: having costant value\n",
        "              example      x = 15 + 1.3\n",
        "                            print(x)\n",
        "\n",
        "2. Arithmetic Expressions:\n",
        "       example:             x=int(input())\n",
        "                            y=int(input())\n",
        "                            print(x+y)   \n",
        "\n",
        "etc     \n",
        "\n",
        "```"
      ],
      "metadata": {
        "id": "MXKkbxZXNL-I"
      }
    },
    {
      "cell_type": "markdown",
      "source": [
        "```\n",
        "5. This assignment statements, like spam = 10. What is the difference between an expression and a statement?\n",
        "\n",
        "sol:\n",
        "Expression is made up of values, containers, and mathematical operators (operands).\n",
        "\n",
        "Statement is just like a command that a python interpreter executes like print.\n",
        "\n",
        "```\n",
        "\n"
      ],
      "metadata": {
        "id": "fbQYL04UNMIc"
      }
    },
    {
      "cell_type": "markdown",
      "source": [
        "```\n",
        "6. After running the following code, what does the variable bacon contain?\n",
        "        >>bacon = 22\n",
        "        >>bacon + 1\n",
        "\n",
        "sol: 23\n",
        "\n",
        "```\n",
        "\n"
      ],
      "metadata": {
        "id": "qi_LUcPONMQh"
      }
    },
    {
      "cell_type": "code",
      "source": [
        "bacon=22\n",
        "bacon+1"
      ],
      "metadata": {
        "colab": {
          "base_uri": "https://localhost:8080/"
        },
        "id": "CBM2o3H_FbjP",
        "outputId": "29c3e79a-b8f7-423a-990f-81eb190e7ea4"
      },
      "execution_count": 6,
      "outputs": [
        {
          "output_type": "execute_result",
          "data": {
            "text/plain": [
              "23"
            ]
          },
          "metadata": {},
          "execution_count": 6
        }
      ]
    },
    {
      "cell_type": "markdown",
      "source": [
        "\n",
         "\n", "\n", 
        "\n",
        "```\n",
        "7. What should the values of the following two terms be?\n",
        "               >> 'spam' + 'spamspam'\n",
        "                >>'spam' * 3\n",
        "\n",
        "sol:    spamspamspam\n",
        "        spamspamspam\n",
        "```\n",
        "\n"
      ],
      "metadata": {
        "id": "KlwFGPCjNMWx"
      }
    },
    {
      "cell_type": "code",
      "source": [
        "print('spam' + 'spamspam')\n",
        "print('spam' * 3)"
      ],
      "metadata": {
        "colab": {
          "base_uri": "https://localhost:8080/"
        },
        "id": "85gMk4BsU-Dj",
        "outputId": "26587f80-7cd5-489b-d13e-9569943917d9"
      },
      "execution_count": 8,
      "outputs": [
        {
          "output_type": "stream",
          "name": "stdout",
          "text": [
            "spamspamspam\n",
            "spamspamspam\n"
          ]
        }
      ]
    },
    {
      "cell_type": "markdown",
      "source": [
        "```\n",
        "8. Why is eggs a valid variable name while 100 is invalid?\n",
        "\n",
        "Sol: A variable cannot be be start with an integer ,special character\n",
        "```\n",
        "\n"
      ],
      "metadata": {
        "id": "_-0WAuFINMc3"
      }
    },
    {
      "cell_type": "markdown",
      "source": [
        "```\n",
        "9. What three functions can be used to get the integer, floating-point number, or string version of a value?\n",
        "\n",
        "sol:  str() for string , \n",
        "      int() for integer, \n",
        "      float() for float/decimal \n",
        "```\n",
        "\n"
      ],
      "metadata": {
        "id": "Fm9n8aQ4Vv9x"
      }
    },
    {
      "cell_type": "markdown",
      "source": [
        "```\n",
        "10. Why does this expression cause an error? How can you fix it?\n",
        ">>  'I have eaten ' + 99 + ' burritos.'\n",
        "\n",
        "sol. it is not working because datatype are differnt it should be same.\n",
        "\n",
        "fix: \n",
        "       >> print('I have eaten ' + '99' + ' burritos.')\n",
        "       >>print('I have eaten ' + str(99) + ' burritos.')\n",
        "       >>print(f\"I have eaten {99} burritos.'\")\n",
        "\n",
        "\n",
        "```\n",
        "\n"
      ],
      "metadata": {
        "id": "TCIJ2jwTVwEn"
      }
    },
    {
      "cell_type": "code",
      "source": [
        "print('I have eaten ' + '99' + ' burritos.')\n",
        "print('I have eaten ' + str(99) + ' burritos.')\n",
        "print(f\"I have eaten {99} burritos.'\")"
      ],
      "metadata": {
        "colab": {
          "base_uri": "https://localhost:8080/"
        },
        "id": "nBby37MEGkWC",
        "outputId": "854d3622-2494-42ad-beaa-d52c168d69de"
      },
      "execution_count": 14,
      "outputs": [
        {
          "output_type": "stream",
          "name": "stdout",
          "text": [
            "I have eaten 99 burritos.\n",
            "I have eaten 99 burritos.\n",
            "I have eaten 99 burritos.'\n"
          ]
        }
      ]
    }
  ]
}
