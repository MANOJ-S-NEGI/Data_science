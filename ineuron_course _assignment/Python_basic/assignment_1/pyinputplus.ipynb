{
  "nbformat": 4,
  "nbformat_minor": 0,
  "metadata": {
    "colab": {
      "name": "pyinputplus",
      "provenance": []
    },
    "kernelspec": {
      "name": "python3",
      "display_name": "Python 3"
    },
    "language_info": {
      "name": "python"
    }
  },
  "cells": [
    {
      "cell_type": "code",
      "source": [
        "!pip install pyinputplus"
      ],
      "metadata": {
        "colab": {
          "base_uri": "https://localhost:8080/"
        },
        "id": "RfCyk-xusuBn",
        "outputId": "cae54674-8bcc-4e4b-ceca-a483e7a4ee8b"
      },
      "execution_count": null,
      "outputs": [
        {
          "output_type": "stream",
          "name": "stdout",
          "text": [
            "Looking in indexes: https://pypi.org/simple, https://us-python.pkg.dev/colab-wheels/public/simple/\n",
            "Collecting pyinputplus\n",
            "  Downloading PyInputPlus-0.2.12.tar.gz (20 kB)\n",
            "  Installing build dependencies ... \u001b[?25l\u001b[?25hdone\n",
            "  Getting requirements to build wheel ... \u001b[?25l\u001b[?25hdone\n",
            "    Preparing wheel metadata ... \u001b[?25l\u001b[?25hdone\n",
            "Collecting stdiomask>=0.0.3\n",
            "  Downloading stdiomask-0.0.6.tar.gz (3.6 kB)\n",
            "  Installing build dependencies ... \u001b[?25l\u001b[?25hdone\n",
            "  Getting requirements to build wheel ... \u001b[?25l\u001b[?25hdone\n",
            "    Preparing wheel metadata ... \u001b[?25l\u001b[?25hdone\n",
            "Collecting pysimplevalidate>=0.2.7\n",
            "  Downloading PySimpleValidate-0.2.12.tar.gz (22 kB)\n",
            "  Installing build dependencies ... \u001b[?25l\u001b[?25hdone\n",
            "  Getting requirements to build wheel ... \u001b[?25l\u001b[?25hdone\n",
            "    Preparing wheel metadata ... \u001b[?25l\u001b[?25hdone\n",
            "Building wheels for collected packages: pyinputplus, pysimplevalidate, stdiomask\n",
            "  Building wheel for pyinputplus (PEP 517) ... \u001b[?25l\u001b[?25hdone\n",
            "  Created wheel for pyinputplus: filename=PyInputPlus-0.2.12-py3-none-any.whl size=11315 sha256=e5ba4d4712227566df00172ebfb516cb5d272d957e2dbb21396864fef04f8f6c\n",
            "  Stored in directory: /root/.cache/pip/wheels/e7/33/73/719f8f1bd984d39face880fd22f6c5ef1b85f726e84c687094\n",
            "  Building wheel for pysimplevalidate (PEP 517) ... \u001b[?25l\u001b[?25hdone\n",
            "  Created wheel for pysimplevalidate: filename=PySimpleValidate-0.2.12-py3-none-any.whl size=16193 sha256=5fcb677f306294deb98e315a954562fa409a85d77f389e38f2c4fda0a52bc14d\n",
            "  Stored in directory: /root/.cache/pip/wheels/5a/8b/6c/2925d22b93860bdc9b8ce02c3d2cf79336606f7469cef66065\n",
            "  Building wheel for stdiomask (PEP 517) ... \u001b[?25l\u001b[?25hdone\n",
            "  Created wheel for stdiomask: filename=stdiomask-0.0.6-py3-none-any.whl size=3321 sha256=42251cabaf7d2c1e176c43e3b2161e4a68a94015c2e3074db12d691303f2106e\n",
            "  Stored in directory: /root/.cache/pip/wheels/cf/13/89/64d0d3b167759523f4c1e68f883bbc30e7bfa27050edeb418e\n",
            "Successfully built pyinputplus pysimplevalidate stdiomask\n",
            "Installing collected packages: stdiomask, pysimplevalidate, pyinputplus\n",
            "Successfully installed pyinputplus-0.2.12 pysimplevalidate-0.2.12 stdiomask-0.0.6\n"
          ]
        }
      ]
    },
    {
      "cell_type": "code",
      "execution_count": null,
      "metadata": {
        "colab": {
          "base_uri": "https://localhost:8080/"
        },
        "id": "c03mp62_shay",
        "outputId": "05f5785d-5e29-4da5-d4df-739d45e63e82"
      },
      "outputs": [
        {
          "name": "stdout",
          "output_type": "stream",
          "text": [
            "qwe \n"
          ]
        }
      ],
      "source": [
        "import pyinputplus as pyip\n",
        "result = pyip.inputStr()"
      ]
    },
    {
      "cell_type": "code",
      "source": [
        "result = pyip.inputStr(limit=3)"
      ],
      "metadata": {
        "colab": {
          "base_uri": "https://localhost:8080/"
        },
        "id": "shcUoYlK0d7f",
        "outputId": "6b6729fa-26e2-4cc0-c11e-f6134c813f40"
      },
      "execution_count": null,
      "outputs": [
        {
          "name": "stdout",
          "output_type": "stream",
          "text": [
            "23ex\n"
          ]
        }
      ]
    },
    {
      "cell_type": "code",
      "source": [
        "result = pyip.inputNum()"
      ],
      "metadata": {
        "colab": {
          "base_uri": "https://localhost:8080/"
        },
        "id": "HHlc0nlYtG35",
        "outputId": "cf94a16a-fbff-4f48-e3e0-d062241b08b0"
      },
      "execution_count": null,
      "outputs": [
        {
          "name": "stdout",
          "output_type": "stream",
          "text": [
            "aw222\n",
            "'aw222' is not a number.\n",
            "12dd\n",
            "'12dd' is not a number.\n",
            "12\n"
          ]
        }
      ]
    },
    {
      "cell_type": "code",
      "source": [
        "result = pyip.inputNum(\"enters a whole number between 0 and 99 \",min=0, max=99)\n",
        "print(result)"
      ],
      "metadata": {
        "colab": {
          "base_uri": "https://localhost:8080/"
        },
        "id": "792hynAJtz-1",
        "outputId": "68ef6242-13f9-4115-9f7e-6e42873ec9fb"
      },
      "execution_count": null,
      "outputs": [
        {
          "output_type": "stream",
          "name": "stdout",
          "text": [
            "enters a whole number between 0 and 99 13\n",
            "13\n"
          ]
        }
      ]
    },
    {
      "cell_type": "code",
      "source": [
        "response = pyip.inputEmail()"
      ],
      "metadata": {
        "colab": {
          "base_uri": "https://localhost:8080/"
        },
        "id": "MW8x5Jfbuwvs",
        "outputId": "4fa864a8-8bbd-4abc-9518-b3dd13982119"
      },
      "execution_count": null,
      "outputs": [
        {
          "name": "stdout",
          "output_type": "stream",
          "text": [
            "skajka\n",
            "'skajka' is not a valid email address.\n",
            "asjak.com\n",
            "'asjak.com' is not a valid email address.\n",
            "mas@g\n",
            "'mas@g' is not a valid email address.\n",
            "msn@gmail.co\n"
          ]
        }
      ]
    },
    {
      "cell_type": "code",
      "source": [
        "response = pyip.inputMenu(['cat', 'dog', 'moose'])"
      ],
      "metadata": {
        "colab": {
          "base_uri": "https://localhost:8080/"
        },
        "id": "D9BfZIEhwhRb",
        "outputId": "4ef09461-04e6-4d16-d9f8-5773e5175f83"
      },
      "execution_count": null,
      "outputs": [
        {
          "name": "stdout",
          "output_type": "stream",
          "text": [
            "Please select one of the following:\n",
            "* cat\n",
            "* dog\n",
            "* moose\n",
            "dog\n"
          ]
        }
      ]
    },
    {
      "cell_type": "code",
      "source": [
        "response = pyip.inputMenu(['cat', 'dog', 'moose'], numbered=True)\n",
        "print(response)"
      ],
      "metadata": {
        "colab": {
          "base_uri": "https://localhost:8080/"
        },
        "id": "2mdkJ3qFw1CF",
        "outputId": "608a6821-8d7e-458b-bd47-1559ab6017b7"
      },
      "execution_count": null,
      "outputs": [
        {
          "output_type": "stream",
          "name": "stdout",
          "text": [
            "Please select one of the following:\n",
            "1. cat\n",
            "2. dog\n",
            "3. moose\n",
            "3\n",
            "moose\n"
          ]
        }
      ]
    },
    {
      "cell_type": "code",
      "source": [
        "result=pyip.inputYesNo(\"enter\")"
      ],
      "metadata": {
        "colab": {
          "base_uri": "https://localhost:8080/"
        },
        "id": "jGp0lvu-xG9C",
        "outputId": "2b94579b-d75b-4c6b-e3cc-e740dbea2640"
      },
      "execution_count": null,
      "outputs": [
        {
          "name": "stdout",
          "output_type": "stream",
          "text": [
            "enterYes\n"
          ]
        }
      ]
    },
    {
      "cell_type": "code",
      "source": [
        "import os\n",
        "import shutil\n",
        "sourcePath = input('Enter the absolute path of the source folder: ')\n",
        "fileExtType = input(\"Enter the type of file to copy (such as .pdf or .jpg): \").lower()\n",
        "destPath = input(\"Enter the absolute path of the destination folder: \")\n",
        "\n",
        "for foldername, subfolders, filenames in os.walk(sourcePath):\n",
        "  for filename in filenames:\n",
        "    if filename.lower().endswith(fileExtType):\n",
        "      print(foldername + \"\\\\\" + filename)\n",
        "      copySourcePath = os.path.join(foldername, filename)\n",
        "      #print(copySourcePath)\n",
        "      shutil.copy(copySourcePath, destPath)\n",
        "    else:\n",
        "      continue\n"
      ],
      "metadata": {
        "id": "CBturkEix_HV"
      },
      "execution_count": null,
      "outputs": []
    },
    {
      "cell_type": "code",
      "source": [
        "def square(x):\n",
        "    assert x>=0, 'Only positive numbers are allowed'\n",
        "    return x*x\n",
        "\n",
        "try:\n",
        "    square(-0.9)\n",
        "except AssertionError as msg:\n",
        "    print(msg)\n",
        "    "
      ],
      "metadata": {
        "colab": {
          "base_uri": "https://localhost:8080/"
        },
        "id": "c8o1e6VSMH3s",
        "outputId": "37264ef3-da53-4c71-ec01-2a863529c0bc"
      },
      "execution_count": null,
      "outputs": [
        {
          "output_type": "stream",
          "name": "stdout",
          "text": [
            "Only positive numbers are allowed\n"
          ]
        }
      ]
    },
    {
      "cell_type": "code",
      "source": [
        "import re\n",
        "re.findall('the', 'The sources informed THE police of tHe thieves.', re.IGNORECASE)"
      ],
      "metadata": {
        "colab": {
          "base_uri": "https://localhost:8080/"
        },
        "id": "aE5-mDAyS_G0",
        "outputId": "3badcf30-8430-4332-d62e-3003983fff07"
      },
      "execution_count": null,
      "outputs": [
        {
          "output_type": "execute_result",
          "data": {
            "text/plain": [
              "['The', 'THE', 'tHe']"
            ]
          },
          "metadata": {},
          "execution_count": 69
        }
      ]
    },
    {
      "cell_type": "code",
      "source": [
        "import re\n",
        "re.search('the', 'The sources informed THE police of tHe thieves.', re.IGNORECASE)"
      ],
      "metadata": {
        "colab": {
          "base_uri": "https://localhost:8080/"
        },
        "id": "HOKcIBFcUB1F",
        "outputId": "9e926971-4ca4-496e-bb9d-4899c7b1ae72"
      },
      "execution_count": null,
      "outputs": [
        {
          "output_type": "execute_result",
          "data": {
            "text/plain": [
              "<re.Match object; span=(0, 3), match='The'>"
            ]
          },
          "metadata": {},
          "execution_count": 68
        }
      ]
    },
    {
      "cell_type": "code",
      "source": [
        "import re\n",
        "text = \"Let it rain, let it snow, let it do!\"\n",
        "re.findall('(?i)LEt' , text)"
      ],
      "metadata": {
        "colab": {
          "base_uri": "https://localhost:8080/"
        },
        "id": "OVkbqWitUEgG",
        "outputId": "52284fce-47b2-4b4c-e06c-4147a4c11c95"
      },
      "execution_count": null,
      "outputs": [
        {
          "output_type": "execute_result",
          "data": {
            "text/plain": [
              "['Let', 'let', 'let']"
            ]
          },
          "metadata": {},
          "execution_count": 67
        }
      ]
    },
    {
      "cell_type": "code",
      "source": [
        ""
      ],
      "metadata": {
        "id": "F8wbytxLU_GX"
      },
      "execution_count": null,
      "outputs": []
    }
  ]
}