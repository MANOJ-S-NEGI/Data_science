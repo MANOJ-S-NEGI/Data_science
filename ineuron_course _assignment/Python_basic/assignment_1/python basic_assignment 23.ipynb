{
 "cells": [
  {
   "cell_type": "markdown",
   "id": "814bbf13",
   "metadata": {},
   "source": [
    "#### 1. What is the result of the code, and why?"
   ]
  },
  {
   "cell_type": "code",
   "execution_count": 2,
   "id": "d5072db6",
   "metadata": {},
   "outputs": [
    {
     "name": "stdout",
     "output_type": "stream",
     "text": [
      "1 2 8\n"
     ]
    }
   ],
   "source": [
    "def func(a, b=6, c=8):\n",
    "    print(a, b, c)\n",
    "    \n",
    "func(1, 2)\n"
   ]
  },
  {
   "cell_type": "markdown",
   "id": "d585504c",
   "metadata": {},
   "source": [
    "\n",
    "Ans.\n",
    ">This funtion is taking a positional argument and 2 keyward argument. When function call m=is made, parameter passed \n",
    ">>are a=1,b=2.\n",
    "\n",
    ">When the function is executed , parameter c=8 will be taken by default as its a keyword argument.\n",
    "   \n"
   ]
  },
  {
   "cell_type": "markdown",
   "id": "6ea9cfbd",
   "metadata": {},
   "source": [
    "#### What is the result of this code, and why?"
   ]
  },
  {
   "cell_type": "code",
   "execution_count": 4,
   "id": "2ca55d2f",
   "metadata": {},
   "outputs": [
    {
     "name": "stdout",
     "output_type": "stream",
     "text": [
      "1 2 3\n"
     ]
    }
   ],
   "source": [
    "def func(a, b, c=5):\n",
    "    print(a, b, c)\n",
    "func(1, c=3, b=2)\n"
   ]
  },
  {
   "cell_type": "markdown",
   "id": "19f4696d",
   "metadata": {},
   "source": [
    "Ans.\n",
    "> When we make function call, order will be positional argument and then keywords arguments. we can pass the keyword arguments in any order we want."
   ]
  },
  {
   "cell_type": "markdown",
   "id": "c7f4b4ce",
   "metadata": {},
   "source": [
    "#### How about this code: what is its result, and why? "
   ]
  },
  {
   "cell_type": "code",
   "execution_count": 5,
   "id": "0fc48656",
   "metadata": {},
   "outputs": [
    {
     "name": "stdout",
     "output_type": "stream",
     "text": [
      "1 (2, 3)\n"
     ]
    }
   ],
   "source": [
    "def func(a, *pargs):\n",
    "    print(a, pargs)\n",
    "func(1, 2, 3)\n"
   ]
  },
  {
   "cell_type": "markdown",
   "id": "5b3ccfc3",
   "metadata": {},
   "source": [
    "Ans.\n",
    ">The return type of *args parameter is tuple, where as **kargs will be dictionary\n"
   ]
  },
  {
   "cell_type": "markdown",
   "id": "acc5ab0c",
   "metadata": {},
   "source": [
    "#### Q. What does this code print, and why?"
   ]
  },
  {
   "cell_type": "code",
   "execution_count": 7,
   "id": "b01c13bb",
   "metadata": {},
   "outputs": [
    {
     "name": "stdout",
     "output_type": "stream",
     "text": [
      "1 {'c': 3, 'b': 2}\n"
     ]
    }
   ],
   "source": [
    "def func(a, **kargs):\n",
    "    print(a, kargs)\n",
    "func(a=1, c=3, b=2)\n"
   ]
  },
  {
   "cell_type": "markdown",
   "id": "3609777a",
   "metadata": {},
   "source": [
    "Ans. The return type of  **kargs is  dictionary\n"
   ]
  },
  {
   "cell_type": "markdown",
   "id": "36e18b25",
   "metadata": {},
   "source": [
    "#### Q. What gets printed by this, and explain? "
   ]
  },
  {
   "cell_type": "code",
   "execution_count": 8,
   "id": "90b89c0e",
   "metadata": {},
   "outputs": [
    {
     "name": "stdout",
     "output_type": "stream",
     "text": [
      "1 5 6 5\n"
     ]
    }
   ],
   "source": [
    "def func(a, b, c=8, d=5): \n",
    "    print(a, b, c, d)\n",
    "    \n",
    "func(1, *(5, 6))"
   ]
  },
  {
   "cell_type": "markdown",
   "id": "6a43679e",
   "metadata": {},
   "source": [
    "'*' is the unpacking operator and are operators that unpack the values from iterable objects in Python. The single \n",
    "\n",
    ">asterisk operator * can be used on any iterable that Python provides, while the double asterisk operator ** can only \n",
    " be used on dictionaries.\n",
    ">> In the example the value *(5,6) will be unpacked and will be assigned to b and c and passed \n",
    "   as arguments, d =5 will taken by defaults are keyword arguments.\n"
   ]
  },
  {
   "cell_type": "markdown",
   "id": "17c278bb",
   "metadata": {},
   "source": [
    "#### Q. what is the result of this, and explain? "
   ]
  },
  {
   "cell_type": "code",
   "execution_count": 15,
   "id": "7f33aa98",
   "metadata": {},
   "outputs": [
    {
     "data": {
      "text/plain": [
       "(1, ['x'], {'a': 'y'})"
      ]
     },
     "execution_count": 15,
     "metadata": {},
     "output_type": "execute_result"
    }
   ],
   "source": [
    "def func(a, b, c): \n",
    "    a = 2; \n",
    "    b[0] = 'x'; \n",
    "    c['a'] = 'y'\n",
    "    \n",
    "l=1; \n",
    "m=[1];\n",
    "n={'a':0}\n",
    "\n",
    "func(l, m, n)\n",
    "\n",
    "l,m,n"
   ]
  },
  {
   "cell_type": "markdown",
   "id": "465bdb0e",
   "metadata": {},
   "source": [
    "Ans.\n",
    "> Here in the code, the list and dict are passed as argument, and those are mutable. Here the list l and parameter b point \n",
    "to the same list in the memory location where as dict n and c point to the same memory location.\n",
    "\n",
    ">Any updates to this list will update in the memory location:\n",
    "\n",
    ">>l = 1 integer values- immutable\n",
    "\n",
    ">>m is list mutable\n",
    "\n",
    ">>n is dict, mutable\n"
   ]
  },
  {
   "cell_type": "code",
   "execution_count": null,
   "id": "95a8e53e",
   "metadata": {},
   "outputs": [],
   "source": []
  }
 ],
 "metadata": {
  "kernelspec": {
   "display_name": "Python 3 (ipykernel)",
   "language": "python",
   "name": "python3"
  },
  "language_info": {
   "codemirror_mode": {
    "name": "ipython",
    "version": 3
   },
   "file_extension": ".py",
   "mimetype": "text/x-python",
   "name": "python",
   "nbconvert_exporter": "python",
   "pygments_lexer": "ipython3",
   "version": "3.10.4"
  }
 },
 "nbformat": 4,
 "nbformat_minor": 5
}
