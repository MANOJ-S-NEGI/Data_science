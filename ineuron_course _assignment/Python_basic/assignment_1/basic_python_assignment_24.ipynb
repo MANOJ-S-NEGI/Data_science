{
 "cells": [
  {
   "cell_type": "markdown",
   "id": "b4b8e411",
   "metadata": {},
   "source": [
    "#### 1. What is the relationship between def statements and lambda expressions ?"
   ]
  },
  {
   "cell_type": "markdown",
   "id": "4d4ecb8c",
   "metadata": {},
   "source": [
    "Ans.\n",
    ">Keyword def that marks the start of the function header. A function name to uniquely identify the function. Function naming follows the same rules of writing identifiers in Python\n",
    "\n",
    ">Lambdas are one-line methods without a name or we can say anonymous Func They work practically the same as any other method in Python Lambdas differ from normal Python methods because they can have only one expression, can't contain any statements and their return type is a function object"
   ]
  },
  {
   "cell_type": "markdown",
   "id": "54b3f7c2",
   "metadata": {},
   "source": [
    "#### 2. What is the benefit of lambda?"
   ]
  },
  {
   "cell_type": "markdown",
   "id": "351b4fbc",
   "metadata": {},
   "source": [
    "Ans.\n",
    ">Fewer Lines of Code Lambda functions are inline functions and thus execute comparatively faster Many times lambda functions make code much more readable by avoiding the logical jumps caused by function calls"
   ]
  },
  {
   "cell_type": "markdown",
   "id": "0e152c9a",
   "metadata": {},
   "source": [
    "#### 3. Compare and contrast map, filter, and reduce."
   ]
  },
  {
   "cell_type": "markdown",
   "id": "bc4b5d1f",
   "metadata": {},
   "source": [
    "Ans. \n",
    ">map applies as a transformation to an element. The map() function iterates through all items in the given iterable and executes the function we passed as an argument on each of them. Syntax : map(function, iterable(s))\n",
    "\n",
    ">filter accumulates only elements matching a condition. filter() forms a new list that contains only elements that satisfy a certain condition, i.e. the function we passed returns True Syntax : filter(function, iterable(s))\n",
    "\n",
    ">reduce accumulates all elements to a single value, by using immutable values reduce() works by calling the function we passed for the first two items in the sequence. The result returned by the function is used in another call to function alongside with the next (third in this case), element Syntax : reduce(function, sequence[, initial])"
   ]
  },
  {
   "cell_type": "markdown",
   "id": "3b49a523",
   "metadata": {},
   "source": [
    "#### 4. What are function annotations, and how are they used?"
   ]
  },
  {
   "cell_type": "markdown",
   "id": "aebbaf43",
   "metadata": {},
   "source": [
    "Ans. \n",
    ">>Function annotation is the standard way to access the metadata with the arguments and the return value of the function. These are nothing but some random and optional Python expressions that get allied to different parts of the function. They get evaluated only during the compile-time and have no significance during the run-time of the code. They do not have any significance or meaning associated with them until accessed by some third-party libraries. They are used to type check the functions by declaring the type of the parameters and the return value for the functions. The string-based annotations help us to improve the help messages.\n",
    "\n",
    "\n",
    "\n",
    "##### Syntax :\n",
    "\n",
    "def func(a: 'int') -> 'int':\n",
    ">pass\n",
    ">>Annotations for simple parameters:\n",
    "\n",
    "##### def func(x: 'float'=10.8, y: 'argument2'):\n",
    "\n",
    ">>In the above code the argument, ‘x’ of the function func, has been annotated to float data type and,\n",
    "the argument ‘y’ has a string-based annotation. The argument can also be assigned to a default value using a ‘=’ symbol followed by the default value. These default values are optional to the code.\n",
    "Annotations for return values:\n"
   ]
  },
  {
   "cell_type": "markdown",
   "id": "e7f3cf07",
   "metadata": {},
   "source": [
    "#### 5. What are recursive functions, and how are they used?"
   ]
  },
  {
   "cell_type": "markdown",
   "id": "549f53d6",
   "metadata": {},
   "source": [
    "Ans.\n",
    "> A recursive function is a function that calls itself during its execution. This means that the function will continue to call itself and repeat its behavior until some condition is met to return a result"
   ]
  },
  {
   "cell_type": "markdown",
   "id": "4584469b",
   "metadata": {},
   "source": [
    "#### 6. What are some general design guidelines for coding functions?"
   ]
  },
  {
   "cell_type": "markdown",
   "id": "e33064b2",
   "metadata": {},
   "source": [
    "> Use 4-space indentation and no tabs.\n",
    "\n",
    ">Use docstrings\n",
    "\n",
    ">Wrap linethat they don’t exceed 79 characters\n",
    "\n",
    ">Use of regular and updated comments are valuable to both the coders and users\n",
    "\n",
    ">Use of trailing commas : in case of tuple -> ('good',)\n",
    "\n",
    ">Use Python’s default UTF-8 or ASCII encodings and not any fancy encodings\n",
    "\n",
    ">Naming Conventions 8.Characters that should not be used for identifiers : ‘l’ (lowercase letter el), ‘O’ (uppercase letter oh), ‘I’ (uppercase letter eye) as single character variable names as these are similar to the numerals one and zero.\n",
    "\n",
    ">Don’t use non-ASCII characters in identifiers\n",
    "\n",
    ">Name your classes and functions consistently\n",
    "\n",
    ">While naming of function of methods always use self for the first argument"
   ]
  },
  {
   "cell_type": "markdown",
   "id": "bf087844",
   "metadata": {},
   "source": [
    "#### 7. Name three or more ways that functions can communicate results to a caller."
   ]
  },
  {
   "cell_type": "markdown",
   "id": "29adbf4f",
   "metadata": {},
   "source": [
    "> Function can return single value Can return multiple values,\n",
    "\n",
    "> tuple can return list,\n",
    "\n",
    ">dictionary can return function object can return class object"
   ]
  },
  {
   "cell_type": "code",
   "execution_count": null,
   "id": "9a2be309",
   "metadata": {},
   "outputs": [],
   "source": []
  }
 ],
 "metadata": {
  "kernelspec": {
   "display_name": "Python 3 (ipykernel)",
   "language": "python",
   "name": "python3"
  },
  "language_info": {
   "codemirror_mode": {
    "name": "ipython",
    "version": 3
   },
   "file_extension": ".py",
   "mimetype": "text/x-python",
   "name": "python",
   "nbconvert_exporter": "python",
   "pygments_lexer": "ipython3",
   "version": "3.10.4"
  }
 },
 "nbformat": 4,
 "nbformat_minor": 5
}
