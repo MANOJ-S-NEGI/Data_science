{
 "cells": [
  {
   "cell_type": "markdown",
   "id": "3a5cd368",
   "metadata": {},
   "source": [
    "## Programming_Assingment1\n",
    "\n",
    "1.Write a Python program to print \"Hello Python\"?\n",
    "\n",
    "2.Write a Python program to do arithmetical operations addition and division.?\n",
    "\n",
    "\n",
    "3.Write a Python program to find the area of a triangle?\n",
    "\n",
    "4.Write a Python program to swap two variables?\n",
    "\n",
    "5.Write a Python program to generate a random number?\n"
   ]
  },
  {
   "cell_type": "code",
   "execution_count": 6,
   "id": "3a786d5e",
   "metadata": {},
   "outputs": [
    {
     "name": "stdout",
     "output_type": "stream",
     "text": [
      "Hello Python\n"
     ]
    }
   ],
   "source": [
    "# 1.print(\"Hello Python\")\n",
    "\n",
    "print(\"Hello Python\")"
   ]
  },
  {
   "cell_type": "code",
   "execution_count": 2,
   "id": "9c103121",
   "metadata": {},
   "outputs": [
    {
     "name": "stdout",
     "output_type": "stream",
     "text": [
      "Addition 10+30 = 40\n",
      "Division 30/10 = 3.0\n"
     ]
    }
   ],
   "source": [
    "# 2. Write a Python program to do arithmetical operations addition and division.?\n",
    "a = 10\n",
    "b = 30\n",
    "\n",
    "print(\"Addition {}+{} = {}\".format(a,b,a+b))\n",
    "print(\"Division {}/{} = {}\".format(b,a,b/a))"
   ]
  },
  {
   "cell_type": "code",
   "execution_count": 3,
   "id": "6ceee3e8",
   "metadata": {},
   "outputs": [
    {
     "name": "stdout",
     "output_type": "stream",
     "text": [
      "Enter base :2\n",
      "Enter height :2\n",
      "Area of Triangle =  2.0\n"
     ]
    }
   ],
   "source": [
    "#3. Write a Python program to find the area of a triangle?\n",
    "# Area of triangle = (base*height)/2\n",
    "\n",
    "b = int(input(\"Enter base :\"))\n",
    "h = int(input(\"Enter height :\"))\n",
    "\n",
    "area = (b*h)/2\n",
    "\n",
    "print(\"Area of Triangle = \", area)"
   ]
  },
  {
   "cell_type": "code",
   "execution_count": 4,
   "id": "aae5a5c8",
   "metadata": {},
   "outputs": [
    {
     "name": "stdout",
     "output_type": "stream",
     "text": [
      "Before swaping a = 10, b = 20\n",
      "After swaping a = 20, b = 10\n"
     ]
    }
   ],
   "source": [
    "#4. Write a Python program to swap two variables?\n",
    "a = 10\n",
    "b = 20\n",
    "\n",
    "print(\"Before swaping a = {}, b = {}\".format(a,b))\n",
    "temp = a\n",
    "a = b\n",
    "b = temp\n",
    "\n",
    "print(\"After swaping a = {}, b = {}\".format(a,b))"
   ]
  },
  {
   "cell_type": "code",
   "execution_count": 5,
   "id": "35910ada",
   "metadata": {},
   "outputs": [
    {
     "name": "stdout",
     "output_type": "stream",
     "text": [
      "96\n"
     ]
    }
   ],
   "source": [
    "#5. Write a Python program to generate a random number?\n",
    "import random\n",
    "\n",
    "randomNum = random.randint(0,100)\n",
    "print(randomNum)"
   ]
  },
  {
   "cell_type": "code",
   "execution_count": null,
   "id": "5dbdaa75",
   "metadata": {},
   "outputs": [],
   "source": []
  }
 ],
 "metadata": {
  "kernelspec": {
   "display_name": "Python 3 (ipykernel)",
   "language": "python",
   "name": "python3"
  },
  "language_info": {
   "codemirror_mode": {
    "name": "ipython",
    "version": 3
   },
   "file_extension": ".py",
   "mimetype": "text/x-python",
   "name": "python",
   "nbconvert_exporter": "python",
   "pygments_lexer": "ipython3",
   "version": "3.10.5"
  }
 },
 "nbformat": 4,
 "nbformat_minor": 5
}
