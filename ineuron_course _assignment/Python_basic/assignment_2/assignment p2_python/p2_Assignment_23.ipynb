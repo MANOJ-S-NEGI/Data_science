{
 "cells": [
  {
   "cell_type": "markdown",
   "id": "5a8b02f8",
   "metadata": {},
   "source": [
    "### Python Basic :\n",
    "##### Assisment_24"
   ]
  },
  {
   "cell_type": "markdown",
   "id": "7ca804e3",
   "metadata": {},
   "source": [
    "#### Question 1\n",
    ">Create a function that takes a number as an argument and returns True or False depending on whether the number is symmetrical or not. A number is symmetrical when it is the same as its reverse.\n"
   ]
  },
  {
   "cell_type": "code",
   "execution_count": 113,
   "id": "18189310",
   "metadata": {},
   "outputs": [],
   "source": [
    "class Q1:\n",
    "    def is_symmetrical(*arg):\n",
    "        \"\"\"Create a function that takes a number as an argument and returns True or False depending on whether the number is symmetrical or not.\n",
    "        \"\"\"\n",
    "        try:\n",
    "            arg_to_list=list(arg)\n",
    "            #print(arg_to_list)\n",
    "            arg_to_list.reverse()\n",
    "            if arg_to_list==list(arg):\n",
    "                return ('True: It is symmetrical')\n",
    "            else:\n",
    "                return('False: It is non symmetrical') \n",
    "            \n",
    "        except Exception as e:\n",
    "            raise Exception(f\"error in is_symmetrical fun\", str(e))"
   ]
  },
  {
   "cell_type": "code",
   "execution_count": 117,
   "id": "0b8d9c3a",
   "metadata": {},
   "outputs": [
    {
     "name": "stdout",
     "output_type": "stream",
     "text": [
      "True: It is symmetrical\n",
      "False: It is non symmetrical\n",
      "True: It is symmetrical\n",
      "False: It is non symmetrical\n",
      "True: It is symmetrical\n"
     ]
    }
   ],
   "source": [
    "print(Q1.is_symmetrical(7,2,2,7))\n",
    "print(Q1.is_symmetrical(1,2,5,6,7))\n",
    "print(Q1.is_symmetrical(4,4,4,4,4,4,4,4,4))\n",
    "print(Q1.is_symmetrical(9,9,3,9))\n",
    "print(Q1.is_symmetrical(1,1,1,2,1,1,1))"
   ]
  },
  {
   "cell_type": "markdown",
   "id": "5a2bab49",
   "metadata": {},
   "source": [
    "#### Question 2\n",
    ">Given a string of numbers separated by a comma and space, return the product of the numbers.\n"
   ]
  },
  {
   "cell_type": "code",
   "execution_count": 33,
   "id": "fb162b36",
   "metadata": {},
   "outputs": [],
   "source": [
    "class Q2:\n",
    "    def multiply_nums(*arg):\n",
    "        \"\"\"Given a string of numbers separated by a comma and space, return the product of the numbers.\n",
    "        \"\"\"\n",
    "        try:\n",
    "            product=1\n",
    "            for i in arg:\n",
    "                product=i*product\n",
    "            return product             \n",
    "            \n",
    "        except Exception as e:\n",
    "            raise Exception(f\"error in pmulti_num fun\", str(e))"
   ]
  },
  {
   "cell_type": "code",
   "execution_count": 36,
   "id": "68dfce8c",
   "metadata": {},
   "outputs": [
    {
     "name": "stdout",
     "output_type": "stream",
     "text": [
      "6\n",
      "24\n",
      "0\n",
      "-20\n"
     ]
    }
   ],
   "source": [
    "print(Q2.multiply_nums(2, 3))\n",
    "\n",
    "print(Q2.multiply_nums(1, 2, 3, 4))\n",
    "\n",
    "print(Q2.multiply_nums(54, 75, 453, 0))\n",
    "\n",
    "print(Q2.multiply_nums(10, -2))\n"
   ]
  },
  {
   "cell_type": "markdown",
   "id": "3f01a6ca",
   "metadata": {},
   "source": [
    "#### Question 3\n",
    ">Create a function that squares every digit of a number.\n"
   ]
  },
  {
   "cell_type": "code",
   "execution_count": 24,
   "id": "0940d605",
   "metadata": {},
   "outputs": [],
   "source": [
    "class Q3:\n",
    "    def square_digits(*arg):\n",
    "        \"\"\"Create a function that squares every digit of a number.\n",
    "        \"\"\"\n",
    "        try:\n",
    "            sq_list=[]\n",
    "            for i in arg:\n",
    "                sq_list.append(i**2)\n",
    "            return sq_list             \n",
    "            \n",
    "        except Exception as e:\n",
    "            raise Exception(f\"error in sq fun\", str(e))\n",
    "            \n"
   ]
  },
  {
   "cell_type": "code",
   "execution_count": 28,
   "id": "4dfb1efe",
   "metadata": {},
   "outputs": [
    {
     "name": "stdout",
     "output_type": "stream",
     "text": [
      "[81, 1, 1, 81]\n",
      "[4, 16, 64, 9]\n",
      "[9, 4, 1, 4]\n"
     ]
    }
   ],
   "source": [
    "print(Q3.square_digits(9,1,1,9)) \n",
    "print(Q3.square_digits(2,4,8,3))\n",
    "print(Q3.square_digits(3,2,1,2))\n"
   ]
  },
  {
   "cell_type": "markdown",
   "id": "24d5a301",
   "metadata": {},
   "source": [
    "#### Question 4\n",
    ">Create a function that sorts a list and removes all duplicate items from it.\n"
   ]
  },
  {
   "cell_type": "code",
   "execution_count": 4,
   "id": "dbf6dfdc",
   "metadata": {},
   "outputs": [],
   "source": [
    "class Q4:\n",
    "    def unique_list(*arg):\n",
    "        \"\"\"Create a function that sorts a list and removes all duplicate items from it.\n",
    "        \"\"\"\n",
    "        try:\n",
    "            x = []\n",
    "            for a in arg:\n",
    "                if a not in x:\n",
    "                    x.append(a)\n",
    "            return x\n",
    "        except Exception as e:\n",
    "            raise Exception(f\"error in unique function\", str(e))\n",
    "            \n",
    "unique=Q4"
   ]
  },
  {
   "cell_type": "code",
   "execution_count": 3,
   "id": "f2ccc8df",
   "metadata": {},
   "outputs": [
    {
     "name": "stdout",
     "output_type": "stream",
     "text": [
      "[1, 3, 5]\n",
      "[4]\n",
      "[5, 7, 8, 9, 10, 15]\n",
      "[3, 2, 1]\n"
     ]
    }
   ],
   "source": [
    "print(Q4.unique_list(1, 3, 3, 5, 5))\n",
    "print(Q4.unique_list(4, 4, 4, 4, 4))\n",
    "print(Q4.unique_list(5, 7, 8, 9, 10, 15))\n",
    "print(Q4.unique_list(3, 3, 3, 2, 1))\n"
   ]
  },
  {
   "cell_type": "markdown",
   "id": "32ae3157",
   "metadata": {},
   "source": [
    "#### Question 5\n",
    ">Create a function that returns the mean of all digits.\n"
   ]
  },
  {
   "cell_type": "code",
   "execution_count": 15,
   "id": "a7e66ae2",
   "metadata": {},
   "outputs": [],
   "source": [
    "class Q5:\n",
    "    def mean(*arg):\n",
    "        \"\"\"Create a function that returns the mean of all digits. \n",
    "        \"\"\"\n",
    "        try:\n",
    "            sum=0\n",
    "            for i in arg:\n",
    "                sum=i+sum\n",
    "            mean=sum/len(arg)\n",
    "            print(mean)\n",
    "            \n",
    "        except Exception as e:\n",
    "            raise Exception(f\"error mean \", str(e))\n",
    "            \n"
   ]
  },
  {
   "cell_type": "code",
   "execution_count": 19,
   "id": "c71e4f2c",
   "metadata": {},
   "outputs": [
    {
     "name": "stdout",
     "output_type": "stream",
     "text": [
      "3.0\n",
      "3.0\n",
      "6.0\n"
     ]
    }
   ],
   "source": [
    "Q5.mean(4,2)\n",
    "Q5.mean(1,2,3,4,5)\n",
    "Q5.mean(6,6)"
   ]
  }
 ],
 "metadata": {
  "kernelspec": {
   "display_name": "Python 3 (ipykernel)",
   "language": "python",
   "name": "python3"
  },
  "language_info": {
   "codemirror_mode": {
    "name": "ipython",
    "version": 3
   },
   "file_extension": ".py",
   "mimetype": "text/x-python",
   "name": "python",
   "nbconvert_exporter": "python",
   "pygments_lexer": "ipython3",
   "version": "3.9.12"
  }
 },
 "nbformat": 4,
 "nbformat_minor": 5
}
