{
 "cells": [
  {
   "cell_type": "markdown",
   "id": "5f782178",
   "metadata": {},
   "source": [
    "# python Basic:\n",
    "\n",
    "## Assignment_25"
   ]
  },
  {
   "cell_type": "markdown",
   "id": "3501a562",
   "metadata": {},
   "source": [
    "#### 1) What is the difference between enclosing a list comprehension in square brackets and parentheses?\n"
   ]
  },
  {
   "cell_type": "markdown",
   "id": "225499c7",
   "metadata": {},
   "source": [
    "List Comprehension with square brackets produces list.\n",
    "List Comprehension with parentheses creates generators"
   ]
  },
  {
   "cell_type": "code",
   "execution_count": 7,
   "id": "6d5a85c5",
   "metadata": {},
   "outputs": [
    {
     "name": "stdout",
     "output_type": "stream",
     "text": [
      "[0, 1, 2, 3, 4, 5, 6, 7, 8, 9]\n",
      "<generator object <genexpr> at 0x00000194FEF3DAC0>\n"
     ]
    }
   ],
   "source": [
    "li = [i for i in range(10)]\n",
    "print(li)\n",
    "\n",
    "\n",
    "\n",
    "\n",
    "liParent = (i for i in range(10))\n",
    "print(liParent)\n",
    "\n",
    "\n",
    "\n",
    "\n",
    "\n",
    "#list(liParent)"
   ]
  },
  {
   "cell_type": "markdown",
   "id": "9e7c4882",
   "metadata": {},
   "source": [
    "#### 2) What is the relationship between generators and iterators?"
   ]
  },
  {
   "cell_type": "markdown",
   "id": "07bf6da1",
   "metadata": {},
   "source": [
    "An iterator is an object which contains a countable number of values and it is used to iterate over iterable objects like-\n",
    "list,tuples,etc. iter() keyword is used to create an iterator containing an iterable object.next() keyword is used to call the next element in the iterable object.\n",
    "\n",
    "Generator It is another way of creating iterators in a simple way where it uses the keyword “yield”.\n",
    "Instead of returning it in a defined function Generators are implemented using a function.\n",
    "\n",
    "By using next() function we can iterate the output of generator function"
   ]
  },
  {
   "cell_type": "markdown",
   "id": "8dbfd91a",
   "metadata": {},
   "source": [
    "\n",
    "#### 3) What are the signs that a function is a generator function?"
   ]
  },
  {
   "cell_type": "markdown",
   "id": "d425cc5c",
   "metadata": {},
   "source": [
    "instead of return, yield is used\n",
    "\n",
    "next()function  is used to iterate the next item"
   ]
  },
  {
   "cell_type": "code",
   "execution_count": 15,
   "id": "a7fba935",
   "metadata": {},
   "outputs": [
    {
     "data": {
      "text/plain": [
       "0"
      ]
     },
     "execution_count": 15,
     "metadata": {},
     "output_type": "execute_result"
    }
   ],
   "source": [
    "def num_gen(): \n",
    "    for i in range(10):\n",
    "        yield i\n",
    "        \n",
    "gen = num_gen() \n",
    "next(gen)    "
   ]
  },
  {
   "cell_type": "code",
   "execution_count": 16,
   "id": "e9c93758",
   "metadata": {},
   "outputs": [
    {
     "data": {
      "text/plain": [
       "1"
      ]
     },
     "execution_count": 16,
     "metadata": {},
     "output_type": "execute_result"
    }
   ],
   "source": [
    "next(gen)"
   ]
  },
  {
   "cell_type": "code",
   "execution_count": 18,
   "id": "72fe6281",
   "metadata": {},
   "outputs": [
    {
     "data": {
      "text/plain": [
       "<generator object num_gen at 0x0000019480AFABA0>"
      ]
     },
     "execution_count": 18,
     "metadata": {},
     "output_type": "execute_result"
    }
   ],
   "source": [
    "gen"
   ]
  },
  {
   "cell_type": "markdown",
   "id": "e1a074d7",
   "metadata": {},
   "source": [
    "#### 4) What is the purpose of a yield statement?"
   ]
  },
  {
   "cell_type": "markdown",
   "id": "dbc8fda8",
   "metadata": {},
   "source": [
    "A yield statement instead of stopping execution of the function and returning, yield provides a value to the code looping over the generator and pauses execution of the generator function."
   ]
  },
  {
   "cell_type": "markdown",
   "id": "f1f65f9d",
   "metadata": {},
   "source": [
    "\n",
    "#### 5) What is the relationship between map calls and list comprehensions? Make a comparison and contrast between the two."
   ]
  },
  {
   "cell_type": "markdown",
   "id": "9c7793bb",
   "metadata": {},
   "source": [
    "The map() function executes a specified function for each item in an iterable. The item is sent to the function as a parameter.\n",
    "\n",
    "List comprehension is faster than map when we need to evaluate expressions that are too long or complicated to express Map is faster in case of calling an already defined function (as no lambda is required)\n",
    "\n",
    "\n",
    "\n",
    "Comparision :\n",
    "\n",
    "\n",
    "List comprehension is more concise and easier to read as compared to map.\n",
    "\n",
    "List comprehension allows filtering. In map, we have no such facility.\n",
    "\n",
    "List comprehension are used when a list of results is required, where as map only returns a map object and does not return any list.\n",
    "\n"
   ]
  },
  {
   "cell_type": "code",
   "execution_count": null,
   "id": "563bce47",
   "metadata": {},
   "outputs": [],
   "source": []
  }
 ],
 "metadata": {
  "kernelspec": {
   "display_name": "Python 3 (ipykernel)",
   "language": "python",
   "name": "python3"
  },
  "language_info": {
   "codemirror_mode": {
    "name": "ipython",
    "version": 3
   },
   "file_extension": ".py",
   "mimetype": "text/x-python",
   "name": "python",
   "nbconvert_exporter": "python",
   "pygments_lexer": "ipython3",
   "version": "3.9.12"
  }
 },
 "nbformat": 4,
 "nbformat_minor": 5
}
