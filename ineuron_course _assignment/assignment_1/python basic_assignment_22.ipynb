{
 "cells": [
  {
   "cell_type": "markdown",
   "id": "0237a7bf",
   "metadata": {},
   "source": [
    "Q. What is the result of the code, and explain?"
   ]
  },
  {
   "cell_type": "code",
   "execution_count": 1,
   "id": "732bebec",
   "metadata": {},
   "outputs": [
    {
     "name": "stdout",
     "output_type": "stream",
     "text": [
      "iNeuron\n"
     ]
    }
   ],
   "source": [
    "X = 'iNeuron'\n",
    "def func():\n",
    "    print(X)\n",
    "func()\n",
    "\n",
    "#Ans. The global variables are accessible in side the functions in python. \n",
    "#But we can not access function variable out side function. \n",
    "#Since x is global variable we are able to print it in side the function solution : 'iNeuron'"
   ]
  },
  {
   "cell_type": "markdown",
   "id": "ecefd0cd",
   "metadata": {},
   "source": [
    "2. What is the result of the code, and explain?\n"
   ]
  },
  {
   "cell_type": "code",
   "execution_count": 2,
   "id": "fd65177f",
   "metadata": {},
   "outputs": [
    {
     "name": "stdout",
     "output_type": "stream",
     "text": [
      "iNeuron\n"
     ]
    }
   ],
   "source": [
    "X = 'iNeuron'\n",
    "def func():\n",
    "    X = 'NI!'\n",
    "\n",
    "func()\n",
    "print(X)\n",
    "\n",
    "#Ans. The global variables are access in side the functions in python. But we can not access function variable out side function.\n",
    "# Since x is golbal variable we are able to print it out side of the function solution = 'iNeuron'"
   ]
  },
  {
   "cell_type": "markdown",
   "id": "5df1f667",
   "metadata": {},
   "source": [
    "Q. What does this code print, and why?"
   ]
  },
  {
   "cell_type": "code",
   "execution_count": 4,
   "id": "0d31a04d",
   "metadata": {},
   "outputs": [
    {
     "name": "stdout",
     "output_type": "stream",
     "text": [
      "NI!\n",
      "iNeuron\n"
     ]
    }
   ],
   "source": [
    "X = 'iNeuron'\n",
    "def func():\n",
    "    X = 'NI!'\n",
    "    print(X)\n",
    "\n",
    "func()\n",
    "print(X)\n",
    "\n",
    "#Ans. The global variables are access in side the functions in python. But we can not access function variable out side function.\n",
    "# X is updated with 'NI' which is local to function and its immutable. its name space is with in the function solution = 'NI!', 'iNeuron'"
   ]
  },
  {
   "cell_type": "markdown",
   "id": "7c5e7de9",
   "metadata": {},
   "source": [
    "Q. What output does this code produce? Why?"
   ]
  },
  {
   "cell_type": "code",
   "execution_count": 5,
   "id": "40b08435",
   "metadata": {},
   "outputs": [
    {
     "name": "stdout",
     "output_type": "stream",
     "text": [
      "NI!\n",
      "NI!\n"
     ]
    }
   ],
   "source": [
    "X = 'iNeuron'\n",
    "def func():\n",
    "    global X\n",
    "    X = 'NI!'\n",
    "    print(X)\n",
    "\n",
    "func()\n",
    "print(X)\n",
    "#Ans. since the X in side function is made Global, it will be accesible out side of the function too. \n",
    "#now X will have new value.\n",
    "\n",
    " #solution : 'NI!', 'NI!'"
   ]
  },
  {
   "cell_type": "markdown",
   "id": "a2745d94",
   "metadata": {},
   "source": [
    "Q. What about this code—what’s the output, and why?"
   ]
  },
  {
   "cell_type": "code",
   "execution_count": 7,
   "id": "bf3ac136",
   "metadata": {},
   "outputs": [
    {
     "name": "stdout",
     "output_type": "stream",
     "text": [
      "iNeuron\n"
     ]
    },
    {
     "data": {
      "text/plain": [
       "'iNeuron'"
      ]
     },
     "execution_count": 7,
     "metadata": {},
     "output_type": "execute_result"
    }
   ],
   "source": [
    "X = 'iNeuron'\n",
    "def func():\n",
    "    X = 'NI'\n",
    "def nested():\n",
    "    print(X)\n",
    "    \n",
    "nested()\n",
    "func()\n",
    "X\n",
    "\n",
    "#Ans. the nested() function will print 'iNeuron', Then func() does not display anything,\n",
    "# and x ='NI' is not accessible out \n",
    "#side the function.\n",
    "#Solution : 'iNeuron'"
   ]
  },
  {
   "cell_type": "markdown",
   "id": "27615fbe",
   "metadata": {},
   "source": [
    "How about this code: what is its output in Python 3, and explain?\n"
   ]
  },
  {
   "cell_type": "code",
   "execution_count": 8,
   "id": "9ff36a23",
   "metadata": {},
   "outputs": [
    {
     "name": "stdout",
     "output_type": "stream",
     "text": [
      "spam\n"
     ]
    }
   ],
   "source": [
    "def func():\n",
    "    X = 'NI'\n",
    "    def nested():\n",
    "        nonlocal X\n",
    "        X = 'spam'\n",
    "    nested()\n",
    "    print(X)\n",
    "\n",
    "func()\n",
    "\n",
    "#Nonlocal variables are used in nested functions whose local scope is not defined. \n",
    "#This means that the variable can be neither in the local nor the global scope. it print the updated value from nested \n",
    "#function\n",
    "\n",
    "#Sol : 'spam'"
   ]
  },
  {
   "cell_type": "code",
   "execution_count": null,
   "id": "40183b0f",
   "metadata": {},
   "outputs": [],
   "source": []
  }
 ],
 "metadata": {
  "kernelspec": {
   "display_name": "Python 3 (ipykernel)",
   "language": "python",
   "name": "python3"
  },
  "language_info": {
   "codemirror_mode": {
    "name": "ipython",
    "version": 3
   },
   "file_extension": ".py",
   "mimetype": "text/x-python",
   "name": "python",
   "nbconvert_exporter": "python",
   "pygments_lexer": "ipython3",
   "version": "3.10.4"
  }
 },
 "nbformat": 4,
 "nbformat_minor": 5
}
