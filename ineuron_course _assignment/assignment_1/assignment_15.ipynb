{
 "cells": [
  {
   "cell_type": "markdown",
   "id": "e0a9985f",
   "metadata": {},
   "source": [
    "### Assignment 15"
   ]
  },
  {
   "cell_type": "markdown",
   "id": "16874d15",
   "metadata": {},
   "source": [
    "#### 1. How many seconds are in an hour? Use the interactive interpreter as a calculator and multiply the number of seconds in a minute (60) by the number of minutes in an hour (also 60)."
   ]
  },
  {
   "cell_type": "code",
   "execution_count": 1,
   "id": "c345a38b",
   "metadata": {},
   "outputs": [],
   "source": [
    "import pyinputplus as pyip"
   ]
  },
  {
   "cell_type": "code",
   "execution_count": 2,
   "id": "235477d6",
   "metadata": {},
   "outputs": [
    {
     "name": "stdout",
     "output_type": "stream",
     "text": [
      "enter the number of hour: 2\n",
      "number of minute in 2 hour: 120 seconds\n",
      "number of seconds in 2 hour: 7200 seconds\n",
      "have a nice day!\n"
     ]
    }
   ],
   "source": [
    "try:\n",
    "    response = pyip.inputNum(\"enter the number of hour: \")\n",
    "    number_of_minute=response*60\n",
    "    number_of_sec=response*60*60\n",
    "    \n",
    "except Exception as e:\n",
    "    print(\"Error!\",e)\n",
    "    \n",
    "else:\n",
    "    print(f\"number of minute in {response} hour: {number_of_minute} seconds\")    \n",
    "    print(f\"number of seconds in {response} hour: {number_of_sec} seconds\")\n",
    "    \n",
    "    \n",
    "finally:\n",
    "    print('have a nice day!')"
   ]
  },
  {
   "cell_type": "markdown",
   "id": "bb3a941b",
   "metadata": {},
   "source": [
    "#### 2. Assign the result from the previous task (seconds in an hour) to a variable called seconds_per_hour."
   ]
  },
  {
   "cell_type": "code",
   "execution_count": 3,
   "id": "d74ef8d2",
   "metadata": {},
   "outputs": [
    {
     "name": "stdout",
     "output_type": "stream",
     "text": [
      "number of seconds in 2 hour: 7200 Seconds\n"
     ]
    }
   ],
   "source": [
    "seconds_per_hour= number_of_sec\n",
    "print(f\"number of seconds in {response} hour: {seconds_per_hour} Seconds\")"
   ]
  },
  {
   "cell_type": "markdown",
   "id": "8ef5085a",
   "metadata": {},
   "source": [
    "\n",
    "#### 3. How many seconds do you think there are in a day? Make use of the variables seconds per hour and minutes per hour.\n"
   ]
  },
  {
   "cell_type": "code",
   "execution_count": 4,
   "id": "d5693980",
   "metadata": {},
   "outputs": [
    {
     "name": "stdout",
     "output_type": "stream",
     "text": [
      "enter the number of hour: 2\n",
      "number of seconds in 2 day: 172800 seconds\n",
      "have a nice day!\n"
     ]
    }
   ],
   "source": [
    "try:\n",
    "    response = pyip.inputNum(\"enter the number of hour: \")\n",
    "    minute_per_hour=response*60\n",
    "    seconds_per_hour=minute_per_hour*60\n",
    "    sec_per_day=seconds_per_hour*24\n",
    "    \n",
    "except Exception as e:\n",
    "    print(\"Error!\",e)\n",
    "    \n",
    "else:  \n",
    "    print(f\"number of seconds in {response} day: {sec_per_day} seconds\")\n",
    "    \n",
    "    \n",
    "finally:\n",
    "    print('have a nice day!')"
   ]
  },
  {
   "cell_type": "markdown",
   "id": "3cbb1e7b",
   "metadata": {},
   "source": [
    "#### 4. Calculate seconds per day again, but this time save the result in a variable called seconds_per_day\n"
   ]
  },
  {
   "cell_type": "code",
   "execution_count": 5,
   "id": "315c1816",
   "metadata": {},
   "outputs": [
    {
     "name": "stdout",
     "output_type": "stream",
     "text": [
      "number of seconds in 2 day: 172800 Seconds\n"
     ]
    }
   ],
   "source": [
    "seconds_per_day= sec_per_day\n",
    "print(f\"number of seconds in {response} day: {seconds_per_day} Seconds\")"
   ]
  },
  {
   "cell_type": "markdown",
   "id": "97614f64",
   "metadata": {},
   "source": [
    "\n",
    "#### 5. Divide seconds_per_day by seconds_per_hour. Use floating-point (/) division.\n"
   ]
  },
  {
   "cell_type": "code",
   "execution_count": 6,
   "id": "cc996868",
   "metadata": {},
   "outputs": [
    {
     "data": {
      "text/plain": [
       "24.0"
      ]
     },
     "execution_count": 6,
     "metadata": {},
     "output_type": "execute_result"
    }
   ],
   "source": [
    "hour_per_day=seconds_per_day/seconds_per_hour\n",
    "hour_per_day"
   ]
  },
  {
   "cell_type": "markdown",
   "id": "84f4a950",
   "metadata": {},
   "source": [
    "#### 6. Divide seconds_per_day by seconds_per_hour, using integer (//) division. Did this number agree with the floating-point value from the previous question, aside from the final .0?\n",
    "\n"
   ]
  },
  {
   "cell_type": "code",
   "execution_count": 7,
   "id": "393298c7",
   "metadata": {},
   "outputs": [
    {
     "name": "stdout",
     "output_type": "stream",
     "text": [
      "yes,number same as floating-point value from the previous question\n"
     ]
    },
    {
     "data": {
      "text/plain": [
       "24"
      ]
     },
     "execution_count": 7,
     "metadata": {},
     "output_type": "execute_result"
    }
   ],
   "source": [
    "hour_pr_day=seconds_per_day//seconds_per_hour\n",
    "if hour_per_day==hour_pr_day:\n",
    "    print('yes,number same as floating-point value from the previous question')\n",
    "else:\n",
    "    print(\"no\")\n",
    "hour_pr_day"
   ]
  },
  {
   "cell_type": "markdown",
   "id": "b00f1595",
   "metadata": {},
   "source": [
    "####  7. Write a generator, genPrimes, that returns the sequence of prime numbers on successive calls to its next() method: 2, 3, 5, 7, 11, ..."
   ]
  },
  {
   "cell_type": "code",
   "execution_count": 8,
   "id": "41d57fda",
   "metadata": {},
   "outputs": [
    {
     "name": "stdout",
     "output_type": "stream",
     "text": [
      "enter the last no till prime required : 10\n"
     ]
    }
   ],
   "source": [
    "response = pyip.inputNum(\"enter the last no till prime required : \")\n",
    "def genPrimes():\n",
    "    primes = []\n",
    "    n = 2\n",
    "    last=response\n",
    "    while True:\n",
    "        for i in primes:\n",
    "            if n % i == 0:\n",
    "                n += 1            \n",
    "                break\n",
    "        else:\n",
    "            if n<last:\n",
    "                primes.append(n)\n",
    "                n=n+1\n",
    "            else:\n",
    "                break        \n",
    "    yield primes"
   ]
  },
  {
   "cell_type": "code",
   "execution_count": 9,
   "id": "1f6e5eb7",
   "metadata": {},
   "outputs": [
    {
     "data": {
      "text/plain": [
       "<generator object genPrimes at 0x0000020AF4EF3820>"
      ]
     },
     "execution_count": 9,
     "metadata": {},
     "output_type": "execute_result"
    }
   ],
   "source": [
    "genPrimes()"
   ]
  }
 ],
 "metadata": {
  "kernelspec": {
   "display_name": "Python 3 (ipykernel)",
   "language": "python",
   "name": "python3"
  },
  "language_info": {
   "codemirror_mode": {
    "name": "ipython",
    "version": 3
   },
   "file_extension": ".py",
   "mimetype": "text/x-python",
   "name": "python",
   "nbconvert_exporter": "python",
   "pygments_lexer": "ipython3",
   "version": "3.9.12"
  }
 },
 "nbformat": 4,
 "nbformat_minor": 5
}
