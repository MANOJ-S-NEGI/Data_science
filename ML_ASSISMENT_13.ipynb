{
  "nbformat": 4,
  "nbformat_minor": 0,
  "metadata": {
    "colab": {
      "provenance": [],
      "authorship_tag": "ABX9TyOSGRCvXtgb5QkGOrP0hgP3",
      "include_colab_link": true
    },
    "kernelspec": {
      "name": "python3",
      "display_name": "Python 3"
    },
    "language_info": {
      "name": "python"
    }
  },
  "cells": [
    {
      "cell_type": "markdown",
      "metadata": {
        "id": "view-in-github",
        "colab_type": "text"
      },
      "source": [
        "<a href=\"https://colab.research.google.com/github/MANOJ-S-NEGI/Data_science/blob/main/ML_ASSISMENT_13.ipynb\" target=\"_parent\"><img src=\"https://colab.research.google.com/assets/colab-badge.svg\" alt=\"Open In Colab\"/></a>"
      ]
    },
    {
      "cell_type": "markdown",
      "source": [
        "# ML_ASSISMENT_13"
      ],
      "metadata": {
        "id": "YqduYBvN-3tH"
      }
    },
    {
      "cell_type": "markdown",
      "source": [
        "---\n",
        "---\n",
        "#### **1. Provide an example of the concepts of Prior, Posterior, and Likelihood.**\n",
        "\n",
        "Sol:\n",
        "\n",
        "**case:**\n",
        "\n",
        "**Medical researcher investigating a new diagnostic test for a certain disease. The disease in question is relatively rare, occurring in about 1 in 1000 people. We have a group of 1000 individuals to test.**\n",
        "\n",
        "\n",
        "- **Prior:** This the initial belief or probability before taking any new information into account.\n",
        "In this case, our prior belief about an individual having the disease is 1/1000 (0.001), based on the known prevalence of the disease in the population.\n",
        "\n",
        "- **Likelihood:** The likelihood is a measure of how well the data fits a particular hypothesis. In this case, it's the probability of observing a positive test result given that an individual actually has the disease or doesn't have the disease. Let's say our diagnostic test is 95% accurate, meaning it has a 95% chance of correctly detecting the disease if the person actually has it, and a 5% chance of giving a false positive for a healthy individual.\n",
        "\n",
        "\n",
        "- **Posterior:** The posterior is the updated belief after considering new evidence, in this case, the results of the diagnostic test. You use Bayes' theorem to calculate the posterior probability.\n",
        "```\n",
        "Plugging in the values:\n",
        "Posterior probability = (0.95 * 0.001) / (0.95 * 0.001 + 0.05 * 0.999) ≈ 0.0185\n",
        "```\n",
        "So, after observing a positive test result, the updated probability that the individual actually has the disease (posterior) is approximately 0.0185 or 1.85%.\n",
        "\n",
        "<br>\n",
        "<br>"
      ],
      "metadata": {
        "id": "3N3Fndp12sBP"
      }
    },
    {
      "cell_type": "markdown",
      "source": [
        "---\n",
        "---\n",
        "####**2. What role does Bayes' theorem play in the concept learning principle?**\n",
        "Sol:\n",
        "- Bayes' theorem helps us update our beliefs about the probability of a hypothesis (or concept) being true based on new evidence or observations.\n",
        "\n",
        "- This is crucial for making informed decisions and updating our understanding as new information becomes available.\n",
        "\n",
        "- Bayes' theorem provides a mathematical framework for incorporating prior beliefs and evidence to arrive at more accurate and refined conclusions.\n",
        "\n",
        "- Bayes' theorem is used in the context of concept learning:Prior Probability, Likelihood, Posterior Probability\n",
        "\n",
        "<br>\n",
        "<br>"
      ],
      "metadata": {
        "id": "HnqzLMWH2sEJ"
      }
    },
    {
      "cell_type": "markdown",
      "source": [
        "---\n",
        "---\n",
        "####**3. Offer an example of how the Naive Bayes classifier is used in real life.**\n",
        "\n",
        "Sol:\n",
        "\n",
        "**Example of Naive Bayes Classifier in Real Life:**\n",
        "\n",
        "- Spam Email Detection:\n",
        "  - One common real-life application of the Naive Bayes classifier is in spam email detection.\n",
        "  - In this scenario, the classifier is trained on a dataset containing both spam and non-spam (ham) emails.\n",
        "  - The features could include words, phrases, or other characteristics found in the email's content or metadata.\n",
        "\n",
        "- The classifier calculates the probabilities of an email being spam or ham based on the frequency of words in the email. The \"naive\" assumption is that the presence of each word is independent of the presence of other words (even though this assumption might not be true in reality).\n",
        "\n",
        "<br>\n",
        "<br>"
      ],
      "metadata": {
        "id": "JkTa2Ot22sGz"
      }
    },
    {
      "cell_type": "markdown",
      "source": [
        "---\n",
        "---\n",
        "####**4. Can the Naive Bayes classifier be used on continuous numeric data? If so, how can you go about doing it?**\n",
        "\n",
        "Sol:\n",
        "\n",
        "Yes, the Naive Bayes classifier can be used with continuous numeric data, although it's often more suitable for discrete data like text or categorical features.\n",
        "\n",
        "When dealing with continuous data, we will need to make some adaptations to the standard Naive Bayes algorithm to handle the numerical values appropriately.\n",
        "\n",
        "\n",
        "There are different variations of the Naive Bayes classifier that can handle continuous numeric data, such as Gaussian Naive Bayes or Kernel Density Estimation Naive Bayes.\n",
        "\n",
        "\n",
        "Gaussian Naive Bayes: This version assumes that the numeric features follow a Gaussian (normal) distribution. For each class, it calculates the mean and standard deviation of each feature and then uses the Gaussian probability density function to calculate the likelihood.\n",
        "\n",
        "Here's a high-level overview of Gaussian Naive Bayes with continuous numeric data:\n",
        "- Data Preparation,\n",
        "- Calculate Likelihoods,\n",
        "- Calculate Class Probabilities\n",
        "\n",
        "<br>\n",
        "<br>"
      ],
      "metadata": {
        "id": "az8mKqnm2sJ1"
      }
    },
    {
      "cell_type": "markdown",
      "source": [
        "---\n",
        "---\n",
        "####**5. What are Bayesian Belief Networks, and how do they work? What are their applications? Are they capable of resolving a wide range of issues?**\n",
        "\n",
        "Sol:\n",
        "\n",
        "Bayesian Belief Networks (BBNs), also known as Bayesian Networks or Probabilistic Graphical Models, are a type of probabilistic graphical model that represents a set of random variables and their conditional dependencies using a directed acyclic graph (DAG).\n",
        "\n",
        "BBNs combine probability theory and graph theory to model uncertain relationships between variables. The nodes in the graph represent random variables, and the edges represent the conditional dependencies between them.\n",
        "\n",
        "**How They Work:**\n",
        "\n",
        "In a BBN, each node represents a random variable, and the edges between nodes indicate probabilistic relationships.\n",
        "\n",
        "The conditional probabilities are typically specified in conditional probability tables (CPTs), which show the probability distribution of a node given its parents in the graph. By propagating probabilities through the graph, BBNs can be used to compute the probability distribution of any subset of variables, given evidence observed in the network.\n",
        "\n",
        "**Applications:**\n",
        "\n",
        "- BBNs have a wide range of applications across various domains, including:\n",
        "\n",
        "- Diagnosis and Decision Support: BBNs can be used to model medical diagnoses and aid in decision-making by considering symptoms, test results, and medical history.\n",
        "\n",
        "- Risk Assessment: BBNs can model risks in complex systems, such as financial markets, engineering systems, and industrial processes.\n",
        "\n",
        "- Natural Language Processing: BBNs can be employed to handle ambiguity and uncertainty in language processing tasks, such as disambiguation and language generation.\n",
        "\n",
        "- Image Recognition: BBNs can model the relationships between different features in an image and aid in object recognition and scene understanding.\n",
        "\n",
        "\n",
        "**Capability to Resolve Issues:**\n",
        "\n",
        "While BBNs are powerful tools for modeling uncertainty and complex relationships, they have their limitations. BBNs are most effective when the underlying relationships can be represented as a DAG and when the conditional dependencies are known or can be estimated accurately. However, BBNs might struggle with modeling situations involving cyclic dependencies, continuous variables, or when the available data is insufficient to estimate accurate probabilities. In such cases, other modeling techniques or more complex probabilistic models might be more suitable.\n",
        "\n",
        "\n",
        "<br>\n",
        "<br>"
      ],
      "metadata": {
        "id": "kTPc3uIB2sMz"
      }
    },
    {
      "cell_type": "markdown",
      "source": [
        "---\n",
        "---\n",
        "####**6. Passengers are checked in an airport screening system to see if there is an intruder. Let I be the random variable that indicates whether someone is an intruder I = 1) or not I = 0), and A be the variable that indicates alarm I = 0). If an intruder is detected with probability P(A = 1|I = 1) = 0.98 and a non-intruder is detected with probability P(A = 1|I = 0) = 0.001, an alarm will be triggered, implying the error factor. The likelihood of an intruder in the passenger population is P(I = 1) = 0.00001. What are the chances that an alarm would be triggered when an individual is actually an intruder?**\n",
        "\n",
        "Sol:\n",
        "\n",
        "```\n",
        "P(A = 1|I = 1) = 0.98 (Probability of an alarm given an intruder)\n",
        "P(A = 1|I = 0) = 0.001 (Probability of an alarm given a non-intruder)\n",
        "P(I = 1) = 0.00001 (Probability of an individual being an intruder)\n",
        "```\n",
        "problem:\n",
        "\n",
        "The problem asks for the probability that an alarm would be triggered when an individual is actually an intruder (P(A = 1|I = 1))\n",
        "\n",
        " - Using Bayes' theorem:\n",
        "   - P(A = 1|I = 1) = P(I = 1|A = 1) * P(A = 1) / P(I = 1)\n",
        "\n",
        "    - Where:  \n",
        "    - P(I = 1|A = 1) is the probability that an individual is an intruder given that an alarm is triggered. =0.98\n",
        "    - P(A = 1) is the overall probability of an alarm being triggered. = ?\n",
        "    - P(I = 1) is the probability of an individual being an intruder. =0.00001\n",
        "\n",
        "```\n",
        "Substituting the given values:\n",
        "P(A = 1|I = 1) = (P(I = 1|A = 1) * P(A = 1)) / P(I = 1)\n",
        "P(A = 1|I = 1) = (0.98 * P(A = 1)) / 0.00001\n",
        "```\n",
        "We don't have the value of P(A = 1), so unless that value is provided or can be calculated from additional information, we can't calculate the exact chances of an alarm triggering for an intruder.\n",
        "\n",
        "<br>\n",
        "<br>"
      ],
      "metadata": {
        "id": "iHrpYiQR2sPe"
      }
    },
    {
      "cell_type": "markdown",
      "source": [
        "---\n",
        "---\n",
        "####**7. An antibiotic resistance test (random variable T) has 1% false positives (i.e., 1% of those who are not immune to an antibiotic display a positive result in the test) and 5% false negatives (i.e., 1% of those who are not resistant to an antibiotic show a positive result in the test) (i.e. 5 percent of those actually resistant to an antibiotic test negative). Assume that 2% of those who were screened were antibiotic-resistant. Calculate the likelihood that a person who tests positive is actually immune (random variable D).**\n",
        "\n",
        "Sol:\n",
        "\n",
        "Using Bayes' theorem:\n",
        "\n",
        "P(D = 1|T = 1) = P(T = 1|D = 1) * P(D = 1) / P(T = 1)\n",
        "```\n",
        "Where:\n",
        "P(D = 1|T = 1) is the probability of being immune given a positive test result. 5%\n",
        "\n",
        "P(T = 1|D = 1) is the probability of a positive test result given being immune. 1%\n",
        "\n",
        "P(D = 1) is the overall proportion of antibiotic-resistant individuals. 2%\n",
        "\n",
        "P(T = 1) is the probability of a positive test result.\n",
        "\n",
        "Substituting the values:\n",
        "= ((1 - 0.05) * 0.02) / ((1 - 0.02) * 0.01 + 0.02 * 0.05)\n",
        "= (0.95 * 0.02)/0.0098+0.001\n",
        "≈ 1.76 % chances that a person who tests positive is actually immune.\n",
        "\n",
        "```\n",
        "<br>\n",
        "<br>"
      ],
      "metadata": {
        "id": "ExAmo3Ko2sSc"
      }
    },
    {
      "cell_type": "markdown",
      "source": [
        "---\n",
        "---\n",
        "####**8. In order to prepare for the test, a student knows that there will be one question in the exam that is either form A, B, or C. The chances of getting an A, B, or C on the exam are 30 percent, 20%, and 50 percent, respectively. During the planning, the student solved 9 of 10 type A problems, 2 of 10 type B problems, and 6 of 10 type C problems.**\n",
        "\n",
        "**1. What is the likelihood that the student can solve the exam problem?**\n",
        "\n",
        "Sol:\n",
        "```\n",
        "Likelihood = P(A) * P(solving A) + P(B) * P(solving B) + P(C) * P(solving C)\n",
        "Likelihood = 0.30 * 0.90 + 0.20 * 0.20 + 0.50 * 0.60\n",
        "Likelihood = 0.27 + 0.04 + 0.30\n",
        "Likelihood = 0.61\n",
        "```\n",
        "**2. Given the student's solution, what is the likelihood that the problem was of form A?**\n",
        "\n",
        "Sol:\n",
        "```\n",
        "P(A|Solved) = P(Solved|A) * P(A) / P(Solved)\n",
        "\n",
        "Where:\n",
        "\n",
        "* P(A|Solved) is the probability that the problem was of form A given that the student solved it.\n",
        "\n",
        "* P(Solved|A) is the probability that the student solved the problem given that it was of form A (90% in this case).\n",
        "\n",
        "* P(A) is the probability of getting problem type A (30%).\n",
        "\n",
        "* P(Solved) is the probability that the student solved any problem,\n",
        " calculated as the sum of the products of solving each problem type and their respective probabilities.\n",
        "\n",
        "P(Solved) = P(Solved|A) * P(A) + P(Solved|B) * P(B) + P(Solved|C) * P(C)\n",
        "                 = 0.90 * 0.30 + 0.20 * 0.20 + 0.60 * 0.50\n",
        "                 = 0.27 + 0.04 + 0.30\n",
        "                 = 0.61\n",
        "\n",
        "P(A|Solved) = (0.90 * 0.30) / 0.61\n",
        "P(A|Solved) ≈ 0.4426\n",
        "```\n",
        "\n",
        "<br><br>"
      ],
      "metadata": {
        "id": "apMhAXZK2sU7"
      }
    },
    {
      "cell_type": "markdown",
      "source": [
        "---\n",
        "---\n",
        "####**9. A bank installs a CCTV system to track and photograph incoming customers. Despite the constant influx of customers, we divide the timeline into 5 minute bins. There may be a customer coming into the bank with a 5% chance in each 5-minute time period, or there may be no customer (again, for simplicity, we assume that either there is 1 customer or none, not the case of multiple customers). If there is a client, the CCTV will detect them with a 99 percent probability. If there is no customer, the camera can take a false photograph with a 10% chance of detecting movement from other objects.**\n",
        "\n",
        "<br>\n",
        "\n",
        "**1. How many customers come into the bank on a daily basis (10 hours)?**\n",
        "\n",
        "Sol.\n",
        "\n",
        "- Given that there is a 5% chance of a customer coming into the bank within each 5-minute time period.\n",
        "- There are 12 time periods in an hour\n",
        "\n",
        "**we can calculate the expected number of customers per hour as:**\n",
        "\n",
        "Expected Customers per Hour = 5%\n",
        "\n",
        "so,  (0.05) * 12 = 0.6 customers\n",
        "\n",
        "**For 10 hours, the total number of expected customers would be:**\n",
        "\n",
        "Total Expected Customers = Expected Customers per Hour * 10\n",
        "\n",
        "= 0.6 * 10\n",
        "\n",
        "= 6 customers\n",
        "\n",
        "---\n",
        "\n",
        "**2. On a daily basis, how many fake photographs (photographs taken when there is no customer) and How many missed photographs (photographs taken when there is a customer) are there?**\n",
        "\n",
        "Sol:\n",
        "\n",
        "Each 5-minute time period:\n",
        "```\n",
        "Probability of detecting a customer = 5% (0.05)\n",
        "Probability of taking a fake photograph\n",
        "                                 = (1 - Probability of detecting a customer) * Probability of false photograph\n",
        "                                 = (1- 0.05) * 0.10\n",
        "                                 = 0.95 * 0.10\n",
        "                                 = 0.095\n",
        "\n",
        "\n",
        "Probability of missed photograph\n",
        "= Probability of detecting a customer * (1 - Probability of false photograph)\n",
        "=0.05*0.905\n",
        "=0.45\n",
        "\n",
        "Expected Fake Photographs = Probability of taking a fake photograph * 120\n",
        "                                              = 0.095 * 120\n",
        "                                              = 11.4\n",
        "\n",
        "\n",
        "Expected Missed Photographs = Probability of missed photograph * 120\n",
        "                                                  = 0.45 * 120\n",
        "                                                  =5.43\n",
        "\n",
        "\n",
        "```\n",
        "---\n",
        "\n",
        "**3. Explain the likelihood that there is a customer if there is a photograph?**\n",
        "\n",
        "Sol:\n",
        "```\n",
        "P(Customer|Photograph) = (P(Photograph|Customer) * P(Customer)) / P(Photograph)\n",
        "\n",
        "Where:\n",
        "P(Customer|Photograph) is the probability that a customer is present given that a photograph is taken.\n",
        "P(Photograph|Customer) is the probability of a photograph being taken if a customer is present.\n",
        "P(Customer) is the probability of a customer being present.\n",
        "P(Photograph) is the probability of a photograph being taken, which can occur in two cases,either\n",
        "a customer is present and a photograph\n",
        "```\n",
        "```\n",
        "P(Photograph)\n",
        "              = P(Photograph|Customer) * P(Customer) + P(Photograph|No Customer) * P(No Customer)\n",
        "              = P(Photograph) =(0.99 * 0.05) + (0.10 * 0.95)\n",
        "                                         = 0.0495 + 0.095\n",
        "                                         = 0.1445\n",
        "\n",
        "\n",
        "P(Customer|Photograph) = (0.99 * 0.05) / P(Photograph)\n",
        "                                         = 0.0495 / 0.1445\n",
        "                                         = 0.34\n",
        "```\n",
        "\n",
        "<br>\n",
        "<br>"
      ],
      "metadata": {
        "id": "7BjQZR2j2sXy"
      }
    },
    {
      "cell_type": "markdown",
      "source": [
        "---\n",
        "---\n",
        "####**10. Create the conditional probability table associated with the node Won Toss in the Bayesian Belief network to represent the conditional independence assumptions of the Naive Bayes classifier for the match winning prediction problem.**\n",
        "\n",
        "Sol:\n",
        "where \"Won Toss\" was recorded and you know whether the match was won or lost, you can calculate the probabilities:\n",
        "\n",
        "- P(Won Toss = 0 | Match Won = 0): The probability of not winning the toss given that the match was lost.\n",
        "- P(Won Toss = 1 | Match Won = 0): The probability of winning the toss given that the match was lost.\n",
        "- P(Won Toss = 0 | Match Won = 1): The probability of not winning the toss given that the match was won.\n",
        "- P(Won Toss = 1 | Match Won = 1): The probability of winning the toss given that the match was won.\n",
        "\n",
        "\n",
        "\n"
      ],
      "metadata": {
        "id": "in97Hqtx2sam"
      }
    },
    {
      "cell_type": "markdown",
      "source": [
        "---\n",
        "---\n"
      ],
      "metadata": {
        "id": "b4s2UaN72sdg"
      }
    }
  ]
}